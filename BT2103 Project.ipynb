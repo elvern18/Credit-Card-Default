{
 "cells": [
  {
   "cell_type": "markdown",
   "id": "cb43c6e7",
   "metadata": {},
   "source": [
    "# BT2103 Project"
   ]
  },
  {
   "cell_type": "markdown",
   "id": "92cd925c",
   "metadata": {},
   "source": [
    "## Introduction: \n",
    "The data set contains payment information of 30,000 credit card holders obtained from a bank in Taiwan. Each data sample is described by 23 feature attributes (columns B to X). The target feature (column Y) to be predicted is binary valued 0 (= not default) or 1 (= default).\n",
    "\n",
    "We aim to predict whether a credit card holder is able to make payment in the next month (1 = yes , 0 = no)\n",
    "\n",
    "There are 25 variables:\n",
    "\n",
    "ID: ID of each client\n",
    "\n",
    "LIMIT_BAL: Amount of given credit in NT dollars (includes individual and family/supplementary credit)\n",
    "\n",
    "SEX: Gender (1=male, 2=female)\n",
    "\n",
    "EDUCATION: (1=graduate school, 2=university, 3=high school, 4=others, 5=unknown, 6=unknown)\n",
    "\n",
    "MARRIAGE: Marital status (1=married, 2=single, 3=others)\n",
    "\n",
    "AGE: Age in years\n",
    "\n",
    "PAY_0: Repayment status in September, 2005 (-1=pay duly, 1=payment delay for one month, 2=payment delay for two months, … 8=payment delay for eight months, 9=payment delay for nine months and above)\n",
    "\n",
    "PAY_2: Repayment status in August, 2005 (scale same as above)\n",
    "\n",
    "PAY_3: Repayment status in July, 2005 (scale same as above)\n",
    "\n",
    "PAY_4: Repayment status in June, 2005 (scale same as above)\n",
    "\n",
    "PAY_5: Repayment status in May, 2005 (scale same as above)\n",
    "\n",
    "PAY_6: Repayment status in April, 2005 (scale same as above)\n",
    "\n",
    "BILL_AMT1: Amount of bill statement in September, 2005 (NT dollar)\n",
    "\n",
    "BILL_AMT2: Amount of bill statement in August, 2005 (NT dollar)\n",
    "\n",
    "BILL_AMT3: Amount of bill statement in July, 2005 (NT dollar)\n",
    "\n",
    "BILL_AMT4: Amount of bill statement in June, 2005 (NT dollar)\n",
    "\n",
    "BILL_AMT5: Amount of bill statement in May, 2005 (NT dollar)\n",
    "\n",
    "BILL_AMT6: Amount of bill statement in April, 2005 (NT dollar)\n",
    "\n",
    "PAY_AMT1: Amount of previous payment in September, 2005 (NT dollar)\n",
    "\n",
    "PAY_AMT2: Amount of previous payment in August, 2005 (NT dollar)\n",
    "\n",
    "PAY_AMT3: Amount of previous payment in July, 2005 (NT dollar)\n",
    "\n",
    "PAY_AMT4: Amount of previous payment in June, 2005 (NT dollar)\n",
    "\n",
    "PAY_AMT5: Amount of previous payment in May, 2005 (NT dollar)\n",
    "\n",
    "PAY_AMT6: Amount of previous payment in April, 2005 (NT dollar)\n",
    "\n",
    "default.payment.next.month: Default payment (1=yes, 0=no)\n",
    "\n",
    "\n"
   ]
  },
  {
   "cell_type": "markdown",
   "id": "12c0d50d",
   "metadata": {},
   "source": [
    "## Importing Relevant Libaries"
   ]
  },
  {
   "cell_type": "code",
   "execution_count": null,
   "id": "f265e544",
   "metadata": {},
   "outputs": [],
   "source": [
    "import pandas as pd \n",
    "import numpy as np\n",
    "import matplotlib.pyplot as plt\n",
    "import seaborn as sns "
   ]
  },
  {
   "cell_type": "markdown",
   "id": "85f89f8a",
   "metadata": {},
   "source": [
    "## Exploratory Data Analysis"
   ]
  },
  {
   "cell_type": "code",
   "execution_count": null,
   "id": "5190b1d5",
   "metadata": {},
   "outputs": [],
   "source": [
    "df = pd.read_csv('card.csv',header=[1])"
   ]
  },
  {
   "cell_type": "code",
   "execution_count": null,
   "id": "886094dd",
   "metadata": {},
   "outputs": [],
   "source": [
    "# Get a glimpse of the data\n",
    "df.head()"
   ]
  },
  {
   "cell_type": "code",
   "execution_count": null,
   "id": "6585aed8",
   "metadata": {},
   "outputs": [],
   "source": [
    "# Let's see the information of data\n",
    "df.info()"
   ]
  },
  {
   "cell_type": "code",
   "execution_count": null,
   "id": "6e0a7308",
   "metadata": {},
   "outputs": [],
   "source": [
    "## Statistics of data\n",
    "## Here we can check if there are values that are potentially out of range in the variable.\n",
    "## such as education - supposed to only have values from 1 to 4, but in this case there were occurrences \n",
    "## out of the range.\n",
    "df.describe()"
   ]
  },
  {
   "cell_type": "markdown",
   "id": "b95fb21d",
   "metadata": {},
   "source": [
    "From the statistics above, there is no missing data/null data in our dataset but there are several anomalies that we have to deal with later on.\n",
    "- EDUCATION has categories 0, 5 and 6 that are not part of the labels.\n",
    "- MARRIAGE has a category 0 that is not part of the labels."
   ]
  },
  {
   "cell_type": "code",
   "execution_count": null,
   "id": "22a5d4dc",
   "metadata": {},
   "outputs": [],
   "source": [
    "## Do we still need this since on top we already have information that our data is non-null.\n",
    "\n",
    "## Here we check for null values in the dataframe since it needs to be handled if we require the \n",
    "## variable that contains null values.\n",
    "df.isnull().sum()\n",
    "## No missing values since sum all 0  "
   ]
  },
  {
   "cell_type": "code",
   "execution_count": null,
   "id": "0cfd41f0",
   "metadata": {},
   "outputs": [],
   "source": [
    "# Create another column with a clearer header for defaulters\n",
    "df['Defaulter'] = df['default payment next month']"
   ]
  },
  {
   "cell_type": "code",
   "execution_count": null,
   "id": "1d927c92",
   "metadata": {},
   "outputs": [],
   "source": [
    "## DROP ID COLUMN as there are independent and identically distributed variables that are not correlated to `default payment next month` variable\n",
    "\n",
    "df = df.drop(\"ID\", axis = 1)\n",
    "df.head()"
   ]
  },
  {
   "cell_type": "code",
   "execution_count": null,
   "id": "087d4428",
   "metadata": {},
   "outputs": [],
   "source": [
    "## Correlation of the variables\n",
    "correlation_matrix = df.corr()\n",
    "fig = plt.figure(figsize=(12,9))\n",
    "sns.heatmap(correlation_matrix,vmax=0.8,square = True, cmap = \"coolwarm\")\n",
    "plt.show()\n",
    "\n",
    "## From this, we can see that the variables that have slightly higher correlation are \n",
    "## LIMIT_BAL, PAY_AMT1 to PAY_AMT6\n",
    "## With that in mind, let's dive deeper into those variables."
   ]
  },
  {
   "cell_type": "markdown",
   "id": "6dd61d19",
   "metadata": {},
   "source": [
    "### Analysis on Age of Credit Card Holders"
   ]
  },
  {
   "cell_type": "code",
   "execution_count": null,
   "id": "0e7926d1",
   "metadata": {},
   "outputs": [],
   "source": [
    "df['AGE'].describe() ## all credit card holders are above the age of 21, and below the age of 79"
   ]
  },
  {
   "cell_type": "code",
   "execution_count": null,
   "id": "b1f530e5",
   "metadata": {},
   "outputs": [],
   "source": [
    "## Distribution plot of AGE\n",
    "sns.displot(x='AGE', data = df, kde=True, aspect=2)\n",
    "plt.xticks(rotation=0)\n",
    "plt.ylabel('Count')\n",
    "plt.title(\"Age distribution\")"
   ]
  },
  {
   "cell_type": "markdown",
   "id": "ecbbb9c8",
   "metadata": {},
   "source": [
    "### Analysis on Marital Status of Credit Card Holders"
   ]
  },
  {
   "cell_type": "code",
   "execution_count": null,
   "id": "f39da3bb",
   "metadata": {},
   "outputs": [],
   "source": [
    "df['MARRIAGE'].describe()"
   ]
  },
  {
   "cell_type": "code",
   "execution_count": null,
   "id": "291e91bf",
   "metadata": {},
   "outputs": [],
   "source": [
    "df.MARRIAGE.value_counts().plot(kind = 'bar') ## have 0 values"
   ]
  },
  {
   "cell_type": "code",
   "execution_count": null,
   "id": "84df2283",
   "metadata": {
    "scrolled": true
   },
   "outputs": [],
   "source": [
    "# The value 0 does not represent any category of marriage. \n",
    "# Hence, I am going to map 0 to 3, to categorise it under others.\n",
    "df['MARRIAGE'].replace({0:3,1:1,2:2,3:3}, inplace=True)\n",
    "df['MARRIAGE'].value_counts()\n"
   ]
  },
  {
   "cell_type": "code",
   "execution_count": null,
   "id": "fc84e110",
   "metadata": {},
   "outputs": [],
   "source": [
    "# Plotting pie chart and bar chart to see how the marital status of an individual is correlated to whether the individual defaults\n",
    "plt.figure(figsize=(10,5))\n",
    "fig, axes = plt.subplots(ncols=2,figsize=(13,8))\n",
    "df['MARRIAGE'].value_counts().plot(kind=\"pie\",ax = axes[0],subplots=True)\n",
    "sns.countplot(x = 'MARRIAGE', hue = 'Defaulter', data = df)"
   ]
  },
  {
   "cell_type": "markdown",
   "id": "74f4727d",
   "metadata": {},
   "source": [
    "From the pie chart and bar graph above, we can see that the highest proportion of defaulters are Single, followed by Married then Others."
   ]
  },
  {
   "cell_type": "markdown",
   "id": "8bc6c8b5",
   "metadata": {},
   "source": [
    "### Analysis on Education of Credit Card Holders"
   ]
  },
  {
   "cell_type": "code",
   "execution_count": null,
   "id": "73c51686",
   "metadata": {},
   "outputs": [],
   "source": [
    "df.EDUCATION.value_counts().plot(kind = \"barh\")"
   ]
  },
  {
   "cell_type": "code",
   "execution_count": null,
   "id": "4f87e658",
   "metadata": {},
   "outputs": [],
   "source": [
    "# From the Data Description given, we know that in df.EDUCATION, 5 and 6 represents \"unknown\" \n",
    "# Changing 0,5 and 6 to keep it under 1 category.\n",
    "\n",
    "## why don't we change it to others?\n",
    "\n",
    "df['EDUCATION'].replace({0:1,1:1,2:2,3:3,4:4,5:1,6:1}, inplace=True)\n",
    "df.EDUCATION.value_counts()"
   ]
  },
  {
   "cell_type": "code",
   "execution_count": null,
   "id": "fe21cbd0",
   "metadata": {},
   "outputs": [],
   "source": [
    "# Plotting pie chart and bar chart to see how the the education of an individual is correlated to whether the individual defaults\n",
    "plt.figure(figsize=(10,5))\n",
    "fig, axes = plt.subplots(ncols=2,figsize=(13,8))\n",
    "df['EDUCATION'].value_counts().plot(kind=\"pie\",ax = axes[0],subplots=True)\n",
    "sns.countplot(x = 'EDUCATION', hue = 'Defaulter', data = df)"
   ]
  },
  {
   "cell_type": "markdown",
   "id": "b11ef04d",
   "metadata": {},
   "source": [
    "From the pie chart and bar graph above, we can see that "
   ]
  },
  {
   "cell_type": "markdown",
   "id": "cf06f450",
   "metadata": {},
   "source": [
    "### Analysis on Gender of Credit Card Holders"
   ]
  },
  {
   "cell_type": "code",
   "execution_count": null,
   "id": "307dc028",
   "metadata": {},
   "outputs": [],
   "source": [
    "df.SEX.value_counts().plot(kind = \"barh\")"
   ]
  },
  {
   "cell_type": "code",
   "execution_count": null,
   "id": "a5142b11",
   "metadata": {},
   "outputs": [],
   "source": [
    "# Plotting pie chart and bar chart to see how the the education of an individual is correlated to whether the individual defaults\n",
    "plt.figure(figsize=(10,5))\n",
    "fig, axes = plt.subplots(ncols=2,figsize=(13,8))\n",
    "df['SEX'].value_counts().plot(kind=\"pie\",ax = axes[0],subplots=True)\n",
    "sns.countplot(x = 'SEX', hue = 'Defaulter', data = df)"
   ]
  },
  {
   "cell_type": "markdown",
   "id": "7917811d",
   "metadata": {},
   "source": [
    "From the pie chart and bar graph above, we can see that the number of defaulters has a higher proportion of females."
   ]
  },
  {
   "cell_type": "markdown",
   "id": "015d207f",
   "metadata": {},
   "source": [
    "### Analysis on Amount of Given Credit of Credit Card Holders\n"
   ]
  },
  {
   "cell_type": "code",
   "execution_count": null,
   "id": "f4a15cc4",
   "metadata": {},
   "outputs": [],
   "source": [
    "df['LIMIT_BAL'].describe()"
   ]
  },
  {
   "cell_type": "code",
   "execution_count": null,
   "id": "937ae062",
   "metadata": {},
   "outputs": [],
   "source": [
    "## Distribution plot of LIMIT_BAL\n",
    "sns.displot(x='LIMIT_BAL', data = df, kde=True, aspect=2)\n",
    "plt.xticks(rotation=0)\n",
    "plt.ylabel('Count')\n",
    "plt.title(\"Credit Distribution\")"
   ]
  },
  {
   "cell_type": "code",
   "execution_count": null,
   "id": "d14296d4",
   "metadata": {},
   "outputs": [],
   "source": [
    "## Box plot \n",
    "plt.figure(figsize=(10,10))\n",
    "sns.boxplot(x=\"Defaulter\", y=\"LIMIT_BAL\", data=df)"
   ]
  },
  {
   "cell_type": "markdown",
   "id": "d9effe10",
   "metadata": {},
   "source": [
    "From our box plot above, we can see that generally, defaulters have lower mean credit balances than non-defaulters. (which makes sense because the higher the \"chance\" of you defaulting, the lower your credit balance -> is a cycle)"
   ]
  },
  {
   "cell_type": "markdown",
   "id": "2746e786",
   "metadata": {},
   "source": [
    "### Analysis on PAY_0 to PAY_6"
   ]
  },
  {
   "cell_type": "code",
   "execution_count": null,
   "id": "04eb2cbe",
   "metadata": {},
   "outputs": [],
   "source": [
    "# Lets see the value counts in column 'PAY_0'\n",
    "df['PAY_0'].value_counts()"
   ]
  },
  {
   "cell_type": "code",
   "execution_count": null,
   "id": "7d012dfd",
   "metadata": {},
   "outputs": [],
   "source": [
    "# Lets visualize the target column \"default.payment.next.month\"\n",
    "plt.figure(figsize=(6,6))\n",
    "sns.countplot(x='default payment next month', data=df)\n",
    "plt.xticks([0,1], labels=[\"Not Defaulted\", \"Defaulted\"])\n",
    "plt.title(\"Target Distribution\")"
   ]
  },
  {
   "cell_type": "code",
   "execution_count": null,
   "id": "33028f53",
   "metadata": {},
   "outputs": [],
   "source": []
  }
 ],
 "metadata": {
  "kernelspec": {
   "display_name": "Python 3.9.6 64-bit",
   "language": "python",
   "name": "python3"
  },
  "language_info": {
   "codemirror_mode": {
    "name": "ipython",
    "version": 3
   },
   "file_extension": ".py",
   "mimetype": "text/x-python",
   "name": "python",
   "nbconvert_exporter": "python",
   "pygments_lexer": "ipython3",
   "version": "3.9.6"
  },
  "vscode": {
   "interpreter": {
    "hash": "7812ea015bdcee6f23a998adcdd2ef97c151c0c241b7b7070987d9313e41299d"
   }
  }
 },
 "nbformat": 4,
 "nbformat_minor": 5
}

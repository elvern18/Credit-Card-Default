{
 "cells": [
  {
   "cell_type": "markdown",
   "id": "cb43c6e7",
   "metadata": {},
   "source": [
    "# BT2103 Project"
   ]
  },
  {
   "cell_type": "markdown",
   "id": "92cd925c",
   "metadata": {},
   "source": [
    "## Introduction: \n",
    "The data set contains payment information of 30,000 credit card holders obtained from a bank in Taiwan. Each data sample is described by 23 feature attributes (columns B to X). The target feature (column Y) to be predicted is binary valued 0 (= not default) or 1 (= default).\n",
    "\n",
    "We aim to predict whether a credit card holder is able to make payment in the next month (1 = yes , 0 = no)\n",
    "\n",
    "There are 25 variables:\n",
    "\n",
    "ID: ID of each client\n",
    "\n",
    "LIMIT_BAL: Amount of given credit in NT dollars (includes individual and family/supplementary credit)\n",
    "\n",
    "SEX: Gender (1=male, 2=female)\n",
    "\n",
    "EDUCATION: (1=graduate school, 2=university, 3=high school, 4=others, 5=unknown, 6=unknown)\n",
    "\n",
    "MARRIAGE: Marital status (1=married, 2=single, 3=others)\n",
    "\n",
    "AGE: Age in years\n",
    "\n",
    "PAY_0: Repayment status in September, 2005 (-1=pay duly, 1=payment delay for one month, 2=payment delay for two months, … 8=payment delay for eight months, 9=payment delay for nine months and above)\n",
    "\n",
    "PAY_2: Repayment status in August, 2005 (scale same as above)\n",
    "\n",
    "PAY_3: Repayment status in July, 2005 (scale same as above)\n",
    "\n",
    "PAY_4: Repayment status in June, 2005 (scale same as above)\n",
    "\n",
    "PAY_5: Repayment status in May, 2005 (scale same as above)\n",
    "\n",
    "PAY_6: Repayment status in April, 2005 (scale same as above)\n",
    "\n",
    "BILL_AMT1: Amount of bill statement in September, 2005 (NT dollar)\n",
    "\n",
    "BILL_AMT2: Amount of bill statement in August, 2005 (NT dollar)\n",
    "\n",
    "BILL_AMT3: Amount of bill statement in July, 2005 (NT dollar)\n",
    "\n",
    "BILL_AMT4: Amount of bill statement in June, 2005 (NT dollar)\n",
    "\n",
    "BILL_AMT5: Amount of bill statement in May, 2005 (NT dollar)\n",
    "\n",
    "BILL_AMT6: Amount of bill statement in April, 2005 (NT dollar)\n",
    "\n",
    "PAY_AMT1: Amount of previous payment in September, 2005 (NT dollar)\n",
    "\n",
    "PAY_AMT2: Amount of previous payment in August, 2005 (NT dollar)\n",
    "\n",
    "PAY_AMT3: Amount of previous payment in July, 2005 (NT dollar)\n",
    "\n",
    "PAY_AMT4: Amount of previous payment in June, 2005 (NT dollar)\n",
    "\n",
    "PAY_AMT5: Amount of previous payment in May, 2005 (NT dollar)\n",
    "\n",
    "PAY_AMT6: Amount of previous payment in April, 2005 (NT dollar)\n",
    "\n",
    "default.payment.next.month: Default payment (1=yes, 0=no)\n",
    "\n",
    "\n"
   ]
  },
  {
   "cell_type": "markdown",
   "id": "12c0d50d",
   "metadata": {},
   "source": [
    "## Importing Relevant Libaries\n"
   ]
  },
  {
   "cell_type": "code",
   "execution_count": 159,
   "id": "f265e544",
   "metadata": {},
   "outputs": [],
   "source": [
    "import pandas as pd \n",
    "import numpy as np\n",
    "import matplotlib.pyplot as plt\n",
    "import seaborn as sns \n",
    "import scipy.stats as stats\n",
    "from sklearn.preprocessing import MinMaxScaler\n",
    "from sklearn.neighbors import KNeighborsClassifier\n",
    "from sklearn.feature_selection import chi2, SelectKBest, f_classif, SequentialFeatureSelector\n",
    "from sklearn.model_selection import train_test_split, GridSearchCV\n",
    "from sklearn.model_selection import RepeatedStratifiedKFold\n",
    "from sklearn.svm import SVC\n",
    "from sklearn.ensemble import RandomForestClassifier\n",
    "from sklearn.linear_model import LogisticRegression\n",
    "from sklearn.metrics import *\n",
    "import xgboost as xgb\n",
    "from xgboost import XGBClassifier\n",
    "\n",
    "import tensorflow as tf\n",
    "from tensorflow.keras.models import Sequential\n",
    "from tensorflow.keras.layers import Dense, Activation,Dropout\n",
    "from tensorflow.keras.constraints import max_norm\n",
    "from sklearn.preprocessing import MinMaxScaler\n",
    "from tensorflow.keras.optimizers import SGD\n",
    "from imblearn.over_sampling import SMOTE\n",
    "import warnings\n",
    "warnings.filterwarnings(\"ignore\")"
   ]
  },
  {
   "cell_type": "markdown",
   "id": "85f89f8a",
   "metadata": {},
   "source": [
    "## Exploratory Data Analysis"
   ]
  },
  {
   "cell_type": "code",
   "execution_count": 160,
   "id": "5190b1d5",
   "metadata": {},
   "outputs": [],
   "source": [
    "df = pd.read_csv('card.csv',header=[1])"
   ]
  },
  {
   "cell_type": "code",
   "execution_count": 161,
   "id": "886094dd",
   "metadata": {},
   "outputs": [
    {
     "data": {
      "text/html": [
       "<div>\n",
       "<style scoped>\n",
       "    .dataframe tbody tr th:only-of-type {\n",
       "        vertical-align: middle;\n",
       "    }\n",
       "\n",
       "    .dataframe tbody tr th {\n",
       "        vertical-align: top;\n",
       "    }\n",
       "\n",
       "    .dataframe thead th {\n",
       "        text-align: right;\n",
       "    }\n",
       "</style>\n",
       "<table border=\"1\" class=\"dataframe\">\n",
       "  <thead>\n",
       "    <tr style=\"text-align: right;\">\n",
       "      <th></th>\n",
       "      <th>ID</th>\n",
       "      <th>LIMIT_BAL</th>\n",
       "      <th>SEX</th>\n",
       "      <th>EDUCATION</th>\n",
       "      <th>MARRIAGE</th>\n",
       "      <th>AGE</th>\n",
       "      <th>PAY_0</th>\n",
       "      <th>PAY_2</th>\n",
       "      <th>PAY_3</th>\n",
       "      <th>PAY_4</th>\n",
       "      <th>...</th>\n",
       "      <th>BILL_AMT4</th>\n",
       "      <th>BILL_AMT5</th>\n",
       "      <th>BILL_AMT6</th>\n",
       "      <th>PAY_AMT1</th>\n",
       "      <th>PAY_AMT2</th>\n",
       "      <th>PAY_AMT3</th>\n",
       "      <th>PAY_AMT4</th>\n",
       "      <th>PAY_AMT5</th>\n",
       "      <th>PAY_AMT6</th>\n",
       "      <th>default payment next month</th>\n",
       "    </tr>\n",
       "  </thead>\n",
       "  <tbody>\n",
       "    <tr>\n",
       "      <th>0</th>\n",
       "      <td>1</td>\n",
       "      <td>20000</td>\n",
       "      <td>2</td>\n",
       "      <td>2</td>\n",
       "      <td>1</td>\n",
       "      <td>24</td>\n",
       "      <td>2</td>\n",
       "      <td>2</td>\n",
       "      <td>-1</td>\n",
       "      <td>-1</td>\n",
       "      <td>...</td>\n",
       "      <td>0</td>\n",
       "      <td>0</td>\n",
       "      <td>0</td>\n",
       "      <td>0</td>\n",
       "      <td>689</td>\n",
       "      <td>0</td>\n",
       "      <td>0</td>\n",
       "      <td>0</td>\n",
       "      <td>0</td>\n",
       "      <td>1</td>\n",
       "    </tr>\n",
       "    <tr>\n",
       "      <th>1</th>\n",
       "      <td>2</td>\n",
       "      <td>120000</td>\n",
       "      <td>2</td>\n",
       "      <td>2</td>\n",
       "      <td>2</td>\n",
       "      <td>26</td>\n",
       "      <td>-1</td>\n",
       "      <td>2</td>\n",
       "      <td>0</td>\n",
       "      <td>0</td>\n",
       "      <td>...</td>\n",
       "      <td>3272</td>\n",
       "      <td>3455</td>\n",
       "      <td>3261</td>\n",
       "      <td>0</td>\n",
       "      <td>1000</td>\n",
       "      <td>1000</td>\n",
       "      <td>1000</td>\n",
       "      <td>0</td>\n",
       "      <td>2000</td>\n",
       "      <td>1</td>\n",
       "    </tr>\n",
       "    <tr>\n",
       "      <th>2</th>\n",
       "      <td>3</td>\n",
       "      <td>90000</td>\n",
       "      <td>2</td>\n",
       "      <td>2</td>\n",
       "      <td>2</td>\n",
       "      <td>34</td>\n",
       "      <td>0</td>\n",
       "      <td>0</td>\n",
       "      <td>0</td>\n",
       "      <td>0</td>\n",
       "      <td>...</td>\n",
       "      <td>14331</td>\n",
       "      <td>14948</td>\n",
       "      <td>15549</td>\n",
       "      <td>1518</td>\n",
       "      <td>1500</td>\n",
       "      <td>1000</td>\n",
       "      <td>1000</td>\n",
       "      <td>1000</td>\n",
       "      <td>5000</td>\n",
       "      <td>0</td>\n",
       "    </tr>\n",
       "    <tr>\n",
       "      <th>3</th>\n",
       "      <td>4</td>\n",
       "      <td>50000</td>\n",
       "      <td>2</td>\n",
       "      <td>2</td>\n",
       "      <td>1</td>\n",
       "      <td>37</td>\n",
       "      <td>0</td>\n",
       "      <td>0</td>\n",
       "      <td>0</td>\n",
       "      <td>0</td>\n",
       "      <td>...</td>\n",
       "      <td>28314</td>\n",
       "      <td>28959</td>\n",
       "      <td>29547</td>\n",
       "      <td>2000</td>\n",
       "      <td>2019</td>\n",
       "      <td>1200</td>\n",
       "      <td>1100</td>\n",
       "      <td>1069</td>\n",
       "      <td>1000</td>\n",
       "      <td>0</td>\n",
       "    </tr>\n",
       "    <tr>\n",
       "      <th>4</th>\n",
       "      <td>5</td>\n",
       "      <td>50000</td>\n",
       "      <td>1</td>\n",
       "      <td>2</td>\n",
       "      <td>1</td>\n",
       "      <td>57</td>\n",
       "      <td>-1</td>\n",
       "      <td>0</td>\n",
       "      <td>-1</td>\n",
       "      <td>0</td>\n",
       "      <td>...</td>\n",
       "      <td>20940</td>\n",
       "      <td>19146</td>\n",
       "      <td>19131</td>\n",
       "      <td>2000</td>\n",
       "      <td>36681</td>\n",
       "      <td>10000</td>\n",
       "      <td>9000</td>\n",
       "      <td>689</td>\n",
       "      <td>679</td>\n",
       "      <td>0</td>\n",
       "    </tr>\n",
       "  </tbody>\n",
       "</table>\n",
       "<p>5 rows × 25 columns</p>\n",
       "</div>"
      ],
      "text/plain": [
       "   ID  LIMIT_BAL  SEX  EDUCATION  MARRIAGE  AGE  PAY_0  PAY_2  PAY_3  PAY_4  \\\n",
       "0   1      20000    2          2         1   24      2      2     -1     -1   \n",
       "1   2     120000    2          2         2   26     -1      2      0      0   \n",
       "2   3      90000    2          2         2   34      0      0      0      0   \n",
       "3   4      50000    2          2         1   37      0      0      0      0   \n",
       "4   5      50000    1          2         1   57     -1      0     -1      0   \n",
       "\n",
       "   ...  BILL_AMT4  BILL_AMT5  BILL_AMT6  PAY_AMT1  PAY_AMT2  PAY_AMT3  \\\n",
       "0  ...          0          0          0         0       689         0   \n",
       "1  ...       3272       3455       3261         0      1000      1000   \n",
       "2  ...      14331      14948      15549      1518      1500      1000   \n",
       "3  ...      28314      28959      29547      2000      2019      1200   \n",
       "4  ...      20940      19146      19131      2000     36681     10000   \n",
       "\n",
       "   PAY_AMT4  PAY_AMT5  PAY_AMT6  default payment next month  \n",
       "0         0         0         0                           1  \n",
       "1      1000         0      2000                           1  \n",
       "2      1000      1000      5000                           0  \n",
       "3      1100      1069      1000                           0  \n",
       "4      9000       689       679                           0  \n",
       "\n",
       "[5 rows x 25 columns]"
      ]
     },
     "execution_count": 161,
     "metadata": {},
     "output_type": "execute_result"
    }
   ],
   "source": [
    "# Get a glimpse of the data\n",
    "df.head()"
   ]
  },
  {
   "cell_type": "code",
   "execution_count": 162,
   "id": "6585aed8",
   "metadata": {},
   "outputs": [
    {
     "name": "stdout",
     "output_type": "stream",
     "text": [
      "<class 'pandas.core.frame.DataFrame'>\n",
      "RangeIndex: 30000 entries, 0 to 29999\n",
      "Data columns (total 25 columns):\n",
      " #   Column                      Non-Null Count  Dtype\n",
      "---  ------                      --------------  -----\n",
      " 0   ID                          30000 non-null  int64\n",
      " 1   LIMIT_BAL                   30000 non-null  int64\n",
      " 2   SEX                         30000 non-null  int64\n",
      " 3   EDUCATION                   30000 non-null  int64\n",
      " 4   MARRIAGE                    30000 non-null  int64\n",
      " 5   AGE                         30000 non-null  int64\n",
      " 6   PAY_0                       30000 non-null  int64\n",
      " 7   PAY_2                       30000 non-null  int64\n",
      " 8   PAY_3                       30000 non-null  int64\n",
      " 9   PAY_4                       30000 non-null  int64\n",
      " 10  PAY_5                       30000 non-null  int64\n",
      " 11  PAY_6                       30000 non-null  int64\n",
      " 12  BILL_AMT1                   30000 non-null  int64\n",
      " 13  BILL_AMT2                   30000 non-null  int64\n",
      " 14  BILL_AMT3                   30000 non-null  int64\n",
      " 15  BILL_AMT4                   30000 non-null  int64\n",
      " 16  BILL_AMT5                   30000 non-null  int64\n",
      " 17  BILL_AMT6                   30000 non-null  int64\n",
      " 18  PAY_AMT1                    30000 non-null  int64\n",
      " 19  PAY_AMT2                    30000 non-null  int64\n",
      " 20  PAY_AMT3                    30000 non-null  int64\n",
      " 21  PAY_AMT4                    30000 non-null  int64\n",
      " 22  PAY_AMT5                    30000 non-null  int64\n",
      " 23  PAY_AMT6                    30000 non-null  int64\n",
      " 24  default payment next month  30000 non-null  int64\n",
      "dtypes: int64(25)\n",
      "memory usage: 5.7 MB\n"
     ]
    }
   ],
   "source": [
    "# Let's see the information of data\n",
    "df.info()"
   ]
  },
  {
   "cell_type": "code",
   "execution_count": 163,
   "id": "6e0a7308",
   "metadata": {},
   "outputs": [
    {
     "data": {
      "text/html": [
       "<div>\n",
       "<style scoped>\n",
       "    .dataframe tbody tr th:only-of-type {\n",
       "        vertical-align: middle;\n",
       "    }\n",
       "\n",
       "    .dataframe tbody tr th {\n",
       "        vertical-align: top;\n",
       "    }\n",
       "\n",
       "    .dataframe thead th {\n",
       "        text-align: right;\n",
       "    }\n",
       "</style>\n",
       "<table border=\"1\" class=\"dataframe\">\n",
       "  <thead>\n",
       "    <tr style=\"text-align: right;\">\n",
       "      <th></th>\n",
       "      <th>ID</th>\n",
       "      <th>LIMIT_BAL</th>\n",
       "      <th>SEX</th>\n",
       "      <th>EDUCATION</th>\n",
       "      <th>MARRIAGE</th>\n",
       "      <th>AGE</th>\n",
       "      <th>PAY_0</th>\n",
       "      <th>PAY_2</th>\n",
       "      <th>PAY_3</th>\n",
       "      <th>PAY_4</th>\n",
       "      <th>...</th>\n",
       "      <th>BILL_AMT4</th>\n",
       "      <th>BILL_AMT5</th>\n",
       "      <th>BILL_AMT6</th>\n",
       "      <th>PAY_AMT1</th>\n",
       "      <th>PAY_AMT2</th>\n",
       "      <th>PAY_AMT3</th>\n",
       "      <th>PAY_AMT4</th>\n",
       "      <th>PAY_AMT5</th>\n",
       "      <th>PAY_AMT6</th>\n",
       "      <th>default payment next month</th>\n",
       "    </tr>\n",
       "  </thead>\n",
       "  <tbody>\n",
       "    <tr>\n",
       "      <th>count</th>\n",
       "      <td>30000.000000</td>\n",
       "      <td>30000.000000</td>\n",
       "      <td>30000.000000</td>\n",
       "      <td>30000.000000</td>\n",
       "      <td>30000.000000</td>\n",
       "      <td>30000.000000</td>\n",
       "      <td>30000.000000</td>\n",
       "      <td>30000.000000</td>\n",
       "      <td>30000.000000</td>\n",
       "      <td>30000.000000</td>\n",
       "      <td>...</td>\n",
       "      <td>30000.000000</td>\n",
       "      <td>30000.000000</td>\n",
       "      <td>30000.000000</td>\n",
       "      <td>30000.000000</td>\n",
       "      <td>3.000000e+04</td>\n",
       "      <td>30000.00000</td>\n",
       "      <td>30000.000000</td>\n",
       "      <td>30000.000000</td>\n",
       "      <td>30000.000000</td>\n",
       "      <td>30000.000000</td>\n",
       "    </tr>\n",
       "    <tr>\n",
       "      <th>mean</th>\n",
       "      <td>15000.500000</td>\n",
       "      <td>167484.322667</td>\n",
       "      <td>1.603733</td>\n",
       "      <td>1.853133</td>\n",
       "      <td>1.551867</td>\n",
       "      <td>35.485500</td>\n",
       "      <td>-0.016700</td>\n",
       "      <td>-0.133767</td>\n",
       "      <td>-0.166200</td>\n",
       "      <td>-0.220667</td>\n",
       "      <td>...</td>\n",
       "      <td>43262.948967</td>\n",
       "      <td>40311.400967</td>\n",
       "      <td>38871.760400</td>\n",
       "      <td>5663.580500</td>\n",
       "      <td>5.921163e+03</td>\n",
       "      <td>5225.68150</td>\n",
       "      <td>4826.076867</td>\n",
       "      <td>4799.387633</td>\n",
       "      <td>5215.502567</td>\n",
       "      <td>0.221200</td>\n",
       "    </tr>\n",
       "    <tr>\n",
       "      <th>std</th>\n",
       "      <td>8660.398374</td>\n",
       "      <td>129747.661567</td>\n",
       "      <td>0.489129</td>\n",
       "      <td>0.790349</td>\n",
       "      <td>0.521970</td>\n",
       "      <td>9.217904</td>\n",
       "      <td>1.123802</td>\n",
       "      <td>1.197186</td>\n",
       "      <td>1.196868</td>\n",
       "      <td>1.169139</td>\n",
       "      <td>...</td>\n",
       "      <td>64332.856134</td>\n",
       "      <td>60797.155770</td>\n",
       "      <td>59554.107537</td>\n",
       "      <td>16563.280354</td>\n",
       "      <td>2.304087e+04</td>\n",
       "      <td>17606.96147</td>\n",
       "      <td>15666.159744</td>\n",
       "      <td>15278.305679</td>\n",
       "      <td>17777.465775</td>\n",
       "      <td>0.415062</td>\n",
       "    </tr>\n",
       "    <tr>\n",
       "      <th>min</th>\n",
       "      <td>1.000000</td>\n",
       "      <td>10000.000000</td>\n",
       "      <td>1.000000</td>\n",
       "      <td>0.000000</td>\n",
       "      <td>0.000000</td>\n",
       "      <td>21.000000</td>\n",
       "      <td>-2.000000</td>\n",
       "      <td>-2.000000</td>\n",
       "      <td>-2.000000</td>\n",
       "      <td>-2.000000</td>\n",
       "      <td>...</td>\n",
       "      <td>-170000.000000</td>\n",
       "      <td>-81334.000000</td>\n",
       "      <td>-339603.000000</td>\n",
       "      <td>0.000000</td>\n",
       "      <td>0.000000e+00</td>\n",
       "      <td>0.00000</td>\n",
       "      <td>0.000000</td>\n",
       "      <td>0.000000</td>\n",
       "      <td>0.000000</td>\n",
       "      <td>0.000000</td>\n",
       "    </tr>\n",
       "    <tr>\n",
       "      <th>25%</th>\n",
       "      <td>7500.750000</td>\n",
       "      <td>50000.000000</td>\n",
       "      <td>1.000000</td>\n",
       "      <td>1.000000</td>\n",
       "      <td>1.000000</td>\n",
       "      <td>28.000000</td>\n",
       "      <td>-1.000000</td>\n",
       "      <td>-1.000000</td>\n",
       "      <td>-1.000000</td>\n",
       "      <td>-1.000000</td>\n",
       "      <td>...</td>\n",
       "      <td>2326.750000</td>\n",
       "      <td>1763.000000</td>\n",
       "      <td>1256.000000</td>\n",
       "      <td>1000.000000</td>\n",
       "      <td>8.330000e+02</td>\n",
       "      <td>390.00000</td>\n",
       "      <td>296.000000</td>\n",
       "      <td>252.500000</td>\n",
       "      <td>117.750000</td>\n",
       "      <td>0.000000</td>\n",
       "    </tr>\n",
       "    <tr>\n",
       "      <th>50%</th>\n",
       "      <td>15000.500000</td>\n",
       "      <td>140000.000000</td>\n",
       "      <td>2.000000</td>\n",
       "      <td>2.000000</td>\n",
       "      <td>2.000000</td>\n",
       "      <td>34.000000</td>\n",
       "      <td>0.000000</td>\n",
       "      <td>0.000000</td>\n",
       "      <td>0.000000</td>\n",
       "      <td>0.000000</td>\n",
       "      <td>...</td>\n",
       "      <td>19052.000000</td>\n",
       "      <td>18104.500000</td>\n",
       "      <td>17071.000000</td>\n",
       "      <td>2100.000000</td>\n",
       "      <td>2.009000e+03</td>\n",
       "      <td>1800.00000</td>\n",
       "      <td>1500.000000</td>\n",
       "      <td>1500.000000</td>\n",
       "      <td>1500.000000</td>\n",
       "      <td>0.000000</td>\n",
       "    </tr>\n",
       "    <tr>\n",
       "      <th>75%</th>\n",
       "      <td>22500.250000</td>\n",
       "      <td>240000.000000</td>\n",
       "      <td>2.000000</td>\n",
       "      <td>2.000000</td>\n",
       "      <td>2.000000</td>\n",
       "      <td>41.000000</td>\n",
       "      <td>0.000000</td>\n",
       "      <td>0.000000</td>\n",
       "      <td>0.000000</td>\n",
       "      <td>0.000000</td>\n",
       "      <td>...</td>\n",
       "      <td>54506.000000</td>\n",
       "      <td>50190.500000</td>\n",
       "      <td>49198.250000</td>\n",
       "      <td>5006.000000</td>\n",
       "      <td>5.000000e+03</td>\n",
       "      <td>4505.00000</td>\n",
       "      <td>4013.250000</td>\n",
       "      <td>4031.500000</td>\n",
       "      <td>4000.000000</td>\n",
       "      <td>0.000000</td>\n",
       "    </tr>\n",
       "    <tr>\n",
       "      <th>max</th>\n",
       "      <td>30000.000000</td>\n",
       "      <td>1000000.000000</td>\n",
       "      <td>2.000000</td>\n",
       "      <td>6.000000</td>\n",
       "      <td>3.000000</td>\n",
       "      <td>79.000000</td>\n",
       "      <td>8.000000</td>\n",
       "      <td>8.000000</td>\n",
       "      <td>8.000000</td>\n",
       "      <td>8.000000</td>\n",
       "      <td>...</td>\n",
       "      <td>891586.000000</td>\n",
       "      <td>927171.000000</td>\n",
       "      <td>961664.000000</td>\n",
       "      <td>873552.000000</td>\n",
       "      <td>1.684259e+06</td>\n",
       "      <td>896040.00000</td>\n",
       "      <td>621000.000000</td>\n",
       "      <td>426529.000000</td>\n",
       "      <td>528666.000000</td>\n",
       "      <td>1.000000</td>\n",
       "    </tr>\n",
       "  </tbody>\n",
       "</table>\n",
       "<p>8 rows × 25 columns</p>\n",
       "</div>"
      ],
      "text/plain": [
       "                 ID       LIMIT_BAL           SEX     EDUCATION      MARRIAGE  \\\n",
       "count  30000.000000    30000.000000  30000.000000  30000.000000  30000.000000   \n",
       "mean   15000.500000   167484.322667      1.603733      1.853133      1.551867   \n",
       "std     8660.398374   129747.661567      0.489129      0.790349      0.521970   \n",
       "min        1.000000    10000.000000      1.000000      0.000000      0.000000   \n",
       "25%     7500.750000    50000.000000      1.000000      1.000000      1.000000   \n",
       "50%    15000.500000   140000.000000      2.000000      2.000000      2.000000   \n",
       "75%    22500.250000   240000.000000      2.000000      2.000000      2.000000   \n",
       "max    30000.000000  1000000.000000      2.000000      6.000000      3.000000   \n",
       "\n",
       "                AGE         PAY_0         PAY_2         PAY_3         PAY_4  \\\n",
       "count  30000.000000  30000.000000  30000.000000  30000.000000  30000.000000   \n",
       "mean      35.485500     -0.016700     -0.133767     -0.166200     -0.220667   \n",
       "std        9.217904      1.123802      1.197186      1.196868      1.169139   \n",
       "min       21.000000     -2.000000     -2.000000     -2.000000     -2.000000   \n",
       "25%       28.000000     -1.000000     -1.000000     -1.000000     -1.000000   \n",
       "50%       34.000000      0.000000      0.000000      0.000000      0.000000   \n",
       "75%       41.000000      0.000000      0.000000      0.000000      0.000000   \n",
       "max       79.000000      8.000000      8.000000      8.000000      8.000000   \n",
       "\n",
       "       ...      BILL_AMT4      BILL_AMT5      BILL_AMT6       PAY_AMT1  \\\n",
       "count  ...   30000.000000   30000.000000   30000.000000   30000.000000   \n",
       "mean   ...   43262.948967   40311.400967   38871.760400    5663.580500   \n",
       "std    ...   64332.856134   60797.155770   59554.107537   16563.280354   \n",
       "min    ... -170000.000000  -81334.000000 -339603.000000       0.000000   \n",
       "25%    ...    2326.750000    1763.000000    1256.000000    1000.000000   \n",
       "50%    ...   19052.000000   18104.500000   17071.000000    2100.000000   \n",
       "75%    ...   54506.000000   50190.500000   49198.250000    5006.000000   \n",
       "max    ...  891586.000000  927171.000000  961664.000000  873552.000000   \n",
       "\n",
       "           PAY_AMT2      PAY_AMT3       PAY_AMT4       PAY_AMT5  \\\n",
       "count  3.000000e+04   30000.00000   30000.000000   30000.000000   \n",
       "mean   5.921163e+03    5225.68150    4826.076867    4799.387633   \n",
       "std    2.304087e+04   17606.96147   15666.159744   15278.305679   \n",
       "min    0.000000e+00       0.00000       0.000000       0.000000   \n",
       "25%    8.330000e+02     390.00000     296.000000     252.500000   \n",
       "50%    2.009000e+03    1800.00000    1500.000000    1500.000000   \n",
       "75%    5.000000e+03    4505.00000    4013.250000    4031.500000   \n",
       "max    1.684259e+06  896040.00000  621000.000000  426529.000000   \n",
       "\n",
       "            PAY_AMT6  default payment next month  \n",
       "count   30000.000000                30000.000000  \n",
       "mean     5215.502567                    0.221200  \n",
       "std     17777.465775                    0.415062  \n",
       "min         0.000000                    0.000000  \n",
       "25%       117.750000                    0.000000  \n",
       "50%      1500.000000                    0.000000  \n",
       "75%      4000.000000                    0.000000  \n",
       "max    528666.000000                    1.000000  \n",
       "\n",
       "[8 rows x 25 columns]"
      ]
     },
     "execution_count": 163,
     "metadata": {},
     "output_type": "execute_result"
    }
   ],
   "source": [
    "## Statistics of data\n",
    "## Here we can check if there are values that are potentially out of range in the variable.\n",
    "## such as education - supposed to only have values from 1 to 4, but in this case there were occurrences \n",
    "## out of the range.\n",
    "df.describe()"
   ]
  },
  {
   "cell_type": "markdown",
   "id": "b95fb21d",
   "metadata": {},
   "source": [
    "From the statistics above, there is no missing data/null data in our dataset but there are several anomalies that we have to deal with later on.\n",
    "- EDUCATION has categories 0, 5 and 6 that are not part of the labels.\n",
    "- MARRIAGE has a category 0 that is not part of the labels."
   ]
  },
  {
   "cell_type": "code",
   "execution_count": 164,
   "id": "0cfd41f0",
   "metadata": {},
   "outputs": [
    {
     "data": {
      "text/html": [
       "<div>\n",
       "<style scoped>\n",
       "    .dataframe tbody tr th:only-of-type {\n",
       "        vertical-align: middle;\n",
       "    }\n",
       "\n",
       "    .dataframe tbody tr th {\n",
       "        vertical-align: top;\n",
       "    }\n",
       "\n",
       "    .dataframe thead th {\n",
       "        text-align: right;\n",
       "    }\n",
       "</style>\n",
       "<table border=\"1\" class=\"dataframe\">\n",
       "  <thead>\n",
       "    <tr style=\"text-align: right;\">\n",
       "      <th></th>\n",
       "      <th>ID</th>\n",
       "      <th>LIMIT_BAL</th>\n",
       "      <th>SEX</th>\n",
       "      <th>EDUCATION</th>\n",
       "      <th>MARRIAGE</th>\n",
       "      <th>AGE</th>\n",
       "      <th>PAY_0</th>\n",
       "      <th>PAY_2</th>\n",
       "      <th>PAY_3</th>\n",
       "      <th>PAY_4</th>\n",
       "      <th>...</th>\n",
       "      <th>BILL_AMT4</th>\n",
       "      <th>BILL_AMT5</th>\n",
       "      <th>BILL_AMT6</th>\n",
       "      <th>PAY_AMT1</th>\n",
       "      <th>PAY_AMT2</th>\n",
       "      <th>PAY_AMT3</th>\n",
       "      <th>PAY_AMT4</th>\n",
       "      <th>PAY_AMT5</th>\n",
       "      <th>PAY_AMT6</th>\n",
       "      <th>Defaulter</th>\n",
       "    </tr>\n",
       "  </thead>\n",
       "  <tbody>\n",
       "    <tr>\n",
       "      <th>0</th>\n",
       "      <td>1</td>\n",
       "      <td>20000</td>\n",
       "      <td>2</td>\n",
       "      <td>2</td>\n",
       "      <td>1</td>\n",
       "      <td>24</td>\n",
       "      <td>2</td>\n",
       "      <td>2</td>\n",
       "      <td>-1</td>\n",
       "      <td>-1</td>\n",
       "      <td>...</td>\n",
       "      <td>0</td>\n",
       "      <td>0</td>\n",
       "      <td>0</td>\n",
       "      <td>0</td>\n",
       "      <td>689</td>\n",
       "      <td>0</td>\n",
       "      <td>0</td>\n",
       "      <td>0</td>\n",
       "      <td>0</td>\n",
       "      <td>1</td>\n",
       "    </tr>\n",
       "    <tr>\n",
       "      <th>1</th>\n",
       "      <td>2</td>\n",
       "      <td>120000</td>\n",
       "      <td>2</td>\n",
       "      <td>2</td>\n",
       "      <td>2</td>\n",
       "      <td>26</td>\n",
       "      <td>-1</td>\n",
       "      <td>2</td>\n",
       "      <td>0</td>\n",
       "      <td>0</td>\n",
       "      <td>...</td>\n",
       "      <td>3272</td>\n",
       "      <td>3455</td>\n",
       "      <td>3261</td>\n",
       "      <td>0</td>\n",
       "      <td>1000</td>\n",
       "      <td>1000</td>\n",
       "      <td>1000</td>\n",
       "      <td>0</td>\n",
       "      <td>2000</td>\n",
       "      <td>1</td>\n",
       "    </tr>\n",
       "    <tr>\n",
       "      <th>2</th>\n",
       "      <td>3</td>\n",
       "      <td>90000</td>\n",
       "      <td>2</td>\n",
       "      <td>2</td>\n",
       "      <td>2</td>\n",
       "      <td>34</td>\n",
       "      <td>0</td>\n",
       "      <td>0</td>\n",
       "      <td>0</td>\n",
       "      <td>0</td>\n",
       "      <td>...</td>\n",
       "      <td>14331</td>\n",
       "      <td>14948</td>\n",
       "      <td>15549</td>\n",
       "      <td>1518</td>\n",
       "      <td>1500</td>\n",
       "      <td>1000</td>\n",
       "      <td>1000</td>\n",
       "      <td>1000</td>\n",
       "      <td>5000</td>\n",
       "      <td>0</td>\n",
       "    </tr>\n",
       "    <tr>\n",
       "      <th>3</th>\n",
       "      <td>4</td>\n",
       "      <td>50000</td>\n",
       "      <td>2</td>\n",
       "      <td>2</td>\n",
       "      <td>1</td>\n",
       "      <td>37</td>\n",
       "      <td>0</td>\n",
       "      <td>0</td>\n",
       "      <td>0</td>\n",
       "      <td>0</td>\n",
       "      <td>...</td>\n",
       "      <td>28314</td>\n",
       "      <td>28959</td>\n",
       "      <td>29547</td>\n",
       "      <td>2000</td>\n",
       "      <td>2019</td>\n",
       "      <td>1200</td>\n",
       "      <td>1100</td>\n",
       "      <td>1069</td>\n",
       "      <td>1000</td>\n",
       "      <td>0</td>\n",
       "    </tr>\n",
       "    <tr>\n",
       "      <th>4</th>\n",
       "      <td>5</td>\n",
       "      <td>50000</td>\n",
       "      <td>1</td>\n",
       "      <td>2</td>\n",
       "      <td>1</td>\n",
       "      <td>57</td>\n",
       "      <td>-1</td>\n",
       "      <td>0</td>\n",
       "      <td>-1</td>\n",
       "      <td>0</td>\n",
       "      <td>...</td>\n",
       "      <td>20940</td>\n",
       "      <td>19146</td>\n",
       "      <td>19131</td>\n",
       "      <td>2000</td>\n",
       "      <td>36681</td>\n",
       "      <td>10000</td>\n",
       "      <td>9000</td>\n",
       "      <td>689</td>\n",
       "      <td>679</td>\n",
       "      <td>0</td>\n",
       "    </tr>\n",
       "  </tbody>\n",
       "</table>\n",
       "<p>5 rows × 25 columns</p>\n",
       "</div>"
      ],
      "text/plain": [
       "   ID  LIMIT_BAL  SEX  EDUCATION  MARRIAGE  AGE  PAY_0  PAY_2  PAY_3  PAY_4  \\\n",
       "0   1      20000    2          2         1   24      2      2     -1     -1   \n",
       "1   2     120000    2          2         2   26     -1      2      0      0   \n",
       "2   3      90000    2          2         2   34      0      0      0      0   \n",
       "3   4      50000    2          2         1   37      0      0      0      0   \n",
       "4   5      50000    1          2         1   57     -1      0     -1      0   \n",
       "\n",
       "   ...  BILL_AMT4  BILL_AMT5  BILL_AMT6  PAY_AMT1  PAY_AMT2  PAY_AMT3  \\\n",
       "0  ...          0          0          0         0       689         0   \n",
       "1  ...       3272       3455       3261         0      1000      1000   \n",
       "2  ...      14331      14948      15549      1518      1500      1000   \n",
       "3  ...      28314      28959      29547      2000      2019      1200   \n",
       "4  ...      20940      19146      19131      2000     36681     10000   \n",
       "\n",
       "   PAY_AMT4  PAY_AMT5  PAY_AMT6  Defaulter  \n",
       "0         0         0         0          1  \n",
       "1      1000         0      2000          1  \n",
       "2      1000      1000      5000          0  \n",
       "3      1100      1069      1000          0  \n",
       "4      9000       689       679          0  \n",
       "\n",
       "[5 rows x 25 columns]"
      ]
     },
     "execution_count": 164,
     "metadata": {},
     "output_type": "execute_result"
    }
   ],
   "source": [
    "# Create another column with a clearer header for defaulters\n",
    "df['Defaulter'] = df['default payment next month']\n",
    "df.drop('default payment next month', axis = 1, inplace = True)\n",
    "df.head()"
   ]
  },
  {
   "cell_type": "code",
   "execution_count": 165,
   "id": "1d927c92",
   "metadata": {},
   "outputs": [
    {
     "data": {
      "text/html": [
       "<div>\n",
       "<style scoped>\n",
       "    .dataframe tbody tr th:only-of-type {\n",
       "        vertical-align: middle;\n",
       "    }\n",
       "\n",
       "    .dataframe tbody tr th {\n",
       "        vertical-align: top;\n",
       "    }\n",
       "\n",
       "    .dataframe thead th {\n",
       "        text-align: right;\n",
       "    }\n",
       "</style>\n",
       "<table border=\"1\" class=\"dataframe\">\n",
       "  <thead>\n",
       "    <tr style=\"text-align: right;\">\n",
       "      <th></th>\n",
       "      <th>LIMIT_BAL</th>\n",
       "      <th>SEX</th>\n",
       "      <th>EDUCATION</th>\n",
       "      <th>MARRIAGE</th>\n",
       "      <th>AGE</th>\n",
       "      <th>PAY_0</th>\n",
       "      <th>PAY_2</th>\n",
       "      <th>PAY_3</th>\n",
       "      <th>PAY_4</th>\n",
       "      <th>PAY_5</th>\n",
       "      <th>...</th>\n",
       "      <th>BILL_AMT4</th>\n",
       "      <th>BILL_AMT5</th>\n",
       "      <th>BILL_AMT6</th>\n",
       "      <th>PAY_AMT1</th>\n",
       "      <th>PAY_AMT2</th>\n",
       "      <th>PAY_AMT3</th>\n",
       "      <th>PAY_AMT4</th>\n",
       "      <th>PAY_AMT5</th>\n",
       "      <th>PAY_AMT6</th>\n",
       "      <th>Defaulter</th>\n",
       "    </tr>\n",
       "  </thead>\n",
       "  <tbody>\n",
       "    <tr>\n",
       "      <th>0</th>\n",
       "      <td>20000</td>\n",
       "      <td>2</td>\n",
       "      <td>2</td>\n",
       "      <td>1</td>\n",
       "      <td>24</td>\n",
       "      <td>2</td>\n",
       "      <td>2</td>\n",
       "      <td>-1</td>\n",
       "      <td>-1</td>\n",
       "      <td>-2</td>\n",
       "      <td>...</td>\n",
       "      <td>0</td>\n",
       "      <td>0</td>\n",
       "      <td>0</td>\n",
       "      <td>0</td>\n",
       "      <td>689</td>\n",
       "      <td>0</td>\n",
       "      <td>0</td>\n",
       "      <td>0</td>\n",
       "      <td>0</td>\n",
       "      <td>1</td>\n",
       "    </tr>\n",
       "    <tr>\n",
       "      <th>1</th>\n",
       "      <td>120000</td>\n",
       "      <td>2</td>\n",
       "      <td>2</td>\n",
       "      <td>2</td>\n",
       "      <td>26</td>\n",
       "      <td>-1</td>\n",
       "      <td>2</td>\n",
       "      <td>0</td>\n",
       "      <td>0</td>\n",
       "      <td>0</td>\n",
       "      <td>...</td>\n",
       "      <td>3272</td>\n",
       "      <td>3455</td>\n",
       "      <td>3261</td>\n",
       "      <td>0</td>\n",
       "      <td>1000</td>\n",
       "      <td>1000</td>\n",
       "      <td>1000</td>\n",
       "      <td>0</td>\n",
       "      <td>2000</td>\n",
       "      <td>1</td>\n",
       "    </tr>\n",
       "    <tr>\n",
       "      <th>2</th>\n",
       "      <td>90000</td>\n",
       "      <td>2</td>\n",
       "      <td>2</td>\n",
       "      <td>2</td>\n",
       "      <td>34</td>\n",
       "      <td>0</td>\n",
       "      <td>0</td>\n",
       "      <td>0</td>\n",
       "      <td>0</td>\n",
       "      <td>0</td>\n",
       "      <td>...</td>\n",
       "      <td>14331</td>\n",
       "      <td>14948</td>\n",
       "      <td>15549</td>\n",
       "      <td>1518</td>\n",
       "      <td>1500</td>\n",
       "      <td>1000</td>\n",
       "      <td>1000</td>\n",
       "      <td>1000</td>\n",
       "      <td>5000</td>\n",
       "      <td>0</td>\n",
       "    </tr>\n",
       "    <tr>\n",
       "      <th>3</th>\n",
       "      <td>50000</td>\n",
       "      <td>2</td>\n",
       "      <td>2</td>\n",
       "      <td>1</td>\n",
       "      <td>37</td>\n",
       "      <td>0</td>\n",
       "      <td>0</td>\n",
       "      <td>0</td>\n",
       "      <td>0</td>\n",
       "      <td>0</td>\n",
       "      <td>...</td>\n",
       "      <td>28314</td>\n",
       "      <td>28959</td>\n",
       "      <td>29547</td>\n",
       "      <td>2000</td>\n",
       "      <td>2019</td>\n",
       "      <td>1200</td>\n",
       "      <td>1100</td>\n",
       "      <td>1069</td>\n",
       "      <td>1000</td>\n",
       "      <td>0</td>\n",
       "    </tr>\n",
       "    <tr>\n",
       "      <th>4</th>\n",
       "      <td>50000</td>\n",
       "      <td>1</td>\n",
       "      <td>2</td>\n",
       "      <td>1</td>\n",
       "      <td>57</td>\n",
       "      <td>-1</td>\n",
       "      <td>0</td>\n",
       "      <td>-1</td>\n",
       "      <td>0</td>\n",
       "      <td>0</td>\n",
       "      <td>...</td>\n",
       "      <td>20940</td>\n",
       "      <td>19146</td>\n",
       "      <td>19131</td>\n",
       "      <td>2000</td>\n",
       "      <td>36681</td>\n",
       "      <td>10000</td>\n",
       "      <td>9000</td>\n",
       "      <td>689</td>\n",
       "      <td>679</td>\n",
       "      <td>0</td>\n",
       "    </tr>\n",
       "  </tbody>\n",
       "</table>\n",
       "<p>5 rows × 24 columns</p>\n",
       "</div>"
      ],
      "text/plain": [
       "   LIMIT_BAL  SEX  EDUCATION  MARRIAGE  AGE  PAY_0  PAY_2  PAY_3  PAY_4  \\\n",
       "0      20000    2          2         1   24      2      2     -1     -1   \n",
       "1     120000    2          2         2   26     -1      2      0      0   \n",
       "2      90000    2          2         2   34      0      0      0      0   \n",
       "3      50000    2          2         1   37      0      0      0      0   \n",
       "4      50000    1          2         1   57     -1      0     -1      0   \n",
       "\n",
       "   PAY_5  ...  BILL_AMT4  BILL_AMT5  BILL_AMT6  PAY_AMT1  PAY_AMT2  PAY_AMT3  \\\n",
       "0     -2  ...          0          0          0         0       689         0   \n",
       "1      0  ...       3272       3455       3261         0      1000      1000   \n",
       "2      0  ...      14331      14948      15549      1518      1500      1000   \n",
       "3      0  ...      28314      28959      29547      2000      2019      1200   \n",
       "4      0  ...      20940      19146      19131      2000     36681     10000   \n",
       "\n",
       "   PAY_AMT4  PAY_AMT5  PAY_AMT6  Defaulter  \n",
       "0         0         0         0          1  \n",
       "1      1000         0      2000          1  \n",
       "2      1000      1000      5000          0  \n",
       "3      1100      1069      1000          0  \n",
       "4      9000       689       679          0  \n",
       "\n",
       "[5 rows x 24 columns]"
      ]
     },
     "execution_count": 165,
     "metadata": {},
     "output_type": "execute_result"
    }
   ],
   "source": [
    "## DROP ID COLUMN as there are independent and identically distributed variables that are not correlated to `default payment next month` variable\n",
    "\n",
    "df = df.drop(\"ID\", axis = 1)\n",
    "df.head()"
   ]
  },
  {
   "cell_type": "code",
   "execution_count": 166,
   "id": "249a2139",
   "metadata": {},
   "outputs": [],
   "source": [
    "X_naive = df.drop(\"Defaulter\" , axis =1 )\n",
    "y_naive = df['Defaulter']\n",
    "\n",
    "X_train_naive, X_test_naive, y_train_naive, y_test_naive = train_test_split(X_naive, y_naive, test_size=0.25, random_state=1234)"
   ]
  },
  {
   "cell_type": "markdown",
   "id": "6dd61d19",
   "metadata": {},
   "source": [
    "### Analysis on Age of Credit Card Holders"
   ]
  },
  {
   "cell_type": "code",
   "execution_count": 167,
   "id": "0e7926d1",
   "metadata": {},
   "outputs": [
    {
     "data": {
      "text/plain": [
       "count    30000.000000\n",
       "mean        35.485500\n",
       "std          9.217904\n",
       "min         21.000000\n",
       "25%         28.000000\n",
       "50%         34.000000\n",
       "75%         41.000000\n",
       "max         79.000000\n",
       "Name: AGE, dtype: float64"
      ]
     },
     "execution_count": 167,
     "metadata": {},
     "output_type": "execute_result"
    }
   ],
   "source": [
    "df['AGE'].describe() ## all credit card holders are above the age of 21, and below the age of 79"
   ]
  },
  {
   "cell_type": "code",
   "execution_count": 168,
   "id": "b1f530e5",
   "metadata": {},
   "outputs": [
    {
     "data": {
      "text/plain": [
       "Text(0.5, 1.0, 'Age distribution')"
      ]
     },
     "execution_count": 168,
     "metadata": {},
     "output_type": "execute_result"
    },
    {
     "data": {
      "image/png": "[encoded data removed]",
      "text/plain": [
       "<Figure size 720x360 with 1 Axes>"
      ]
     },
     "metadata": {
      "needs_background": "light"
     },
     "output_type": "display_data"
    }
   ],
   "source": [
    "## Distribution plot of AGE\n",
    "sns.displot(x='AGE', data = df, kde=True, aspect=2)\n",
    "plt.xticks(rotation=0)\n",
    "plt.ylabel('Count')\n",
    "plt.title(\"Age distribution\")"
   ]
  },
  {
   "cell_type": "markdown",
   "id": "ecbbb9c8",
   "metadata": {},
   "source": [
    "### Analysis on Marital Status of Credit Card Holders"
   ]
  },
  {
   "cell_type": "code",
   "execution_count": 169,
   "id": "f39da3bb",
   "metadata": {},
   "outputs": [
    {
     "data": {
      "text/plain": [
       "count    30000.000000\n",
       "mean         1.551867\n",
       "std          0.521970\n",
       "min          0.000000\n",
       "25%          1.000000\n",
       "50%          2.000000\n",
       "75%          2.000000\n",
       "max          3.000000\n",
       "Name: MARRIAGE, dtype: float64"
      ]
     },
     "execution_count": 169,
     "metadata": {},
     "output_type": "execute_result"
    }
   ],
   "source": [
    "df['MARRIAGE'].describe()"
   ]
  },
  {
   "cell_type": "code",
   "execution_count": 170,
   "id": "291e91bf",
   "metadata": {},
   "outputs": [
    {
     "data": {
      "text/plain": [
       "<AxesSubplot: >"
      ]
     },
     "execution_count": 170,
     "metadata": {},
     "output_type": "execute_result"
    },
    {
     "data": {
      "image/png": "[encoded data removed]",
      "text/plain": [
       "<Figure size 432x288 with 1 Axes>"
      ]
     },
     "metadata": {
      "needs_background": "light"
     },
     "output_type": "display_data"
    }
   ],
   "source": [
    "df.MARRIAGE.value_counts().plot(kind = 'bar') ## have 0 values"
   ]
  },
  {
   "cell_type": "code",
   "execution_count": 171,
   "id": "84df2283",
   "metadata": {
    "scrolled": true
   },
   "outputs": [
    {
     "data": {
      "text/plain": [
       "2    15964\n",
       "1    13659\n",
       "3      377\n",
       "Name: MARRIAGE, dtype: int64"
      ]
     },
     "execution_count": 171,
     "metadata": {},
     "output_type": "execute_result"
    }
   ],
   "source": [
    "# The value 0 does not represent any category of marriage. \n",
    "# Hence, I am going to map 0 to 3, to categorise it under others.\n",
    "df['MARRIAGE'].replace({0:3,1:1,2:2,3:3}, inplace=True)\n",
    "df['MARRIAGE'].value_counts()\n"
   ]
  },
  {
   "cell_type": "code",
   "execution_count": 172,
   "id": "fc84e110",
   "metadata": {},
   "outputs": [
    {
     "data": {
      "text/plain": [
       "<AxesSubplot: xlabel='MARRIAGE', ylabel='count'>"
      ]
     },
     "execution_count": 172,
     "metadata": {},
     "output_type": "execute_result"
    },
    {
     "data": {
      "text/plain": [
       "<Figure size 720x360 with 0 Axes>"
      ]
     },
     "metadata": {},
     "output_type": "display_data"
    },
    {
     "data": {
      "image/png": "[encoded data removed]",
      "text/plain": [
       "<Figure size 936x576 with 2 Axes>"
      ]
     },
     "metadata": {
      "needs_background": "light"
     },
     "output_type": "display_data"
    }
   ],
   "source": [
    "# Plotting pie chart and bar chart to see how the marital status of an individual is correlated to whether the individual defaults\n",
    "plt.figure(figsize=(10,5))\n",
    "fig, axes = plt.subplots(ncols=2,figsize=(13,8))\n",
    "df['MARRIAGE'].value_counts().plot(kind=\"pie\",ax = axes[0],subplots=True)\n",
    "sns.countplot(x = 'MARRIAGE', hue = 'Defaulter', data = df)"
   ]
  },
  {
   "cell_type": "markdown",
   "id": "74f4727d",
   "metadata": {},
   "source": [
    "From the pie chart and bar graph above, we can see that the highest proportion of defaulters are Single, followed by Married then Others."
   ]
  },
  {
   "cell_type": "markdown",
   "id": "8bc6c8b5",
   "metadata": {},
   "source": [
    "### Analysis on Education of Credit Card Holders"
   ]
  },
  {
   "cell_type": "code",
   "execution_count": 173,
   "id": "73c51686",
   "metadata": {},
   "outputs": [
    {
     "data": {
      "text/plain": [
       "<AxesSubplot: >"
      ]
     },
     "execution_count": 173,
     "metadata": {},
     "output_type": "execute_result"
    },
    {
     "data": {
      "image/png": "[encoded data removed]",
      "text/plain": [
       "<Figure size 432x288 with 1 Axes>"
      ]
     },
     "metadata": {
      "needs_background": "light"
     },
     "output_type": "display_data"
    }
   ],
   "source": [
    "df.EDUCATION.value_counts().plot(kind = \"barh\")"
   ]
  },
  {
   "cell_type": "code",
   "execution_count": 174,
   "id": "4f87e658",
   "metadata": {},
   "outputs": [
    {
     "data": {
      "text/plain": [
       "2    14030\n",
       "1    10585\n",
       "3     4917\n",
       "4      468\n",
       "Name: EDUCATION, dtype: int64"
      ]
     },
     "execution_count": 174,
     "metadata": {},
     "output_type": "execute_result"
    }
   ],
   "source": [
    "# From the Data Description given, we know that in df.EDUCATION, 5 and 6 represents \"unknown\" \n",
    "# Changing 0,5 and 6 to keep it under 1 category.\n",
    "\n",
    "## why don't we change it to others?\n",
    "\n",
    "df['EDUCATION'].replace({0:4,1:1,2:2,3:3,4:4,5:4,6:4}, inplace=True)\n",
    "df.EDUCATION.value_counts()"
   ]
  },
  {
   "cell_type": "code",
   "execution_count": 175,
   "id": "fe21cbd0",
   "metadata": {},
   "outputs": [
    {
     "data": {
      "text/plain": [
       "<AxesSubplot: xlabel='EDUCATION', ylabel='count'>"
      ]
     },
     "execution_count": 175,
     "metadata": {},
     "output_type": "execute_result"
    },
    {
     "data": {
      "text/plain": [
       "<Figure size 720x360 with 0 Axes>"
      ]
     },
     "metadata": {},
     "output_type": "display_data"
    },
    {
     "data": {
      "image/png": "[encoded data removed]",
      "text/plain": [
       "<Figure size 936x576 with 2 Axes>"
      ]
     },
     "metadata": {
      "needs_background": "light"
     },
     "output_type": "display_data"
    }
   ],
   "source": [
    "# Plotting pie chart and bar chart to see how the the education of an individual is correlated to whether the individual defaults\n",
    "plt.figure(figsize=(10,5))\n",
    "fig, axes = plt.subplots(ncols=2,figsize=(13,8))\n",
    "df['EDUCATION'].value_counts().plot(kind=\"pie\",ax = axes[0],subplots=True)\n",
    "sns.countplot(x = 'EDUCATION', hue = 'Defaulter', data = df)"
   ]
  },
  {
   "cell_type": "markdown",
   "id": "b11ef04d",
   "metadata": {},
   "source": [
    "From the pie chart and bar graph above, we can see that the largest proportion of Defaulters had university education."
   ]
  },
  {
   "cell_type": "markdown",
   "id": "cf06f450",
   "metadata": {},
   "source": [
    "### Analysis on Gender of Credit Card Holders"
   ]
  },
  {
   "cell_type": "code",
   "execution_count": 176,
   "id": "307dc028",
   "metadata": {},
   "outputs": [
    {
     "data": {
      "text/plain": [
       "<AxesSubplot: >"
      ]
     },
     "execution_count": 176,
     "metadata": {},
     "output_type": "execute_result"
    },
    {
     "data": {
      "image/png": "[encoded data removed]",
      "text/plain": [
       "<Figure size 432x288 with 1 Axes>"
      ]
     },
     "metadata": {
      "needs_background": "light"
     },
     "output_type": "display_data"
    }
   ],
   "source": [
    "df.SEX.value_counts().plot(kind = \"barh\")"
   ]
  },
  {
   "cell_type": "code",
   "execution_count": 177,
   "id": "a5142b11",
   "metadata": {},
   "outputs": [
    {
     "data": {
      "text/plain": [
       "<AxesSubplot: xlabel='SEX', ylabel='count'>"
      ]
     },
     "execution_count": 177,
     "metadata": {},
     "output_type": "execute_result"
    },
    {
     "data": {
      "text/plain": [
       "<Figure size 720x360 with 0 Axes>"
      ]
     },
     "metadata": {},
     "output_type": "display_data"
    },
    {
     "data": {
      "image/png": "[encoded data removed]",
      "text/plain": [
       "<Figure size 936x576 with 2 Axes>"
      ]
     },
     "metadata": {
      "needs_background": "light"
     },
     "output_type": "display_data"
    }
   ],
   "source": [
    "# Plotting pie chart and bar chart to see how the the education of an individual is correlated to whether the individual defaults\n",
    "plt.figure(figsize=(10,5))\n",
    "fig, axes = plt.subplots(ncols=2,figsize=(13,8))\n",
    "df['SEX'].value_counts().plot(kind=\"pie\",ax = axes[0],subplots=True)\n",
    "sns.countplot(x = 'SEX', hue = 'Defaulter', data = df)"
   ]
  },
  {
   "cell_type": "markdown",
   "id": "7917811d",
   "metadata": {},
   "source": [
    "From the pie chart and bar graph above, we can see that the number of defaulters has a higher proportion of females."
   ]
  },
  {
   "cell_type": "markdown",
   "id": "015d207f",
   "metadata": {},
   "source": [
    "### Analysis on Amount of Given Credit of Credit Card Holders\n"
   ]
  },
  {
   "cell_type": "code",
   "execution_count": 178,
   "id": "f4a15cc4",
   "metadata": {},
   "outputs": [
    {
     "data": {
      "text/plain": [
       "count      30000.000000\n",
       "mean      167484.322667\n",
       "std       129747.661567\n",
       "min        10000.000000\n",
       "25%        50000.000000\n",
       "50%       140000.000000\n",
       "75%       240000.000000\n",
       "max      1000000.000000\n",
       "Name: LIMIT_BAL, dtype: float64"
      ]
     },
     "execution_count": 178,
     "metadata": {},
     "output_type": "execute_result"
    }
   ],
   "source": [
    "df['LIMIT_BAL'].describe()"
   ]
  },
  {
   "cell_type": "code",
   "execution_count": 179,
   "id": "937ae062",
   "metadata": {},
   "outputs": [
    {
     "data": {
      "text/plain": [
       "Text(0.5, 1.0, 'Credit Distribution')"
      ]
     },
     "execution_count": 179,
     "metadata": {},
     "output_type": "execute_result"
    },
    {
     "data": {
      "image/png": "[encoded data removed]",
      "text/plain": [
       "<Figure size 720x360 with 1 Axes>"
      ]
     },
     "metadata": {
      "needs_background": "light"
     },
     "output_type": "display_data"
    }
   ],
   "source": [
    "## Distribution plot of LIMIT_BAL\n",
    "sns.displot(x='LIMIT_BAL', data = df, kde=True, aspect=2)\n",
    "plt.xticks(rotation=0)\n",
    "plt.ylabel('Count')\n",
    "plt.title(\"Credit Distribution\")"
   ]
  },
  {
   "cell_type": "code",
   "execution_count": 180,
   "id": "d14296d4",
   "metadata": {},
   "outputs": [
    {
     "name": "stdout",
     "output_type": "stream",
     "text": [
      "non-default: 23364\n",
      "default: 6636\n"
     ]
    },
    {
     "data": {
      "image/png": "[encoded data removed]",
      "text/plain": [
       "<Figure size 720x720 with 1 Axes>"
      ]
     },
     "metadata": {
      "needs_background": "light"
     },
     "output_type": "display_data"
    }
   ],
   "source": [
    "## Count plot \n",
    "plt.figure(figsize=(10,10))\n",
    "\n",
    "sns.countplot(x=\"Defaulter\", data = df)\n",
    "plt.title(\"Frequency of Defaults\")\n",
    "print('non-default:', len(df.Defaulter) - sum(df.Defaulter))\n",
    "print('default:', sum(df.Defaulter))"
   ]
  },
  {
   "cell_type": "markdown",
   "id": "d9effe10",
   "metadata": {},
   "source": [
    "From our box plot above, we can see that generally, defaulters have lower mean credit balances than non-defaulters. (which makes sense because the higher the \"chance\" of you defaulting, the lower your credit balance -> is a cycle)"
   ]
  },
  {
   "cell_type": "markdown",
   "id": "c4fd67be",
   "metadata": {},
   "source": [
    "### Analysis for PAY_0 to PAY_6 (no PAY_1)\n"
   ]
  },
  {
   "cell_type": "code",
   "execution_count": 181,
   "id": "de74177c",
   "metadata": {},
   "outputs": [
    {
     "data": {
      "image/png": "[encoded data removed]",
      "text/plain": [
       "<Figure size 1440x720 with 6 Axes>"
      ]
     },
     "metadata": {
      "needs_background": "light"
     },
     "output_type": "display_data"
    }
   ],
   "source": [
    "plt.subplots(figsize=(20,10))\n",
    "plt.subplot(231)\n",
    "plt.hist(df.PAY_0, bins = 100, color = \"lightblue\")\n",
    "plt.xlabel('PAY_Sept')\n",
    "plt.ylabel('Count')\n",
    "\n",
    "plt.subplot(232)\n",
    "plt.hist(df.PAY_2, bins = 100, color = \"lightpink\")\n",
    "plt.xlabel('PAY_Aug')\n",
    "plt.ylabel('Count')\n",
    "plt.title('Distributions of PAY_AMT1 to PAY_AMT6', fontsize=15)\n",
    "\n",
    "plt.subplot(233)\n",
    "plt.hist(df.PAY_3, bins = 100, color = \"lightgreen\")\n",
    "plt.xlabel('PAY_Jun')\n",
    "plt.ylabel('Count')\n",
    "\n",
    "plt.subplot(234)\n",
    "plt.hist(df.PAY_4, bins = 100, color = \"magenta\")\n",
    "plt.xlabel('PAY_July')\n",
    "plt.ylabel('Count')\n",
    "\n",
    "plt.subplot(235)\n",
    "plt.hist(df.PAY_5, bins = 100, color = \"red\")\n",
    "plt.xlabel('PAY_Apr')\n",
    "plt.ylabel('Count')\n",
    "\n",
    "plt.subplot(236)\n",
    "plt.hist(df.PAY_6, bins = 100, color = \"blue\")\n",
    "plt.xlabel('PAY_Mar')\n",
    "plt.ylabel('Count')\n",
    "plt.show()"
   ]
  },
  {
   "cell_type": "code",
   "execution_count": 182,
   "id": "8b4f1d06",
   "metadata": {},
   "outputs": [],
   "source": [
    "# change -1 and -2 to 0, and positive numbers to 1. \n",
    "# 0 meaning that the customer paid on time, 1 meaning that the customer paid late.\n",
    "df[\"PAY_0\"].loc[df['PAY_0'] < 0] = 0\n",
    "df[\"PAY_2\"].loc[df['PAY_2'] < 0] = 0\n",
    "df[\"PAY_3\"].loc[df['PAY_3'] < 0] = 0\n",
    "df[\"PAY_4\"].loc[df['PAY_4'] < 0] = 0\n",
    "df[\"PAY_5\"].loc[df['PAY_5'] < 0] = 0\n",
    "df[\"PAY_6\"].loc[df['PAY_6'] < 0] = 0\n",
    "\n",
    "df[\"PAY_0\"].loc[df['PAY_0'] > 1] = 1\n",
    "df[\"PAY_2\"].loc[df['PAY_2'] > 1] = 1\n",
    "df[\"PAY_3\"].loc[df['PAY_3'] > 1] = 1\n",
    "df[\"PAY_4\"].loc[df['PAY_4'] > 1] = 1\n",
    "df[\"PAY_5\"].loc[df['PAY_5'] > 1] = 1\n",
    "df[\"PAY_6\"].loc[df['PAY_6'] > 1] = 1\n"
   ]
  },
  {
   "cell_type": "markdown",
   "id": "2843b526",
   "metadata": {},
   "source": [
    "### Analysis for BILL_AMT1 to BILL_AMT6"
   ]
  },
  {
   "cell_type": "code",
   "execution_count": 183,
   "id": "48fc7d6e",
   "metadata": {},
   "outputs": [
    {
     "data": {
      "text/plain": [
       "count     30000.000000\n",
       "mean      51223.330900\n",
       "std       73635.860576\n",
       "min     -165580.000000\n",
       "25%        3558.750000\n",
       "50%       22381.500000\n",
       "75%       67091.000000\n",
       "max      964511.000000\n",
       "Name: BILL_AMT1, dtype: float64"
      ]
     },
     "execution_count": 183,
     "metadata": {},
     "output_type": "execute_result"
    }
   ],
   "source": [
    "df['BILL_AMT1'].describe()"
   ]
  },
  {
   "cell_type": "code",
   "execution_count": 184,
   "id": "9d511a20",
   "metadata": {},
   "outputs": [
    {
     "data": {
      "text/plain": [
       "Text(0, 0.5, 'Count')"
      ]
     },
     "execution_count": 184,
     "metadata": {},
     "output_type": "execute_result"
    },
    {
     "data": {
      "image/png": "[encoded data removed]",
      "text/plain": [
       "<Figure size 1440x720 with 6 Axes>"
      ]
     },
     "metadata": {
      "needs_background": "light"
     },
     "output_type": "display_data"
    }
   ],
   "source": [
    "plt.subplots(figsize=(20,10))\n",
    "plt.subplot(231)\n",
    "plt.hist(df.BILL_AMT1, bins = 100, color = \"lightblue\")\n",
    "plt.xlabel('BILL_AMT1')\n",
    "plt.ylabel('Count')\n",
    "\n",
    "plt.subplot(232)\n",
    "plt.hist(df.BILL_AMT2, bins = 100, color = \"lightpink\")\n",
    "plt.xlabel('BILL_AMT2')\n",
    "plt.ylabel('Count')\n",
    "plt.title('Distributions of BILL_AMT1 to BILL_AMT6', fontsize=15)\n",
    "\n",
    "plt.subplot(233)\n",
    "plt.hist(df.BILL_AMT3, bins = 100, color = \"lightgreen\")\n",
    "plt.xlabel('BILL_AMT3')\n",
    "plt.ylabel('Count')\n",
    "\n",
    "plt.subplot(234)\n",
    "plt.hist(df.BILL_AMT4, bins = 100, color = \"magenta\")\n",
    "plt.xlabel('BILL_AMT4')\n",
    "plt.ylabel('Count')\n",
    "\n",
    "plt.subplot(235)\n",
    "plt.hist(df.BILL_AMT5, bins = 100, color = \"red\")\n",
    "plt.xlabel('BILL_AMT5')\n",
    "plt.ylabel('Count')\n",
    "\n",
    "plt.subplot(236)\n",
    "plt.hist(df.BILL_AMT6, bins = 100, color = \"blue\")\n",
    "plt.xlabel('BILL_AMT6')\n",
    "plt.ylabel('Count')"
   ]
  },
  {
   "cell_type": "markdown",
   "id": "b695f9d4",
   "metadata": {},
   "source": [
    "### Analysis for PAY_AMT1 to PAY_AMT6"
   ]
  },
  {
   "cell_type": "code",
   "execution_count": 185,
   "id": "a381cc6a",
   "metadata": {},
   "outputs": [
    {
     "data": {
      "image/png": "[encoded data removed]",
      "text/plain": [
       "<Figure size 1440x720 with 6 Axes>"
      ]
     },
     "metadata": {
      "needs_background": "light"
     },
     "output_type": "display_data"
    }
   ],
   "source": [
    "plt.subplots(figsize=(20,10))\n",
    "plt.subplot(231)\n",
    "plt.hist(df.PAY_AMT1, bins = 100, color = \"lightblue\")\n",
    "plt.xlabel('PAY_AMT1')\n",
    "plt.ylabel('Count')\n",
    "\n",
    "plt.subplot(232)\n",
    "plt.hist(df.PAY_AMT2, bins = 100, color = \"lightpink\")\n",
    "plt.xlabel('PAY_AMT2')\n",
    "plt.ylabel('Count')\n",
    "plt.title('Distributions of PAY_AMT1 to PAY_AMT6', fontsize=15)\n",
    "\n",
    "plt.subplot(233)\n",
    "plt.hist(df.PAY_AMT3, bins = 100, color = \"lightgreen\")\n",
    "plt.xlabel('PAY_AMT3')\n",
    "plt.ylabel('Count')\n",
    "\n",
    "plt.subplot(234)\n",
    "plt.hist(df.PAY_AMT4, bins = 100, color = \"magenta\")\n",
    "plt.xlabel('PAY_AMT4')\n",
    "plt.ylabel('Count')\n",
    "\n",
    "plt.subplot(235)\n",
    "plt.hist(df.PAY_AMT5, bins = 100, color = \"red\")\n",
    "plt.xlabel('PAY_AMT5')\n",
    "plt.ylabel('Count')\n",
    "\n",
    "plt.subplot(236)\n",
    "plt.hist(df.PAY_AMT6, bins = 100, color = \"blue\")\n",
    "plt.xlabel('PAY_AMT6')\n",
    "plt.ylabel('Count')\n",
    "plt.show()"
   ]
  },
  {
   "cell_type": "markdown",
   "id": "f4f906b0",
   "metadata": {},
   "source": [
    "### Hypothesis Testing for all Attributes"
   ]
  },
  {
   "cell_type": "markdown",
   "id": "52e26f8b",
   "metadata": {},
   "source": [
    "We are carrying out a two-tailed test on each attribute to determine if that attribute is statistically significant in determining the outcome of default payment next month.\n",
    "\n",
    "H0: The attribute is not statistically significant in predicting the outcome of default payment next month\n",
    "\n",
    "H1: The attribute is statistically significant in predicitng the outcome of deault payment next month"
   ]
  },
  {
   "cell_type": "code",
   "execution_count": 186,
   "id": "138631d6",
   "metadata": {},
   "outputs": [
    {
     "data": {
      "text/html": [
       "<div>\n",
       "<style scoped>\n",
       "    .dataframe tbody tr th:only-of-type {\n",
       "        vertical-align: middle;\n",
       "    }\n",
       "\n",
       "    .dataframe tbody tr th {\n",
       "        vertical-align: top;\n",
       "    }\n",
       "\n",
       "    .dataframe thead th {\n",
       "        text-align: right;\n",
       "    }\n",
       "</style>\n",
       "<table border=\"1\" class=\"dataframe\">\n",
       "  <thead>\n",
       "    <tr style=\"text-align: right;\">\n",
       "      <th></th>\n",
       "      <th>Attribute</th>\n",
       "      <th>T-Value</th>\n",
       "      <th>P-Value</th>\n",
       "    </tr>\n",
       "  </thead>\n",
       "  <tbody>\n",
       "    <tr>\n",
       "      <th>0</th>\n",
       "      <td>Defaulter</td>\n",
       "      <td>inf</td>\n",
       "      <td>0.0</td>\n",
       "    </tr>\n",
       "    <tr>\n",
       "      <th>1</th>\n",
       "      <td>PAY_6</td>\n",
       "      <td>43.974774</td>\n",
       "      <td>0.0</td>\n",
       "    </tr>\n",
       "    <tr>\n",
       "      <th>2</th>\n",
       "      <td>PAY_5</td>\n",
       "      <td>47.978341</td>\n",
       "      <td>0.0</td>\n",
       "    </tr>\n",
       "    <tr>\n",
       "      <th>3</th>\n",
       "      <td>PAY_4</td>\n",
       "      <td>49.63628</td>\n",
       "      <td>0.0</td>\n",
       "    </tr>\n",
       "    <tr>\n",
       "      <th>4</th>\n",
       "      <td>PAY_3</td>\n",
       "      <td>53.19237</td>\n",
       "      <td>0.0</td>\n",
       "    </tr>\n",
       "    <tr>\n",
       "      <th>5</th>\n",
       "      <td>PAY_0</td>\n",
       "      <td>68.572828</td>\n",
       "      <td>0.0</td>\n",
       "    </tr>\n",
       "    <tr>\n",
       "      <th>6</th>\n",
       "      <td>PAY_2</td>\n",
       "      <td>62.206846</td>\n",
       "      <td>0.0</td>\n",
       "    </tr>\n",
       "    <tr>\n",
       "      <th>7</th>\n",
       "      <td>LIMIT_BAL</td>\n",
       "      <td>-26.908522</td>\n",
       "      <td>0.0</td>\n",
       "    </tr>\n",
       "    <tr>\n",
       "      <th>8</th>\n",
       "      <td>PAY_AMT1</td>\n",
       "      <td>-12.665063</td>\n",
       "      <td>0.0</td>\n",
       "    </tr>\n",
       "    <tr>\n",
       "      <th>9</th>\n",
       "      <td>PAY_AMT2</td>\n",
       "      <td>-10.163244</td>\n",
       "      <td>0.0</td>\n",
       "    </tr>\n",
       "    <tr>\n",
       "      <th>10</th>\n",
       "      <td>PAY_AMT4</td>\n",
       "      <td>-9.858397</td>\n",
       "      <td>0.0</td>\n",
       "    </tr>\n",
       "    <tr>\n",
       "      <th>11</th>\n",
       "      <td>PAY_AMT3</td>\n",
       "      <td>-9.757972</td>\n",
       "      <td>0.0</td>\n",
       "    </tr>\n",
       "    <tr>\n",
       "      <th>12</th>\n",
       "      <td>PAY_AMT5</td>\n",
       "      <td>-9.561893</td>\n",
       "      <td>0.0</td>\n",
       "    </tr>\n",
       "    <tr>\n",
       "      <th>13</th>\n",
       "      <td>PAY_AMT6</td>\n",
       "      <td>-9.224372</td>\n",
       "      <td>0.0</td>\n",
       "    </tr>\n",
       "    <tr>\n",
       "      <th>14</th>\n",
       "      <td>SEX</td>\n",
       "      <td>-6.926677</td>\n",
       "      <td>0.0</td>\n",
       "    </tr>\n",
       "    <tr>\n",
       "      <th>15</th>\n",
       "      <td>EDUCATION</td>\n",
       "      <td>5.86481</td>\n",
       "      <td>0.0</td>\n",
       "    </tr>\n",
       "    <tr>\n",
       "      <th>16</th>\n",
       "      <td>MARRIAGE</td>\n",
       "      <td>-4.777737</td>\n",
       "      <td>0.000002</td>\n",
       "    </tr>\n",
       "    <tr>\n",
       "      <th>17</th>\n",
       "      <td>BILL_AMT1</td>\n",
       "      <td>-3.403018</td>\n",
       "      <td>0.000667</td>\n",
       "    </tr>\n",
       "    <tr>\n",
       "      <th>18</th>\n",
       "      <td>BILL_AMT2</td>\n",
       "      <td>-2.458503</td>\n",
       "      <td>0.013957</td>\n",
       "    </tr>\n",
       "    <tr>\n",
       "      <th>19</th>\n",
       "      <td>BILL_AMT3</td>\n",
       "      <td>-2.438112</td>\n",
       "      <td>0.01477</td>\n",
       "    </tr>\n",
       "    <tr>\n",
       "      <th>20</th>\n",
       "      <td>AGE</td>\n",
       "      <td>2.405942</td>\n",
       "      <td>0.016137</td>\n",
       "    </tr>\n",
       "    <tr>\n",
       "      <th>21</th>\n",
       "      <td>BILL_AMT4</td>\n",
       "      <td>-1.759189</td>\n",
       "      <td>0.078556</td>\n",
       "    </tr>\n",
       "    <tr>\n",
       "      <th>22</th>\n",
       "      <td>BILL_AMT5</td>\n",
       "      <td>-1.170934</td>\n",
       "      <td>0.241634</td>\n",
       "    </tr>\n",
       "    <tr>\n",
       "      <th>23</th>\n",
       "      <td>BILL_AMT6</td>\n",
       "      <td>-0.930495</td>\n",
       "      <td>0.352123</td>\n",
       "    </tr>\n",
       "  </tbody>\n",
       "</table>\n",
       "</div>"
      ],
      "text/plain": [
       "    Attribute    T-Value   P-Value\n",
       "0   Defaulter        inf       0.0\n",
       "1       PAY_6  43.974774       0.0\n",
       "2       PAY_5  47.978341       0.0\n",
       "3       PAY_4   49.63628       0.0\n",
       "4       PAY_3   53.19237       0.0\n",
       "5       PAY_0  68.572828       0.0\n",
       "6       PAY_2  62.206846       0.0\n",
       "7   LIMIT_BAL -26.908522       0.0\n",
       "8    PAY_AMT1 -12.665063       0.0\n",
       "9    PAY_AMT2 -10.163244       0.0\n",
       "10   PAY_AMT4  -9.858397       0.0\n",
       "11   PAY_AMT3  -9.757972       0.0\n",
       "12   PAY_AMT5  -9.561893       0.0\n",
       "13   PAY_AMT6  -9.224372       0.0\n",
       "14        SEX  -6.926677       0.0\n",
       "15  EDUCATION    5.86481       0.0\n",
       "16   MARRIAGE  -4.777737  0.000002\n",
       "17  BILL_AMT1  -3.403018  0.000667\n",
       "18  BILL_AMT2  -2.458503  0.013957\n",
       "19  BILL_AMT3  -2.438112   0.01477\n",
       "20        AGE   2.405942  0.016137\n",
       "21  BILL_AMT4  -1.759189  0.078556\n",
       "22  BILL_AMT5  -1.170934  0.241634\n",
       "23  BILL_AMT6  -0.930495  0.352123"
      ]
     },
     "execution_count": 186,
     "metadata": {},
     "output_type": "execute_result"
    }
   ],
   "source": [
    "numeric = df.select_dtypes(include=np.number).columns.tolist()\n",
    "statsdf = pd.DataFrame()\n",
    "for var in numeric:\n",
    "    statsvalue = stats.ttest_ind(df.loc[df['Defaulter'] == 1, var], df.loc[df['Defaulter'] == 0, var])\n",
    "    temp = pd.DataFrame([var, statsvalue[0], statsvalue[1]]).T\n",
    "    temp.columns = ['Attribute', 'T-Value', 'P-Value']\n",
    "    statsdf = pd.concat([statsdf, temp], axis = 0, ignore_index = True)\n",
    "\n",
    "statsdf = statsdf.sort_values(by = 'P-Value').reset_index(drop = True)\n",
    "statsdf"
   ]
  },
  {
   "cell_type": "markdown",
   "id": "65919246",
   "metadata": {},
   "source": [
    "At a 5% level of significance, we reject the null hypothesis for attributes with P-Value less than 0.05 and conclude that the attribute is statistically significant in predicting the outcome of default payment next month."
   ]
  },
  {
   "cell_type": "markdown",
   "id": "95866be5",
   "metadata": {},
   "source": [
    "## Data Pre-Processing"
   ]
  },
  {
   "cell_type": "markdown",
   "id": "1591eab7",
   "metadata": {},
   "source": [
    "### One Hot Encoding"
   ]
  },
  {
   "cell_type": "code",
   "execution_count": 187,
   "id": "e0b7da75",
   "metadata": {},
   "outputs": [
    {
     "data": {
      "text/plain": [
       "2    14030\n",
       "1    10585\n",
       "3     4917\n",
       "4      468\n",
       "Name: EDUCATION, dtype: int64"
      ]
     },
     "execution_count": 187,
     "metadata": {},
     "output_type": "execute_result"
    }
   ],
   "source": [
    "df['EDUCATION'].value_counts()"
   ]
  },
  {
   "cell_type": "code",
   "execution_count": 188,
   "id": "178a4a04",
   "metadata": {},
   "outputs": [
    {
     "data": {
      "text/html": [
       "<div>\n",
       "<style scoped>\n",
       "    .dataframe tbody tr th:only-of-type {\n",
       "        vertical-align: middle;\n",
       "    }\n",
       "\n",
       "    .dataframe tbody tr th {\n",
       "        vertical-align: top;\n",
       "    }\n",
       "\n",
       "    .dataframe thead th {\n",
       "        text-align: right;\n",
       "    }\n",
       "</style>\n",
       "<table border=\"1\" class=\"dataframe\">\n",
       "  <thead>\n",
       "    <tr style=\"text-align: right;\">\n",
       "      <th></th>\n",
       "      <th>LIMIT_BAL</th>\n",
       "      <th>SEX</th>\n",
       "      <th>AGE</th>\n",
       "      <th>PAY_0</th>\n",
       "      <th>PAY_2</th>\n",
       "      <th>PAY_3</th>\n",
       "      <th>PAY_4</th>\n",
       "      <th>PAY_5</th>\n",
       "      <th>PAY_6</th>\n",
       "      <th>BILL_AMT1</th>\n",
       "      <th>...</th>\n",
       "      <th>PAY_AMT5</th>\n",
       "      <th>PAY_AMT6</th>\n",
       "      <th>Defaulter</th>\n",
       "      <th>EDUCATION_1</th>\n",
       "      <th>EDUCATION_2</th>\n",
       "      <th>EDUCATION_3</th>\n",
       "      <th>EDUCATION_4</th>\n",
       "      <th>MARRIAGE_1</th>\n",
       "      <th>MARRIAGE_2</th>\n",
       "      <th>MARRIAGE_3</th>\n",
       "    </tr>\n",
       "  </thead>\n",
       "  <tbody>\n",
       "    <tr>\n",
       "      <th>0</th>\n",
       "      <td>20000</td>\n",
       "      <td>2</td>\n",
       "      <td>24</td>\n",
       "      <td>1</td>\n",
       "      <td>1</td>\n",
       "      <td>0</td>\n",
       "      <td>0</td>\n",
       "      <td>0</td>\n",
       "      <td>0</td>\n",
       "      <td>3913</td>\n",
       "      <td>...</td>\n",
       "      <td>0</td>\n",
       "      <td>0</td>\n",
       "      <td>1</td>\n",
       "      <td>0</td>\n",
       "      <td>1</td>\n",
       "      <td>0</td>\n",
       "      <td>0</td>\n",
       "      <td>1</td>\n",
       "      <td>0</td>\n",
       "      <td>0</td>\n",
       "    </tr>\n",
       "    <tr>\n",
       "      <th>1</th>\n",
       "      <td>120000</td>\n",
       "      <td>2</td>\n",
       "      <td>26</td>\n",
       "      <td>0</td>\n",
       "      <td>1</td>\n",
       "      <td>0</td>\n",
       "      <td>0</td>\n",
       "      <td>0</td>\n",
       "      <td>1</td>\n",
       "      <td>2682</td>\n",
       "      <td>...</td>\n",
       "      <td>0</td>\n",
       "      <td>2000</td>\n",
       "      <td>1</td>\n",
       "      <td>0</td>\n",
       "      <td>1</td>\n",
       "      <td>0</td>\n",
       "      <td>0</td>\n",
       "      <td>0</td>\n",
       "      <td>1</td>\n",
       "      <td>0</td>\n",
       "    </tr>\n",
       "    <tr>\n",
       "      <th>2</th>\n",
       "      <td>90000</td>\n",
       "      <td>2</td>\n",
       "      <td>34</td>\n",
       "      <td>0</td>\n",
       "      <td>0</td>\n",
       "      <td>0</td>\n",
       "      <td>0</td>\n",
       "      <td>0</td>\n",
       "      <td>0</td>\n",
       "      <td>29239</td>\n",
       "      <td>...</td>\n",
       "      <td>1000</td>\n",
       "      <td>5000</td>\n",
       "      <td>0</td>\n",
       "      <td>0</td>\n",
       "      <td>1</td>\n",
       "      <td>0</td>\n",
       "      <td>0</td>\n",
       "      <td>0</td>\n",
       "      <td>1</td>\n",
       "      <td>0</td>\n",
       "    </tr>\n",
       "    <tr>\n",
       "      <th>3</th>\n",
       "      <td>50000</td>\n",
       "      <td>2</td>\n",
       "      <td>37</td>\n",
       "      <td>0</td>\n",
       "      <td>0</td>\n",
       "      <td>0</td>\n",
       "      <td>0</td>\n",
       "      <td>0</td>\n",
       "      <td>0</td>\n",
       "      <td>46990</td>\n",
       "      <td>...</td>\n",
       "      <td>1069</td>\n",
       "      <td>1000</td>\n",
       "      <td>0</td>\n",
       "      <td>0</td>\n",
       "      <td>1</td>\n",
       "      <td>0</td>\n",
       "      <td>0</td>\n",
       "      <td>1</td>\n",
       "      <td>0</td>\n",
       "      <td>0</td>\n",
       "    </tr>\n",
       "    <tr>\n",
       "      <th>4</th>\n",
       "      <td>50000</td>\n",
       "      <td>1</td>\n",
       "      <td>57</td>\n",
       "      <td>0</td>\n",
       "      <td>0</td>\n",
       "      <td>0</td>\n",
       "      <td>0</td>\n",
       "      <td>0</td>\n",
       "      <td>0</td>\n",
       "      <td>8617</td>\n",
       "      <td>...</td>\n",
       "      <td>689</td>\n",
       "      <td>679</td>\n",
       "      <td>0</td>\n",
       "      <td>0</td>\n",
       "      <td>1</td>\n",
       "      <td>0</td>\n",
       "      <td>0</td>\n",
       "      <td>1</td>\n",
       "      <td>0</td>\n",
       "      <td>0</td>\n",
       "    </tr>\n",
       "  </tbody>\n",
       "</table>\n",
       "<p>5 rows × 29 columns</p>\n",
       "</div>"
      ],
      "text/plain": [
       "   LIMIT_BAL  SEX  AGE  PAY_0  PAY_2  PAY_3  PAY_4  PAY_5  PAY_6  BILL_AMT1  \\\n",
       "0      20000    2   24      1      1      0      0      0      0       3913   \n",
       "1     120000    2   26      0      1      0      0      0      1       2682   \n",
       "2      90000    2   34      0      0      0      0      0      0      29239   \n",
       "3      50000    2   37      0      0      0      0      0      0      46990   \n",
       "4      50000    1   57      0      0      0      0      0      0       8617   \n",
       "\n",
       "   ...  PAY_AMT5  PAY_AMT6  Defaulter  EDUCATION_1  EDUCATION_2  EDUCATION_3  \\\n",
       "0  ...         0         0          1            0            1            0   \n",
       "1  ...         0      2000          1            0            1            0   \n",
       "2  ...      1000      5000          0            0            1            0   \n",
       "3  ...      1069      1000          0            0            1            0   \n",
       "4  ...       689       679          0            0            1            0   \n",
       "\n",
       "   EDUCATION_4  MARRIAGE_1  MARRIAGE_2  MARRIAGE_3  \n",
       "0            0           1           0           0  \n",
       "1            0           0           1           0  \n",
       "2            0           0           1           0  \n",
       "3            0           1           0           0  \n",
       "4            0           1           0           0  \n",
       "\n",
       "[5 rows x 29 columns]"
      ]
     },
     "execution_count": 188,
     "metadata": {},
     "output_type": "execute_result"
    }
   ],
   "source": [
    "## Get dummy variables for Education and Marriage (since they have more than 2 categories)\n",
    "df = pd.get_dummies(df, columns=[\"EDUCATION\", \"MARRIAGE\"])\n",
    "df.head()"
   ]
  },
  {
   "cell_type": "code",
   "execution_count": 189,
   "id": "4adb3791",
   "metadata": {},
   "outputs": [],
   "source": [
    "## Rename the columns to show the categories they represent\n",
    "df = df.rename(columns = {\n",
    "    'EDUCATION_1' : 'EDUCATION_GradSch',\n",
    "    'EDUCATION_2' : 'EDUCATION_University',\n",
    "    'EDUCATION_3' : 'EDUCATION_HighSch',\n",
    "    'EDUCATION_4' : 'EDUCATION_Others',\n",
    "    'MARRIAGE_1' : 'MARRIAGE_Married',\n",
    "    'MARRIAGE_2' : 'MARRIAGE_Single',\n",
    "    'MARRIAGE_3' : 'MARRIAGE_Others', \n",
    "    'PAY_0' : 'PAY_Sept', \n",
    "    'PAY_2' : 'PAY_Aug', \n",
    "    'PAY_3' : 'PAY_Jul', \n",
    "    'PAY_4' : 'PAY_June', \n",
    "    'PAY_5' : 'PAY_May', \n",
    "    'PAY_6' : 'PAY_Apr'\n",
    "})"
   ]
  },
  {
   "cell_type": "code",
   "execution_count": 190,
   "id": "3a089152",
   "metadata": {},
   "outputs": [],
   "source": [
    "## Drop one of the variables for Education and Marriage\n",
    "df.drop(['EDUCATION_Others', 'MARRIAGE_Others'], axis = 1, inplace = True)"
   ]
  },
  {
   "cell_type": "code",
   "execution_count": 191,
   "id": "f2bf5727",
   "metadata": {},
   "outputs": [
    {
     "data": {
      "text/html": [
       "<div>\n",
       "<style scoped>\n",
       "    .dataframe tbody tr th:only-of-type {\n",
       "        vertical-align: middle;\n",
       "    }\n",
       "\n",
       "    .dataframe tbody tr th {\n",
       "        vertical-align: top;\n",
       "    }\n",
       "\n",
       "    .dataframe thead th {\n",
       "        text-align: right;\n",
       "    }\n",
       "</style>\n",
       "<table border=\"1\" class=\"dataframe\">\n",
       "  <thead>\n",
       "    <tr style=\"text-align: right;\">\n",
       "      <th></th>\n",
       "      <th>LIMIT_BAL</th>\n",
       "      <th>SEX</th>\n",
       "      <th>AGE</th>\n",
       "      <th>PAY_Sept</th>\n",
       "      <th>PAY_Aug</th>\n",
       "      <th>PAY_Jul</th>\n",
       "      <th>PAY_June</th>\n",
       "      <th>PAY_May</th>\n",
       "      <th>PAY_Apr</th>\n",
       "      <th>BILL_AMT1</th>\n",
       "      <th>...</th>\n",
       "      <th>PAY_AMT3</th>\n",
       "      <th>PAY_AMT4</th>\n",
       "      <th>PAY_AMT5</th>\n",
       "      <th>PAY_AMT6</th>\n",
       "      <th>Defaulter</th>\n",
       "      <th>EDUCATION_GradSch</th>\n",
       "      <th>EDUCATION_University</th>\n",
       "      <th>EDUCATION_HighSch</th>\n",
       "      <th>MARRIAGE_Married</th>\n",
       "      <th>MARRIAGE_Single</th>\n",
       "    </tr>\n",
       "  </thead>\n",
       "  <tbody>\n",
       "    <tr>\n",
       "      <th>0</th>\n",
       "      <td>20000</td>\n",
       "      <td>1</td>\n",
       "      <td>24</td>\n",
       "      <td>1</td>\n",
       "      <td>1</td>\n",
       "      <td>0</td>\n",
       "      <td>0</td>\n",
       "      <td>0</td>\n",
       "      <td>0</td>\n",
       "      <td>3913</td>\n",
       "      <td>...</td>\n",
       "      <td>0</td>\n",
       "      <td>0</td>\n",
       "      <td>0</td>\n",
       "      <td>0</td>\n",
       "      <td>1</td>\n",
       "      <td>0</td>\n",
       "      <td>1</td>\n",
       "      <td>0</td>\n",
       "      <td>1</td>\n",
       "      <td>0</td>\n",
       "    </tr>\n",
       "    <tr>\n",
       "      <th>1</th>\n",
       "      <td>120000</td>\n",
       "      <td>1</td>\n",
       "      <td>26</td>\n",
       "      <td>0</td>\n",
       "      <td>1</td>\n",
       "      <td>0</td>\n",
       "      <td>0</td>\n",
       "      <td>0</td>\n",
       "      <td>1</td>\n",
       "      <td>2682</td>\n",
       "      <td>...</td>\n",
       "      <td>1000</td>\n",
       "      <td>1000</td>\n",
       "      <td>0</td>\n",
       "      <td>2000</td>\n",
       "      <td>1</td>\n",
       "      <td>0</td>\n",
       "      <td>1</td>\n",
       "      <td>0</td>\n",
       "      <td>0</td>\n",
       "      <td>1</td>\n",
       "    </tr>\n",
       "    <tr>\n",
       "      <th>2</th>\n",
       "      <td>90000</td>\n",
       "      <td>1</td>\n",
       "      <td>34</td>\n",
       "      <td>0</td>\n",
       "      <td>0</td>\n",
       "      <td>0</td>\n",
       "      <td>0</td>\n",
       "      <td>0</td>\n",
       "      <td>0</td>\n",
       "      <td>29239</td>\n",
       "      <td>...</td>\n",
       "      <td>1000</td>\n",
       "      <td>1000</td>\n",
       "      <td>1000</td>\n",
       "      <td>5000</td>\n",
       "      <td>0</td>\n",
       "      <td>0</td>\n",
       "      <td>1</td>\n",
       "      <td>0</td>\n",
       "      <td>0</td>\n",
       "      <td>1</td>\n",
       "    </tr>\n",
       "    <tr>\n",
       "      <th>3</th>\n",
       "      <td>50000</td>\n",
       "      <td>1</td>\n",
       "      <td>37</td>\n",
       "      <td>0</td>\n",
       "      <td>0</td>\n",
       "      <td>0</td>\n",
       "      <td>0</td>\n",
       "      <td>0</td>\n",
       "      <td>0</td>\n",
       "      <td>46990</td>\n",
       "      <td>...</td>\n",
       "      <td>1200</td>\n",
       "      <td>1100</td>\n",
       "      <td>1069</td>\n",
       "      <td>1000</td>\n",
       "      <td>0</td>\n",
       "      <td>0</td>\n",
       "      <td>1</td>\n",
       "      <td>0</td>\n",
       "      <td>1</td>\n",
       "      <td>0</td>\n",
       "    </tr>\n",
       "    <tr>\n",
       "      <th>4</th>\n",
       "      <td>50000</td>\n",
       "      <td>0</td>\n",
       "      <td>57</td>\n",
       "      <td>0</td>\n",
       "      <td>0</td>\n",
       "      <td>0</td>\n",
       "      <td>0</td>\n",
       "      <td>0</td>\n",
       "      <td>0</td>\n",
       "      <td>8617</td>\n",
       "      <td>...</td>\n",
       "      <td>10000</td>\n",
       "      <td>9000</td>\n",
       "      <td>689</td>\n",
       "      <td>679</td>\n",
       "      <td>0</td>\n",
       "      <td>0</td>\n",
       "      <td>1</td>\n",
       "      <td>0</td>\n",
       "      <td>1</td>\n",
       "      <td>0</td>\n",
       "    </tr>\n",
       "  </tbody>\n",
       "</table>\n",
       "<p>5 rows × 27 columns</p>\n",
       "</div>"
      ],
      "text/plain": [
       "   LIMIT_BAL  SEX  AGE  PAY_Sept  PAY_Aug  PAY_Jul  PAY_June  PAY_May  \\\n",
       "0      20000    1   24         1        1        0         0        0   \n",
       "1     120000    1   26         0        1        0         0        0   \n",
       "2      90000    1   34         0        0        0         0        0   \n",
       "3      50000    1   37         0        0        0         0        0   \n",
       "4      50000    0   57         0        0        0         0        0   \n",
       "\n",
       "   PAY_Apr  BILL_AMT1  ...  PAY_AMT3  PAY_AMT4  PAY_AMT5  PAY_AMT6  Defaulter  \\\n",
       "0        0       3913  ...         0         0         0         0          1   \n",
       "1        1       2682  ...      1000      1000         0      2000          1   \n",
       "2        0      29239  ...      1000      1000      1000      5000          0   \n",
       "3        0      46990  ...      1200      1100      1069      1000          0   \n",
       "4        0       8617  ...     10000      9000       689       679          0   \n",
       "\n",
       "   EDUCATION_GradSch  EDUCATION_University  EDUCATION_HighSch  \\\n",
       "0                  0                     1                  0   \n",
       "1                  0                     1                  0   \n",
       "2                  0                     1                  0   \n",
       "3                  0                     1                  0   \n",
       "4                  0                     1                  0   \n",
       "\n",
       "   MARRIAGE_Married  MARRIAGE_Single  \n",
       "0                 1                0  \n",
       "1                 0                1  \n",
       "2                 0                1  \n",
       "3                 1                0  \n",
       "4                 1                0  \n",
       "\n",
       "[5 rows x 27 columns]"
      ]
     },
     "execution_count": 191,
     "metadata": {},
     "output_type": "execute_result"
    }
   ],
   "source": [
    "## Change the encoding for sex to 0 and 1\n",
    "## Male = 0 Female = 1\n",
    "df = df.replace({\n",
    "    \"SEX\": {2 : 1, 1 : 0}\n",
    "})\n",
    "df.head()"
   ]
  },
  {
   "cell_type": "markdown",
   "id": "3b7432a8",
   "metadata": {},
   "source": [
    "### Scaling"
   ]
  },
  {
   "cell_type": "code",
   "execution_count": 192,
   "id": "a0a0eb62",
   "metadata": {},
   "outputs": [],
   "source": [
    "## Here we scale the data using the MinMaxScaler from the sklearn package\n",
    "scaler = MinMaxScaler(feature_range = (0,1))"
   ]
  },
  {
   "cell_type": "code",
   "execution_count": 193,
   "id": "82036f89",
   "metadata": {},
   "outputs": [
    {
     "data": {
      "text/html": [
       "<div>\n",
       "<style scoped>\n",
       "    .dataframe tbody tr th:only-of-type {\n",
       "        vertical-align: middle;\n",
       "    }\n",
       "\n",
       "    .dataframe tbody tr th {\n",
       "        vertical-align: top;\n",
       "    }\n",
       "\n",
       "    .dataframe thead th {\n",
       "        text-align: right;\n",
       "    }\n",
       "</style>\n",
       "<table border=\"1\" class=\"dataframe\">\n",
       "  <thead>\n",
       "    <tr style=\"text-align: right;\">\n",
       "      <th></th>\n",
       "      <th>LIMIT_BAL</th>\n",
       "      <th>SEX</th>\n",
       "      <th>AGE</th>\n",
       "      <th>PAY_Sept</th>\n",
       "      <th>PAY_Aug</th>\n",
       "      <th>PAY_Jul</th>\n",
       "      <th>PAY_June</th>\n",
       "      <th>PAY_May</th>\n",
       "      <th>PAY_Apr</th>\n",
       "      <th>BILL_AMT1</th>\n",
       "      <th>...</th>\n",
       "      <th>PAY_AMT3</th>\n",
       "      <th>PAY_AMT4</th>\n",
       "      <th>PAY_AMT5</th>\n",
       "      <th>PAY_AMT6</th>\n",
       "      <th>Defaulter</th>\n",
       "      <th>EDUCATION_GradSch</th>\n",
       "      <th>EDUCATION_University</th>\n",
       "      <th>EDUCATION_HighSch</th>\n",
       "      <th>MARRIAGE_Married</th>\n",
       "      <th>MARRIAGE_Single</th>\n",
       "    </tr>\n",
       "  </thead>\n",
       "  <tbody>\n",
       "    <tr>\n",
       "      <th>0</th>\n",
       "      <td>0.010101</td>\n",
       "      <td>1.0</td>\n",
       "      <td>0.051724</td>\n",
       "      <td>1.0</td>\n",
       "      <td>1.0</td>\n",
       "      <td>0.0</td>\n",
       "      <td>0.0</td>\n",
       "      <td>0.0</td>\n",
       "      <td>0.0</td>\n",
       "      <td>0.149982</td>\n",
       "      <td>...</td>\n",
       "      <td>0.000000</td>\n",
       "      <td>0.000000</td>\n",
       "      <td>0.000000</td>\n",
       "      <td>0.000000</td>\n",
       "      <td>1.0</td>\n",
       "      <td>0.0</td>\n",
       "      <td>1.0</td>\n",
       "      <td>0.0</td>\n",
       "      <td>1.0</td>\n",
       "      <td>0.0</td>\n",
       "    </tr>\n",
       "    <tr>\n",
       "      <th>1</th>\n",
       "      <td>0.111111</td>\n",
       "      <td>1.0</td>\n",
       "      <td>0.086207</td>\n",
       "      <td>0.0</td>\n",
       "      <td>1.0</td>\n",
       "      <td>0.0</td>\n",
       "      <td>0.0</td>\n",
       "      <td>0.0</td>\n",
       "      <td>1.0</td>\n",
       "      <td>0.148892</td>\n",
       "      <td>...</td>\n",
       "      <td>0.001116</td>\n",
       "      <td>0.001610</td>\n",
       "      <td>0.000000</td>\n",
       "      <td>0.003783</td>\n",
       "      <td>1.0</td>\n",
       "      <td>0.0</td>\n",
       "      <td>1.0</td>\n",
       "      <td>0.0</td>\n",
       "      <td>0.0</td>\n",
       "      <td>1.0</td>\n",
       "    </tr>\n",
       "    <tr>\n",
       "      <th>2</th>\n",
       "      <td>0.080808</td>\n",
       "      <td>1.0</td>\n",
       "      <td>0.224138</td>\n",
       "      <td>0.0</td>\n",
       "      <td>0.0</td>\n",
       "      <td>0.0</td>\n",
       "      <td>0.0</td>\n",
       "      <td>0.0</td>\n",
       "      <td>0.0</td>\n",
       "      <td>0.172392</td>\n",
       "      <td>...</td>\n",
       "      <td>0.001116</td>\n",
       "      <td>0.001610</td>\n",
       "      <td>0.002345</td>\n",
       "      <td>0.009458</td>\n",
       "      <td>0.0</td>\n",
       "      <td>0.0</td>\n",
       "      <td>1.0</td>\n",
       "      <td>0.0</td>\n",
       "      <td>0.0</td>\n",
       "      <td>1.0</td>\n",
       "    </tr>\n",
       "    <tr>\n",
       "      <th>3</th>\n",
       "      <td>0.040404</td>\n",
       "      <td>1.0</td>\n",
       "      <td>0.275862</td>\n",
       "      <td>0.0</td>\n",
       "      <td>0.0</td>\n",
       "      <td>0.0</td>\n",
       "      <td>0.0</td>\n",
       "      <td>0.0</td>\n",
       "      <td>0.0</td>\n",
       "      <td>0.188100</td>\n",
       "      <td>...</td>\n",
       "      <td>0.001339</td>\n",
       "      <td>0.001771</td>\n",
       "      <td>0.002506</td>\n",
       "      <td>0.001892</td>\n",
       "      <td>0.0</td>\n",
       "      <td>0.0</td>\n",
       "      <td>1.0</td>\n",
       "      <td>0.0</td>\n",
       "      <td>1.0</td>\n",
       "      <td>0.0</td>\n",
       "    </tr>\n",
       "    <tr>\n",
       "      <th>4</th>\n",
       "      <td>0.040404</td>\n",
       "      <td>0.0</td>\n",
       "      <td>0.620690</td>\n",
       "      <td>0.0</td>\n",
       "      <td>0.0</td>\n",
       "      <td>0.0</td>\n",
       "      <td>0.0</td>\n",
       "      <td>0.0</td>\n",
       "      <td>0.0</td>\n",
       "      <td>0.154144</td>\n",
       "      <td>...</td>\n",
       "      <td>0.011160</td>\n",
       "      <td>0.014493</td>\n",
       "      <td>0.001615</td>\n",
       "      <td>0.001284</td>\n",
       "      <td>0.0</td>\n",
       "      <td>0.0</td>\n",
       "      <td>1.0</td>\n",
       "      <td>0.0</td>\n",
       "      <td>1.0</td>\n",
       "      <td>0.0</td>\n",
       "    </tr>\n",
       "    <tr>\n",
       "      <th>...</th>\n",
       "      <td>...</td>\n",
       "      <td>...</td>\n",
       "      <td>...</td>\n",
       "      <td>...</td>\n",
       "      <td>...</td>\n",
       "      <td>...</td>\n",
       "      <td>...</td>\n",
       "      <td>...</td>\n",
       "      <td>...</td>\n",
       "      <td>...</td>\n",
       "      <td>...</td>\n",
       "      <td>...</td>\n",
       "      <td>...</td>\n",
       "      <td>...</td>\n",
       "      <td>...</td>\n",
       "      <td>...</td>\n",
       "      <td>...</td>\n",
       "      <td>...</td>\n",
       "      <td>...</td>\n",
       "      <td>...</td>\n",
       "      <td>...</td>\n",
       "    </tr>\n",
       "    <tr>\n",
       "      <th>29995</th>\n",
       "      <td>0.212121</td>\n",
       "      <td>0.0</td>\n",
       "      <td>0.310345</td>\n",
       "      <td>0.0</td>\n",
       "      <td>0.0</td>\n",
       "      <td>0.0</td>\n",
       "      <td>0.0</td>\n",
       "      <td>0.0</td>\n",
       "      <td>0.0</td>\n",
       "      <td>0.313716</td>\n",
       "      <td>...</td>\n",
       "      <td>0.005583</td>\n",
       "      <td>0.004907</td>\n",
       "      <td>0.011723</td>\n",
       "      <td>0.001892</td>\n",
       "      <td>0.0</td>\n",
       "      <td>0.0</td>\n",
       "      <td>0.0</td>\n",
       "      <td>1.0</td>\n",
       "      <td>1.0</td>\n",
       "      <td>0.0</td>\n",
       "    </tr>\n",
       "    <tr>\n",
       "      <th>29996</th>\n",
       "      <td>0.141414</td>\n",
       "      <td>0.0</td>\n",
       "      <td>0.379310</td>\n",
       "      <td>0.0</td>\n",
       "      <td>0.0</td>\n",
       "      <td>0.0</td>\n",
       "      <td>0.0</td>\n",
       "      <td>0.0</td>\n",
       "      <td>0.0</td>\n",
       "      <td>0.148008</td>\n",
       "      <td>...</td>\n",
       "      <td>0.010042</td>\n",
       "      <td>0.000208</td>\n",
       "      <td>0.000000</td>\n",
       "      <td>0.000000</td>\n",
       "      <td>0.0</td>\n",
       "      <td>0.0</td>\n",
       "      <td>0.0</td>\n",
       "      <td>1.0</td>\n",
       "      <td>0.0</td>\n",
       "      <td>1.0</td>\n",
       "    </tr>\n",
       "    <tr>\n",
       "      <th>29997</th>\n",
       "      <td>0.020202</td>\n",
       "      <td>0.0</td>\n",
       "      <td>0.275862</td>\n",
       "      <td>1.0</td>\n",
       "      <td>1.0</td>\n",
       "      <td>1.0</td>\n",
       "      <td>0.0</td>\n",
       "      <td>0.0</td>\n",
       "      <td>0.0</td>\n",
       "      <td>0.149674</td>\n",
       "      <td>...</td>\n",
       "      <td>0.024552</td>\n",
       "      <td>0.006763</td>\n",
       "      <td>0.004689</td>\n",
       "      <td>0.005864</td>\n",
       "      <td>1.0</td>\n",
       "      <td>0.0</td>\n",
       "      <td>1.0</td>\n",
       "      <td>0.0</td>\n",
       "      <td>0.0</td>\n",
       "      <td>1.0</td>\n",
       "    </tr>\n",
       "    <tr>\n",
       "      <th>29998</th>\n",
       "      <td>0.070707</td>\n",
       "      <td>0.0</td>\n",
       "      <td>0.344828</td>\n",
       "      <td>1.0</td>\n",
       "      <td>0.0</td>\n",
       "      <td>0.0</td>\n",
       "      <td>0.0</td>\n",
       "      <td>0.0</td>\n",
       "      <td>0.0</td>\n",
       "      <td>0.145064</td>\n",
       "      <td>...</td>\n",
       "      <td>0.001315</td>\n",
       "      <td>0.003101</td>\n",
       "      <td>0.124174</td>\n",
       "      <td>0.003412</td>\n",
       "      <td>1.0</td>\n",
       "      <td>0.0</td>\n",
       "      <td>0.0</td>\n",
       "      <td>1.0</td>\n",
       "      <td>1.0</td>\n",
       "      <td>0.0</td>\n",
       "    </tr>\n",
       "    <tr>\n",
       "      <th>29999</th>\n",
       "      <td>0.040404</td>\n",
       "      <td>0.0</td>\n",
       "      <td>0.431034</td>\n",
       "      <td>0.0</td>\n",
       "      <td>0.0</td>\n",
       "      <td>0.0</td>\n",
       "      <td>0.0</td>\n",
       "      <td>0.0</td>\n",
       "      <td>0.0</td>\n",
       "      <td>0.188931</td>\n",
       "      <td>...</td>\n",
       "      <td>0.001596</td>\n",
       "      <td>0.001610</td>\n",
       "      <td>0.002345</td>\n",
       "      <td>0.001892</td>\n",
       "      <td>1.0</td>\n",
       "      <td>0.0</td>\n",
       "      <td>1.0</td>\n",
       "      <td>0.0</td>\n",
       "      <td>1.0</td>\n",
       "      <td>0.0</td>\n",
       "    </tr>\n",
       "  </tbody>\n",
       "</table>\n",
       "<p>30000 rows × 27 columns</p>\n",
       "</div>"
      ],
      "text/plain": [
       "       LIMIT_BAL  SEX       AGE  PAY_Sept  PAY_Aug  PAY_Jul  PAY_June  \\\n",
       "0       0.010101  1.0  0.051724       1.0      1.0      0.0       0.0   \n",
       "1       0.111111  1.0  0.086207       0.0      1.0      0.0       0.0   \n",
       "2       0.080808  1.0  0.224138       0.0      0.0      0.0       0.0   \n",
       "3       0.040404  1.0  0.275862       0.0      0.0      0.0       0.0   \n",
       "4       0.040404  0.0  0.620690       0.0      0.0      0.0       0.0   \n",
       "...          ...  ...       ...       ...      ...      ...       ...   \n",
       "29995   0.212121  0.0  0.310345       0.0      0.0      0.0       0.0   \n",
       "29996   0.141414  0.0  0.379310       0.0      0.0      0.0       0.0   \n",
       "29997   0.020202  0.0  0.275862       1.0      1.0      1.0       0.0   \n",
       "29998   0.070707  0.0  0.344828       1.0      0.0      0.0       0.0   \n",
       "29999   0.040404  0.0  0.431034       0.0      0.0      0.0       0.0   \n",
       "\n",
       "       PAY_May  PAY_Apr  BILL_AMT1  ...  PAY_AMT3  PAY_AMT4  PAY_AMT5  \\\n",
       "0          0.0      0.0   0.149982  ...  0.000000  0.000000  0.000000   \n",
       "1          0.0      1.0   0.148892  ...  0.001116  0.001610  0.000000   \n",
       "2          0.0      0.0   0.172392  ...  0.001116  0.001610  0.002345   \n",
       "3          0.0      0.0   0.188100  ...  0.001339  0.001771  0.002506   \n",
       "4          0.0      0.0   0.154144  ...  0.011160  0.014493  0.001615   \n",
       "...        ...      ...        ...  ...       ...       ...       ...   \n",
       "29995      0.0      0.0   0.313716  ...  0.005583  0.004907  0.011723   \n",
       "29996      0.0      0.0   0.148008  ...  0.010042  0.000208  0.000000   \n",
       "29997      0.0      0.0   0.149674  ...  0.024552  0.006763  0.004689   \n",
       "29998      0.0      0.0   0.145064  ...  0.001315  0.003101  0.124174   \n",
       "29999      0.0      0.0   0.188931  ...  0.001596  0.001610  0.002345   \n",
       "\n",
       "       PAY_AMT6  Defaulter  EDUCATION_GradSch  EDUCATION_University  \\\n",
       "0      0.000000        1.0                0.0                   1.0   \n",
       "1      0.003783        1.0                0.0                   1.0   \n",
       "2      0.009458        0.0                0.0                   1.0   \n",
       "3      0.001892        0.0                0.0                   1.0   \n",
       "4      0.001284        0.0                0.0                   1.0   \n",
       "...         ...        ...                ...                   ...   \n",
       "29995  0.001892        0.0                0.0                   0.0   \n",
       "29996  0.000000        0.0                0.0                   0.0   \n",
       "29997  0.005864        1.0                0.0                   1.0   \n",
       "29998  0.003412        1.0                0.0                   0.0   \n",
       "29999  0.001892        1.0                0.0                   1.0   \n",
       "\n",
       "       EDUCATION_HighSch  MARRIAGE_Married  MARRIAGE_Single  \n",
       "0                    0.0               1.0              0.0  \n",
       "1                    0.0               0.0              1.0  \n",
       "2                    0.0               0.0              1.0  \n",
       "3                    0.0               1.0              0.0  \n",
       "4                    0.0               1.0              0.0  \n",
       "...                  ...               ...              ...  \n",
       "29995                1.0               1.0              0.0  \n",
       "29996                1.0               0.0              1.0  \n",
       "29997                0.0               0.0              1.0  \n",
       "29998                1.0               1.0              0.0  \n",
       "29999                0.0               1.0              0.0  \n",
       "\n",
       "[30000 rows x 27 columns]"
      ]
     },
     "execution_count": 193,
     "metadata": {},
     "output_type": "execute_result"
    }
   ],
   "source": [
    "\n",
    "## Scaling the X_train data\n",
    "scaled_data = scaler.fit_transform(df)\n",
    "scaled_data= pd.DataFrame(scaled_data,columns=df.columns)\n",
    "scaled_data.head()\n",
    "\n",
    "X = scaled_data.drop(\"Defaulter\",axis=1 )\n",
    "y = scaled_data['Defaulter']\n",
    "\n",
    "# standardising df\n",
    "df_standardised = (df - df.min())/(df.max() - df.min())\n",
    "df_standardised"
   ]
  },
  {
   "cell_type": "markdown",
   "id": "692e1cc1",
   "metadata": {},
   "source": [
    "## Feature Selection"
   ]
  },
  {
   "cell_type": "code",
   "execution_count": 194,
   "id": "26e4137e",
   "metadata": {},
   "outputs": [
    {
     "data": {
      "image/png": "[encoded data removed]",
      "text/plain": [
       "<Figure size 864x648 with 2 Axes>"
      ]
     },
     "metadata": {
      "needs_background": "light"
     },
     "output_type": "display_data"
    }
   ],
   "source": [
    "## Correlation of the variables - one way to do feature selection\n",
    "correlation_matrix = df.corr()\n",
    "fig = plt.figure(figsize=(12,9))\n",
    "sns.heatmap(correlation_matrix,vmax=0.8,square = True, cmap = \"coolwarm\")\n",
    "plt.show()"
   ]
  },
  {
   "cell_type": "code",
   "execution_count": 195,
   "id": "29b330d8",
   "metadata": {},
   "outputs": [
    {
     "data": {
      "text/html": [
       "<div>\n",
       "<style scoped>\n",
       "    .dataframe tbody tr th:only-of-type {\n",
       "        vertical-align: middle;\n",
       "    }\n",
       "\n",
       "    .dataframe tbody tr th {\n",
       "        vertical-align: top;\n",
       "    }\n",
       "\n",
       "    .dataframe thead th {\n",
       "        text-align: right;\n",
       "    }\n",
       "</style>\n",
       "<table border=\"1\" class=\"dataframe\">\n",
       "  <thead>\n",
       "    <tr style=\"text-align: right;\">\n",
       "      <th></th>\n",
       "      <th>Feature</th>\n",
       "      <th>Important_chi</th>\n",
       "    </tr>\n",
       "  </thead>\n",
       "  <tbody>\n",
       "    <tr>\n",
       "      <th>0</th>\n",
       "      <td>LIMIT_BAL</td>\n",
       "      <td>True</td>\n",
       "    </tr>\n",
       "    <tr>\n",
       "      <th>1</th>\n",
       "      <td>SEX</td>\n",
       "      <td>True</td>\n",
       "    </tr>\n",
       "    <tr>\n",
       "      <th>2</th>\n",
       "      <td>AGE</td>\n",
       "      <td>False</td>\n",
       "    </tr>\n",
       "    <tr>\n",
       "      <th>3</th>\n",
       "      <td>PAY_Sept</td>\n",
       "      <td>True</td>\n",
       "    </tr>\n",
       "    <tr>\n",
       "      <th>4</th>\n",
       "      <td>PAY_Aug</td>\n",
       "      <td>True</td>\n",
       "    </tr>\n",
       "    <tr>\n",
       "      <th>5</th>\n",
       "      <td>PAY_Jul</td>\n",
       "      <td>True</td>\n",
       "    </tr>\n",
       "    <tr>\n",
       "      <th>6</th>\n",
       "      <td>PAY_June</td>\n",
       "      <td>True</td>\n",
       "    </tr>\n",
       "    <tr>\n",
       "      <th>7</th>\n",
       "      <td>PAY_May</td>\n",
       "      <td>True</td>\n",
       "    </tr>\n",
       "    <tr>\n",
       "      <th>8</th>\n",
       "      <td>PAY_Apr</td>\n",
       "      <td>True</td>\n",
       "    </tr>\n",
       "    <tr>\n",
       "      <th>9</th>\n",
       "      <td>BILL_AMT1</td>\n",
       "      <td>False</td>\n",
       "    </tr>\n",
       "    <tr>\n",
       "      <th>10</th>\n",
       "      <td>BILL_AMT2</td>\n",
       "      <td>False</td>\n",
       "    </tr>\n",
       "    <tr>\n",
       "      <th>11</th>\n",
       "      <td>BILL_AMT3</td>\n",
       "      <td>False</td>\n",
       "    </tr>\n",
       "    <tr>\n",
       "      <th>12</th>\n",
       "      <td>BILL_AMT4</td>\n",
       "      <td>False</td>\n",
       "    </tr>\n",
       "    <tr>\n",
       "      <th>13</th>\n",
       "      <td>BILL_AMT5</td>\n",
       "      <td>False</td>\n",
       "    </tr>\n",
       "    <tr>\n",
       "      <th>14</th>\n",
       "      <td>BILL_AMT6</td>\n",
       "      <td>False</td>\n",
       "    </tr>\n",
       "    <tr>\n",
       "      <th>15</th>\n",
       "      <td>PAY_AMT1</td>\n",
       "      <td>False</td>\n",
       "    </tr>\n",
       "    <tr>\n",
       "      <th>16</th>\n",
       "      <td>PAY_AMT2</td>\n",
       "      <td>False</td>\n",
       "    </tr>\n",
       "    <tr>\n",
       "      <th>17</th>\n",
       "      <td>PAY_AMT3</td>\n",
       "      <td>False</td>\n",
       "    </tr>\n",
       "    <tr>\n",
       "      <th>18</th>\n",
       "      <td>PAY_AMT4</td>\n",
       "      <td>False</td>\n",
       "    </tr>\n",
       "    <tr>\n",
       "      <th>19</th>\n",
       "      <td>PAY_AMT5</td>\n",
       "      <td>False</td>\n",
       "    </tr>\n",
       "    <tr>\n",
       "      <th>20</th>\n",
       "      <td>PAY_AMT6</td>\n",
       "      <td>False</td>\n",
       "    </tr>\n",
       "    <tr>\n",
       "      <th>21</th>\n",
       "      <td>EDUCATION_GradSch</td>\n",
       "      <td>True</td>\n",
       "    </tr>\n",
       "    <tr>\n",
       "      <th>22</th>\n",
       "      <td>EDUCATION_University</td>\n",
       "      <td>True</td>\n",
       "    </tr>\n",
       "    <tr>\n",
       "      <th>23</th>\n",
       "      <td>EDUCATION_HighSch</td>\n",
       "      <td>True</td>\n",
       "    </tr>\n",
       "    <tr>\n",
       "      <th>24</th>\n",
       "      <td>MARRIAGE_Married</td>\n",
       "      <td>True</td>\n",
       "    </tr>\n",
       "    <tr>\n",
       "      <th>25</th>\n",
       "      <td>MARRIAGE_Single</td>\n",
       "      <td>True</td>\n",
       "    </tr>\n",
       "  </tbody>\n",
       "</table>\n",
       "</div>"
      ],
      "text/plain": [
       "                 Feature  Important_chi\n",
       "0              LIMIT_BAL           True\n",
       "1                    SEX           True\n",
       "2                    AGE          False\n",
       "3               PAY_Sept           True\n",
       "4                PAY_Aug           True\n",
       "5                PAY_Jul           True\n",
       "6               PAY_June           True\n",
       "7                PAY_May           True\n",
       "8                PAY_Apr           True\n",
       "9              BILL_AMT1          False\n",
       "10             BILL_AMT2          False\n",
       "11             BILL_AMT3          False\n",
       "12             BILL_AMT4          False\n",
       "13             BILL_AMT5          False\n",
       "14             BILL_AMT6          False\n",
       "15              PAY_AMT1          False\n",
       "16              PAY_AMT2          False\n",
       "17              PAY_AMT3          False\n",
       "18              PAY_AMT4          False\n",
       "19              PAY_AMT5          False\n",
       "20              PAY_AMT6          False\n",
       "21     EDUCATION_GradSch           True\n",
       "22  EDUCATION_University           True\n",
       "23     EDUCATION_HighSch           True\n",
       "24      MARRIAGE_Married           True\n",
       "25       MARRIAGE_Single           True"
      ]
     },
     "execution_count": 195,
     "metadata": {},
     "output_type": "execute_result"
    }
   ],
   "source": [
    "## Chi2 Test for Feature Selection\n",
    "selector = SelectKBest(chi2, k=13) ## we set k to 13 as we currently have 26 features and want to reduce it by half.\n",
    "X_train_chi2 = selector.fit_transform(X, y)\n",
    "chi2_selected = selector.get_support()\n",
    "importance_df_chi = pd.DataFrame()\n",
    "importance_df_chi['Feature'] = X.columns \n",
    "importance_df_chi['Important_chi'] = chi2_selected\n",
    "importance_df_chi"
   ]
  },
  {
   "cell_type": "code",
   "execution_count": 196,
   "id": "3785dce9",
   "metadata": {},
   "outputs": [],
   "source": [
    "## Wrapper Method Feature Selection - Forward Selection\n",
    "knn = KNeighborsClassifier(n_neighbors=3)\n",
    "sfs = SequentialFeatureSelector(knn, n_features_to_select=13)\n",
    "sfs.fit(X, y)\n",
    "forward_selected = sfs.get_support()"
   ]
  },
  {
   "cell_type": "code",
   "execution_count": 197,
   "id": "b3d0d3a5",
   "metadata": {},
   "outputs": [],
   "source": [
    "## Embedded Method using Random Forest Importance\n",
    "rfc = RandomForestClassifier()\n",
    "rfc.fit(X,y)\n",
    "importance  = rfc.feature_importances_\n",
    "importance_df = pd.DataFrame()\n",
    "importance_df['Feature'] = X.columns\n",
    "importance_df['RF Importance'] = importance"
   ]
  },
  {
   "cell_type": "code",
   "execution_count": 198,
   "id": "45c89f25",
   "metadata": {},
   "outputs": [
    {
     "data": {
      "text/html": [
       "<div>\n",
       "<style scoped>\n",
       "    .dataframe tbody tr th:only-of-type {\n",
       "        vertical-align: middle;\n",
       "    }\n",
       "\n",
       "    .dataframe tbody tr th {\n",
       "        vertical-align: top;\n",
       "    }\n",
       "\n",
       "    .dataframe thead th {\n",
       "        text-align: right;\n",
       "    }\n",
       "</style>\n",
       "<table border=\"1\" class=\"dataframe\">\n",
       "  <thead>\n",
       "    <tr style=\"text-align: right;\">\n",
       "      <th></th>\n",
       "      <th>Feature</th>\n",
       "      <th>RF Importance</th>\n",
       "      <th>Forward</th>\n",
       "      <th>Important_chi</th>\n",
       "    </tr>\n",
       "  </thead>\n",
       "  <tbody>\n",
       "    <tr>\n",
       "      <th>2</th>\n",
       "      <td>AGE</td>\n",
       "      <td>0.069777</td>\n",
       "      <td>False</td>\n",
       "      <td>False</td>\n",
       "    </tr>\n",
       "    <tr>\n",
       "      <th>9</th>\n",
       "      <td>BILL_AMT1</td>\n",
       "      <td>0.068704</td>\n",
       "      <td>False</td>\n",
       "      <td>False</td>\n",
       "    </tr>\n",
       "    <tr>\n",
       "      <th>3</th>\n",
       "      <td>PAY_Sept</td>\n",
       "      <td>0.067160</td>\n",
       "      <td>True</td>\n",
       "      <td>True</td>\n",
       "    </tr>\n",
       "    <tr>\n",
       "      <th>0</th>\n",
       "      <td>LIMIT_BAL</td>\n",
       "      <td>0.062373</td>\n",
       "      <td>True</td>\n",
       "      <td>True</td>\n",
       "    </tr>\n",
       "    <tr>\n",
       "      <th>10</th>\n",
       "      <td>BILL_AMT2</td>\n",
       "      <td>0.058700</td>\n",
       "      <td>True</td>\n",
       "      <td>False</td>\n",
       "    </tr>\n",
       "    <tr>\n",
       "      <th>11</th>\n",
       "      <td>BILL_AMT3</td>\n",
       "      <td>0.056358</td>\n",
       "      <td>False</td>\n",
       "      <td>False</td>\n",
       "    </tr>\n",
       "    <tr>\n",
       "      <th>15</th>\n",
       "      <td>PAY_AMT1</td>\n",
       "      <td>0.054830</td>\n",
       "      <td>False</td>\n",
       "      <td>False</td>\n",
       "    </tr>\n",
       "    <tr>\n",
       "      <th>14</th>\n",
       "      <td>BILL_AMT6</td>\n",
       "      <td>0.054175</td>\n",
       "      <td>False</td>\n",
       "      <td>False</td>\n",
       "    </tr>\n",
       "    <tr>\n",
       "      <th>12</th>\n",
       "      <td>BILL_AMT4</td>\n",
       "      <td>0.054084</td>\n",
       "      <td>False</td>\n",
       "      <td>False</td>\n",
       "    </tr>\n",
       "    <tr>\n",
       "      <th>13</th>\n",
       "      <td>BILL_AMT5</td>\n",
       "      <td>0.053919</td>\n",
       "      <td>False</td>\n",
       "      <td>False</td>\n",
       "    </tr>\n",
       "    <tr>\n",
       "      <th>16</th>\n",
       "      <td>PAY_AMT2</td>\n",
       "      <td>0.050427</td>\n",
       "      <td>False</td>\n",
       "      <td>False</td>\n",
       "    </tr>\n",
       "    <tr>\n",
       "      <th>17</th>\n",
       "      <td>PAY_AMT3</td>\n",
       "      <td>0.048610</td>\n",
       "      <td>False</td>\n",
       "      <td>False</td>\n",
       "    </tr>\n",
       "    <tr>\n",
       "      <th>20</th>\n",
       "      <td>PAY_AMT6</td>\n",
       "      <td>0.048405</td>\n",
       "      <td>False</td>\n",
       "      <td>False</td>\n",
       "    </tr>\n",
       "    <tr>\n",
       "      <th>19</th>\n",
       "      <td>PAY_AMT5</td>\n",
       "      <td>0.046151</td>\n",
       "      <td>False</td>\n",
       "      <td>False</td>\n",
       "    </tr>\n",
       "    <tr>\n",
       "      <th>18</th>\n",
       "      <td>PAY_AMT4</td>\n",
       "      <td>0.045762</td>\n",
       "      <td>False</td>\n",
       "      <td>False</td>\n",
       "    </tr>\n",
       "    <tr>\n",
       "      <th>4</th>\n",
       "      <td>PAY_Aug</td>\n",
       "      <td>0.034917</td>\n",
       "      <td>True</td>\n",
       "      <td>True</td>\n",
       "    </tr>\n",
       "    <tr>\n",
       "      <th>5</th>\n",
       "      <td>PAY_Jul</td>\n",
       "      <td>0.021030</td>\n",
       "      <td>True</td>\n",
       "      <td>True</td>\n",
       "    </tr>\n",
       "    <tr>\n",
       "      <th>7</th>\n",
       "      <td>PAY_May</td>\n",
       "      <td>0.017743</td>\n",
       "      <td>True</td>\n",
       "      <td>True</td>\n",
       "    </tr>\n",
       "    <tr>\n",
       "      <th>6</th>\n",
       "      <td>PAY_June</td>\n",
       "      <td>0.017668</td>\n",
       "      <td>True</td>\n",
       "      <td>True</td>\n",
       "    </tr>\n",
       "    <tr>\n",
       "      <th>1</th>\n",
       "      <td>SEX</td>\n",
       "      <td>0.012628</td>\n",
       "      <td>True</td>\n",
       "      <td>True</td>\n",
       "    </tr>\n",
       "    <tr>\n",
       "      <th>8</th>\n",
       "      <td>PAY_Apr</td>\n",
       "      <td>0.011741</td>\n",
       "      <td>True</td>\n",
       "      <td>True</td>\n",
       "    </tr>\n",
       "    <tr>\n",
       "      <th>22</th>\n",
       "      <td>EDUCATION_University</td>\n",
       "      <td>0.010134</td>\n",
       "      <td>True</td>\n",
       "      <td>True</td>\n",
       "    </tr>\n",
       "    <tr>\n",
       "      <th>24</th>\n",
       "      <td>MARRIAGE_Married</td>\n",
       "      <td>0.008939</td>\n",
       "      <td>True</td>\n",
       "      <td>True</td>\n",
       "    </tr>\n",
       "    <tr>\n",
       "      <th>25</th>\n",
       "      <td>MARRIAGE_Single</td>\n",
       "      <td>0.008798</td>\n",
       "      <td>True</td>\n",
       "      <td>True</td>\n",
       "    </tr>\n",
       "    <tr>\n",
       "      <th>21</th>\n",
       "      <td>EDUCATION_GradSch</td>\n",
       "      <td>0.008741</td>\n",
       "      <td>True</td>\n",
       "      <td>True</td>\n",
       "    </tr>\n",
       "    <tr>\n",
       "      <th>23</th>\n",
       "      <td>EDUCATION_HighSch</td>\n",
       "      <td>0.008229</td>\n",
       "      <td>False</td>\n",
       "      <td>True</td>\n",
       "    </tr>\n",
       "  </tbody>\n",
       "</table>\n",
       "</div>"
      ],
      "text/plain": [
       "                 Feature  RF Importance  Forward  Important_chi\n",
       "2                    AGE       0.069777    False          False\n",
       "9              BILL_AMT1       0.068704    False          False\n",
       "3               PAY_Sept       0.067160     True           True\n",
       "0              LIMIT_BAL       0.062373     True           True\n",
       "10             BILL_AMT2       0.058700     True          False\n",
       "11             BILL_AMT3       0.056358    False          False\n",
       "15              PAY_AMT1       0.054830    False          False\n",
       "14             BILL_AMT6       0.054175    False          False\n",
       "12             BILL_AMT4       0.054084    False          False\n",
       "13             BILL_AMT5       0.053919    False          False\n",
       "16              PAY_AMT2       0.050427    False          False\n",
       "17              PAY_AMT3       0.048610    False          False\n",
       "20              PAY_AMT6       0.048405    False          False\n",
       "19              PAY_AMT5       0.046151    False          False\n",
       "18              PAY_AMT4       0.045762    False          False\n",
       "4                PAY_Aug       0.034917     True           True\n",
       "5                PAY_Jul       0.021030     True           True\n",
       "7                PAY_May       0.017743     True           True\n",
       "6               PAY_June       0.017668     True           True\n",
       "1                    SEX       0.012628     True           True\n",
       "8                PAY_Apr       0.011741     True           True\n",
       "22  EDUCATION_University       0.010134     True           True\n",
       "24      MARRIAGE_Married       0.008939     True           True\n",
       "25       MARRIAGE_Single       0.008798     True           True\n",
       "21     EDUCATION_GradSch       0.008741     True           True\n",
       "23     EDUCATION_HighSch       0.008229    False           True"
      ]
     },
     "execution_count": 198,
     "metadata": {},
     "output_type": "execute_result"
    }
   ],
   "source": [
    "## Combine to 1 df with all the importance\n",
    "importance_df['Forward'] = forward_selected\n",
    "importance_df['Important_chi'] = selector.get_support()\n",
    "importance_df.sort_values('RF Importance', ascending = False, inplace=True)\n",
    "importance_df"
   ]
  },
  {
   "cell_type": "code",
   "execution_count": 199,
   "id": "c05c19c1",
   "metadata": {},
   "outputs": [],
   "source": [
    "## Storing the features we have selected \n",
    "\n",
    "features_selected = [\n",
    "'PAY_Sept',\n",
    "'LIMIT_BAL',\n",
    "'PAY_Aug',\n",
    "'PAY_Jul',\n",
    "'PAY_June',\n",
    "'PAY_May',\n",
    "'MARRIAGE_Married',\n",
    "'MARRIAGE_Single',\n",
    "'PAY_Apr',\n",
    "'EDUCATION_University',\n",
    "'EDUCATION_GradSch',\n",
    "'BILL_AMT2',\n",
    "'SEX'\n",
    "]\n",
    "\n",
    "\n",
    "X_features_selected = X[features_selected]"
   ]
  },
  {
   "cell_type": "markdown",
   "id": "f8e68d6c",
   "metadata": {},
   "source": [
    "Based on the dataframe above, we will select the following features: \n",
    "\n",
    "- PAY_Sept\n",
    "- PAY_Aug\n",
    "- PAY_Jul\n",
    "- PAY_June\n",
    "- PAY_Apr\n",
    "- PAY_Mar\n",
    "- MARRIAGE_Married\n",
    "- SEX\n",
    "- LIMIT_BAL\n",
    "- EDUCATION_University\n",
    "- EDUCATION_GradSch\n",
    "- EDUCATION_HighSch\n",
    "\n",
    "We first look at the boolean values of Chi-Squared and the forward wrrapper feature selection, then we make use of RF Importance as a tie-breaker. As the RF Importance is sorted in descending order, the attributes at the top half of the dataframe (importance_df) will be comparatively more important that those at the bottom half. If the boolean values of the Chi-Squared and dorward wrapper feature selection are both true, then we will select the feature. If one of the boolean values are false, we then look at the RF Importance value. If the attribute is at the top half of the dataframe, then we select that attribute, if not we will not select it."
   ]
  },
  {
   "cell_type": "markdown",
   "id": "fe4fb5e5",
   "metadata": {},
   "source": [
    "## Model Selection"
   ]
  },
  {
   "cell_type": "code",
   "execution_count": 200,
   "id": "cff3c273",
   "metadata": {},
   "outputs": [],
   "source": [
    "## Do our train-test split\n",
    "X_train, X_test, y_train, y_test = train_test_split(X_features_selected, y, test_size=0.25, random_state=1234)"
   ]
  },
  {
   "cell_type": "code",
   "execution_count": 201,
   "id": "011e4fdc",
   "metadata": {},
   "outputs": [],
   "source": [
    "# create the training df by remerging X_train and y_train\n",
    "df_train = X_train.join(y_train)\n",
    "df_train.sample(10)\n",
    "\n",
    "# Separate majority and minority classes\n",
    "df_majority = df_train[df_train.Defaulter==0]\n",
    "df_minority = df_train[df_train.Defaulter==1]"
   ]
  },
  {
   "cell_type": "code",
   "execution_count": 202,
   "id": "0c314bec",
   "metadata": {},
   "outputs": [
    {
     "name": "stdout",
     "output_type": "stream",
     "text": [
      "22500\n",
      "35128\n",
      "17564.0\n"
     ]
    }
   ],
   "source": [
    "\n",
    "sm = SMOTE(random_state=1234, sampling_strategy= 1.0)\n",
    "X_SMOTE, y_SMOTE = sm.fit_resample(X_train, y_train)\n",
    "print(len(y_train))\n",
    "print(len(y_SMOTE))\n",
    "print(y_SMOTE.sum())"
   ]
  },
  {
   "cell_type": "markdown",
   "id": "99f20328",
   "metadata": {},
   "source": [
    "### Logistic Regression"
   ]
  },
  {
   "cell_type": "markdown",
   "id": "7637030e",
   "metadata": {},
   "source": [
    "Naive Model"
   ]
  },
  {
   "cell_type": "code",
   "execution_count": 203,
   "id": "923d0df6",
   "metadata": {},
   "outputs": [
    {
     "data": {
      "text/html": [
       "<style>#sk-container-id-4 {color: black;background-color: white;}#sk-container-id-4 pre{padding: 0;}#sk-container-id-4 div.sk-toggleable {background-color: white;}#sk-container-id-4 label.sk-toggleable__label {cursor: pointer;display: block;width: 100%;margin-bottom: 0;padding: 0.3em;box-sizing: border-box;text-align: center;}#sk-container-id-4 label.sk-toggleable__label-arrow:before {content: \"▸\";float: left;margin-right: 0.25em;color: #696969;}#sk-container-id-4 label.sk-toggleable__label-arrow:hover:before {color: black;}#sk-container-id-4 div.sk-estimator:hover label.sk-toggleable__label-arrow:before {color: black;}#sk-container-id-4 div.sk-toggleable__content {max-height: 0;max-width: 0;overflow: hidden;text-align: left;background-color: #f0f8ff;}#sk-container-id-4 div.sk-toggleable__content pre {margin: 0.2em;color: black;border-radius: 0.25em;background-color: #f0f8ff;}#sk-container-id-4 input.sk-toggleable__control:checked~div.sk-toggleable__content {max-height: 200px;max-width: 100%;overflow: auto;}#sk-container-id-4 input.sk-toggleable__control:checked~label.sk-toggleable__label-arrow:before {content: \"▾\";}#sk-container-id-4 div.sk-estimator input.sk-toggleable__control:checked~label.sk-toggleable__label {background-color: #d4ebff;}#sk-container-id-4 div.sk-label input.sk-toggleable__control:checked~label.sk-toggleable__label {background-color: #d4ebff;}#sk-container-id-4 input.sk-hidden--visually {border: 0;clip: rect(1px 1px 1px 1px);clip: rect(1px, 1px, 1px, 1px);height: 1px;margin: -1px;overflow: hidden;padding: 0;position: absolute;width: 1px;}#sk-container-id-4 div.sk-estimator {font-family: monospace;background-color: #f0f8ff;border: 1px dotted black;border-radius: 0.25em;box-sizing: border-box;margin-bottom: 0.5em;}#sk-container-id-4 div.sk-estimator:hover {background-color: #d4ebff;}#sk-container-id-4 div.sk-parallel-item::after {content: \"\";width: 100%;border-bottom: 1px solid gray;flex-grow: 1;}#sk-container-id-4 div.sk-label:hover label.sk-toggleable__label {background-color: #d4ebff;}#sk-container-id-4 div.sk-serial::before {content: \"\";position: absolute;border-left: 1px solid gray;box-sizing: border-box;top: 0;bottom: 0;left: 50%;z-index: 0;}#sk-container-id-4 div.sk-serial {display: flex;flex-direction: column;align-items: center;background-color: white;padding-right: 0.2em;padding-left: 0.2em;position: relative;}#sk-container-id-4 div.sk-item {position: relative;z-index: 1;}#sk-container-id-4 div.sk-parallel {display: flex;align-items: stretch;justify-content: center;background-color: white;position: relative;}#sk-container-id-4 div.sk-item::before, #sk-container-id-4 div.sk-parallel-item::before {content: \"\";position: absolute;border-left: 1px solid gray;box-sizing: border-box;top: 0;bottom: 0;left: 50%;z-index: -1;}#sk-container-id-4 div.sk-parallel-item {display: flex;flex-direction: column;z-index: 1;position: relative;background-color: white;}#sk-container-id-4 div.sk-parallel-item:first-child::after {align-self: flex-end;width: 50%;}#sk-container-id-4 div.sk-parallel-item:last-child::after {align-self: flex-start;width: 50%;}#sk-container-id-4 div.sk-parallel-item:only-child::after {width: 0;}#sk-container-id-4 div.sk-dashed-wrapped {border: 1px dashed gray;margin: 0 0.4em 0.5em 0.4em;box-sizing: border-box;padding-bottom: 0.4em;background-color: white;}#sk-container-id-4 div.sk-label label {font-family: monospace;font-weight: bold;display: inline-block;line-height: 1.2em;}#sk-container-id-4 div.sk-label-container {text-align: center;}#sk-container-id-4 div.sk-container {/* jupyter's `normalize.less` sets `[hidden] { display: none; }` but bootstrap.min.css set `[hidden] { display: none !important; }` so we also need the `!important` here to be able to override the default hidden behavior on the sphinx rendered scikit-learn.org. See: https://github.com/scikit-learn/scikit-learn/issues/21755 */display: inline-block !important;position: relative;}#sk-container-id-4 div.sk-text-repr-fallback {display: none;}</style><div id=\"sk-container-id-4\" class=\"sk-top-container\"><div class=\"sk-text-repr-fallback\"><pre>LogisticRegression(C=3.73, random_state=1234)</pre><b>In a Jupyter environment, please rerun this cell to show the HTML representation or trust the notebook. <br />On GitHub, the HTML representation is unable to render, please try loading this page with nbviewer.org.</b></div><div class=\"sk-container\" hidden><div class=\"sk-item\"><div class=\"sk-estimator sk-toggleable\"><input class=\"sk-toggleable__control sk-hidden--visually\" id=\"sk-estimator-id-4\" type=\"checkbox\" checked><label for=\"sk-estimator-id-4\" class=\"sk-toggleable__label sk-toggleable__label-arrow\">LogisticRegression</label><div class=\"sk-toggleable__content\"><pre>LogisticRegression(C=3.73, random_state=1234)</pre></div></div></div></div></div>"
      ],
      "text/plain": [
       "LogisticRegression(C=3.73, random_state=1234)"
      ]
     },
     "execution_count": 203,
     "metadata": {},
     "output_type": "execute_result"
    }
   ],
   "source": [
    "LR_imp = LogisticRegression(C=3.73, random_state=1234)\n",
    "LR_imp.fit(X_train_naive, y_train_naive)"
   ]
  },
  {
   "cell_type": "code",
   "execution_count": 204,
   "id": "bad51298",
   "metadata": {},
   "outputs": [
    {
     "name": "stdout",
     "output_type": "stream",
     "text": [
      "              precision    recall  f1-score   support\n",
      "\n",
      "           0       0.77      1.00      0.87      5800\n",
      "           1       0.00      0.00      0.00      1700\n",
      "\n",
      "    accuracy                           0.77      7500\n",
      "   macro avg       0.39      0.50      0.44      7500\n",
      "weighted avg       0.60      0.77      0.67      7500\n",
      "\n",
      "Accuracy:  0.7732\n",
      "Average Class Accuracy:  0.4999137931034483\n"
     ]
    }
   ],
   "source": [
    "y_pred = LR_imp.predict(X_test_naive)\n",
    "print(classification_report(y_test_naive, y_pred))\n",
    "print('Accuracy: ', accuracy_score(y_test_naive, y_pred))\n",
    "print('Average Class Accuracy: ', balanced_accuracy_score(y_test_naive, y_pred))"
   ]
  },
  {
   "cell_type": "code",
   "execution_count": 205,
   "id": "61e53936",
   "metadata": {},
   "outputs": [
    {
     "data": {
      "text/plain": [
       "Text(0.5, 1.0, 'Confusion Matrix - Naive Logistic Regression Model')"
      ]
     },
     "execution_count": 205,
     "metadata": {},
     "output_type": "execute_result"
    },
    {
     "data": {
      "image/png": "[encoded data removed]",
      "text/plain": [
       "<Figure size 288x216 with 2 Axes>"
      ]
     },
     "metadata": {
      "needs_background": "light"
     },
     "output_type": "display_data"
    }
   ],
   "source": [
    "plt.figure(figsize=(4,3))\n",
    "ConfMatrix = confusion_matrix(y_test_naive, y_pred)\n",
    "sns.heatmap(ConfMatrix,annot=True, cmap=\"Blues\", fmt=\"d\", \n",
    "            xticklabels = ['Non-default', 'Default'], \n",
    "            yticklabels = ['Non-default', 'Default'])\n",
    "plt.ylabel('True label')\n",
    "plt.xlabel('Predicted label')\n",
    "plt.title(\"Confusion Matrix - Naive Logistic Regression Model\")"
   ]
  },
  {
   "cell_type": "markdown",
   "id": "a64b7cb1",
   "metadata": {},
   "source": [
    "Tuned Model"
   ]
  },
  {
   "cell_type": "code",
   "execution_count": 206,
   "id": "8af00bfb",
   "metadata": {},
   "outputs": [
    {
     "name": "stdout",
     "output_type": "stream",
     "text": [
      "{'C': 10, 'penalty': 'l1', 'solver': 'liblinear'}\n"
     ]
    }
   ],
   "source": [
    "# hyperparameter tuning for Logistic Regression\n",
    "params = {\n",
    "    \"solver\" : ['newton-cg', 'lbfgs', 'liblinear'],\n",
    "    \"penalty\" : ['l1','elasticnet','l2'],\n",
    "    \"C\" : [100, 10, 1.0, 0.1, 0.01]}\n",
    "cv = RepeatedStratifiedKFold(n_splits=10, n_repeats=3, random_state=1)\n",
    "grid_search = GridSearchCV(estimator = LogisticRegression(random_state=1234), param_grid = params, n_jobs = -1, cv = cv, scoring = 'accuracy', error_score = 0)\n",
    "grid_result = grid_search.fit(X_SMOTE, y_SMOTE)\n",
    "print(grid_result.best_params_)"
   ]
  },
  {
   "cell_type": "code",
   "execution_count": 207,
   "id": "db298a82",
   "metadata": {},
   "outputs": [
    {
     "data": {
      "text/html": [
       "<style>#sk-container-id-5 {color: black;background-color: white;}#sk-container-id-5 pre{padding: 0;}#sk-container-id-5 div.sk-toggleable {background-color: white;}#sk-container-id-5 label.sk-toggleable__label {cursor: pointer;display: block;width: 100%;margin-bottom: 0;padding: 0.3em;box-sizing: border-box;text-align: center;}#sk-container-id-5 label.sk-toggleable__label-arrow:before {content: \"▸\";float: left;margin-right: 0.25em;color: #696969;}#sk-container-id-5 label.sk-toggleable__label-arrow:hover:before {color: black;}#sk-container-id-5 div.sk-estimator:hover label.sk-toggleable__label-arrow:before {color: black;}#sk-container-id-5 div.sk-toggleable__content {max-height: 0;max-width: 0;overflow: hidden;text-align: left;background-color: #f0f8ff;}#sk-container-id-5 div.sk-toggleable__content pre {margin: 0.2em;color: black;border-radius: 0.25em;background-color: #f0f8ff;}#sk-container-id-5 input.sk-toggleable__control:checked~div.sk-toggleable__content {max-height: 200px;max-width: 100%;overflow: auto;}#sk-container-id-5 input.sk-toggleable__control:checked~label.sk-toggleable__label-arrow:before {content: \"▾\";}#sk-container-id-5 div.sk-estimator input.sk-toggleable__control:checked~label.sk-toggleable__label {background-color: #d4ebff;}#sk-container-id-5 div.sk-label input.sk-toggleable__control:checked~label.sk-toggleable__label {background-color: #d4ebff;}#sk-container-id-5 input.sk-hidden--visually {border: 0;clip: rect(1px 1px 1px 1px);clip: rect(1px, 1px, 1px, 1px);height: 1px;margin: -1px;overflow: hidden;padding: 0;position: absolute;width: 1px;}#sk-container-id-5 div.sk-estimator {font-family: monospace;background-color: #f0f8ff;border: 1px dotted black;border-radius: 0.25em;box-sizing: border-box;margin-bottom: 0.5em;}#sk-container-id-5 div.sk-estimator:hover {background-color: #d4ebff;}#sk-container-id-5 div.sk-parallel-item::after {content: \"\";width: 100%;border-bottom: 1px solid gray;flex-grow: 1;}#sk-container-id-5 div.sk-label:hover label.sk-toggleable__label {background-color: #d4ebff;}#sk-container-id-5 div.sk-serial::before {content: \"\";position: absolute;border-left: 1px solid gray;box-sizing: border-box;top: 0;bottom: 0;left: 50%;z-index: 0;}#sk-container-id-5 div.sk-serial {display: flex;flex-direction: column;align-items: center;background-color: white;padding-right: 0.2em;padding-left: 0.2em;position: relative;}#sk-container-id-5 div.sk-item {position: relative;z-index: 1;}#sk-container-id-5 div.sk-parallel {display: flex;align-items: stretch;justify-content: center;background-color: white;position: relative;}#sk-container-id-5 div.sk-item::before, #sk-container-id-5 div.sk-parallel-item::before {content: \"\";position: absolute;border-left: 1px solid gray;box-sizing: border-box;top: 0;bottom: 0;left: 50%;z-index: -1;}#sk-container-id-5 div.sk-parallel-item {display: flex;flex-direction: column;z-index: 1;position: relative;background-color: white;}#sk-container-id-5 div.sk-parallel-item:first-child::after {align-self: flex-end;width: 50%;}#sk-container-id-5 div.sk-parallel-item:last-child::after {align-self: flex-start;width: 50%;}#sk-container-id-5 div.sk-parallel-item:only-child::after {width: 0;}#sk-container-id-5 div.sk-dashed-wrapped {border: 1px dashed gray;margin: 0 0.4em 0.5em 0.4em;box-sizing: border-box;padding-bottom: 0.4em;background-color: white;}#sk-container-id-5 div.sk-label label {font-family: monospace;font-weight: bold;display: inline-block;line-height: 1.2em;}#sk-container-id-5 div.sk-label-container {text-align: center;}#sk-container-id-5 div.sk-container {/* jupyter's `normalize.less` sets `[hidden] { display: none; }` but bootstrap.min.css set `[hidden] { display: none !important; }` so we also need the `!important` here to be able to override the default hidden behavior on the sphinx rendered scikit-learn.org. See: https://github.com/scikit-learn/scikit-learn/issues/21755 */display: inline-block !important;position: relative;}#sk-container-id-5 div.sk-text-repr-fallback {display: none;}</style><div id=\"sk-container-id-5\" class=\"sk-top-container\"><div class=\"sk-text-repr-fallback\"><pre>LogisticRegression(C=10, penalty=&#x27;l1&#x27;, random_state=1234, solver=&#x27;liblinear&#x27;)</pre><b>In a Jupyter environment, please rerun this cell to show the HTML representation or trust the notebook. <br />On GitHub, the HTML representation is unable to render, please try loading this page with nbviewer.org.</b></div><div class=\"sk-container\" hidden><div class=\"sk-item\"><div class=\"sk-estimator sk-toggleable\"><input class=\"sk-toggleable__control sk-hidden--visually\" id=\"sk-estimator-id-5\" type=\"checkbox\" checked><label for=\"sk-estimator-id-5\" class=\"sk-toggleable__label sk-toggleable__label-arrow\">LogisticRegression</label><div class=\"sk-toggleable__content\"><pre>LogisticRegression(C=10, penalty=&#x27;l1&#x27;, random_state=1234, solver=&#x27;liblinear&#x27;)</pre></div></div></div></div></div>"
      ],
      "text/plain": [
       "LogisticRegression(C=10, penalty='l1', random_state=1234, solver='liblinear')"
      ]
     },
     "execution_count": 207,
     "metadata": {},
     "output_type": "execute_result"
    }
   ],
   "source": [
    "optimised_lr = LogisticRegression(C = 10, penalty = \"l1\", solver = \"liblinear\", random_state = 1234)\n",
    "optimised_lr.fit(X_SMOTE, y_SMOTE)"
   ]
  },
  {
   "cell_type": "code",
   "execution_count": 208,
   "id": "d704eb6b",
   "metadata": {},
   "outputs": [
    {
     "name": "stdout",
     "output_type": "stream",
     "text": [
      "              precision    recall  f1-score   support\n",
      "\n",
      "         0.0       0.87      0.83      0.85      5800\n",
      "         1.0       0.50      0.58      0.54      1700\n",
      "\n",
      "    accuracy                           0.77      7500\n",
      "   macro avg       0.69      0.71      0.69      7500\n",
      "weighted avg       0.79      0.77      0.78      7500\n",
      "\n",
      "Accuracy:  0.7730666666666667\n",
      "Average Class Accuracy:  0.7060750507099391\n"
     ]
    }
   ],
   "source": [
    "y_pred_op_lr = optimised_lr.predict(X_test)\n",
    "print(classification_report(y_test, y_pred_op_lr))\n",
    "print('Accuracy: ', accuracy_score(y_test, y_pred_op_lr))\n",
    "print('Average Class Accuracy: ', balanced_accuracy_score(y_test, y_pred_op_lr))\n",
    "\n",
    "# small increase from naive model"
   ]
  },
  {
   "cell_type": "code",
   "execution_count": 209,
   "id": "bca294ee",
   "metadata": {},
   "outputs": [
    {
     "data": {
      "text/plain": [
       "Text(0.5, 1.0, 'Confusion Matrix - Tuned Logistic Regression Model')"
      ]
     },
     "execution_count": 209,
     "metadata": {},
     "output_type": "execute_result"
    },
    {
     "data": {
      "image/png": "[encoded data removed]",
      "text/plain": [
       "<Figure size 288x216 with 2 Axes>"
      ]
     },
     "metadata": {
      "needs_background": "light"
     },
     "output_type": "display_data"
    }
   ],
   "source": [
    "plt.figure(figsize=(4,3))\n",
    "ConfMatrix = confusion_matrix(y_test, y_pred_op_lr)\n",
    "sns.heatmap(ConfMatrix,annot=True, cmap=\"Blues\", fmt=\"d\", \n",
    "            xticklabels = ['Non-default', 'Default'], \n",
    "            yticklabels = ['Non-default', 'Default'])\n",
    "plt.ylabel('True label')\n",
    "plt.xlabel('Predicted label')\n",
    "plt.title(\"Confusion Matrix - Tuned Logistic Regression Model\")"
   ]
  },
  {
   "cell_type": "markdown",
   "id": "b3754741",
   "metadata": {},
   "source": [
    "### XGBoost"
   ]
  },
  {
   "cell_type": "markdown",
   "id": "f8516771",
   "metadata": {},
   "source": [
    "Naive Model"
   ]
  },
  {
   "cell_type": "code",
   "execution_count": 210,
   "id": "40868397",
   "metadata": {},
   "outputs": [
    {
     "data": {
      "text/html": [
       "<style>#sk-container-id-6 {color: black;background-color: white;}#sk-container-id-6 pre{padding: 0;}#sk-container-id-6 div.sk-toggleable {background-color: white;}#sk-container-id-6 label.sk-toggleable__label {cursor: pointer;display: block;width: 100%;margin-bottom: 0;padding: 0.3em;box-sizing: border-box;text-align: center;}#sk-container-id-6 label.sk-toggleable__label-arrow:before {content: \"▸\";float: left;margin-right: 0.25em;color: #696969;}#sk-container-id-6 label.sk-toggleable__label-arrow:hover:before {color: black;}#sk-container-id-6 div.sk-estimator:hover label.sk-toggleable__label-arrow:before {color: black;}#sk-container-id-6 div.sk-toggleable__content {max-height: 0;max-width: 0;overflow: hidden;text-align: left;background-color: #f0f8ff;}#sk-container-id-6 div.sk-toggleable__content pre {margin: 0.2em;color: black;border-radius: 0.25em;background-color: #f0f8ff;}#sk-container-id-6 input.sk-toggleable__control:checked~div.sk-toggleable__content {max-height: 200px;max-width: 100%;overflow: auto;}#sk-container-id-6 input.sk-toggleable__control:checked~label.sk-toggleable__label-arrow:before {content: \"▾\";}#sk-container-id-6 div.sk-estimator input.sk-toggleable__control:checked~label.sk-toggleable__label {background-color: #d4ebff;}#sk-container-id-6 div.sk-label input.sk-toggleable__control:checked~label.sk-toggleable__label {background-color: #d4ebff;}#sk-container-id-6 input.sk-hidden--visually {border: 0;clip: rect(1px 1px 1px 1px);clip: rect(1px, 1px, 1px, 1px);height: 1px;margin: -1px;overflow: hidden;padding: 0;position: absolute;width: 1px;}#sk-container-id-6 div.sk-estimator {font-family: monospace;background-color: #f0f8ff;border: 1px dotted black;border-radius: 0.25em;box-sizing: border-box;margin-bottom: 0.5em;}#sk-container-id-6 div.sk-estimator:hover {background-color: #d4ebff;}#sk-container-id-6 div.sk-parallel-item::after {content: \"\";width: 100%;border-bottom: 1px solid gray;flex-grow: 1;}#sk-container-id-6 div.sk-label:hover label.sk-toggleable__label {background-color: #d4ebff;}#sk-container-id-6 div.sk-serial::before {content: \"\";position: absolute;border-left: 1px solid gray;box-sizing: border-box;top: 0;bottom: 0;left: 50%;z-index: 0;}#sk-container-id-6 div.sk-serial {display: flex;flex-direction: column;align-items: center;background-color: white;padding-right: 0.2em;padding-left: 0.2em;position: relative;}#sk-container-id-6 div.sk-item {position: relative;z-index: 1;}#sk-container-id-6 div.sk-parallel {display: flex;align-items: stretch;justify-content: center;background-color: white;position: relative;}#sk-container-id-6 div.sk-item::before, #sk-container-id-6 div.sk-parallel-item::before {content: \"\";position: absolute;border-left: 1px solid gray;box-sizing: border-box;top: 0;bottom: 0;left: 50%;z-index: -1;}#sk-container-id-6 div.sk-parallel-item {display: flex;flex-direction: column;z-index: 1;position: relative;background-color: white;}#sk-container-id-6 div.sk-parallel-item:first-child::after {align-self: flex-end;width: 50%;}#sk-container-id-6 div.sk-parallel-item:last-child::after {align-self: flex-start;width: 50%;}#sk-container-id-6 div.sk-parallel-item:only-child::after {width: 0;}#sk-container-id-6 div.sk-dashed-wrapped {border: 1px dashed gray;margin: 0 0.4em 0.5em 0.4em;box-sizing: border-box;padding-bottom: 0.4em;background-color: white;}#sk-container-id-6 div.sk-label label {font-family: monospace;font-weight: bold;display: inline-block;line-height: 1.2em;}#sk-container-id-6 div.sk-label-container {text-align: center;}#sk-container-id-6 div.sk-container {/* jupyter's `normalize.less` sets `[hidden] { display: none; }` but bootstrap.min.css set `[hidden] { display: none !important; }` so we also need the `!important` here to be able to override the default hidden behavior on the sphinx rendered scikit-learn.org. See: https://github.com/scikit-learn/scikit-learn/issues/21755 */display: inline-block !important;position: relative;}#sk-container-id-6 div.sk-text-repr-fallback {display: none;}</style><div id=\"sk-container-id-6\" class=\"sk-top-container\"><div class=\"sk-text-repr-fallback\"><pre>XGBClassifier(base_score=0.5, booster=&#x27;gbtree&#x27;, callbacks=None,\n",
       "              colsample_bylevel=1, colsample_bynode=1, colsample_bytree=1,\n",
       "              early_stopping_rounds=None, enable_categorical=False,\n",
       "              eval_metric=None, gamma=0, gpu_id=-1, grow_policy=&#x27;depthwise&#x27;,\n",
       "              importance_type=None, interaction_constraints=&#x27;&#x27;,\n",
       "              learning_rate=0.300000012, max_bin=256, max_cat_to_onehot=4,\n",
       "              max_delta_step=0, max_depth=6, max_leaves=0, min_child_weight=1,\n",
       "              missing=nan, monotone_constraints=&#x27;()&#x27;, n_estimators=100,\n",
       "              n_jobs=0, num_parallel_tree=1, predictor=&#x27;auto&#x27;, random_state=0,\n",
       "              reg_alpha=0, reg_lambda=1, ...)</pre><b>In a Jupyter environment, please rerun this cell to show the HTML representation or trust the notebook. <br />On GitHub, the HTML representation is unable to render, please try loading this page with nbviewer.org.</b></div><div class=\"sk-container\" hidden><div class=\"sk-item\"><div class=\"sk-estimator sk-toggleable\"><input class=\"sk-toggleable__control sk-hidden--visually\" id=\"sk-estimator-id-6\" type=\"checkbox\" checked><label for=\"sk-estimator-id-6\" class=\"sk-toggleable__label sk-toggleable__label-arrow\">XGBClassifier</label><div class=\"sk-toggleable__content\"><pre>XGBClassifier(base_score=0.5, booster=&#x27;gbtree&#x27;, callbacks=None,\n",
       "              colsample_bylevel=1, colsample_bynode=1, colsample_bytree=1,\n",
       "              early_stopping_rounds=None, enable_categorical=False,\n",
       "              eval_metric=None, gamma=0, gpu_id=-1, grow_policy=&#x27;depthwise&#x27;,\n",
       "              importance_type=None, interaction_constraints=&#x27;&#x27;,\n",
       "              learning_rate=0.300000012, max_bin=256, max_cat_to_onehot=4,\n",
       "              max_delta_step=0, max_depth=6, max_leaves=0, min_child_weight=1,\n",
       "              missing=nan, monotone_constraints=&#x27;()&#x27;, n_estimators=100,\n",
       "              n_jobs=0, num_parallel_tree=1, predictor=&#x27;auto&#x27;, random_state=0,\n",
       "              reg_alpha=0, reg_lambda=1, ...)</pre></div></div></div></div></div>"
      ],
      "text/plain": [
       "XGBClassifier(base_score=0.5, booster='gbtree', callbacks=None,\n",
       "              colsample_bylevel=1, colsample_bynode=1, colsample_bytree=1,\n",
       "              early_stopping_rounds=None, enable_categorical=False,\n",
       "              eval_metric=None, gamma=0, gpu_id=-1, grow_policy='depthwise',\n",
       "              importance_type=None, interaction_constraints='',\n",
       "              learning_rate=0.300000012, max_bin=256, max_cat_to_onehot=4,\n",
       "              max_delta_step=0, max_depth=6, max_leaves=0, min_child_weight=1,\n",
       "              missing=nan, monotone_constraints='()', n_estimators=100,\n",
       "              n_jobs=0, num_parallel_tree=1, predictor='auto', random_state=0,\n",
       "              reg_alpha=0, reg_lambda=1, ...)"
      ]
     },
     "execution_count": 210,
     "metadata": {},
     "output_type": "execute_result"
    }
   ],
   "source": [
    "model_xgb = XGBClassifier()\n",
    "model_xgb.fit(X_train_naive, y_train_naive)"
   ]
  },
  {
   "cell_type": "code",
   "execution_count": 211,
   "id": "1e5ff53b",
   "metadata": {},
   "outputs": [
    {
     "name": "stdout",
     "output_type": "stream",
     "text": [
      "              precision    recall  f1-score   support\n",
      "\n",
      "           0       0.84      0.94      0.89      5800\n",
      "           1       0.66      0.37      0.48      1700\n",
      "\n",
      "    accuracy                           0.81      7500\n",
      "   macro avg       0.75      0.66      0.68      7500\n",
      "weighted avg       0.80      0.81      0.79      7500\n",
      "\n",
      "Accuracy:  0.8144\n",
      "Average Class Accuracy:  0.6575354969574037\n"
     ]
    }
   ],
   "source": [
    "y_pred_xgb = model_xgb.predict(X_test_naive)\n",
    "predictions = [round(value) for value in y_pred_xgb]\n",
    "print(classification_report(y_test_naive, predictions))\n",
    "print('Accuracy: ', accuracy_score(y_test_naive, predictions))\n",
    "print('Average Class Accuracy: ', balanced_accuracy_score(y_test_naive, predictions))"
   ]
  },
  {
   "cell_type": "code",
   "execution_count": 212,
   "id": "3d2a0c07",
   "metadata": {},
   "outputs": [
    {
     "data": {
      "text/plain": [
       "Text(0.5, 1.0, 'Confusion Matrix - Naive XGBoost Classifier')"
      ]
     },
     "execution_count": 212,
     "metadata": {},
     "output_type": "execute_result"
    },
    {
     "data": {
      "image/png": "[encoded data removed]",
      "text/plain": [
       "<Figure size 288x216 with 2 Axes>"
      ]
     },
     "metadata": {
      "needs_background": "light"
     },
     "output_type": "display_data"
    }
   ],
   "source": [
    "plt.figure(figsize=(4,3))\n",
    "ConfMatrix = confusion_matrix(y_test, y_pred_xgb)\n",
    "sns.heatmap(ConfMatrix,annot=True, cmap=\"Blues\", fmt=\"d\", \n",
    "            xticklabels = ['Non-default', 'Default'], \n",
    "            yticklabels = ['Non-default', 'Default'])\n",
    "plt.ylabel('True label')\n",
    "plt.xlabel('Predicted label')\n",
    "plt.title(\"Confusion Matrix - Naive XGBoost Classifier\")"
   ]
  },
  {
   "cell_type": "markdown",
   "id": "dcdb1125",
   "metadata": {},
   "source": [
    "Tuned Model"
   ]
  },
  {
   "cell_type": "code",
   "execution_count": 213,
   "id": "89d29393",
   "metadata": {},
   "outputs": [
    {
     "name": "stdout",
     "output_type": "stream",
     "text": [
      "[21:22:26] WARNING: C:/Users/administrator/workspace/xgboost-win64_release_1.6.0/src/learner.cc:627: \n",
      "Parameters: { \"scaled_pos_weight\" } might not be used.\n",
      "\n",
      "  This could be a false alarm, with some parameters getting used by language bindings but\n",
      "  then being mistakenly passed down to XGBoost core, or some parameter actually being used\n",
      "  but getting flagged wrongly here. Please open an issue if you find any such cases.\n",
      "\n",
      "\n",
      "{'colsample_bytree': 0.8, 'gamma': 1, 'learning_rate': 0.15, 'max_depth': 6, 'min_child_weight': 3}\n"
     ]
    }
   ],
   "source": [
    "# hyperparameter tuning\n",
    "param_test = {\n",
    "        'min_child_weight': [1, 3, 5],\n",
    "        'gamma': [0.5, 1, 1.5],\n",
    "        \"learning_rate\"    : [0.05, 0.10, 0.15],\n",
    "        'colsample_bytree': [0.6, 0.8, 1.0],\n",
    "        'max_depth': [3, 4, 5, 6]}\n",
    "scale_pos_weight = 23364/6636    # values of non-default/default obtained from EDA above\n",
    "tuned_xgb = XGBClassifier(scaled_pos_weight = scale_pos_weight)\n",
    "gsearch7 = GridSearchCV(estimator = tuned_xgb, param_grid = param_test, scoring= 'accuracy', n_jobs=2, cv=5)\n",
    "gsearch7.fit(X_SMOTE, y_SMOTE)\n",
    "print(gsearch7.best_params_)"
   ]
  },
  {
   "cell_type": "code",
   "execution_count": 214,
   "id": "7a63cc9b",
   "metadata": {},
   "outputs": [
    {
     "data": {
      "text/html": [
       "<style>#sk-container-id-7 {color: black;background-color: white;}#sk-container-id-7 pre{padding: 0;}#sk-container-id-7 div.sk-toggleable {background-color: white;}#sk-container-id-7 label.sk-toggleable__label {cursor: pointer;display: block;width: 100%;margin-bottom: 0;padding: 0.3em;box-sizing: border-box;text-align: center;}#sk-container-id-7 label.sk-toggleable__label-arrow:before {content: \"▸\";float: left;margin-right: 0.25em;color: #696969;}#sk-container-id-7 label.sk-toggleable__label-arrow:hover:before {color: black;}#sk-container-id-7 div.sk-estimator:hover label.sk-toggleable__label-arrow:before {color: black;}#sk-container-id-7 div.sk-toggleable__content {max-height: 0;max-width: 0;overflow: hidden;text-align: left;background-color: #f0f8ff;}#sk-container-id-7 div.sk-toggleable__content pre {margin: 0.2em;color: black;border-radius: 0.25em;background-color: #f0f8ff;}#sk-container-id-7 input.sk-toggleable__control:checked~div.sk-toggleable__content {max-height: 200px;max-width: 100%;overflow: auto;}#sk-container-id-7 input.sk-toggleable__control:checked~label.sk-toggleable__label-arrow:before {content: \"▾\";}#sk-container-id-7 div.sk-estimator input.sk-toggleable__control:checked~label.sk-toggleable__label {background-color: #d4ebff;}#sk-container-id-7 div.sk-label input.sk-toggleable__control:checked~label.sk-toggleable__label {background-color: #d4ebff;}#sk-container-id-7 input.sk-hidden--visually {border: 0;clip: rect(1px 1px 1px 1px);clip: rect(1px, 1px, 1px, 1px);height: 1px;margin: -1px;overflow: hidden;padding: 0;position: absolute;width: 1px;}#sk-container-id-7 div.sk-estimator {font-family: monospace;background-color: #f0f8ff;border: 1px dotted black;border-radius: 0.25em;box-sizing: border-box;margin-bottom: 0.5em;}#sk-container-id-7 div.sk-estimator:hover {background-color: #d4ebff;}#sk-container-id-7 div.sk-parallel-item::after {content: \"\";width: 100%;border-bottom: 1px solid gray;flex-grow: 1;}#sk-container-id-7 div.sk-label:hover label.sk-toggleable__label {background-color: #d4ebff;}#sk-container-id-7 div.sk-serial::before {content: \"\";position: absolute;border-left: 1px solid gray;box-sizing: border-box;top: 0;bottom: 0;left: 50%;z-index: 0;}#sk-container-id-7 div.sk-serial {display: flex;flex-direction: column;align-items: center;background-color: white;padding-right: 0.2em;padding-left: 0.2em;position: relative;}#sk-container-id-7 div.sk-item {position: relative;z-index: 1;}#sk-container-id-7 div.sk-parallel {display: flex;align-items: stretch;justify-content: center;background-color: white;position: relative;}#sk-container-id-7 div.sk-item::before, #sk-container-id-7 div.sk-parallel-item::before {content: \"\";position: absolute;border-left: 1px solid gray;box-sizing: border-box;top: 0;bottom: 0;left: 50%;z-index: -1;}#sk-container-id-7 div.sk-parallel-item {display: flex;flex-direction: column;z-index: 1;position: relative;background-color: white;}#sk-container-id-7 div.sk-parallel-item:first-child::after {align-self: flex-end;width: 50%;}#sk-container-id-7 div.sk-parallel-item:last-child::after {align-self: flex-start;width: 50%;}#sk-container-id-7 div.sk-parallel-item:only-child::after {width: 0;}#sk-container-id-7 div.sk-dashed-wrapped {border: 1px dashed gray;margin: 0 0.4em 0.5em 0.4em;box-sizing: border-box;padding-bottom: 0.4em;background-color: white;}#sk-container-id-7 div.sk-label label {font-family: monospace;font-weight: bold;display: inline-block;line-height: 1.2em;}#sk-container-id-7 div.sk-label-container {text-align: center;}#sk-container-id-7 div.sk-container {/* jupyter's `normalize.less` sets `[hidden] { display: none; }` but bootstrap.min.css set `[hidden] { display: none !important; }` so we also need the `!important` here to be able to override the default hidden behavior on the sphinx rendered scikit-learn.org. See: https://github.com/scikit-learn/scikit-learn/issues/21755 */display: inline-block !important;position: relative;}#sk-container-id-7 div.sk-text-repr-fallback {display: none;}</style><div id=\"sk-container-id-7\" class=\"sk-top-container\"><div class=\"sk-text-repr-fallback\"><pre>XGBClassifier(base_score=0.5, booster=&#x27;gbtree&#x27;, callbacks=None,\n",
       "              colsample_bylevel=1, colsample_bynode=1, colsample_bytree=0.8,\n",
       "              early_stopping_rounds=None, enable_categorical=False,\n",
       "              eval_metric=None, gamma=1, gpu_id=-1, grow_policy=&#x27;depthwise&#x27;,\n",
       "              importance_type=None, interaction_constraints=&#x27;&#x27;,\n",
       "              learning_rate=0.15, max_bin=256, max_cat_to_onehot=4,\n",
       "              max_delta_step=0, max_depth=6, max_leaves=0, min_child_weight=3,\n",
       "              missing=nan, monotone_constraints=&#x27;()&#x27;, n_estimators=100,\n",
       "              n_jobs=0, num_parallel_tree=1, predictor=&#x27;auto&#x27;, random_state=0,\n",
       "              reg_alpha=0, reg_lambda=1, ...)</pre><b>In a Jupyter environment, please rerun this cell to show the HTML representation or trust the notebook. <br />On GitHub, the HTML representation is unable to render, please try loading this page with nbviewer.org.</b></div><div class=\"sk-container\" hidden><div class=\"sk-item\"><div class=\"sk-estimator sk-toggleable\"><input class=\"sk-toggleable__control sk-hidden--visually\" id=\"sk-estimator-id-7\" type=\"checkbox\" checked><label for=\"sk-estimator-id-7\" class=\"sk-toggleable__label sk-toggleable__label-arrow\">XGBClassifier</label><div class=\"sk-toggleable__content\"><pre>XGBClassifier(base_score=0.5, booster=&#x27;gbtree&#x27;, callbacks=None,\n",
       "              colsample_bylevel=1, colsample_bynode=1, colsample_bytree=0.8,\n",
       "              early_stopping_rounds=None, enable_categorical=False,\n",
       "              eval_metric=None, gamma=1, gpu_id=-1, grow_policy=&#x27;depthwise&#x27;,\n",
       "              importance_type=None, interaction_constraints=&#x27;&#x27;,\n",
       "              learning_rate=0.15, max_bin=256, max_cat_to_onehot=4,\n",
       "              max_delta_step=0, max_depth=6, max_leaves=0, min_child_weight=3,\n",
       "              missing=nan, monotone_constraints=&#x27;()&#x27;, n_estimators=100,\n",
       "              n_jobs=0, num_parallel_tree=1, predictor=&#x27;auto&#x27;, random_state=0,\n",
       "              reg_alpha=0, reg_lambda=1, ...)</pre></div></div></div></div></div>"
      ],
      "text/plain": [
       "XGBClassifier(base_score=0.5, booster='gbtree', callbacks=None,\n",
       "              colsample_bylevel=1, colsample_bynode=1, colsample_bytree=0.8,\n",
       "              early_stopping_rounds=None, enable_categorical=False,\n",
       "              eval_metric=None, gamma=1, gpu_id=-1, grow_policy='depthwise',\n",
       "              importance_type=None, interaction_constraints='',\n",
       "              learning_rate=0.15, max_bin=256, max_cat_to_onehot=4,\n",
       "              max_delta_step=0, max_depth=6, max_leaves=0, min_child_weight=3,\n",
       "              missing=nan, monotone_constraints='()', n_estimators=100,\n",
       "              n_jobs=0, num_parallel_tree=1, predictor='auto', random_state=0,\n",
       "              reg_alpha=0, reg_lambda=1, ...)"
      ]
     },
     "execution_count": 214,
     "metadata": {},
     "output_type": "execute_result"
    }
   ],
   "source": [
    "optimised_xgb = XGBClassifier(colsample_bytree = 0.8, gamma = 1, learning_rate = 0.15, max_depth = 6, min_child_weight = 3)\n",
    "optimised_xgb.fit(X_SMOTE, y_SMOTE)"
   ]
  },
  {
   "cell_type": "code",
   "execution_count": 215,
   "id": "13888e71",
   "metadata": {},
   "outputs": [
    {
     "name": "stdout",
     "output_type": "stream",
     "text": [
      "              precision    recall  f1-score   support\n",
      "\n",
      "         0.0       0.86      0.87      0.86      5800\n",
      "         1.0       0.54      0.50      0.52      1700\n",
      "\n",
      "    accuracy                           0.79      7500\n",
      "   macro avg       0.70      0.69      0.69      7500\n",
      "weighted avg       0.78      0.79      0.79      7500\n",
      "\n",
      "Accuracy:  0.7885333333333333\n",
      "Average Class Accuracy:  0.6855121703853955\n"
     ]
    }
   ],
   "source": [
    "# printing accuracy of optimised xgb\n",
    "y_pred_op_xgb = optimised_xgb.predict(X_test)\n",
    "print(classification_report(y_test, y_pred_op_xgb))\n",
    "print('Accuracy: ', accuracy_score(y_test, y_pred_op_xgb))\n",
    "print('Average Class Accuracy: ', balanced_accuracy_score(y_test, y_pred_op_xgb))\n",
    "\n",
    "# overall slight increase in accuracy as compared to naive model"
   ]
  },
  {
   "cell_type": "code",
   "execution_count": 216,
   "id": "ac7a2019",
   "metadata": {},
   "outputs": [
    {
     "data": {
      "text/plain": [
       "Text(0.5, 1.0, 'Confusion Matrix - Tuned XGBoost Classifier')"
      ]
     },
     "execution_count": 216,
     "metadata": {},
     "output_type": "execute_result"
    },
    {
     "data": {
      "image/png": "[encoded data removed]",
      "text/plain": [
       "<Figure size 288x216 with 2 Axes>"
      ]
     },
     "metadata": {
      "needs_background": "light"
     },
     "output_type": "display_data"
    }
   ],
   "source": [
    "plt.figure(figsize=(4,3))\n",
    "ConfMatrix = confusion_matrix(y_test, y_pred_op_xgb)\n",
    "sns.heatmap(ConfMatrix,annot=True, cmap=\"Blues\", fmt=\"d\", \n",
    "            xticklabels = ['Non-default', 'Default'], \n",
    "            yticklabels = ['Non-default', 'Default'])\n",
    "plt.ylabel('True label')\n",
    "plt.xlabel('Predicted label')\n",
    "plt.title(\"Confusion Matrix - Tuned XGBoost Classifier\")"
   ]
  },
  {
   "cell_type": "markdown",
   "id": "e6111eb2",
   "metadata": {},
   "source": [
    "### Neural Network"
   ]
  },
  {
   "cell_type": "markdown",
   "id": "7e9cf590",
   "metadata": {},
   "source": [
    "Naive Model"
   ]
  },
  {
   "cell_type": "code",
   "execution_count": 217,
   "id": "046f1213",
   "metadata": {},
   "outputs": [
    {
     "name": "stdout",
     "output_type": "stream",
     "text": [
      "Model: \"sequential_1\"\n",
      "_________________________________________________________________\n",
      " Layer (type)                Output Shape              Param #   \n",
      "=================================================================\n",
      " dense_3 (Dense)             (None, 23)                552       \n",
      "                                                                 \n",
      " dropout_2 (Dropout)         (None, 23)                0         \n",
      "                                                                 \n",
      " dense_4 (Dense)             (None, 11)                264       \n",
      "                                                                 \n",
      " dropout_3 (Dropout)         (None, 11)                0         \n",
      "                                                                 \n",
      " dense_5 (Dense)             (None, 1)                 12        \n",
      "                                                                 \n",
      "=================================================================\n",
      "Total params: 828\n",
      "Trainable params: 828\n",
      "Non-trainable params: 0\n",
      "_________________________________________________________________\n"
     ]
    }
   ],
   "source": [
    "from tensorflow import keras\n",
    "\n",
    "model = keras.Sequential(\n",
    "    [\n",
    "        keras.layers.Dense(\n",
    "            len(X_train_naive.columns), activation=\"relu\", input_shape=(X_train_naive.shape[-1],)\n",
    "        ),\n",
    "        keras.layers.Dropout(0.3),\n",
    "        keras.layers.Dense(len(X_train_naive.columns) / 2, activation=\"relu\"),\n",
    "        keras.layers.Dropout(0.3),\n",
    "        keras.layers.Dense(1, activation=\"sigmoid\"),\n",
    "    ]\n",
    ")\n",
    "model.summary()"
   ]
  },
  {
   "cell_type": "code",
   "execution_count": 218,
   "id": "358ae493",
   "metadata": {},
   "outputs": [
    {
     "name": "stdout",
     "output_type": "stream",
     "text": [
      "Epoch 1/100\n",
      "113/113 [==============================] - 1s 4ms/step - loss: 510.2473 - fn: 4647.0000 - fp: 1044.0000 - tn: 16520.0000 - tp: 289.0000 - precision: 0.2168 - recall: 0.0585 - Accuracy: 0.1344 - val_loss: 0.5543 - val_fn: 1700.0000 - val_fp: 0.0000e+00 - val_tn: 5800.0000 - val_tp: 0.0000e+00 - val_precision: 0.0000e+00 - val_recall: 0.0000e+00 - val_Accuracy: 0.0000e+00\n",
      "Epoch 2/100\n",
      "113/113 [==============================] - 0s 2ms/step - loss: 10.1599 - fn: 4876.0000 - fp: 202.0000 - tn: 17362.0000 - tp: 60.0000 - precision: 0.2290 - recall: 0.0122 - Accuracy: 0.0072 - val_loss: 0.5357 - val_fn: 1700.0000 - val_fp: 0.0000e+00 - val_tn: 5800.0000 - val_tp: 0.0000e+00 - val_precision: 0.0000e+00 - val_recall: 0.0000e+00 - val_Accuracy: 0.0000e+00\n",
      "Epoch 3/100\n",
      "113/113 [==============================] - 0s 2ms/step - loss: 3.4230 - fn: 4903.0000 - fp: 158.0000 - tn: 17406.0000 - tp: 33.0000 - precision: 0.1728 - recall: 0.0067 - Accuracy: 0.0077 - val_loss: 0.5352 - val_fn: 1700.0000 - val_fp: 0.0000e+00 - val_tn: 5800.0000 - val_tp: 0.0000e+00 - val_precision: 0.0000e+00 - val_recall: 0.0000e+00 - val_Accuracy: 0.0000e+00\n",
      "Epoch 4/100\n",
      "113/113 [==============================] - 0s 2ms/step - loss: 2.4542 - fn: 4885.0000 - fp: 149.0000 - tn: 17415.0000 - tp: 51.0000 - precision: 0.2550 - recall: 0.0103 - Accuracy: 0.0053 - val_loss: 0.5353 - val_fn: 1700.0000 - val_fp: 0.0000e+00 - val_tn: 5800.0000 - val_tp: 0.0000e+00 - val_precision: 0.0000e+00 - val_recall: 0.0000e+00 - val_Accuracy: 0.0000e+00\n",
      "Epoch 5/100\n",
      "113/113 [==============================] - 0s 2ms/step - loss: 1.8688 - fn: 4905.0000 - fp: 134.0000 - tn: 17430.0000 - tp: 31.0000 - precision: 0.1879 - recall: 0.0063 - Accuracy: 0.0036 - val_loss: 0.5353 - val_fn: 1700.0000 - val_fp: 0.0000e+00 - val_tn: 5800.0000 - val_tp: 0.0000e+00 - val_precision: 0.0000e+00 - val_recall: 0.0000e+00 - val_Accuracy: 0.0000e+00\n",
      "Epoch 6/100\n",
      "113/113 [==============================] - 0s 2ms/step - loss: 1.2291 - fn: 4907.0000 - fp: 103.0000 - tn: 17461.0000 - tp: 29.0000 - precision: 0.2197 - recall: 0.0059 - Accuracy: 0.0053 - val_loss: 0.5353 - val_fn: 1700.0000 - val_fp: 0.0000e+00 - val_tn: 5800.0000 - val_tp: 0.0000e+00 - val_precision: 0.0000e+00 - val_recall: 0.0000e+00 - val_Accuracy: 0.0000e+00\n",
      "Epoch 7/100\n",
      "113/113 [==============================] - 0s 2ms/step - loss: 1.3172 - fn: 4907.0000 - fp: 100.0000 - tn: 17464.0000 - tp: 29.0000 - precision: 0.2248 - recall: 0.0059 - Accuracy: 0.0053 - val_loss: 0.5354 - val_fn: 1700.0000 - val_fp: 0.0000e+00 - val_tn: 5800.0000 - val_tp: 0.0000e+00 - val_precision: 0.0000e+00 - val_recall: 0.0000e+00 - val_Accuracy: 0.0000e+00\n",
      "Epoch 8/100\n",
      "113/113 [==============================] - 0s 2ms/step - loss: 0.8233 - fn: 4912.0000 - fp: 96.0000 - tn: 17468.0000 - tp: 24.0000 - precision: 0.2000 - recall: 0.0049 - Accuracy: 0.0032 - val_loss: 0.5353 - val_fn: 1700.0000 - val_fp: 0.0000e+00 - val_tn: 5800.0000 - val_tp: 0.0000e+00 - val_precision: 0.0000e+00 - val_recall: 0.0000e+00 - val_Accuracy: 0.0000e+00\n",
      "Epoch 9/100\n",
      "113/113 [==============================] - 0s 2ms/step - loss: 1.2268 - fn: 4926.0000 - fp: 34.0000 - tn: 17530.0000 - tp: 10.0000 - precision: 0.2273 - recall: 0.0020 - Accuracy: 0.0032 - val_loss: 0.5352 - val_fn: 1700.0000 - val_fp: 0.0000e+00 - val_tn: 5800.0000 - val_tp: 0.0000e+00 - val_precision: 0.0000e+00 - val_recall: 0.0000e+00 - val_Accuracy: 0.0000e+00\n",
      "Epoch 10/100\n",
      "113/113 [==============================] - 0s 2ms/step - loss: 0.8547 - fn: 4930.0000 - fp: 33.0000 - tn: 17531.0000 - tp: 6.0000 - precision: 0.1538 - recall: 0.0012 - Accuracy: 0.0022 - val_loss: 0.5353 - val_fn: 1700.0000 - val_fp: 0.0000e+00 - val_tn: 5800.0000 - val_tp: 0.0000e+00 - val_precision: 0.0000e+00 - val_recall: 0.0000e+00 - val_Accuracy: 0.0000e+00\n",
      "Epoch 11/100\n",
      "113/113 [==============================] - 0s 2ms/step - loss: 0.6085 - fn: 4933.0000 - fp: 28.0000 - tn: 17536.0000 - tp: 3.0000 - precision: 0.0968 - recall: 6.0778e-04 - Accuracy: 0.0011 - val_loss: 0.5355 - val_fn: 1700.0000 - val_fp: 0.0000e+00 - val_tn: 5800.0000 - val_tp: 0.0000e+00 - val_precision: 0.0000e+00 - val_recall: 0.0000e+00 - val_Accuracy: 0.0000e+00\n",
      "Epoch 12/100\n",
      "113/113 [==============================] - 0s 2ms/step - loss: 0.7825 - fn: 4930.0000 - fp: 31.0000 - tn: 17533.0000 - tp: 6.0000 - precision: 0.1622 - recall: 0.0012 - Accuracy: 6.2222e-04 - val_loss: 0.5355 - val_fn: 1700.0000 - val_fp: 0.0000e+00 - val_tn: 5800.0000 - val_tp: 0.0000e+00 - val_precision: 0.0000e+00 - val_recall: 0.0000e+00 - val_Accuracy: 0.0000e+00\n",
      "Epoch 13/100\n",
      "113/113 [==============================] - 0s 2ms/step - loss: 0.5744 - fn: 4931.0000 - fp: 22.0000 - tn: 17542.0000 - tp: 5.0000 - precision: 0.1852 - recall: 0.0010 - Accuracy: 7.5556e-04 - val_loss: 0.5354 - val_fn: 1700.0000 - val_fp: 0.0000e+00 - val_tn: 5800.0000 - val_tp: 0.0000e+00 - val_precision: 0.0000e+00 - val_recall: 0.0000e+00 - val_Accuracy: 0.0000e+00\n",
      "Epoch 14/100\n",
      "113/113 [==============================] - 0s 2ms/step - loss: 0.6264 - fn: 4924.0000 - fp: 45.0000 - tn: 17519.0000 - tp: 12.0000 - precision: 0.2105 - recall: 0.0024 - Accuracy: 0.0016 - val_loss: 0.5356 - val_fn: 1700.0000 - val_fp: 0.0000e+00 - val_tn: 5800.0000 - val_tp: 0.0000e+00 - val_precision: 0.0000e+00 - val_recall: 0.0000e+00 - val_Accuracy: 0.0000e+00\n",
      "Epoch 15/100\n",
      "113/113 [==============================] - 0s 2ms/step - loss: 0.7120 - fn: 4924.0000 - fp: 40.0000 - tn: 17524.0000 - tp: 12.0000 - precision: 0.2308 - recall: 0.0024 - Accuracy: 9.3333e-04 - val_loss: 0.5355 - val_fn: 1700.0000 - val_fp: 0.0000e+00 - val_tn: 5800.0000 - val_tp: 0.0000e+00 - val_precision: 0.0000e+00 - val_recall: 0.0000e+00 - val_Accuracy: 0.0000e+00\n",
      "Epoch 16/100\n",
      "113/113 [==============================] - 0s 2ms/step - loss: 0.5752 - fn: 4934.0000 - fp: 20.0000 - tn: 17544.0000 - tp: 2.0000 - precision: 0.0909 - recall: 4.0519e-04 - Accuracy: 3.1111e-04 - val_loss: 0.5353 - val_fn: 1700.0000 - val_fp: 0.0000e+00 - val_tn: 5800.0000 - val_tp: 0.0000e+00 - val_precision: 0.0000e+00 - val_recall: 0.0000e+00 - val_Accuracy: 0.0000e+00\n",
      "Epoch 17/100\n",
      "113/113 [==============================] - 0s 2ms/step - loss: 0.6425 - fn: 4933.0000 - fp: 20.0000 - tn: 17544.0000 - tp: 3.0000 - precision: 0.1304 - recall: 6.0778e-04 - Accuracy: 4.8889e-04 - val_loss: 0.5352 - val_fn: 1700.0000 - val_fp: 0.0000e+00 - val_tn: 5800.0000 - val_tp: 0.0000e+00 - val_precision: 0.0000e+00 - val_recall: 0.0000e+00 - val_Accuracy: 0.0000e+00\n",
      "Epoch 18/100\n",
      "113/113 [==============================] - 0s 2ms/step - loss: 0.6511 - fn: 4935.0000 - fp: 33.0000 - tn: 17531.0000 - tp: 1.0000 - precision: 0.0294 - recall: 2.0259e-04 - Accuracy: 4.4444e-04 - val_loss: 0.5355 - val_fn: 1700.0000 - val_fp: 0.0000e+00 - val_tn: 5800.0000 - val_tp: 0.0000e+00 - val_precision: 0.0000e+00 - val_recall: 0.0000e+00 - val_Accuracy: 0.0000e+00\n",
      "Epoch 19/100\n",
      "113/113 [==============================] - 0s 2ms/step - loss: 0.5626 - fn: 4936.0000 - fp: 5.0000 - tn: 17559.0000 - tp: 0.0000e+00 - precision: 0.0000e+00 - recall: 0.0000e+00 - Accuracy: 4.8889e-04 - val_loss: 0.5353 - val_fn: 1700.0000 - val_fp: 0.0000e+00 - val_tn: 5800.0000 - val_tp: 0.0000e+00 - val_precision: 0.0000e+00 - val_recall: 0.0000e+00 - val_Accuracy: 0.0000e+00\n",
      "Epoch 20/100\n",
      "113/113 [==============================] - 0s 2ms/step - loss: 0.5658 - fn: 4934.0000 - fp: 12.0000 - tn: 17552.0000 - tp: 2.0000 - precision: 0.1429 - recall: 4.0519e-04 - Accuracy: 4.0000e-04 - val_loss: 0.5353 - val_fn: 1700.0000 - val_fp: 0.0000e+00 - val_tn: 5800.0000 - val_tp: 0.0000e+00 - val_precision: 0.0000e+00 - val_recall: 0.0000e+00 - val_Accuracy: 0.0000e+00\n",
      "Epoch 21/100\n",
      "113/113 [==============================] - 0s 2ms/step - loss: 0.5537 - fn: 4933.0000 - fp: 12.0000 - tn: 17552.0000 - tp: 3.0000 - precision: 0.2000 - recall: 6.0778e-04 - Accuracy: 8.8889e-04 - val_loss: 0.5353 - val_fn: 1700.0000 - val_fp: 0.0000e+00 - val_tn: 5800.0000 - val_tp: 0.0000e+00 - val_precision: 0.0000e+00 - val_recall: 0.0000e+00 - val_Accuracy: 0.0000e+00\n",
      "Epoch 22/100\n",
      "113/113 [==============================] - 0s 2ms/step - loss: 0.5593 - fn: 4932.0000 - fp: 13.0000 - tn: 17551.0000 - tp: 4.0000 - precision: 0.2353 - recall: 8.1037e-04 - Accuracy: 2.6667e-04 - val_loss: 0.5354 - val_fn: 1700.0000 - val_fp: 0.0000e+00 - val_tn: 5800.0000 - val_tp: 0.0000e+00 - val_precision: 0.0000e+00 - val_recall: 0.0000e+00 - val_Accuracy: 0.0000e+00\n",
      "Epoch 23/100\n",
      "113/113 [==============================] - 0s 2ms/step - loss: 0.5495 - fn: 4931.0000 - fp: 12.0000 - tn: 17552.0000 - tp: 5.0000 - precision: 0.2941 - recall: 0.0010 - Accuracy: 1.3333e-04 - val_loss: 0.5354 - val_fn: 1700.0000 - val_fp: 0.0000e+00 - val_tn: 5800.0000 - val_tp: 0.0000e+00 - val_precision: 0.0000e+00 - val_recall: 0.0000e+00 - val_Accuracy: 0.0000e+00\n",
      "Epoch 24/100\n",
      "113/113 [==============================] - 0s 2ms/step - loss: 0.5723 - fn: 4936.0000 - fp: 5.0000 - tn: 17559.0000 - tp: 0.0000e+00 - precision: 0.0000e+00 - recall: 0.0000e+00 - Accuracy: 3.1111e-04 - val_loss: 0.5356 - val_fn: 1700.0000 - val_fp: 0.0000e+00 - val_tn: 5800.0000 - val_tp: 0.0000e+00 - val_precision: 0.0000e+00 - val_recall: 0.0000e+00 - val_Accuracy: 0.0000e+00\n",
      "Epoch 25/100\n",
      "113/113 [==============================] - 0s 2ms/step - loss: 0.5440 - fn: 4935.0000 - fp: 10.0000 - tn: 17554.0000 - tp: 1.0000 - precision: 0.0909 - recall: 2.0259e-04 - Accuracy: 4.0000e-04 - val_loss: 0.5353 - val_fn: 1700.0000 - val_fp: 0.0000e+00 - val_tn: 5800.0000 - val_tp: 0.0000e+00 - val_precision: 0.0000e+00 - val_recall: 0.0000e+00 - val_Accuracy: 0.0000e+00\n",
      "Epoch 26/100\n",
      "113/113 [==============================] - 0s 2ms/step - loss: 0.5638 - fn: 4936.0000 - fp: 4.0000 - tn: 17560.0000 - tp: 0.0000e+00 - precision: 0.0000e+00 - recall: 0.0000e+00 - Accuracy: 8.8889e-04 - val_loss: 0.5353 - val_fn: 1700.0000 - val_fp: 0.0000e+00 - val_tn: 5800.0000 - val_tp: 0.0000e+00 - val_precision: 0.0000e+00 - val_recall: 0.0000e+00 - val_Accuracy: 0.0000e+00\n",
      "Epoch 27/100\n",
      "113/113 [==============================] - 0s 2ms/step - loss: 0.5905 - fn: 4930.0000 - fp: 10.0000 - tn: 17554.0000 - tp: 6.0000 - precision: 0.3750 - recall: 0.0012 - Accuracy: 7.1111e-04 - val_loss: 0.5354 - val_fn: 1700.0000 - val_fp: 0.0000e+00 - val_tn: 5800.0000 - val_tp: 0.0000e+00 - val_precision: 0.0000e+00 - val_recall: 0.0000e+00 - val_Accuracy: 0.0000e+00\n",
      "Epoch 28/100\n",
      "113/113 [==============================] - 0s 2ms/step - loss: 0.5413 - fn: 4935.0000 - fp: 3.0000 - tn: 17561.0000 - tp: 1.0000 - precision: 0.2500 - recall: 2.0259e-04 - Accuracy: 2.2222e-04 - val_loss: 0.5354 - val_fn: 1700.0000 - val_fp: 0.0000e+00 - val_tn: 5800.0000 - val_tp: 0.0000e+00 - val_precision: 0.0000e+00 - val_recall: 0.0000e+00 - val_Accuracy: 0.0000e+00\n",
      "Epoch 29/100\n",
      "113/113 [==============================] - 0s 2ms/step - loss: 0.5442 - fn: 4931.0000 - fp: 9.0000 - tn: 17555.0000 - tp: 5.0000 - precision: 0.3571 - recall: 0.0010 - Accuracy: 3.5556e-04 - val_loss: 0.5353 - val_fn: 1700.0000 - val_fp: 0.0000e+00 - val_tn: 5800.0000 - val_tp: 0.0000e+00 - val_precision: 0.0000e+00 - val_recall: 0.0000e+00 - val_Accuracy: 0.0000e+00\n",
      "Epoch 30/100\n",
      "113/113 [==============================] - 0s 2ms/step - loss: 0.5501 - fn: 4935.0000 - fp: 1.0000 - tn: 17563.0000 - tp: 1.0000 - precision: 0.5000 - recall: 2.0259e-04 - Accuracy: 2.6667e-04 - val_loss: 0.5355 - val_fn: 1700.0000 - val_fp: 0.0000e+00 - val_tn: 5800.0000 - val_tp: 0.0000e+00 - val_precision: 0.0000e+00 - val_recall: 0.0000e+00 - val_Accuracy: 0.0000e+00\n",
      "Epoch 31/100\n",
      "113/113 [==============================] - 0s 2ms/step - loss: 0.5296 - fn: 4936.0000 - fp: 2.0000 - tn: 17562.0000 - tp: 0.0000e+00 - precision: 0.0000e+00 - recall: 0.0000e+00 - Accuracy: 8.8889e-05 - val_loss: 0.5354 - val_fn: 1700.0000 - val_fp: 0.0000e+00 - val_tn: 5800.0000 - val_tp: 0.0000e+00 - val_precision: 0.0000e+00 - val_recall: 0.0000e+00 - val_Accuracy: 0.0000e+00\n",
      "Epoch 32/100\n",
      "113/113 [==============================] - 0s 2ms/step - loss: 0.5372 - fn: 4936.0000 - fp: 4.0000 - tn: 17560.0000 - tp: 0.0000e+00 - precision: 0.0000e+00 - recall: 0.0000e+00 - Accuracy: 3.1111e-04 - val_loss: 0.5353 - val_fn: 1700.0000 - val_fp: 0.0000e+00 - val_tn: 5800.0000 - val_tp: 0.0000e+00 - val_precision: 0.0000e+00 - val_recall: 0.0000e+00 - val_Accuracy: 0.0000e+00\n",
      "Epoch 33/100\n",
      "113/113 [==============================] - 0s 2ms/step - loss: 0.5471 - fn: 4936.0000 - fp: 3.0000 - tn: 17561.0000 - tp: 0.0000e+00 - precision: 0.0000e+00 - recall: 0.0000e+00 - Accuracy: 4.0000e-04 - val_loss: 0.5352 - val_fn: 1700.0000 - val_fp: 0.0000e+00 - val_tn: 5800.0000 - val_tp: 0.0000e+00 - val_precision: 0.0000e+00 - val_recall: 0.0000e+00 - val_Accuracy: 0.0000e+00\n",
      "Epoch 34/100\n",
      "113/113 [==============================] - 0s 2ms/step - loss: 0.7590 - fn: 4935.0000 - fp: 2.0000 - tn: 17562.0000 - tp: 1.0000 - precision: 0.3333 - recall: 2.0259e-04 - Accuracy: 2.2222e-04 - val_loss: 0.5356 - val_fn: 1700.0000 - val_fp: 0.0000e+00 - val_tn: 5800.0000 - val_tp: 0.0000e+00 - val_precision: 0.0000e+00 - val_recall: 0.0000e+00 - val_Accuracy: 0.0000e+00\n",
      "Epoch 35/100\n",
      "113/113 [==============================] - 0s 2ms/step - loss: 0.5361 - fn: 4936.0000 - fp: 3.0000 - tn: 17561.0000 - tp: 0.0000e+00 - precision: 0.0000e+00 - recall: 0.0000e+00 - Accuracy: 1.7778e-04 - val_loss: 0.5354 - val_fn: 1700.0000 - val_fp: 0.0000e+00 - val_tn: 5800.0000 - val_tp: 0.0000e+00 - val_precision: 0.0000e+00 - val_recall: 0.0000e+00 - val_Accuracy: 0.0000e+00\n",
      "Epoch 36/100\n",
      "113/113 [==============================] - 0s 2ms/step - loss: 0.5364 - fn: 4935.0000 - fp: 9.0000 - tn: 17555.0000 - tp: 1.0000 - precision: 0.1000 - recall: 2.0259e-04 - Accuracy: 8.8889e-05 - val_loss: 0.5354 - val_fn: 1700.0000 - val_fp: 0.0000e+00 - val_tn: 5800.0000 - val_tp: 0.0000e+00 - val_precision: 0.0000e+00 - val_recall: 0.0000e+00 - val_Accuracy: 0.0000e+00\n",
      "Epoch 37/100\n",
      "113/113 [==============================] - 0s 2ms/step - loss: 0.5438 - fn: 4933.0000 - fp: 9.0000 - tn: 17555.0000 - tp: 3.0000 - precision: 0.2500 - recall: 6.0778e-04 - Accuracy: 1.7778e-04 - val_loss: 0.5353 - val_fn: 1700.0000 - val_fp: 0.0000e+00 - val_tn: 5800.0000 - val_tp: 0.0000e+00 - val_precision: 0.0000e+00 - val_recall: 0.0000e+00 - val_Accuracy: 0.0000e+00\n",
      "Epoch 38/100\n",
      "113/113 [==============================] - 0s 2ms/step - loss: 0.5557 - fn: 4933.0000 - fp: 7.0000 - tn: 17557.0000 - tp: 3.0000 - precision: 0.3000 - recall: 6.0778e-04 - Accuracy: 8.8889e-05 - val_loss: 0.5354 - val_fn: 1700.0000 - val_fp: 0.0000e+00 - val_tn: 5800.0000 - val_tp: 0.0000e+00 - val_precision: 0.0000e+00 - val_recall: 0.0000e+00 - val_Accuracy: 0.0000e+00\n",
      "Epoch 39/100\n",
      "113/113 [==============================] - 0s 2ms/step - loss: 0.5576 - fn: 4933.0000 - fp: 12.0000 - tn: 17552.0000 - tp: 3.0000 - precision: 0.2000 - recall: 6.0778e-04 - Accuracy: 3.1111e-04 - val_loss: 0.5353 - val_fn: 1700.0000 - val_fp: 0.0000e+00 - val_tn: 5800.0000 - val_tp: 0.0000e+00 - val_precision: 0.0000e+00 - val_recall: 0.0000e+00 - val_Accuracy: 0.0000e+00\n",
      "Epoch 40/100\n",
      "113/113 [==============================] - 0s 2ms/step - loss: 0.5298 - fn: 4936.0000 - fp: 2.0000 - tn: 17562.0000 - tp: 0.0000e+00 - precision: 0.0000e+00 - recall: 0.0000e+00 - Accuracy: 8.8889e-05 - val_loss: 0.5353 - val_fn: 1700.0000 - val_fp: 0.0000e+00 - val_tn: 5800.0000 - val_tp: 0.0000e+00 - val_precision: 0.0000e+00 - val_recall: 0.0000e+00 - val_Accuracy: 0.0000e+00\n",
      "Epoch 41/100\n",
      "113/113 [==============================] - 0s 2ms/step - loss: 0.5265 - fn: 4936.0000 - fp: 2.0000 - tn: 17562.0000 - tp: 0.0000e+00 - precision: 0.0000e+00 - recall: 0.0000e+00 - Accuracy: 4.4444e-05 - val_loss: 0.5353 - val_fn: 1700.0000 - val_fp: 0.0000e+00 - val_tn: 5800.0000 - val_tp: 0.0000e+00 - val_precision: 0.0000e+00 - val_recall: 0.0000e+00 - val_Accuracy: 0.0000e+00\n",
      "Epoch 42/100\n",
      "113/113 [==============================] - 0s 2ms/step - loss: 0.5476 - fn: 4936.0000 - fp: 3.0000 - tn: 17561.0000 - tp: 0.0000e+00 - precision: 0.0000e+00 - recall: 0.0000e+00 - Accuracy: 8.8889e-05 - val_loss: 0.5353 - val_fn: 1700.0000 - val_fp: 0.0000e+00 - val_tn: 5800.0000 - val_tp: 0.0000e+00 - val_precision: 0.0000e+00 - val_recall: 0.0000e+00 - val_Accuracy: 0.0000e+00\n",
      "Epoch 43/100\n",
      "113/113 [==============================] - 0s 2ms/step - loss: 1.0809 - fn: 4935.0000 - fp: 7.0000 - tn: 17557.0000 - tp: 1.0000 - precision: 0.1250 - recall: 2.0259e-04 - Accuracy: 2.6667e-04 - val_loss: 0.5354 - val_fn: 1700.0000 - val_fp: 0.0000e+00 - val_tn: 5800.0000 - val_tp: 0.0000e+00 - val_precision: 0.0000e+00 - val_recall: 0.0000e+00 - val_Accuracy: 0.0000e+00\n",
      "Epoch 44/100\n",
      "113/113 [==============================] - 0s 2ms/step - loss: 0.5423 - fn: 4935.0000 - fp: 5.0000 - tn: 17559.0000 - tp: 1.0000 - precision: 0.1667 - recall: 2.0259e-04 - Accuracy: 8.8889e-05 - val_loss: 0.5352 - val_fn: 1700.0000 - val_fp: 0.0000e+00 - val_tn: 5800.0000 - val_tp: 0.0000e+00 - val_precision: 0.0000e+00 - val_recall: 0.0000e+00 - val_Accuracy: 0.0000e+00\n",
      "Epoch 45/100\n",
      "113/113 [==============================] - 0s 2ms/step - loss: 0.5291 - fn: 4935.0000 - fp: 1.0000 - tn: 17563.0000 - tp: 1.0000 - precision: 0.5000 - recall: 2.0259e-04 - Accuracy: 4.4444e-05 - val_loss: 0.5353 - val_fn: 1700.0000 - val_fp: 0.0000e+00 - val_tn: 5800.0000 - val_tp: 0.0000e+00 - val_precision: 0.0000e+00 - val_recall: 0.0000e+00 - val_Accuracy: 0.0000e+00\n",
      "Epoch 46/100\n",
      "113/113 [==============================] - 0s 2ms/step - loss: 0.5340 - fn: 4936.0000 - fp: 4.0000 - tn: 17560.0000 - tp: 0.0000e+00 - precision: 0.0000e+00 - recall: 0.0000e+00 - Accuracy: 0.0000e+00 - val_loss: 0.5352 - val_fn: 1700.0000 - val_fp: 0.0000e+00 - val_tn: 5800.0000 - val_tp: 0.0000e+00 - val_precision: 0.0000e+00 - val_recall: 0.0000e+00 - val_Accuracy: 0.0000e+00\n",
      "Epoch 47/100\n",
      "113/113 [==============================] - 0s 2ms/step - loss: 0.5494 - fn: 4932.0000 - fp: 10.0000 - tn: 17554.0000 - tp: 4.0000 - precision: 0.2857 - recall: 8.1037e-04 - Accuracy: 2.2222e-04 - val_loss: 0.5356 - val_fn: 1700.0000 - val_fp: 0.0000e+00 - val_tn: 5800.0000 - val_tp: 0.0000e+00 - val_precision: 0.0000e+00 - val_recall: 0.0000e+00 - val_Accuracy: 0.0000e+00\n",
      "Epoch 48/100\n",
      "113/113 [==============================] - 0s 2ms/step - loss: 0.5269 - fn: 4934.0000 - fp: 3.0000 - tn: 17561.0000 - tp: 2.0000 - precision: 0.4000 - recall: 4.0519e-04 - Accuracy: 0.0000e+00 - val_loss: 0.5352 - val_fn: 1700.0000 - val_fp: 0.0000e+00 - val_tn: 5800.0000 - val_tp: 0.0000e+00 - val_precision: 0.0000e+00 - val_recall: 0.0000e+00 - val_Accuracy: 0.0000e+00\n",
      "Epoch 49/100\n",
      "113/113 [==============================] - 0s 2ms/step - loss: 0.5339 - fn: 4932.0000 - fp: 6.0000 - tn: 17558.0000 - tp: 4.0000 - precision: 0.4000 - recall: 8.1037e-04 - Accuracy: 8.8889e-05 - val_loss: 0.5353 - val_fn: 1700.0000 - val_fp: 0.0000e+00 - val_tn: 5800.0000 - val_tp: 0.0000e+00 - val_precision: 0.0000e+00 - val_recall: 0.0000e+00 - val_Accuracy: 0.0000e+00\n",
      "Epoch 50/100\n",
      "113/113 [==============================] - 0s 2ms/step - loss: 0.5278 - fn: 4931.0000 - fp: 9.0000 - tn: 17555.0000 - tp: 5.0000 - precision: 0.3571 - recall: 0.0010 - Accuracy: 1.3333e-04 - val_loss: 0.5353 - val_fn: 1700.0000 - val_fp: 0.0000e+00 - val_tn: 5800.0000 - val_tp: 0.0000e+00 - val_precision: 0.0000e+00 - val_recall: 0.0000e+00 - val_Accuracy: 0.0000e+00\n",
      "Epoch 51/100\n",
      "113/113 [==============================] - 0s 2ms/step - loss: 0.5365 - fn: 4935.0000 - fp: 4.0000 - tn: 17560.0000 - tp: 1.0000 - precision: 0.2000 - recall: 2.0259e-04 - Accuracy: 8.8889e-05 - val_loss: 0.5355 - val_fn: 1700.0000 - val_fp: 0.0000e+00 - val_tn: 5800.0000 - val_tp: 0.0000e+00 - val_precision: 0.0000e+00 - val_recall: 0.0000e+00 - val_Accuracy: 0.0000e+00\n",
      "Epoch 52/100\n",
      "113/113 [==============================] - 0s 2ms/step - loss: 0.5378 - fn: 4936.0000 - fp: 4.0000 - tn: 17560.0000 - tp: 0.0000e+00 - precision: 0.0000e+00 - recall: 0.0000e+00 - Accuracy: 4.4444e-05 - val_loss: 0.5356 - val_fn: 1700.0000 - val_fp: 0.0000e+00 - val_tn: 5800.0000 - val_tp: 0.0000e+00 - val_precision: 0.0000e+00 - val_recall: 0.0000e+00 - val_Accuracy: 0.0000e+00\n",
      "Epoch 53/100\n",
      "113/113 [==============================] - 0s 2ms/step - loss: 0.5291 - fn: 4935.0000 - fp: 5.0000 - tn: 17559.0000 - tp: 1.0000 - precision: 0.1667 - recall: 2.0259e-04 - Accuracy: 8.8889e-05 - val_loss: 0.5353 - val_fn: 1700.0000 - val_fp: 0.0000e+00 - val_tn: 5800.0000 - val_tp: 0.0000e+00 - val_precision: 0.0000e+00 - val_recall: 0.0000e+00 - val_Accuracy: 0.0000e+00\n",
      "Epoch 54/100\n",
      "113/113 [==============================] - 0s 2ms/step - loss: 0.5334 - fn: 4935.0000 - fp: 3.0000 - tn: 17561.0000 - tp: 1.0000 - precision: 0.2500 - recall: 2.0259e-04 - Accuracy: 1.3333e-04 - val_loss: 0.5352 - val_fn: 1700.0000 - val_fp: 0.0000e+00 - val_tn: 5800.0000 - val_tp: 0.0000e+00 - val_precision: 0.0000e+00 - val_recall: 0.0000e+00 - val_Accuracy: 0.0000e+00\n",
      "Epoch 55/100\n",
      "113/113 [==============================] - 0s 2ms/step - loss: 0.5290 - fn: 4936.0000 - fp: 0.0000e+00 - tn: 17564.0000 - tp: 0.0000e+00 - precision: 0.0000e+00 - recall: 0.0000e+00 - Accuracy: 4.4444e-05 - val_loss: 0.5354 - val_fn: 1700.0000 - val_fp: 0.0000e+00 - val_tn: 5800.0000 - val_tp: 0.0000e+00 - val_precision: 0.0000e+00 - val_recall: 0.0000e+00 - val_Accuracy: 0.0000e+00\n",
      "Epoch 56/100\n",
      "113/113 [==============================] - 0s 2ms/step - loss: 0.5270 - fn: 4935.0000 - fp: 1.0000 - tn: 17563.0000 - tp: 1.0000 - precision: 0.5000 - recall: 2.0259e-04 - Accuracy: 4.4444e-05 - val_loss: 0.5356 - val_fn: 1700.0000 - val_fp: 0.0000e+00 - val_tn: 5800.0000 - val_tp: 0.0000e+00 - val_precision: 0.0000e+00 - val_recall: 0.0000e+00 - val_Accuracy: 0.0000e+00\n",
      "Epoch 57/100\n",
      "113/113 [==============================] - 0s 2ms/step - loss: 0.5673 - fn: 4936.0000 - fp: 2.0000 - tn: 17562.0000 - tp: 0.0000e+00 - precision: 0.0000e+00 - recall: 0.0000e+00 - Accuracy: 0.0000e+00 - val_loss: 0.5359 - val_fn: 1700.0000 - val_fp: 0.0000e+00 - val_tn: 5800.0000 - val_tp: 0.0000e+00 - val_precision: 0.0000e+00 - val_recall: 0.0000e+00 - val_Accuracy: 0.0000e+00\n",
      "Epoch 58/100\n",
      "113/113 [==============================] - 0s 2ms/step - loss: 0.5351 - fn: 4935.0000 - fp: 1.0000 - tn: 17563.0000 - tp: 1.0000 - precision: 0.5000 - recall: 2.0259e-04 - Accuracy: 0.0000e+00 - val_loss: 0.5354 - val_fn: 1700.0000 - val_fp: 0.0000e+00 - val_tn: 5800.0000 - val_tp: 0.0000e+00 - val_precision: 0.0000e+00 - val_recall: 0.0000e+00 - val_Accuracy: 0.0000e+00\n",
      "Epoch 59/100\n",
      "113/113 [==============================] - 0s 2ms/step - loss: 0.5277 - fn: 4935.0000 - fp: 2.0000 - tn: 17562.0000 - tp: 1.0000 - precision: 0.3333 - recall: 2.0259e-04 - Accuracy: 4.4444e-05 - val_loss: 0.5356 - val_fn: 1700.0000 - val_fp: 0.0000e+00 - val_tn: 5800.0000 - val_tp: 0.0000e+00 - val_precision: 0.0000e+00 - val_recall: 0.0000e+00 - val_Accuracy: 0.0000e+00\n",
      "Epoch 60/100\n",
      "113/113 [==============================] - 0s 2ms/step - loss: 0.5269 - fn: 4934.0000 - fp: 3.0000 - tn: 17561.0000 - tp: 2.0000 - precision: 0.4000 - recall: 4.0519e-04 - Accuracy: 4.4444e-05 - val_loss: 0.5355 - val_fn: 1700.0000 - val_fp: 0.0000e+00 - val_tn: 5800.0000 - val_tp: 0.0000e+00 - val_precision: 0.0000e+00 - val_recall: 0.0000e+00 - val_Accuracy: 0.0000e+00\n",
      "Epoch 61/100\n",
      "113/113 [==============================] - 0s 2ms/step - loss: 0.7880 - fn: 4936.0000 - fp: 0.0000e+00 - tn: 17564.0000 - tp: 0.0000e+00 - precision: 0.0000e+00 - recall: 0.0000e+00 - Accuracy: 0.0000e+00 - val_loss: 0.5357 - val_fn: 1700.0000 - val_fp: 0.0000e+00 - val_tn: 5800.0000 - val_tp: 0.0000e+00 - val_precision: 0.0000e+00 - val_recall: 0.0000e+00 - val_Accuracy: 0.0000e+00\n",
      "Epoch 62/100\n",
      "113/113 [==============================] - 0s 2ms/step - loss: 0.5314 - fn: 4936.0000 - fp: 4.0000 - tn: 17560.0000 - tp: 0.0000e+00 - precision: 0.0000e+00 - recall: 0.0000e+00 - Accuracy: 8.8889e-05 - val_loss: 0.5354 - val_fn: 1700.0000 - val_fp: 0.0000e+00 - val_tn: 5800.0000 - val_tp: 0.0000e+00 - val_precision: 0.0000e+00 - val_recall: 0.0000e+00 - val_Accuracy: 0.0000e+00\n",
      "Epoch 63/100\n",
      "113/113 [==============================] - 0s 2ms/step - loss: 0.5430 - fn: 4936.0000 - fp: 9.0000 - tn: 17555.0000 - tp: 0.0000e+00 - precision: 0.0000e+00 - recall: 0.0000e+00 - Accuracy: 4.4444e-05 - val_loss: 0.5354 - val_fn: 1700.0000 - val_fp: 0.0000e+00 - val_tn: 5800.0000 - val_tp: 0.0000e+00 - val_precision: 0.0000e+00 - val_recall: 0.0000e+00 - val_Accuracy: 0.0000e+00\n",
      "Epoch 64/100\n",
      "113/113 [==============================] - 0s 2ms/step - loss: 0.5261 - fn: 4936.0000 - fp: 0.0000e+00 - tn: 17564.0000 - tp: 0.0000e+00 - precision: 0.0000e+00 - recall: 0.0000e+00 - Accuracy: 0.0000e+00 - val_loss: 0.5354 - val_fn: 1700.0000 - val_fp: 0.0000e+00 - val_tn: 5800.0000 - val_tp: 0.0000e+00 - val_precision: 0.0000e+00 - val_recall: 0.0000e+00 - val_Accuracy: 0.0000e+00\n",
      "Epoch 65/100\n",
      "113/113 [==============================] - 0s 2ms/step - loss: 0.5310 - fn: 4936.0000 - fp: 3.0000 - tn: 17561.0000 - tp: 0.0000e+00 - precision: 0.0000e+00 - recall: 0.0000e+00 - Accuracy: 0.0000e+00 - val_loss: 0.5355 - val_fn: 1700.0000 - val_fp: 0.0000e+00 - val_tn: 5800.0000 - val_tp: 0.0000e+00 - val_precision: 0.0000e+00 - val_recall: 0.0000e+00 - val_Accuracy: 0.0000e+00\n",
      "Epoch 66/100\n",
      "113/113 [==============================] - 0s 2ms/step - loss: 0.5263 - fn: 4935.0000 - fp: 1.0000 - tn: 17563.0000 - tp: 1.0000 - precision: 0.5000 - recall: 2.0259e-04 - Accuracy: 0.0000e+00 - val_loss: 0.5357 - val_fn: 1700.0000 - val_fp: 0.0000e+00 - val_tn: 5800.0000 - val_tp: 0.0000e+00 - val_precision: 0.0000e+00 - val_recall: 0.0000e+00 - val_Accuracy: 0.0000e+00\n",
      "Epoch 67/100\n",
      "113/113 [==============================] - 0s 2ms/step - loss: 0.5264 - fn: 4936.0000 - fp: 2.0000 - tn: 17562.0000 - tp: 0.0000e+00 - precision: 0.0000e+00 - recall: 0.0000e+00 - Accuracy: 0.0000e+00 - val_loss: 0.5353 - val_fn: 1700.0000 - val_fp: 0.0000e+00 - val_tn: 5800.0000 - val_tp: 0.0000e+00 - val_precision: 0.0000e+00 - val_recall: 0.0000e+00 - val_Accuracy: 0.0000e+00\n",
      "Epoch 68/100\n",
      "113/113 [==============================] - 0s 2ms/step - loss: 0.5275 - fn: 4935.0000 - fp: 1.0000 - tn: 17563.0000 - tp: 1.0000 - precision: 0.5000 - recall: 2.0259e-04 - Accuracy: 0.0000e+00 - val_loss: 0.5353 - val_fn: 1700.0000 - val_fp: 0.0000e+00 - val_tn: 5800.0000 - val_tp: 0.0000e+00 - val_precision: 0.0000e+00 - val_recall: 0.0000e+00 - val_Accuracy: 0.0000e+00\n",
      "Epoch 69/100\n",
      "113/113 [==============================] - 0s 2ms/step - loss: 0.5261 - fn: 4936.0000 - fp: 0.0000e+00 - tn: 17564.0000 - tp: 0.0000e+00 - precision: 0.0000e+00 - recall: 0.0000e+00 - Accuracy: 0.0000e+00 - val_loss: 0.5353 - val_fn: 1700.0000 - val_fp: 0.0000e+00 - val_tn: 5800.0000 - val_tp: 0.0000e+00 - val_precision: 0.0000e+00 - val_recall: 0.0000e+00 - val_Accuracy: 0.0000e+00\n",
      "Epoch 70/100\n",
      "113/113 [==============================] - 0s 2ms/step - loss: 0.5339 - fn: 4936.0000 - fp: 1.0000 - tn: 17563.0000 - tp: 0.0000e+00 - precision: 0.0000e+00 - recall: 0.0000e+00 - Accuracy: 0.0000e+00 - val_loss: 0.5354 - val_fn: 1700.0000 - val_fp: 0.0000e+00 - val_tn: 5800.0000 - val_tp: 0.0000e+00 - val_precision: 0.0000e+00 - val_recall: 0.0000e+00 - val_Accuracy: 0.0000e+00\n",
      "Epoch 71/100\n",
      "113/113 [==============================] - 0s 2ms/step - loss: 0.5261 - fn: 4936.0000 - fp: 0.0000e+00 - tn: 17564.0000 - tp: 0.0000e+00 - precision: 0.0000e+00 - recall: 0.0000e+00 - Accuracy: 0.0000e+00 - val_loss: 0.5353 - val_fn: 1700.0000 - val_fp: 0.0000e+00 - val_tn: 5800.0000 - val_tp: 0.0000e+00 - val_precision: 0.0000e+00 - val_recall: 0.0000e+00 - val_Accuracy: 0.0000e+00\n",
      "Epoch 72/100\n",
      "113/113 [==============================] - 0s 2ms/step - loss: 0.5263 - fn: 4936.0000 - fp: 0.0000e+00 - tn: 17564.0000 - tp: 0.0000e+00 - precision: 0.0000e+00 - recall: 0.0000e+00 - Accuracy: 0.0000e+00 - val_loss: 0.5356 - val_fn: 1700.0000 - val_fp: 0.0000e+00 - val_tn: 5800.0000 - val_tp: 0.0000e+00 - val_precision: 0.0000e+00 - val_recall: 0.0000e+00 - val_Accuracy: 0.0000e+00\n",
      "Epoch 73/100\n",
      "113/113 [==============================] - 0s 2ms/step - loss: 0.5270 - fn: 4936.0000 - fp: 2.0000 - tn: 17562.0000 - tp: 0.0000e+00 - precision: 0.0000e+00 - recall: 0.0000e+00 - Accuracy: 0.0000e+00 - val_loss: 0.5353 - val_fn: 1700.0000 - val_fp: 0.0000e+00 - val_tn: 5800.0000 - val_tp: 0.0000e+00 - val_precision: 0.0000e+00 - val_recall: 0.0000e+00 - val_Accuracy: 0.0000e+00\n",
      "Epoch 74/100\n",
      "113/113 [==============================] - 0s 2ms/step - loss: 0.5264 - fn: 4936.0000 - fp: 1.0000 - tn: 17563.0000 - tp: 0.0000e+00 - precision: 0.0000e+00 - recall: 0.0000e+00 - Accuracy: 0.0000e+00 - val_loss: 0.5354 - val_fn: 1700.0000 - val_fp: 0.0000e+00 - val_tn: 5800.0000 - val_tp: 0.0000e+00 - val_precision: 0.0000e+00 - val_recall: 0.0000e+00 - val_Accuracy: 0.0000e+00\n",
      "Epoch 75/100\n",
      "113/113 [==============================] - 0s 2ms/step - loss: 0.5262 - fn: 4936.0000 - fp: 0.0000e+00 - tn: 17564.0000 - tp: 0.0000e+00 - precision: 0.0000e+00 - recall: 0.0000e+00 - Accuracy: 0.0000e+00 - val_loss: 0.5355 - val_fn: 1700.0000 - val_fp: 0.0000e+00 - val_tn: 5800.0000 - val_tp: 0.0000e+00 - val_precision: 0.0000e+00 - val_recall: 0.0000e+00 - val_Accuracy: 0.0000e+00\n",
      "Epoch 76/100\n",
      "113/113 [==============================] - 0s 2ms/step - loss: 0.5261 - fn: 4936.0000 - fp: 0.0000e+00 - tn: 17564.0000 - tp: 0.0000e+00 - precision: 0.0000e+00 - recall: 0.0000e+00 - Accuracy: 0.0000e+00 - val_loss: 0.5353 - val_fn: 1700.0000 - val_fp: 0.0000e+00 - val_tn: 5800.0000 - val_tp: 0.0000e+00 - val_precision: 0.0000e+00 - val_recall: 0.0000e+00 - val_Accuracy: 0.0000e+00\n",
      "Epoch 77/100\n",
      "113/113 [==============================] - 0s 2ms/step - loss: 0.5263 - fn: 4936.0000 - fp: 0.0000e+00 - tn: 17564.0000 - tp: 0.0000e+00 - precision: 0.0000e+00 - recall: 0.0000e+00 - Accuracy: 0.0000e+00 - val_loss: 0.5353 - val_fn: 1700.0000 - val_fp: 0.0000e+00 - val_tn: 5800.0000 - val_tp: 0.0000e+00 - val_precision: 0.0000e+00 - val_recall: 0.0000e+00 - val_Accuracy: 0.0000e+00\n",
      "Epoch 78/100\n",
      "113/113 [==============================] - 0s 2ms/step - loss: 0.5261 - fn: 4936.0000 - fp: 0.0000e+00 - tn: 17564.0000 - tp: 0.0000e+00 - precision: 0.0000e+00 - recall: 0.0000e+00 - Accuracy: 4.4444e-05 - val_loss: 0.5353 - val_fn: 1700.0000 - val_fp: 0.0000e+00 - val_tn: 5800.0000 - val_tp: 0.0000e+00 - val_precision: 0.0000e+00 - val_recall: 0.0000e+00 - val_Accuracy: 0.0000e+00\n",
      "Epoch 79/100\n",
      "113/113 [==============================] - 0s 2ms/step - loss: 0.5262 - fn: 4936.0000 - fp: 0.0000e+00 - tn: 17564.0000 - tp: 0.0000e+00 - precision: 0.0000e+00 - recall: 0.0000e+00 - Accuracy: 0.0000e+00 - val_loss: 0.5354 - val_fn: 1700.0000 - val_fp: 0.0000e+00 - val_tn: 5800.0000 - val_tp: 0.0000e+00 - val_precision: 0.0000e+00 - val_recall: 0.0000e+00 - val_Accuracy: 0.0000e+00\n",
      "Epoch 80/100\n",
      "113/113 [==============================] - 0s 2ms/step - loss: 0.5262 - fn: 4936.0000 - fp: 0.0000e+00 - tn: 17564.0000 - tp: 0.0000e+00 - precision: 0.0000e+00 - recall: 0.0000e+00 - Accuracy: 0.0000e+00 - val_loss: 0.5353 - val_fn: 1700.0000 - val_fp: 0.0000e+00 - val_tn: 5800.0000 - val_tp: 0.0000e+00 - val_precision: 0.0000e+00 - val_recall: 0.0000e+00 - val_Accuracy: 0.0000e+00\n",
      "Epoch 81/100\n",
      "113/113 [==============================] - 0s 2ms/step - loss: 0.5262 - fn: 4936.0000 - fp: 0.0000e+00 - tn: 17564.0000 - tp: 0.0000e+00 - precision: 0.0000e+00 - recall: 0.0000e+00 - Accuracy: 0.0000e+00 - val_loss: 0.5356 - val_fn: 1700.0000 - val_fp: 0.0000e+00 - val_tn: 5800.0000 - val_tp: 0.0000e+00 - val_precision: 0.0000e+00 - val_recall: 0.0000e+00 - val_Accuracy: 0.0000e+00\n",
      "Epoch 82/100\n",
      "113/113 [==============================] - 0s 2ms/step - loss: 0.5536 - fn: 4936.0000 - fp: 3.0000 - tn: 17561.0000 - tp: 0.0000e+00 - precision: 0.0000e+00 - recall: 0.0000e+00 - Accuracy: 0.0000e+00 - val_loss: 0.5352 - val_fn: 1700.0000 - val_fp: 0.0000e+00 - val_tn: 5800.0000 - val_tp: 0.0000e+00 - val_precision: 0.0000e+00 - val_recall: 0.0000e+00 - val_Accuracy: 0.0000e+00\n",
      "Epoch 83/100\n",
      "113/113 [==============================] - 0s 2ms/step - loss: 0.5264 - fn: 4936.0000 - fp: 1.0000 - tn: 17563.0000 - tp: 0.0000e+00 - precision: 0.0000e+00 - recall: 0.0000e+00 - Accuracy: 0.0000e+00 - val_loss: 0.5354 - val_fn: 1700.0000 - val_fp: 0.0000e+00 - val_tn: 5800.0000 - val_tp: 0.0000e+00 - val_precision: 0.0000e+00 - val_recall: 0.0000e+00 - val_Accuracy: 0.0000e+00\n",
      "Epoch 84/100\n",
      "113/113 [==============================] - 0s 2ms/step - loss: 0.5261 - fn: 4936.0000 - fp: 0.0000e+00 - tn: 17564.0000 - tp: 0.0000e+00 - precision: 0.0000e+00 - recall: 0.0000e+00 - Accuracy: 0.0000e+00 - val_loss: 0.5353 - val_fn: 1700.0000 - val_fp: 0.0000e+00 - val_tn: 5800.0000 - val_tp: 0.0000e+00 - val_precision: 0.0000e+00 - val_recall: 0.0000e+00 - val_Accuracy: 0.0000e+00\n",
      "Epoch 85/100\n",
      "113/113 [==============================] - 0s 2ms/step - loss: 0.5262 - fn: 4936.0000 - fp: 0.0000e+00 - tn: 17564.0000 - tp: 0.0000e+00 - precision: 0.0000e+00 - recall: 0.0000e+00 - Accuracy: 0.0000e+00 - val_loss: 0.5352 - val_fn: 1700.0000 - val_fp: 0.0000e+00 - val_tn: 5800.0000 - val_tp: 0.0000e+00 - val_precision: 0.0000e+00 - val_recall: 0.0000e+00 - val_Accuracy: 0.0000e+00\n",
      "Epoch 86/100\n",
      "113/113 [==============================] - 0s 2ms/step - loss: 0.5260 - fn: 4936.0000 - fp: 0.0000e+00 - tn: 17564.0000 - tp: 0.0000e+00 - precision: 0.0000e+00 - recall: 0.0000e+00 - Accuracy: 0.0000e+00 - val_loss: 0.5359 - val_fn: 1700.0000 - val_fp: 0.0000e+00 - val_tn: 5800.0000 - val_tp: 0.0000e+00 - val_precision: 0.0000e+00 - val_recall: 0.0000e+00 - val_Accuracy: 0.0000e+00\n",
      "Epoch 87/100\n",
      "113/113 [==============================] - 0s 2ms/step - loss: 0.5263 - fn: 4936.0000 - fp: 0.0000e+00 - tn: 17564.0000 - tp: 0.0000e+00 - precision: 0.0000e+00 - recall: 0.0000e+00 - Accuracy: 0.0000e+00 - val_loss: 0.5352 - val_fn: 1700.0000 - val_fp: 0.0000e+00 - val_tn: 5800.0000 - val_tp: 0.0000e+00 - val_precision: 0.0000e+00 - val_recall: 0.0000e+00 - val_Accuracy: 0.0000e+00\n",
      "Epoch 88/100\n",
      "113/113 [==============================] - 0s 2ms/step - loss: 0.5269 - fn: 4935.0000 - fp: 1.0000 - tn: 17563.0000 - tp: 1.0000 - precision: 0.5000 - recall: 2.0259e-04 - Accuracy: 0.0000e+00 - val_loss: 0.5353 - val_fn: 1700.0000 - val_fp: 0.0000e+00 - val_tn: 5800.0000 - val_tp: 0.0000e+00 - val_precision: 0.0000e+00 - val_recall: 0.0000e+00 - val_Accuracy: 0.0000e+00\n",
      "Epoch 89/100\n",
      "113/113 [==============================] - 0s 2ms/step - loss: 0.5261 - fn: 4935.0000 - fp: 0.0000e+00 - tn: 17564.0000 - tp: 1.0000 - precision: 1.0000 - recall: 2.0259e-04 - Accuracy: 0.0000e+00 - val_loss: 0.5354 - val_fn: 1700.0000 - val_fp: 0.0000e+00 - val_tn: 5800.0000 - val_tp: 0.0000e+00 - val_precision: 0.0000e+00 - val_recall: 0.0000e+00 - val_Accuracy: 0.0000e+00\n",
      "Epoch 90/100\n",
      "113/113 [==============================] - 0s 2ms/step - loss: 0.5262 - fn: 4936.0000 - fp: 0.0000e+00 - tn: 17564.0000 - tp: 0.0000e+00 - precision: 0.0000e+00 - recall: 0.0000e+00 - Accuracy: 0.0000e+00 - val_loss: 0.5355 - val_fn: 1700.0000 - val_fp: 0.0000e+00 - val_tn: 5800.0000 - val_tp: 0.0000e+00 - val_precision: 0.0000e+00 - val_recall: 0.0000e+00 - val_Accuracy: 0.0000e+00\n",
      "Epoch 91/100\n",
      "113/113 [==============================] - 0s 2ms/step - loss: 0.5262 - fn: 4936.0000 - fp: 0.0000e+00 - tn: 17564.0000 - tp: 0.0000e+00 - precision: 0.0000e+00 - recall: 0.0000e+00 - Accuracy: 0.0000e+00 - val_loss: 0.5355 - val_fn: 1700.0000 - val_fp: 0.0000e+00 - val_tn: 5800.0000 - val_tp: 0.0000e+00 - val_precision: 0.0000e+00 - val_recall: 0.0000e+00 - val_Accuracy: 0.0000e+00\n",
      "Epoch 92/100\n",
      "113/113 [==============================] - 0s 2ms/step - loss: 0.5262 - fn: 4935.0000 - fp: 1.0000 - tn: 17563.0000 - tp: 1.0000 - precision: 0.5000 - recall: 2.0259e-04 - Accuracy: 0.0000e+00 - val_loss: 0.5356 - val_fn: 1700.0000 - val_fp: 0.0000e+00 - val_tn: 5800.0000 - val_tp: 0.0000e+00 - val_precision: 0.0000e+00 - val_recall: 0.0000e+00 - val_Accuracy: 0.0000e+00\n",
      "Epoch 93/100\n",
      "113/113 [==============================] - 0s 2ms/step - loss: 0.5262 - fn: 4936.0000 - fp: 0.0000e+00 - tn: 17564.0000 - tp: 0.0000e+00 - precision: 0.0000e+00 - recall: 0.0000e+00 - Accuracy: 4.4444e-05 - val_loss: 0.5355 - val_fn: 1700.0000 - val_fp: 0.0000e+00 - val_tn: 5800.0000 - val_tp: 0.0000e+00 - val_precision: 0.0000e+00 - val_recall: 0.0000e+00 - val_Accuracy: 0.0000e+00\n",
      "Epoch 94/100\n",
      "113/113 [==============================] - 0s 2ms/step - loss: 0.5262 - fn: 4936.0000 - fp: 0.0000e+00 - tn: 17564.0000 - tp: 0.0000e+00 - precision: 0.0000e+00 - recall: 0.0000e+00 - Accuracy: 0.0000e+00 - val_loss: 0.5353 - val_fn: 1700.0000 - val_fp: 0.0000e+00 - val_tn: 5800.0000 - val_tp: 0.0000e+00 - val_precision: 0.0000e+00 - val_recall: 0.0000e+00 - val_Accuracy: 0.0000e+00\n",
      "Epoch 95/100\n",
      "113/113 [==============================] - 0s 2ms/step - loss: 0.5263 - fn: 4936.0000 - fp: 0.0000e+00 - tn: 17564.0000 - tp: 0.0000e+00 - precision: 0.0000e+00 - recall: 0.0000e+00 - Accuracy: 0.0000e+00 - val_loss: 0.5354 - val_fn: 1700.0000 - val_fp: 0.0000e+00 - val_tn: 5800.0000 - val_tp: 0.0000e+00 - val_precision: 0.0000e+00 - val_recall: 0.0000e+00 - val_Accuracy: 0.0000e+00\n",
      "Epoch 96/100\n",
      "113/113 [==============================] - 0s 2ms/step - loss: 0.5262 - fn: 4936.0000 - fp: 0.0000e+00 - tn: 17564.0000 - tp: 0.0000e+00 - precision: 0.0000e+00 - recall: 0.0000e+00 - Accuracy: 0.0000e+00 - val_loss: 0.5354 - val_fn: 1700.0000 - val_fp: 0.0000e+00 - val_tn: 5800.0000 - val_tp: 0.0000e+00 - val_precision: 0.0000e+00 - val_recall: 0.0000e+00 - val_Accuracy: 0.0000e+00\n",
      "Epoch 97/100\n",
      "113/113 [==============================] - 0s 2ms/step - loss: 0.5264 - fn: 4936.0000 - fp: 1.0000 - tn: 17563.0000 - tp: 0.0000e+00 - precision: 0.0000e+00 - recall: 0.0000e+00 - Accuracy: 0.0000e+00 - val_loss: 0.5353 - val_fn: 1700.0000 - val_fp: 0.0000e+00 - val_tn: 5800.0000 - val_tp: 0.0000e+00 - val_precision: 0.0000e+00 - val_recall: 0.0000e+00 - val_Accuracy: 0.0000e+00\n",
      "Epoch 98/100\n",
      "113/113 [==============================] - 0s 2ms/step - loss: 0.5262 - fn: 4936.0000 - fp: 0.0000e+00 - tn: 17564.0000 - tp: 0.0000e+00 - precision: 0.0000e+00 - recall: 0.0000e+00 - Accuracy: 0.0000e+00 - val_loss: 0.5355 - val_fn: 1700.0000 - val_fp: 0.0000e+00 - val_tn: 5800.0000 - val_tp: 0.0000e+00 - val_precision: 0.0000e+00 - val_recall: 0.0000e+00 - val_Accuracy: 0.0000e+00\n",
      "Epoch 99/100\n",
      "113/113 [==============================] - 0s 2ms/step - loss: 0.5262 - fn: 4936.0000 - fp: 0.0000e+00 - tn: 17564.0000 - tp: 0.0000e+00 - precision: 0.0000e+00 - recall: 0.0000e+00 - Accuracy: 0.0000e+00 - val_loss: 0.5352 - val_fn: 1700.0000 - val_fp: 0.0000e+00 - val_tn: 5800.0000 - val_tp: 0.0000e+00 - val_precision: 0.0000e+00 - val_recall: 0.0000e+00 - val_Accuracy: 0.0000e+00\n",
      "Epoch 100/100\n",
      "113/113 [==============================] - 0s 2ms/step - loss: 0.5262 - fn: 4936.0000 - fp: 0.0000e+00 - tn: 17564.0000 - tp: 0.0000e+00 - precision: 0.0000e+00 - recall: 0.0000e+00 - Accuracy: 0.0000e+00 - val_loss: 0.5354 - val_fn: 1700.0000 - val_fp: 0.0000e+00 - val_tn: 5800.0000 - val_tp: 0.0000e+00 - val_precision: 0.0000e+00 - val_recall: 0.0000e+00 - val_Accuracy: 0.0000e+00\n"
     ]
    },
    {
     "data": {
      "text/plain": [
       "<keras.callbacks.History at 0x1d2addd9360>"
      ]
     },
     "execution_count": 218,
     "metadata": {},
     "output_type": "execute_result"
    }
   ],
   "source": [
    "metrics = [\n",
    "    keras.metrics.FalseNegatives(name=\"fn\"),\n",
    "    keras.metrics.FalsePositives(name=\"fp\"),\n",
    "    keras.metrics.TrueNegatives(name=\"tn\"),\n",
    "    keras.metrics.TruePositives(name=\"tp\"),\n",
    "    keras.metrics.Precision(name=\"precision\"),\n",
    "    keras.metrics.Recall(name=\"recall\"),\n",
    "    keras.metrics.Accuracy(name=\"Accuracy\")\n",
    "]\n",
    "\n",
    "model.compile(\n",
    "    optimizer=keras.optimizers.Adam(1e-2), loss=\"binary_crossentropy\", metrics=metrics\n",
    ")\n",
    "\n",
    "model.fit(\n",
    "    X_train_naive,\n",
    "    y_train_naive,\n",
    "    batch_size=200,\n",
    "    epochs=100,\n",
    "    #verbose=2,\n",
    "    #callbacks=callbacks,\n",
    "    validation_data=(X_test_naive, y_test_naive)\n",
    ")"
   ]
  },
  {
   "cell_type": "code",
   "execution_count": 219,
   "id": "bc5a2d9f",
   "metadata": {},
   "outputs": [
    {
     "data": {
      "text/plain": [
       "<AxesSubplot: >"
      ]
     },
     "execution_count": 219,
     "metadata": {},
     "output_type": "execute_result"
    },
    {
     "data": {
      "image/png": "[encoded data removed]",
      "text/plain": [
       "<Figure size 432x288 with 1 Axes>"
      ]
     },
     "metadata": {
      "needs_background": "light"
     },
     "output_type": "display_data"
    }
   ],
   "source": [
    "losses = pd.DataFrame(model.history.history)\n",
    "losses[['loss','val_loss']].plot()"
   ]
  },
  {
   "cell_type": "code",
   "execution_count": 220,
   "id": "5e655362",
   "metadata": {},
   "outputs": [
    {
     "name": "stdout",
     "output_type": "stream",
     "text": [
      "235/235 [==============================] - 0s 500us/step\n",
      "              precision    recall  f1-score   support\n",
      "\n",
      "           0       0.77      1.00      0.87      5800\n",
      "           1       0.00      0.00      0.00      1700\n",
      "\n",
      "    accuracy                           0.77      7500\n",
      "   macro avg       0.39      0.50      0.44      7500\n",
      "weighted avg       0.60      0.77      0.67      7500\n",
      "\n",
      "Accuracy:  0.7733333333333333\n",
      "Average Class Accuracy:  0.5\n"
     ]
    }
   ],
   "source": [
    "predictions = model.predict(X_test_naive)\n",
    "predictions = np.argmax(predictions,axis=1)\n",
    "print(classification_report(y_test_naive, predictions))\n",
    "print('Accuracy: ', accuracy_score(y_test_naive, predictions))\n",
    "print('Average Class Accuracy: ', balanced_accuracy_score(y_test_naive, predictions))"
   ]
  },
  {
   "cell_type": "code",
   "execution_count": 221,
   "id": "d5912380",
   "metadata": {},
   "outputs": [
    {
     "data": {
      "text/plain": [
       "Text(0.5, 1.0, 'Confusion Matrix - Naive Neural Network Model')"
      ]
     },
     "execution_count": 221,
     "metadata": {},
     "output_type": "execute_result"
    },
    {
     "data": {
      "image/png": "[encoded data removed]",
      "text/plain": [
       "<Figure size 288x216 with 2 Axes>"
      ]
     },
     "metadata": {
      "needs_background": "light"
     },
     "output_type": "display_data"
    }
   ],
   "source": [
    "## Confusion matrix for naive Neural Network model\n",
    "plt.figure(figsize=(4,3))\n",
    "ConfMatrix = confusion_matrix(y_test_naive, predictions)\n",
    "sns.heatmap(ConfMatrix,annot=True, cmap=\"Blues\", fmt=\"d\", \n",
    "            xticklabels = ['Non-default', 'Default'], \n",
    "            yticklabels = ['Non-default', 'Default'])\n",
    "plt.ylabel('True label')\n",
    "plt.xlabel('Predicted label')\n",
    "plt.title(\"Confusion Matrix - Naive Neural Network Model\")"
   ]
  },
  {
   "cell_type": "markdown",
   "id": "af9e8452",
   "metadata": {},
   "source": [
    "#### Tuned Model"
   ]
  },
  {
   "cell_type": "code",
   "execution_count": 222,
   "id": "fde59ea2",
   "metadata": {},
   "outputs": [
    {
     "name": "stdout",
     "output_type": "stream",
     "text": [
      "Number of positive samples in training data: 4936 (21.94% of total)\n",
      "0.21937777777777778 0.7806222222222222\n"
     ]
    }
   ],
   "source": [
    "defaults = len(y_train[y_train == 1])\n",
    "nonDefaults = len(y_train) - defaults\n",
    "total = len(y_train)\n",
    "\n",
    "weight_for_0 = defaults / total\n",
    "weight_for_1 = nonDefaults/ total\n",
    "\n",
    "print(\n",
    "    \"Number of positive samples in training data: {} ({:.2f}% of total)\".format(\n",
    "        defaults, 100 * float(defaults) / len(y_train)\n",
    "    )\n",
    ")\n",
    "print( weight_for_0, weight_for_1)"
   ]
  },
  {
   "cell_type": "code",
   "execution_count": 223,
   "id": "c27be8c0",
   "metadata": {},
   "outputs": [
    {
     "name": "stdout",
     "output_type": "stream",
     "text": [
      "Model: \"sequential_2\"\n",
      "_________________________________________________________________\n",
      " Layer (type)                Output Shape              Param #   \n",
      "=================================================================\n",
      " dense_6 (Dense)             (None, 8)                 112       \n",
      "                                                                 \n",
      " dropout_4 (Dropout)         (None, 8)                 0         \n",
      "                                                                 \n",
      " dense_7 (Dense)             (None, 4)                 36        \n",
      "                                                                 \n",
      " dropout_5 (Dropout)         (None, 4)                 0         \n",
      "                                                                 \n",
      " dense_8 (Dense)             (None, 1)                 5         \n",
      "                                                                 \n",
      "=================================================================\n",
      "Total params: 153\n",
      "Trainable params: 153\n",
      "Non-trainable params: 0\n",
      "_________________________________________________________________\n"
     ]
    }
   ],
   "source": [
    "from tensorflow import keras\n",
    "\n",
    "\n",
    "model = keras.Sequential(\n",
    "    [\n",
    "        keras.layers.Dense(\n",
    "            8, activation=\"relu\", input_shape=(X_train.shape[-1],)\n",
    "        ),\n",
    "        keras.layers.Dropout(0.5),\n",
    "        keras.layers.Dense(4, activation=\"relu\"),\n",
    "        keras.layers.Dropout(0.5),\n",
    "        keras.layers.Dense(1, activation=\"sigmoid\"),\n",
    "    ]\n",
    ")\n",
    "model.summary()\n"
   ]
  },
  {
   "cell_type": "code",
   "execution_count": 224,
   "id": "8f3a1d01",
   "metadata": {},
   "outputs": [
    {
     "name": "stdout",
     "output_type": "stream",
     "text": [
      "Epoch 1/100\n",
      "18/18 - 0s - loss: 0.6858 - Accuracy: 0.0000e+00 - val_loss: 0.6645 - val_Accuracy: 0.0000e+00 - 453ms/epoch - 25ms/step\n",
      "Epoch 2/100\n",
      "18/18 - 0s - loss: 0.6680 - Accuracy: 0.0000e+00 - val_loss: 0.6411 - val_Accuracy: 0.0000e+00 - 44ms/epoch - 2ms/step\n",
      "Epoch 3/100\n",
      "18/18 - 0s - loss: 0.6556 - Accuracy: 0.0000e+00 - val_loss: 0.6249 - val_Accuracy: 0.0000e+00 - 53ms/epoch - 3ms/step\n",
      "Epoch 4/100\n",
      "18/18 - 0s - loss: 0.6461 - Accuracy: 0.0000e+00 - val_loss: 0.6120 - val_Accuracy: 0.0000e+00 - 52ms/epoch - 3ms/step\n",
      "Epoch 5/100\n",
      "18/18 - 0s - loss: 0.6451 - Accuracy: 0.0000e+00 - val_loss: 0.6125 - val_Accuracy: 0.0000e+00 - 44ms/epoch - 2ms/step\n",
      "Epoch 6/100\n",
      "18/18 - 0s - loss: 0.6429 - Accuracy: 0.0000e+00 - val_loss: 0.5984 - val_Accuracy: 0.0000e+00 - 43ms/epoch - 2ms/step\n",
      "Epoch 7/100\n",
      "18/18 - 0s - loss: 0.6395 - Accuracy: 0.0000e+00 - val_loss: 0.5980 - val_Accuracy: 0.0000e+00 - 45ms/epoch - 2ms/step\n",
      "Epoch 8/100\n",
      "18/18 - 0s - loss: 0.6379 - Accuracy: 0.0000e+00 - val_loss: 0.5841 - val_Accuracy: 0.0000e+00 - 44ms/epoch - 2ms/step\n",
      "Epoch 9/100\n",
      "18/18 - 0s - loss: 0.6367 - Accuracy: 0.0000e+00 - val_loss: 0.5985 - val_Accuracy: 0.0000e+00 - 44ms/epoch - 2ms/step\n",
      "Epoch 10/100\n",
      "18/18 - 0s - loss: 0.6313 - Accuracy: 0.0000e+00 - val_loss: 0.6050 - val_Accuracy: 0.0000e+00 - 44ms/epoch - 2ms/step\n",
      "Epoch 11/100\n",
      "18/18 - 0s - loss: 0.6345 - Accuracy: 0.0000e+00 - val_loss: 0.6000 - val_Accuracy: 0.0000e+00 - 44ms/epoch - 2ms/step\n",
      "Epoch 12/100\n",
      "18/18 - 0s - loss: 0.6326 - Accuracy: 0.0000e+00 - val_loss: 0.5947 - val_Accuracy: 0.0000e+00 - 43ms/epoch - 2ms/step\n",
      "Epoch 13/100\n",
      "18/18 - 0s - loss: 0.6314 - Accuracy: 0.0000e+00 - val_loss: 0.5868 - val_Accuracy: 0.0000e+00 - 46ms/epoch - 3ms/step\n",
      "Epoch 14/100\n",
      "18/18 - 0s - loss: 0.6321 - Accuracy: 0.0000e+00 - val_loss: 0.5999 - val_Accuracy: 0.0000e+00 - 44ms/epoch - 2ms/step\n",
      "Epoch 15/100\n",
      "18/18 - 0s - loss: 0.6304 - Accuracy: 0.0000e+00 - val_loss: 0.5990 - val_Accuracy: 0.0000e+00 - 45ms/epoch - 3ms/step\n",
      "Epoch 16/100\n",
      "18/18 - 0s - loss: 0.6307 - Accuracy: 0.0000e+00 - val_loss: 0.5993 - val_Accuracy: 0.0000e+00 - 43ms/epoch - 2ms/step\n",
      "Epoch 17/100\n",
      "18/18 - 0s - loss: 0.6299 - Accuracy: 0.0000e+00 - val_loss: 0.5973 - val_Accuracy: 0.0000e+00 - 45ms/epoch - 2ms/step\n",
      "Epoch 18/100\n",
      "18/18 - 0s - loss: 0.6270 - Accuracy: 0.0000e+00 - val_loss: 0.5844 - val_Accuracy: 0.0000e+00 - 45ms/epoch - 2ms/step\n",
      "Epoch 19/100\n",
      "18/18 - 0s - loss: 0.6290 - Accuracy: 0.0000e+00 - val_loss: 0.5857 - val_Accuracy: 0.0000e+00 - 45ms/epoch - 3ms/step\n",
      "Epoch 20/100\n",
      "18/18 - 0s - loss: 0.6272 - Accuracy: 0.0000e+00 - val_loss: 0.5937 - val_Accuracy: 0.0000e+00 - 47ms/epoch - 3ms/step\n",
      "Epoch 21/100\n",
      "18/18 - 0s - loss: 0.6306 - Accuracy: 0.0000e+00 - val_loss: 0.5939 - val_Accuracy: 0.0000e+00 - 44ms/epoch - 2ms/step\n",
      "Epoch 22/100\n",
      "18/18 - 0s - loss: 0.6290 - Accuracy: 0.0000e+00 - val_loss: 0.6002 - val_Accuracy: 0.0000e+00 - 44ms/epoch - 2ms/step\n",
      "Epoch 23/100\n",
      "18/18 - 0s - loss: 0.6289 - Accuracy: 0.0000e+00 - val_loss: 0.5994 - val_Accuracy: 0.0000e+00 - 44ms/epoch - 2ms/step\n",
      "Epoch 24/100\n",
      "18/18 - 0s - loss: 0.6279 - Accuracy: 0.0000e+00 - val_loss: 0.5983 - val_Accuracy: 0.0000e+00 - 45ms/epoch - 2ms/step\n",
      "Epoch 25/100\n",
      "18/18 - 0s - loss: 0.6266 - Accuracy: 0.0000e+00 - val_loss: 0.5960 - val_Accuracy: 0.0000e+00 - 47ms/epoch - 3ms/step\n",
      "Epoch 26/100\n",
      "18/18 - 0s - loss: 0.6283 - Accuracy: 0.0000e+00 - val_loss: 0.5896 - val_Accuracy: 0.0000e+00 - 45ms/epoch - 3ms/step\n",
      "Epoch 27/100\n",
      "18/18 - 0s - loss: 0.6278 - Accuracy: 0.0000e+00 - val_loss: 0.5942 - val_Accuracy: 0.0000e+00 - 46ms/epoch - 3ms/step\n",
      "Epoch 28/100\n",
      "18/18 - 0s - loss: 0.6270 - Accuracy: 0.0000e+00 - val_loss: 0.5954 - val_Accuracy: 0.0000e+00 - 46ms/epoch - 3ms/step\n",
      "Epoch 29/100\n",
      "18/18 - 0s - loss: 0.6284 - Accuracy: 0.0000e+00 - val_loss: 0.5940 - val_Accuracy: 0.0000e+00 - 44ms/epoch - 2ms/step\n",
      "Epoch 30/100\n",
      "18/18 - 0s - loss: 0.6270 - Accuracy: 0.0000e+00 - val_loss: 0.5907 - val_Accuracy: 0.0000e+00 - 46ms/epoch - 3ms/step\n",
      "Epoch 31/100\n",
      "18/18 - 0s - loss: 0.6255 - Accuracy: 0.0000e+00 - val_loss: 0.5896 - val_Accuracy: 0.0000e+00 - 45ms/epoch - 3ms/step\n",
      "Epoch 32/100\n",
      "18/18 - 0s - loss: 0.6278 - Accuracy: 0.0000e+00 - val_loss: 0.5913 - val_Accuracy: 0.0000e+00 - 45ms/epoch - 3ms/step\n",
      "Epoch 33/100\n",
      "18/18 - 0s - loss: 0.6271 - Accuracy: 0.0000e+00 - val_loss: 0.6057 - val_Accuracy: 0.0000e+00 - 44ms/epoch - 2ms/step\n",
      "Epoch 34/100\n",
      "18/18 - 0s - loss: 0.6260 - Accuracy: 0.0000e+00 - val_loss: 0.5847 - val_Accuracy: 0.0000e+00 - 52ms/epoch - 3ms/step\n",
      "Epoch 35/100\n",
      "18/18 - 0s - loss: 0.6280 - Accuracy: 0.0000e+00 - val_loss: 0.5929 - val_Accuracy: 0.0000e+00 - 49ms/epoch - 3ms/step\n",
      "Epoch 36/100\n",
      "18/18 - 0s - loss: 0.6273 - Accuracy: 0.0000e+00 - val_loss: 0.5917 - val_Accuracy: 0.0000e+00 - 48ms/epoch - 3ms/step\n",
      "Epoch 37/100\n",
      "18/18 - 0s - loss: 0.6273 - Accuracy: 0.0000e+00 - val_loss: 0.5745 - val_Accuracy: 0.0000e+00 - 44ms/epoch - 2ms/step\n",
      "Epoch 38/100\n",
      "18/18 - 0s - loss: 0.6278 - Accuracy: 0.0000e+00 - val_loss: 0.5897 - val_Accuracy: 0.0000e+00 - 44ms/epoch - 2ms/step\n",
      "Epoch 39/100\n",
      "18/18 - 0s - loss: 0.6269 - Accuracy: 0.0000e+00 - val_loss: 0.5923 - val_Accuracy: 0.0000e+00 - 44ms/epoch - 2ms/step\n",
      "Epoch 40/100\n",
      "18/18 - 0s - loss: 0.6261 - Accuracy: 0.0000e+00 - val_loss: 0.5763 - val_Accuracy: 0.0000e+00 - 46ms/epoch - 3ms/step\n",
      "Epoch 41/100\n",
      "18/18 - 0s - loss: 0.6283 - Accuracy: 0.0000e+00 - val_loss: 0.5797 - val_Accuracy: 0.0000e+00 - 45ms/epoch - 2ms/step\n",
      "Epoch 42/100\n",
      "18/18 - 0s - loss: 0.6277 - Accuracy: 0.0000e+00 - val_loss: 0.6020 - val_Accuracy: 0.0000e+00 - 45ms/epoch - 3ms/step\n",
      "Epoch 43/100\n",
      "18/18 - 0s - loss: 0.6270 - Accuracy: 0.0000e+00 - val_loss: 0.5804 - val_Accuracy: 0.0000e+00 - 44ms/epoch - 2ms/step\n",
      "Epoch 44/100\n",
      "18/18 - 0s - loss: 0.6243 - Accuracy: 0.0000e+00 - val_loss: 0.5894 - val_Accuracy: 0.0000e+00 - 44ms/epoch - 2ms/step\n",
      "Epoch 45/100\n",
      "18/18 - 0s - loss: 0.6270 - Accuracy: 0.0000e+00 - val_loss: 0.5836 - val_Accuracy: 0.0000e+00 - 44ms/epoch - 2ms/step\n",
      "Epoch 46/100\n",
      "18/18 - 0s - loss: 0.6245 - Accuracy: 0.0000e+00 - val_loss: 0.5814 - val_Accuracy: 0.0000e+00 - 44ms/epoch - 2ms/step\n",
      "Epoch 47/100\n",
      "18/18 - 0s - loss: 0.6256 - Accuracy: 0.0000e+00 - val_loss: 0.5850 - val_Accuracy: 0.0000e+00 - 44ms/epoch - 2ms/step\n",
      "Epoch 48/100\n",
      "18/18 - 0s - loss: 0.6274 - Accuracy: 0.0000e+00 - val_loss: 0.5890 - val_Accuracy: 0.0000e+00 - 44ms/epoch - 2ms/step\n",
      "Epoch 49/100\n",
      "18/18 - 0s - loss: 0.6240 - Accuracy: 0.0000e+00 - val_loss: 0.5825 - val_Accuracy: 0.0000e+00 - 44ms/epoch - 2ms/step\n",
      "Epoch 50/100\n",
      "18/18 - 0s - loss: 0.6273 - Accuracy: 0.0000e+00 - val_loss: 0.5873 - val_Accuracy: 0.0000e+00 - 44ms/epoch - 2ms/step\n",
      "Epoch 51/100\n",
      "18/18 - 0s - loss: 0.6253 - Accuracy: 0.0000e+00 - val_loss: 0.5905 - val_Accuracy: 0.0000e+00 - 44ms/epoch - 2ms/step\n",
      "Epoch 52/100\n",
      "18/18 - 0s - loss: 0.6275 - Accuracy: 0.0000e+00 - val_loss: 0.5963 - val_Accuracy: 0.0000e+00 - 45ms/epoch - 2ms/step\n",
      "Epoch 53/100\n",
      "18/18 - 0s - loss: 0.6268 - Accuracy: 0.0000e+00 - val_loss: 0.5766 - val_Accuracy: 0.0000e+00 - 45ms/epoch - 3ms/step\n",
      "Epoch 54/100\n",
      "18/18 - 0s - loss: 0.6293 - Accuracy: 0.0000e+00 - val_loss: 0.5891 - val_Accuracy: 0.0000e+00 - 51ms/epoch - 3ms/step\n",
      "Epoch 55/100\n",
      "18/18 - 0s - loss: 0.6249 - Accuracy: 0.0000e+00 - val_loss: 0.5965 - val_Accuracy: 0.0000e+00 - 48ms/epoch - 3ms/step\n",
      "Epoch 56/100\n",
      "18/18 - 0s - loss: 0.6279 - Accuracy: 0.0000e+00 - val_loss: 0.5870 - val_Accuracy: 0.0000e+00 - 51ms/epoch - 3ms/step\n",
      "Epoch 57/100\n",
      "18/18 - 0s - loss: 0.6260 - Accuracy: 0.0000e+00 - val_loss: 0.5959 - val_Accuracy: 0.0000e+00 - 45ms/epoch - 2ms/step\n",
      "Epoch 58/100\n",
      "18/18 - 0s - loss: 0.6259 - Accuracy: 0.0000e+00 - val_loss: 0.5937 - val_Accuracy: 0.0000e+00 - 45ms/epoch - 3ms/step\n",
      "Epoch 59/100\n",
      "18/18 - 0s - loss: 0.6272 - Accuracy: 0.0000e+00 - val_loss: 0.5908 - val_Accuracy: 0.0000e+00 - 44ms/epoch - 2ms/step\n",
      "Epoch 60/100\n",
      "18/18 - 0s - loss: 0.6257 - Accuracy: 0.0000e+00 - val_loss: 0.5936 - val_Accuracy: 0.0000e+00 - 45ms/epoch - 3ms/step\n",
      "Epoch 61/100\n",
      "18/18 - 0s - loss: 0.6259 - Accuracy: 0.0000e+00 - val_loss: 0.5896 - val_Accuracy: 0.0000e+00 - 44ms/epoch - 2ms/step\n",
      "Epoch 62/100\n",
      "18/18 - 0s - loss: 0.6243 - Accuracy: 0.0000e+00 - val_loss: 0.5934 - val_Accuracy: 0.0000e+00 - 45ms/epoch - 3ms/step\n",
      "Epoch 63/100\n",
      "18/18 - 0s - loss: 0.6273 - Accuracy: 0.0000e+00 - val_loss: 0.6032 - val_Accuracy: 0.0000e+00 - 46ms/epoch - 3ms/step\n",
      "Epoch 64/100\n",
      "18/18 - 0s - loss: 0.6283 - Accuracy: 0.0000e+00 - val_loss: 0.5894 - val_Accuracy: 0.0000e+00 - 50ms/epoch - 3ms/step\n",
      "Epoch 65/100\n",
      "18/18 - 0s - loss: 0.6253 - Accuracy: 0.0000e+00 - val_loss: 0.6045 - val_Accuracy: 0.0000e+00 - 48ms/epoch - 3ms/step\n",
      "Epoch 66/100\n",
      "18/18 - 0s - loss: 0.6256 - Accuracy: 0.0000e+00 - val_loss: 0.5787 - val_Accuracy: 0.0000e+00 - 45ms/epoch - 2ms/step\n",
      "Epoch 67/100\n",
      "18/18 - 0s - loss: 0.6294 - Accuracy: 0.0000e+00 - val_loss: 0.5786 - val_Accuracy: 0.0000e+00 - 46ms/epoch - 3ms/step\n",
      "Epoch 68/100\n",
      "18/18 - 0s - loss: 0.6276 - Accuracy: 0.0000e+00 - val_loss: 0.5805 - val_Accuracy: 0.0000e+00 - 44ms/epoch - 2ms/step\n",
      "Epoch 69/100\n",
      "18/18 - 0s - loss: 0.6259 - Accuracy: 0.0000e+00 - val_loss: 0.5877 - val_Accuracy: 0.0000e+00 - 45ms/epoch - 3ms/step\n",
      "Epoch 70/100\n",
      "18/18 - 0s - loss: 0.6250 - Accuracy: 0.0000e+00 - val_loss: 0.5943 - val_Accuracy: 0.0000e+00 - 44ms/epoch - 2ms/step\n",
      "Epoch 71/100\n",
      "18/18 - 0s - loss: 0.6268 - Accuracy: 0.0000e+00 - val_loss: 0.5914 - val_Accuracy: 0.0000e+00 - 44ms/epoch - 2ms/step\n",
      "Epoch 72/100\n",
      "18/18 - 0s - loss: 0.6262 - Accuracy: 0.0000e+00 - val_loss: 0.6015 - val_Accuracy: 0.0000e+00 - 46ms/epoch - 3ms/step\n",
      "Epoch 73/100\n",
      "18/18 - 0s - loss: 0.6258 - Accuracy: 0.0000e+00 - val_loss: 0.5804 - val_Accuracy: 0.0000e+00 - 46ms/epoch - 3ms/step\n",
      "Epoch 74/100\n",
      "18/18 - 0s - loss: 0.6270 - Accuracy: 0.0000e+00 - val_loss: 0.5809 - val_Accuracy: 0.0000e+00 - 45ms/epoch - 2ms/step\n",
      "Epoch 75/100\n",
      "18/18 - 0s - loss: 0.6251 - Accuracy: 0.0000e+00 - val_loss: 0.5886 - val_Accuracy: 0.0000e+00 - 46ms/epoch - 3ms/step\n",
      "Epoch 76/100\n",
      "18/18 - 0s - loss: 0.6279 - Accuracy: 0.0000e+00 - val_loss: 0.6002 - val_Accuracy: 0.0000e+00 - 44ms/epoch - 2ms/step\n",
      "Epoch 77/100\n",
      "18/18 - 0s - loss: 0.6262 - Accuracy: 0.0000e+00 - val_loss: 0.5901 - val_Accuracy: 0.0000e+00 - 44ms/epoch - 2ms/step\n",
      "Epoch 78/100\n",
      "18/18 - 0s - loss: 0.6261 - Accuracy: 0.0000e+00 - val_loss: 0.5876 - val_Accuracy: 0.0000e+00 - 43ms/epoch - 2ms/step\n",
      "Epoch 79/100\n",
      "18/18 - 0s - loss: 0.6291 - Accuracy: 0.0000e+00 - val_loss: 0.5953 - val_Accuracy: 0.0000e+00 - 45ms/epoch - 2ms/step\n",
      "Epoch 80/100\n",
      "18/18 - 0s - loss: 0.6269 - Accuracy: 0.0000e+00 - val_loss: 0.5927 - val_Accuracy: 0.0000e+00 - 43ms/epoch - 2ms/step\n",
      "Epoch 81/100\n",
      "18/18 - 0s - loss: 0.6255 - Accuracy: 0.0000e+00 - val_loss: 0.5899 - val_Accuracy: 0.0000e+00 - 45ms/epoch - 3ms/step\n",
      "Epoch 82/100\n",
      "18/18 - 0s - loss: 0.6246 - Accuracy: 0.0000e+00 - val_loss: 0.5974 - val_Accuracy: 0.0000e+00 - 44ms/epoch - 2ms/step\n",
      "Epoch 83/100\n",
      "18/18 - 0s - loss: 0.6259 - Accuracy: 0.0000e+00 - val_loss: 0.5852 - val_Accuracy: 0.0000e+00 - 45ms/epoch - 3ms/step\n",
      "Epoch 84/100\n",
      "18/18 - 0s - loss: 0.6271 - Accuracy: 0.0000e+00 - val_loss: 0.5867 - val_Accuracy: 0.0000e+00 - 43ms/epoch - 2ms/step\n",
      "Epoch 85/100\n",
      "18/18 - 0s - loss: 0.6276 - Accuracy: 0.0000e+00 - val_loss: 0.5932 - val_Accuracy: 0.0000e+00 - 46ms/epoch - 3ms/step\n",
      "Epoch 86/100\n",
      "18/18 - 0s - loss: 0.6265 - Accuracy: 0.0000e+00 - val_loss: 0.5830 - val_Accuracy: 0.0000e+00 - 45ms/epoch - 3ms/step\n",
      "Epoch 87/100\n",
      "18/18 - 0s - loss: 0.6266 - Accuracy: 0.0000e+00 - val_loss: 0.5935 - val_Accuracy: 0.0000e+00 - 45ms/epoch - 3ms/step\n",
      "Epoch 88/100\n",
      "18/18 - 0s - loss: 0.6265 - Accuracy: 0.0000e+00 - val_loss: 0.5859 - val_Accuracy: 0.0000e+00 - 46ms/epoch - 3ms/step\n",
      "Epoch 89/100\n",
      "18/18 - 0s - loss: 0.6286 - Accuracy: 0.0000e+00 - val_loss: 0.5858 - val_Accuracy: 0.0000e+00 - 45ms/epoch - 3ms/step\n",
      "Epoch 90/100\n",
      "18/18 - 0s - loss: 0.6278 - Accuracy: 0.0000e+00 - val_loss: 0.5956 - val_Accuracy: 0.0000e+00 - 46ms/epoch - 3ms/step\n",
      "Epoch 91/100\n",
      "18/18 - 0s - loss: 0.6283 - Accuracy: 0.0000e+00 - val_loss: 0.5843 - val_Accuracy: 0.0000e+00 - 44ms/epoch - 2ms/step\n",
      "Epoch 92/100\n",
      "18/18 - 0s - loss: 0.6240 - Accuracy: 0.0000e+00 - val_loss: 0.5957 - val_Accuracy: 0.0000e+00 - 44ms/epoch - 2ms/step\n",
      "Epoch 93/100\n",
      "18/18 - 0s - loss: 0.6263 - Accuracy: 0.0000e+00 - val_loss: 0.5890 - val_Accuracy: 0.0000e+00 - 44ms/epoch - 2ms/step\n",
      "Epoch 94/100\n",
      "18/18 - 0s - loss: 0.6263 - Accuracy: 0.0000e+00 - val_loss: 0.5818 - val_Accuracy: 0.0000e+00 - 45ms/epoch - 2ms/step\n",
      "Epoch 95/100\n",
      "18/18 - 0s - loss: 0.6251 - Accuracy: 0.0000e+00 - val_loss: 0.5905 - val_Accuracy: 0.0000e+00 - 45ms/epoch - 2ms/step\n",
      "Epoch 96/100\n",
      "18/18 - 0s - loss: 0.6273 - Accuracy: 0.0000e+00 - val_loss: 0.5835 - val_Accuracy: 0.0000e+00 - 44ms/epoch - 2ms/step\n",
      "Epoch 97/100\n",
      "18/18 - 0s - loss: 0.6263 - Accuracy: 0.0000e+00 - val_loss: 0.5861 - val_Accuracy: 0.0000e+00 - 45ms/epoch - 2ms/step\n",
      "Epoch 98/100\n",
      "18/18 - 0s - loss: 0.6273 - Accuracy: 0.0000e+00 - val_loss: 0.5966 - val_Accuracy: 0.0000e+00 - 48ms/epoch - 3ms/step\n",
      "Epoch 99/100\n",
      "18/18 - 0s - loss: 0.6257 - Accuracy: 0.0000e+00 - val_loss: 0.5977 - val_Accuracy: 0.0000e+00 - 48ms/epoch - 3ms/step\n",
      "Epoch 100/100\n",
      "18/18 - 0s - loss: 0.6267 - Accuracy: 0.0000e+00 - val_loss: 0.5862 - val_Accuracy: 0.0000e+00 - 49ms/epoch - 3ms/step\n"
     ]
    },
    {
     "data": {
      "text/plain": [
       "<keras.callbacks.History at 0x1d2b144f370>"
      ]
     },
     "execution_count": 224,
     "metadata": {},
     "output_type": "execute_result"
    }
   ],
   "source": [
    "metrics = [\n",
    "    keras.metrics.Accuracy(name=\"Accuracy\")\n",
    "]\n",
    "\n",
    "model.compile(\n",
    "    optimizer=keras.optimizers.Adam(1e-2), loss=\"binary_crossentropy\", metrics=metrics\n",
    ")\n",
    "\n",
    "\n",
    "\n",
    "model.fit(\n",
    "    X_SMOTE,\n",
    "    y_SMOTE,\n",
    "    batch_size=2048,\n",
    "    epochs=100,\n",
    "    verbose=2,\n",
    "    validation_split = 0.2, \n",
    "    validation_data=(X_test, y_test),\n",
    "\n",
    ")"
   ]
  },
  {
   "cell_type": "code",
   "execution_count": 225,
   "id": "ee3e5e46",
   "metadata": {},
   "outputs": [
    {
     "data": {
      "text/plain": [
       "<AxesSubplot: >"
      ]
     },
     "execution_count": 225,
     "metadata": {},
     "output_type": "execute_result"
    },
    {
     "data": {
      "image/png": "[encoded data removed]",
      "text/plain": [
       "<Figure size 432x288 with 1 Axes>"
      ]
     },
     "metadata": {
      "needs_background": "light"
     },
     "output_type": "display_data"
    }
   ],
   "source": [
    "\n",
    "losses = pd.DataFrame(model.history.history)\n",
    "losses[['loss','val_loss']].plot()\n"
   ]
  },
  {
   "cell_type": "code",
   "execution_count": 226,
   "id": "ada4db49",
   "metadata": {},
   "outputs": [
    {
     "name": "stdout",
     "output_type": "stream",
     "text": [
      "235/235 [==============================] - 0s 503us/step\n",
      "              precision    recall  f1-score   support\n",
      "\n",
      "         0.0       0.87      0.84      0.86      5800\n",
      "         1.0       0.52      0.57      0.54      1700\n",
      "\n",
      "    accuracy                           0.78      7500\n",
      "   macro avg       0.69      0.71      0.70      7500\n",
      "weighted avg       0.79      0.78      0.79      7500\n",
      "\n",
      "Accuracy:  0.7829333333333334\n",
      "Average Class Accuracy:  0.7085040567951318\n"
     ]
    }
   ],
   "source": [
    "predictions = model.predict(X_test)\n",
    "predictions = np.rint(predictions).astype(int)\n",
    "print(classification_report(y_test, predictions))\n",
    "print('Accuracy: ', accuracy_score(y_test, predictions))\n",
    "print('Average Class Accuracy: ', balanced_accuracy_score(y_test, predictions))"
   ]
  },
  {
   "cell_type": "code",
   "execution_count": 227,
   "id": "511c71a0",
   "metadata": {},
   "outputs": [
    {
     "data": {
      "text/plain": [
       "Text(0.5, 1.0, 'Confusion Matrix - Tuned Neural Network Model')"
      ]
     },
     "execution_count": 227,
     "metadata": {},
     "output_type": "execute_result"
    },
    {
     "data": {
      "image/png": "[encoded data removed]",
      "text/plain": [
       "<Figure size 288x216 with 2 Axes>"
      ]
     },
     "metadata": {
      "needs_background": "light"
     },
     "output_type": "display_data"
    }
   ],
   "source": [
    "## Confusion matrix for tuned Neural Network model\n",
    "plt.figure(figsize=(4,3))\n",
    "ConfMatrix = confusion_matrix(y_test, predictions)\n",
    "sns.heatmap(ConfMatrix,annot=True, cmap=\"Blues\", fmt=\"d\", \n",
    "            xticklabels = ['Non-default', 'Default'], \n",
    "            yticklabels = ['Non-default', 'Default'])\n",
    "plt.ylabel('True label')\n",
    "plt.xlabel('Predicted label')\n",
    "plt.title(\"Confusion Matrix - Tuned Neural Network Model\")"
   ]
  },
  {
   "cell_type": "markdown",
   "id": "dc1dc0c0",
   "metadata": {},
   "source": [
    "### Support Vector Machine"
   ]
  },
  {
   "cell_type": "markdown",
   "id": "16faf976",
   "metadata": {},
   "source": [
    "Naive Model"
   ]
  },
  {
   "cell_type": "code",
   "execution_count": 228,
   "id": "b8fea822",
   "metadata": {},
   "outputs": [
    {
     "data": {
      "text/html": [
       "<style>#sk-container-id-8 {color: black;background-color: white;}#sk-container-id-8 pre{padding: 0;}#sk-container-id-8 div.sk-toggleable {background-color: white;}#sk-container-id-8 label.sk-toggleable__label {cursor: pointer;display: block;width: 100%;margin-bottom: 0;padding: 0.3em;box-sizing: border-box;text-align: center;}#sk-container-id-8 label.sk-toggleable__label-arrow:before {content: \"▸\";float: left;margin-right: 0.25em;color: #696969;}#sk-container-id-8 label.sk-toggleable__label-arrow:hover:before {color: black;}#sk-container-id-8 div.sk-estimator:hover label.sk-toggleable__label-arrow:before {color: black;}#sk-container-id-8 div.sk-toggleable__content {max-height: 0;max-width: 0;overflow: hidden;text-align: left;background-color: #f0f8ff;}#sk-container-id-8 div.sk-toggleable__content pre {margin: 0.2em;color: black;border-radius: 0.25em;background-color: #f0f8ff;}#sk-container-id-8 input.sk-toggleable__control:checked~div.sk-toggleable__content {max-height: 200px;max-width: 100%;overflow: auto;}#sk-container-id-8 input.sk-toggleable__control:checked~label.sk-toggleable__label-arrow:before {content: \"▾\";}#sk-container-id-8 div.sk-estimator input.sk-toggleable__control:checked~label.sk-toggleable__label {background-color: #d4ebff;}#sk-container-id-8 div.sk-label input.sk-toggleable__control:checked~label.sk-toggleable__label {background-color: #d4ebff;}#sk-container-id-8 input.sk-hidden--visually {border: 0;clip: rect(1px 1px 1px 1px);clip: rect(1px, 1px, 1px, 1px);height: 1px;margin: -1px;overflow: hidden;padding: 0;position: absolute;width: 1px;}#sk-container-id-8 div.sk-estimator {font-family: monospace;background-color: #f0f8ff;border: 1px dotted black;border-radius: 0.25em;box-sizing: border-box;margin-bottom: 0.5em;}#sk-container-id-8 div.sk-estimator:hover {background-color: #d4ebff;}#sk-container-id-8 div.sk-parallel-item::after {content: \"\";width: 100%;border-bottom: 1px solid gray;flex-grow: 1;}#sk-container-id-8 div.sk-label:hover label.sk-toggleable__label {background-color: #d4ebff;}#sk-container-id-8 div.sk-serial::before {content: \"\";position: absolute;border-left: 1px solid gray;box-sizing: border-box;top: 0;bottom: 0;left: 50%;z-index: 0;}#sk-container-id-8 div.sk-serial {display: flex;flex-direction: column;align-items: center;background-color: white;padding-right: 0.2em;padding-left: 0.2em;position: relative;}#sk-container-id-8 div.sk-item {position: relative;z-index: 1;}#sk-container-id-8 div.sk-parallel {display: flex;align-items: stretch;justify-content: center;background-color: white;position: relative;}#sk-container-id-8 div.sk-item::before, #sk-container-id-8 div.sk-parallel-item::before {content: \"\";position: absolute;border-left: 1px solid gray;box-sizing: border-box;top: 0;bottom: 0;left: 50%;z-index: -1;}#sk-container-id-8 div.sk-parallel-item {display: flex;flex-direction: column;z-index: 1;position: relative;background-color: white;}#sk-container-id-8 div.sk-parallel-item:first-child::after {align-self: flex-end;width: 50%;}#sk-container-id-8 div.sk-parallel-item:last-child::after {align-self: flex-start;width: 50%;}#sk-container-id-8 div.sk-parallel-item:only-child::after {width: 0;}#sk-container-id-8 div.sk-dashed-wrapped {border: 1px dashed gray;margin: 0 0.4em 0.5em 0.4em;box-sizing: border-box;padding-bottom: 0.4em;background-color: white;}#sk-container-id-8 div.sk-label label {font-family: monospace;font-weight: bold;display: inline-block;line-height: 1.2em;}#sk-container-id-8 div.sk-label-container {text-align: center;}#sk-container-id-8 div.sk-container {/* jupyter's `normalize.less` sets `[hidden] { display: none; }` but bootstrap.min.css set `[hidden] { display: none !important; }` so we also need the `!important` here to be able to override the default hidden behavior on the sphinx rendered scikit-learn.org. See: https://github.com/scikit-learn/scikit-learn/issues/21755 */display: inline-block !important;position: relative;}#sk-container-id-8 div.sk-text-repr-fallback {display: none;}</style><div id=\"sk-container-id-8\" class=\"sk-top-container\"><div class=\"sk-text-repr-fallback\"><pre>SVC(random_state=1234)</pre><b>In a Jupyter environment, please rerun this cell to show the HTML representation or trust the notebook. <br />On GitHub, the HTML representation is unable to render, please try loading this page with nbviewer.org.</b></div><div class=\"sk-container\" hidden><div class=\"sk-item\"><div class=\"sk-estimator sk-toggleable\"><input class=\"sk-toggleable__control sk-hidden--visually\" id=\"sk-estimator-id-8\" type=\"checkbox\" checked><label for=\"sk-estimator-id-8\" class=\"sk-toggleable__label sk-toggleable__label-arrow\">SVC</label><div class=\"sk-toggleable__content\"><pre>SVC(random_state=1234)</pre></div></div></div></div></div>"
      ],
      "text/plain": [
       "SVC(random_state=1234)"
      ]
     },
     "execution_count": 228,
     "metadata": {},
     "output_type": "execute_result"
    }
   ],
   "source": [
    "## Building the naive SVM model\n",
    "svm = SVC(random_state=1234)\n",
    "svm.fit(X_train_naive, y_train_naive)"
   ]
  },
  {
   "cell_type": "code",
   "execution_count": 229,
   "id": "ab737355",
   "metadata": {},
   "outputs": [
    {
     "name": "stdout",
     "output_type": "stream",
     "text": [
      "              precision    recall  f1-score   support\n",
      "\n",
      "           0       0.77      1.00      0.87      5800\n",
      "           1       0.00      0.00      0.00      1700\n",
      "\n",
      "    accuracy                           0.77      7500\n",
      "   macro avg       0.39      0.50      0.44      7500\n",
      "weighted avg       0.60      0.77      0.67      7500\n",
      "\n",
      "Accuracy:  0.7733333333333333\n",
      "Average Class Accuracy:  0.5\n"
     ]
    }
   ],
   "source": [
    "## Model evaluation for the naive SVM model\n",
    "y_pred_svm = svm.predict(X_test_naive)\n",
    "print(classification_report(y_test_naive, y_pred_svm))\n",
    "print('Accuracy: ', accuracy_score(y_test_naive, y_pred_svm))\n",
    "print('Average Class Accuracy: ', balanced_accuracy_score(y_test_naive, y_pred_svm))"
   ]
  },
  {
   "cell_type": "code",
   "execution_count": 230,
   "id": "546dd4be",
   "metadata": {},
   "outputs": [
    {
     "data": {
      "text/plain": [
       "Text(0.5, 1.0, 'Confusion Matrix - Naive SVM Model')"
      ]
     },
     "execution_count": 230,
     "metadata": {},
     "output_type": "execute_result"
    },
    {
     "data": {
      "image/png": "[encoded data removed]",
      "text/plain": [
       "<Figure size 288x216 with 2 Axes>"
      ]
     },
     "metadata": {
      "needs_background": "light"
     },
     "output_type": "display_data"
    }
   ],
   "source": [
    "## Confusion matrix for naive SVM model\n",
    "plt.figure(figsize=(4,3))\n",
    "ConfMatrix = confusion_matrix(y_test_naive, y_pred_svm)\n",
    "sns.heatmap(ConfMatrix,annot=True, cmap=\"Blues\", fmt=\"d\", \n",
    "            xticklabels = ['Non-default', 'Default'], \n",
    "            yticklabels = ['Non-default', 'Default'])\n",
    "plt.ylabel('True label')\n",
    "plt.xlabel('Predicted label')\n",
    "plt.title(\"Confusion Matrix - Naive SVM Model\")"
   ]
  },
  {
   "cell_type": "markdown",
   "id": "44cb872c",
   "metadata": {},
   "source": [
    "Tuned Model"
   ]
  },
  {
   "cell_type": "code",
   "execution_count": 231,
   "id": "ab33ebc7",
   "metadata": {},
   "outputs": [],
   "source": [
    "## Doing Hyperparameter Tuning here using GridSearchCV\n",
    "param_grid={\n",
    "    'C':[0.5, 1, 10, 100], # Regularization Parameter\n",
    "    'gamma':['scale', 0.1, 0.001, 0.0001, 1],\n",
    "    'kernel':['rbf']\n",
    "}\n",
    "\n",
    "optimal_params = GridSearchCV(SVC(), param_grid, cv=5, scoring='accuracy', verbose=False)"
   ]
  },
  {
   "cell_type": "code",
   "execution_count": 232,
   "id": "03566d6c",
   "metadata": {},
   "outputs": [
    {
     "name": "stdout",
     "output_type": "stream",
     "text": [
      "{'C': 100, 'gamma': 1, 'kernel': 'rbf'}\n"
     ]
    }
   ],
   "source": [
    "optimal_params.fit(X_SMOTE ,y_SMOTE)\n",
    "print(optimal_params.best_params_)"
   ]
  },
  {
   "cell_type": "code",
   "execution_count": 233,
   "id": "b0fddb5c",
   "metadata": {},
   "outputs": [
    {
     "data": {
      "text/html": [
       "<style>#sk-container-id-9 {color: black;background-color: white;}#sk-container-id-9 pre{padding: 0;}#sk-container-id-9 div.sk-toggleable {background-color: white;}#sk-container-id-9 label.sk-toggleable__label {cursor: pointer;display: block;width: 100%;margin-bottom: 0;padding: 0.3em;box-sizing: border-box;text-align: center;}#sk-container-id-9 label.sk-toggleable__label-arrow:before {content: \"▸\";float: left;margin-right: 0.25em;color: #696969;}#sk-container-id-9 label.sk-toggleable__label-arrow:hover:before {color: black;}#sk-container-id-9 div.sk-estimator:hover label.sk-toggleable__label-arrow:before {color: black;}#sk-container-id-9 div.sk-toggleable__content {max-height: 0;max-width: 0;overflow: hidden;text-align: left;background-color: #f0f8ff;}#sk-container-id-9 div.sk-toggleable__content pre {margin: 0.2em;color: black;border-radius: 0.25em;background-color: #f0f8ff;}#sk-container-id-9 input.sk-toggleable__control:checked~div.sk-toggleable__content {max-height: 200px;max-width: 100%;overflow: auto;}#sk-container-id-9 input.sk-toggleable__control:checked~label.sk-toggleable__label-arrow:before {content: \"▾\";}#sk-container-id-9 div.sk-estimator input.sk-toggleable__control:checked~label.sk-toggleable__label {background-color: #d4ebff;}#sk-container-id-9 div.sk-label input.sk-toggleable__control:checked~label.sk-toggleable__label {background-color: #d4ebff;}#sk-container-id-9 input.sk-hidden--visually {border: 0;clip: rect(1px 1px 1px 1px);clip: rect(1px, 1px, 1px, 1px);height: 1px;margin: -1px;overflow: hidden;padding: 0;position: absolute;width: 1px;}#sk-container-id-9 div.sk-estimator {font-family: monospace;background-color: #f0f8ff;border: 1px dotted black;border-radius: 0.25em;box-sizing: border-box;margin-bottom: 0.5em;}#sk-container-id-9 div.sk-estimator:hover {background-color: #d4ebff;}#sk-container-id-9 div.sk-parallel-item::after {content: \"\";width: 100%;border-bottom: 1px solid gray;flex-grow: 1;}#sk-container-id-9 div.sk-label:hover label.sk-toggleable__label {background-color: #d4ebff;}#sk-container-id-9 div.sk-serial::before {content: \"\";position: absolute;border-left: 1px solid gray;box-sizing: border-box;top: 0;bottom: 0;left: 50%;z-index: 0;}#sk-container-id-9 div.sk-serial {display: flex;flex-direction: column;align-items: center;background-color: white;padding-right: 0.2em;padding-left: 0.2em;position: relative;}#sk-container-id-9 div.sk-item {position: relative;z-index: 1;}#sk-container-id-9 div.sk-parallel {display: flex;align-items: stretch;justify-content: center;background-color: white;position: relative;}#sk-container-id-9 div.sk-item::before, #sk-container-id-9 div.sk-parallel-item::before {content: \"\";position: absolute;border-left: 1px solid gray;box-sizing: border-box;top: 0;bottom: 0;left: 50%;z-index: -1;}#sk-container-id-9 div.sk-parallel-item {display: flex;flex-direction: column;z-index: 1;position: relative;background-color: white;}#sk-container-id-9 div.sk-parallel-item:first-child::after {align-self: flex-end;width: 50%;}#sk-container-id-9 div.sk-parallel-item:last-child::after {align-self: flex-start;width: 50%;}#sk-container-id-9 div.sk-parallel-item:only-child::after {width: 0;}#sk-container-id-9 div.sk-dashed-wrapped {border: 1px dashed gray;margin: 0 0.4em 0.5em 0.4em;box-sizing: border-box;padding-bottom: 0.4em;background-color: white;}#sk-container-id-9 div.sk-label label {font-family: monospace;font-weight: bold;display: inline-block;line-height: 1.2em;}#sk-container-id-9 div.sk-label-container {text-align: center;}#sk-container-id-9 div.sk-container {/* jupyter's `normalize.less` sets `[hidden] { display: none; }` but bootstrap.min.css set `[hidden] { display: none !important; }` so we also need the `!important` here to be able to override the default hidden behavior on the sphinx rendered scikit-learn.org. See: https://github.com/scikit-learn/scikit-learn/issues/21755 */display: inline-block !important;position: relative;}#sk-container-id-9 div.sk-text-repr-fallback {display: none;}</style><div id=\"sk-container-id-9\" class=\"sk-top-container\"><div class=\"sk-text-repr-fallback\"><pre>SVC(C=100, gamma=1, probability=True, random_state=1234)</pre><b>In a Jupyter environment, please rerun this cell to show the HTML representation or trust the notebook. <br />On GitHub, the HTML representation is unable to render, please try loading this page with nbviewer.org.</b></div><div class=\"sk-container\" hidden><div class=\"sk-item\"><div class=\"sk-estimator sk-toggleable\"><input class=\"sk-toggleable__control sk-hidden--visually\" id=\"sk-estimator-id-9\" type=\"checkbox\" checked><label for=\"sk-estimator-id-9\" class=\"sk-toggleable__label sk-toggleable__label-arrow\">SVC</label><div class=\"sk-toggleable__content\"><pre>SVC(C=100, gamma=1, probability=True, random_state=1234)</pre></div></div></div></div></div>"
      ],
      "text/plain": [
       "SVC(C=100, gamma=1, probability=True, random_state=1234)"
      ]
     },
     "execution_count": 233,
     "metadata": {},
     "output_type": "execute_result"
    }
   ],
   "source": [
    "optimised_svm = SVC(random_state = 1234, C = 100, gamma = 1, kernel = 'rbf', probability = True)\n",
    "optimised_svm.fit(X_SMOTE, y_SMOTE)"
   ]
  },
  {
   "cell_type": "code",
   "execution_count": 234,
   "id": "b4417749",
   "metadata": {},
   "outputs": [
    {
     "name": "stdout",
     "output_type": "stream",
     "text": [
      "              precision    recall  f1-score   support\n",
      "\n",
      "         0.0       0.86      0.82      0.84      5800\n",
      "         1.0       0.47      0.56      0.51      1700\n",
      "\n",
      "    accuracy                           0.76      7500\n",
      "   macro avg       0.67      0.69      0.67      7500\n",
      "weighted avg       0.77      0.76      0.76      7500\n",
      "\n",
      "Accuracy:  0.7568\n",
      "Average Class Accuracy:  0.685578093306288\n"
     ]
    }
   ],
   "source": [
    "## Model evaluation for the tuned SVM model\n",
    "y_pred_optimised_svm = optimised_svm.predict(X_test)\n",
    "print(classification_report(y_test, y_pred_optimised_svm))\n",
    "print('Accuracy: ', accuracy_score(y_test, y_pred_optimised_svm))\n",
    "print('Average Class Accuracy: ', balanced_accuracy_score(y_test, y_pred_optimised_svm))"
   ]
  },
  {
   "cell_type": "code",
   "execution_count": 235,
   "id": "236aed79",
   "metadata": {},
   "outputs": [
    {
     "data": {
      "text/plain": [
       "Text(0.5, 1.0, 'Confusion Matrix - Tuned SVM Model')"
      ]
     },
     "execution_count": 235,
     "metadata": {},
     "output_type": "execute_result"
    },
    {
     "data": {
      "image/png": "[encoded data removed]",
      "text/plain": [
       "<Figure size 288x216 with 2 Axes>"
      ]
     },
     "metadata": {
      "needs_background": "light"
     },
     "output_type": "display_data"
    }
   ],
   "source": [
    "## Confusion matrix for tuned SVM model\n",
    "plt.figure(figsize=(4,3))\n",
    "ConfMatrix = confusion_matrix(y_test, y_pred_optimised_svm)\n",
    "sns.heatmap(ConfMatrix,annot=True, cmap=\"Blues\", fmt=\"d\", \n",
    "            xticklabels = ['Non-default', 'Default'], \n",
    "            yticklabels = ['Non-default', 'Default'])\n",
    "plt.ylabel('True label')\n",
    "plt.xlabel('Predicted label')\n",
    "plt.title(\"Confusion Matrix - Tuned SVM Model\")"
   ]
  },
  {
   "cell_type": "code",
   "execution_count": 236,
   "id": "9aab3081",
   "metadata": {},
   "outputs": [
    {
     "name": "stdout",
     "output_type": "stream",
     "text": [
      "235/235 [==============================] - 0s 685us/step\n"
     ]
    },
    {
     "data": {
      "image/png": "[encoded data removed]",
      "text/plain": [
       "<Figure size 576x360 with 1 Axes>"
      ]
     },
     "metadata": {
      "needs_background": "light"
     },
     "output_type": "display_data"
    }
   ],
   "source": [
    "from sklearn import metrics\n",
    "\n",
    "y_pred_proba_LR = optimised_lr.predict_proba(X_test)[::,1]\n",
    "fpr1, tpr1, _ = metrics.roc_curve(y_test,  y_pred_proba_LR)\n",
    "auc1 = metrics.roc_auc_score(y_test, y_pred_proba_LR)\n",
    "\n",
    "y_pred_proba_xgb = optimised_xgb.predict_proba(X_test)[::,1]\n",
    "fpr2, tpr2, _ = metrics.roc_curve(y_test,  y_pred_proba_xgb)\n",
    "auc2 = metrics.roc_auc_score(y_test, y_pred_proba_xgb)\n",
    "\n",
    "y_pred_proba_svm = optimised_svm.predict_proba(X_test)[::,1]\n",
    "fpr3, tpr3, _ = metrics.roc_curve(y_test,  y_pred_proba_svm)\n",
    "auc3 = metrics.roc_auc_score(y_test, y_pred_proba_svm)\n",
    "\n",
    "y_pred_proba_nn = model.predict(X_test).ravel()\n",
    "fpr4, tpr4, _ = metrics.roc_curve(y_test, y_pred_proba_nn)\n",
    "auc4 = metrics.roc_auc_score(y_test, y_pred_proba_nn)\n",
    "\n",
    "plt.figure(figsize=(8,5))\n",
    "plt.plot([0, 1], [0, 1], 'k--')\n",
    "plt.plot(fpr1,tpr1,label=\"Logistic Regression, auc = \"+str(round(auc1,2)))\n",
    "plt.plot(fpr2,tpr2,label=\"XGBoost Classifier, auc = \"+str(round(auc2,2)))\n",
    "plt.plot(fpr3,tpr3,label=\"SVM, auc = \"+str(round(auc3,2)))\n",
    "plt.plot(fpr4,tpr4,label=\"Neural Network, auc = \"+str(round(auc4,2)))\n",
    "plt.legend(loc=4, title='Models', facecolor='white')\n",
    "plt.xlabel('False Positive Rate')\n",
    "plt.ylabel('True Positive Rate')\n",
    "plt.title('ROC', size=15)\n",
    "plt.show()"
   ]
  }
 ],
 "metadata": {
  "kernelspec": {
   "display_name": "Python 3.10.6 ('cardenv')",
   "language": "python",
   "name": "python3"
  },
  "language_info": {
   "codemirror_mode": {
    "name": "ipython",
    "version": 3
   },
   "file_extension": ".py",
   "mimetype": "text/x-python",
   "name": "python",
   "nbconvert_exporter": "python",
   "pygments_lexer": "ipython3",
   "version": "3.10.6"
  },
  "vscode": {
   "interpreter": {
    "hash": "57bc934f666e49450a2efb6b5b19c4b78a329b6cbd125c4cb5548cc9b1aa6f3a"
   }
  }
 },
 "nbformat": 4,
 "nbformat_minor": 5
}

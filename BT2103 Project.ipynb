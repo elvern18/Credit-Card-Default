{
 "cells": [
  {
   "cell_type": "markdown",
   "id": "cb43c6e7",
   "metadata": {},
   "source": [
    "# BT2103 Project"
   ]
  },
  {
   "cell_type": "markdown",
   "id": "92cd925c",
   "metadata": {},
   "source": [
    "## Introduction: \n",
    "The data set contains payment information of 30,000 credit card holders obtained from a bank in Taiwan. Each data sample is described by 23 feature attributes (columns B to X). The target feature (column Y) to be predicted is binary valued 0 (= not default) or 1 (= default).\n",
    "\n",
    "We aim to predict whether a credit card holder is able to make payment in the next month (1 = yes , 0 = no)\n",
    "\n",
    "There are 25 variables:\n",
    "\n",
    "ID: ID of each client\n",
    "\n",
    "LIMIT_BAL: Amount of given credit in NT dollars (includes individual and family/supplementary credit)\n",
    "\n",
    "SEX: Gender (1=male, 2=female)\n",
    "\n",
    "EDUCATION: (1=graduate school, 2=university, 3=high school, 4=others, 5=unknown, 6=unknown)\n",
    "\n",
    "MARRIAGE: Marital status (1=married, 2=single, 3=others)\n",
    "\n",
    "AGE: Age in years\n",
    "\n",
    "PAY_0: Repayment status in September, 2005 (-1=pay duly, 1=payment delay for one month, 2=payment delay for two months, … 8=payment delay for eight months, 9=payment delay for nine months and above)\n",
    "\n",
    "PAY_2: Repayment status in August, 2005 (scale same as above)\n",
    "\n",
    "PAY_3: Repayment status in July, 2005 (scale same as above)\n",
    "\n",
    "PAY_4: Repayment status in June, 2005 (scale same as above)\n",
    "\n",
    "PAY_5: Repayment status in May, 2005 (scale same as above)\n",
    "\n",
    "PAY_6: Repayment status in April, 2005 (scale same as above)\n",
    "\n",
    "BILL_AMT1: Amount of bill statement in September, 2005 (NT dollar)\n",
    "\n",
    "BILL_AMT2: Amount of bill statement in August, 2005 (NT dollar)\n",
    "\n",
    "BILL_AMT3: Amount of bill statement in July, 2005 (NT dollar)\n",
    "\n",
    "BILL_AMT4: Amount of bill statement in June, 2005 (NT dollar)\n",
    "\n",
    "BILL_AMT5: Amount of bill statement in May, 2005 (NT dollar)\n",
    "\n",
    "BILL_AMT6: Amount of bill statement in April, 2005 (NT dollar)\n",
    "\n",
    "PAY_AMT1: Amount of previous payment in September, 2005 (NT dollar)\n",
    "\n",
    "PAY_AMT2: Amount of previous payment in August, 2005 (NT dollar)\n",
    "\n",
    "PAY_AMT3: Amount of previous payment in July, 2005 (NT dollar)\n",
    "\n",
    "PAY_AMT4: Amount of previous payment in June, 2005 (NT dollar)\n",
    "\n",
    "PAY_AMT5: Amount of previous payment in May, 2005 (NT dollar)\n",
    "\n",
    "PAY_AMT6: Amount of previous payment in April, 2005 (NT dollar)\n",
    "\n",
    "default.payment.next.month: Default payment (1=yes, 0=no)\n",
    "\n",
    "\n"
   ]
  },
  {
   "cell_type": "markdown",
   "id": "12c0d50d",
   "metadata": {},
   "source": [
    "## Importing Relevant Libaries\n"
   ]
  },
  {
   "cell_type": "code",
   "execution_count": 459,
   "id": "f265e544",
   "metadata": {},
   "outputs": [],
   "source": [
    "import pandas as pd \n",
    "import numpy as np\n",
    "import matplotlib.pyplot as plt\n",
    "import seaborn as sns \n",
    "import scipy.stats as stats\n",
    "from sklearn.preprocessing import MinMaxScaler\n",
    "from sklearn.neighbors import KNeighborsClassifier\n",
    "from sklearn.feature_selection import chi2, SelectKBest, f_classif, SequentialFeatureSelector\n",
    "from sklearn.model_selection import train_test_split, GridSearchCV\n",
    "from sklearn.model_selection import RepeatedStratifiedKFold\n",
    "from sklearn.svm import SVC\n",
    "from sklearn.ensemble import RandomForestClassifier\n",
    "from sklearn.linear_model import LogisticRegression\n",
    "from sklearn.metrics import *\n",
    "import xgboost as xgb\n",
    "from xgboost import XGBClassifier\n",
    "\n",
    "import tensorflow as tf\n",
    "from tensorflow.keras.models import Sequential\n",
    "from tensorflow.keras.layers import Dense, Activation,Dropout\n",
    "from tensorflow.keras.constraints import max_norm\n",
    "from sklearn.preprocessing import MinMaxScaler\n",
    "from tensorflow.keras.optimizers import SGD\n",
    "from imblearn.over_sampling import SMOTE"
   ]
  },
  {
   "cell_type": "markdown",
   "id": "85f89f8a",
   "metadata": {},
   "source": [
    "## Exploratory Data Analysis"
   ]
  },
  {
   "cell_type": "code",
   "execution_count": 460,
   "id": "5190b1d5",
   "metadata": {},
   "outputs": [],
   "source": [
    "df = pd.read_csv('card.csv',header=[1])"
   ]
  },
  {
   "cell_type": "code",
   "execution_count": 461,
   "id": "886094dd",
   "metadata": {},
   "outputs": [
    {
     "data": {
      "text/html": [
       "<div>\n",
       "<style scoped>\n",
       "    .dataframe tbody tr th:only-of-type {\n",
       "        vertical-align: middle;\n",
       "    }\n",
       "\n",
       "    .dataframe tbody tr th {\n",
       "        vertical-align: top;\n",
       "    }\n",
       "\n",
       "    .dataframe thead th {\n",
       "        text-align: right;\n",
       "    }\n",
       "</style>\n",
       "<table border=\"1\" class=\"dataframe\">\n",
       "  <thead>\n",
       "    <tr style=\"text-align: right;\">\n",
       "      <th></th>\n",
       "      <th>ID</th>\n",
       "      <th>LIMIT_BAL</th>\n",
       "      <th>SEX</th>\n",
       "      <th>EDUCATION</th>\n",
       "      <th>MARRIAGE</th>\n",
       "      <th>AGE</th>\n",
       "      <th>PAY_0</th>\n",
       "      <th>PAY_2</th>\n",
       "      <th>PAY_3</th>\n",
       "      <th>PAY_4</th>\n",
       "      <th>...</th>\n",
       "      <th>BILL_AMT4</th>\n",
       "      <th>BILL_AMT5</th>\n",
       "      <th>BILL_AMT6</th>\n",
       "      <th>PAY_AMT1</th>\n",
       "      <th>PAY_AMT2</th>\n",
       "      <th>PAY_AMT3</th>\n",
       "      <th>PAY_AMT4</th>\n",
       "      <th>PAY_AMT5</th>\n",
       "      <th>PAY_AMT6</th>\n",
       "      <th>default payment next month</th>\n",
       "    </tr>\n",
       "  </thead>\n",
       "  <tbody>\n",
       "    <tr>\n",
       "      <th>0</th>\n",
       "      <td>1</td>\n",
       "      <td>20000</td>\n",
       "      <td>2</td>\n",
       "      <td>2</td>\n",
       "      <td>1</td>\n",
       "      <td>24</td>\n",
       "      <td>2</td>\n",
       "      <td>2</td>\n",
       "      <td>-1</td>\n",
       "      <td>-1</td>\n",
       "      <td>...</td>\n",
       "      <td>0</td>\n",
       "      <td>0</td>\n",
       "      <td>0</td>\n",
       "      <td>0</td>\n",
       "      <td>689</td>\n",
       "      <td>0</td>\n",
       "      <td>0</td>\n",
       "      <td>0</td>\n",
       "      <td>0</td>\n",
       "      <td>1</td>\n",
       "    </tr>\n",
       "    <tr>\n",
       "      <th>1</th>\n",
       "      <td>2</td>\n",
       "      <td>120000</td>\n",
       "      <td>2</td>\n",
       "      <td>2</td>\n",
       "      <td>2</td>\n",
       "      <td>26</td>\n",
       "      <td>-1</td>\n",
       "      <td>2</td>\n",
       "      <td>0</td>\n",
       "      <td>0</td>\n",
       "      <td>...</td>\n",
       "      <td>3272</td>\n",
       "      <td>3455</td>\n",
       "      <td>3261</td>\n",
       "      <td>0</td>\n",
       "      <td>1000</td>\n",
       "      <td>1000</td>\n",
       "      <td>1000</td>\n",
       "      <td>0</td>\n",
       "      <td>2000</td>\n",
       "      <td>1</td>\n",
       "    </tr>\n",
       "    <tr>\n",
       "      <th>2</th>\n",
       "      <td>3</td>\n",
       "      <td>90000</td>\n",
       "      <td>2</td>\n",
       "      <td>2</td>\n",
       "      <td>2</td>\n",
       "      <td>34</td>\n",
       "      <td>0</td>\n",
       "      <td>0</td>\n",
       "      <td>0</td>\n",
       "      <td>0</td>\n",
       "      <td>...</td>\n",
       "      <td>14331</td>\n",
       "      <td>14948</td>\n",
       "      <td>15549</td>\n",
       "      <td>1518</td>\n",
       "      <td>1500</td>\n",
       "      <td>1000</td>\n",
       "      <td>1000</td>\n",
       "      <td>1000</td>\n",
       "      <td>5000</td>\n",
       "      <td>0</td>\n",
       "    </tr>\n",
       "    <tr>\n",
       "      <th>3</th>\n",
       "      <td>4</td>\n",
       "      <td>50000</td>\n",
       "      <td>2</td>\n",
       "      <td>2</td>\n",
       "      <td>1</td>\n",
       "      <td>37</td>\n",
       "      <td>0</td>\n",
       "      <td>0</td>\n",
       "      <td>0</td>\n",
       "      <td>0</td>\n",
       "      <td>...</td>\n",
       "      <td>28314</td>\n",
       "      <td>28959</td>\n",
       "      <td>29547</td>\n",
       "      <td>2000</td>\n",
       "      <td>2019</td>\n",
       "      <td>1200</td>\n",
       "      <td>1100</td>\n",
       "      <td>1069</td>\n",
       "      <td>1000</td>\n",
       "      <td>0</td>\n",
       "    </tr>\n",
       "    <tr>\n",
       "      <th>4</th>\n",
       "      <td>5</td>\n",
       "      <td>50000</td>\n",
       "      <td>1</td>\n",
       "      <td>2</td>\n",
       "      <td>1</td>\n",
       "      <td>57</td>\n",
       "      <td>-1</td>\n",
       "      <td>0</td>\n",
       "      <td>-1</td>\n",
       "      <td>0</td>\n",
       "      <td>...</td>\n",
       "      <td>20940</td>\n",
       "      <td>19146</td>\n",
       "      <td>19131</td>\n",
       "      <td>2000</td>\n",
       "      <td>36681</td>\n",
       "      <td>10000</td>\n",
       "      <td>9000</td>\n",
       "      <td>689</td>\n",
       "      <td>679</td>\n",
       "      <td>0</td>\n",
       "    </tr>\n",
       "  </tbody>\n",
       "</table>\n",
       "<p>5 rows × 25 columns</p>\n",
       "</div>"
      ],
      "text/plain": [
       "   ID  LIMIT_BAL  SEX  EDUCATION  MARRIAGE  AGE  PAY_0  PAY_2  PAY_3  PAY_4  \\\n",
       "0   1      20000    2          2         1   24      2      2     -1     -1   \n",
       "1   2     120000    2          2         2   26     -1      2      0      0   \n",
       "2   3      90000    2          2         2   34      0      0      0      0   \n",
       "3   4      50000    2          2         1   37      0      0      0      0   \n",
       "4   5      50000    1          2         1   57     -1      0     -1      0   \n",
       "\n",
       "   ...  BILL_AMT4  BILL_AMT5  BILL_AMT6  PAY_AMT1  PAY_AMT2  PAY_AMT3  \\\n",
       "0  ...          0          0          0         0       689         0   \n",
       "1  ...       3272       3455       3261         0      1000      1000   \n",
       "2  ...      14331      14948      15549      1518      1500      1000   \n",
       "3  ...      28314      28959      29547      2000      2019      1200   \n",
       "4  ...      20940      19146      19131      2000     36681     10000   \n",
       "\n",
       "   PAY_AMT4  PAY_AMT5  PAY_AMT6  default payment next month  \n",
       "0         0         0         0                           1  \n",
       "1      1000         0      2000                           1  \n",
       "2      1000      1000      5000                           0  \n",
       "3      1100      1069      1000                           0  \n",
       "4      9000       689       679                           0  \n",
       "\n",
       "[5 rows x 25 columns]"
      ]
     },
     "execution_count": 461,
     "metadata": {},
     "output_type": "execute_result"
    }
   ],
   "source": [
    "# Get a glimpse of the data\n",
    "df.head()"
   ]
  },
  {
   "cell_type": "code",
   "execution_count": 462,
   "id": "6585aed8",
   "metadata": {},
   "outputs": [
    {
     "name": "stdout",
     "output_type": "stream",
     "text": [
      "<class 'pandas.core.frame.DataFrame'>\n",
      "RangeIndex: 30000 entries, 0 to 29999\n",
      "Data columns (total 25 columns):\n",
      " #   Column                      Non-Null Count  Dtype\n",
      "---  ------                      --------------  -----\n",
      " 0   ID                          30000 non-null  int64\n",
      " 1   LIMIT_BAL                   30000 non-null  int64\n",
      " 2   SEX                         30000 non-null  int64\n",
      " 3   EDUCATION                   30000 non-null  int64\n",
      " 4   MARRIAGE                    30000 non-null  int64\n",
      " 5   AGE                         30000 non-null  int64\n",
      " 6   PAY_0                       30000 non-null  int64\n",
      " 7   PAY_2                       30000 non-null  int64\n",
      " 8   PAY_3                       30000 non-null  int64\n",
      " 9   PAY_4                       30000 non-null  int64\n",
      " 10  PAY_5                       30000 non-null  int64\n",
      " 11  PAY_6                       30000 non-null  int64\n",
      " 12  BILL_AMT1                   30000 non-null  int64\n",
      " 13  BILL_AMT2                   30000 non-null  int64\n",
      " 14  BILL_AMT3                   30000 non-null  int64\n",
      " 15  BILL_AMT4                   30000 non-null  int64\n",
      " 16  BILL_AMT5                   30000 non-null  int64\n",
      " 17  BILL_AMT6                   30000 non-null  int64\n",
      " 18  PAY_AMT1                    30000 non-null  int64\n",
      " 19  PAY_AMT2                    30000 non-null  int64\n",
      " 20  PAY_AMT3                    30000 non-null  int64\n",
      " 21  PAY_AMT4                    30000 non-null  int64\n",
      " 22  PAY_AMT5                    30000 non-null  int64\n",
      " 23  PAY_AMT6                    30000 non-null  int64\n",
      " 24  default payment next month  30000 non-null  int64\n",
      "dtypes: int64(25)\n",
      "memory usage: 5.7 MB\n"
     ]
    }
   ],
   "source": [
    "# Let's see the information of data\n",
    "df.info()"
   ]
  },
  {
   "cell_type": "code",
   "execution_count": 463,
   "id": "6e0a7308",
   "metadata": {},
   "outputs": [
    {
     "data": {
      "text/html": [
       "<div>\n",
       "<style scoped>\n",
       "    .dataframe tbody tr th:only-of-type {\n",
       "        vertical-align: middle;\n",
       "    }\n",
       "\n",
       "    .dataframe tbody tr th {\n",
       "        vertical-align: top;\n",
       "    }\n",
       "\n",
       "    .dataframe thead th {\n",
       "        text-align: right;\n",
       "    }\n",
       "</style>\n",
       "<table border=\"1\" class=\"dataframe\">\n",
       "  <thead>\n",
       "    <tr style=\"text-align: right;\">\n",
       "      <th></th>\n",
       "      <th>ID</th>\n",
       "      <th>LIMIT_BAL</th>\n",
       "      <th>SEX</th>\n",
       "      <th>EDUCATION</th>\n",
       "      <th>MARRIAGE</th>\n",
       "      <th>AGE</th>\n",
       "      <th>PAY_0</th>\n",
       "      <th>PAY_2</th>\n",
       "      <th>PAY_3</th>\n",
       "      <th>PAY_4</th>\n",
       "      <th>...</th>\n",
       "      <th>BILL_AMT4</th>\n",
       "      <th>BILL_AMT5</th>\n",
       "      <th>BILL_AMT6</th>\n",
       "      <th>PAY_AMT1</th>\n",
       "      <th>PAY_AMT2</th>\n",
       "      <th>PAY_AMT3</th>\n",
       "      <th>PAY_AMT4</th>\n",
       "      <th>PAY_AMT5</th>\n",
       "      <th>PAY_AMT6</th>\n",
       "      <th>default payment next month</th>\n",
       "    </tr>\n",
       "  </thead>\n",
       "  <tbody>\n",
       "    <tr>\n",
       "      <th>count</th>\n",
       "      <td>30000.000000</td>\n",
       "      <td>30000.000000</td>\n",
       "      <td>30000.000000</td>\n",
       "      <td>30000.000000</td>\n",
       "      <td>30000.000000</td>\n",
       "      <td>30000.000000</td>\n",
       "      <td>30000.000000</td>\n",
       "      <td>30000.000000</td>\n",
       "      <td>30000.000000</td>\n",
       "      <td>30000.000000</td>\n",
       "      <td>...</td>\n",
       "      <td>30000.000000</td>\n",
       "      <td>30000.000000</td>\n",
       "      <td>30000.000000</td>\n",
       "      <td>30000.000000</td>\n",
       "      <td>3.000000e+04</td>\n",
       "      <td>30000.00000</td>\n",
       "      <td>30000.000000</td>\n",
       "      <td>30000.000000</td>\n",
       "      <td>30000.000000</td>\n",
       "      <td>30000.000000</td>\n",
       "    </tr>\n",
       "    <tr>\n",
       "      <th>mean</th>\n",
       "      <td>15000.500000</td>\n",
       "      <td>167484.322667</td>\n",
       "      <td>1.603733</td>\n",
       "      <td>1.853133</td>\n",
       "      <td>1.551867</td>\n",
       "      <td>35.485500</td>\n",
       "      <td>-0.016700</td>\n",
       "      <td>-0.133767</td>\n",
       "      <td>-0.166200</td>\n",
       "      <td>-0.220667</td>\n",
       "      <td>...</td>\n",
       "      <td>43262.948967</td>\n",
       "      <td>40311.400967</td>\n",
       "      <td>38871.760400</td>\n",
       "      <td>5663.580500</td>\n",
       "      <td>5.921163e+03</td>\n",
       "      <td>5225.68150</td>\n",
       "      <td>4826.076867</td>\n",
       "      <td>4799.387633</td>\n",
       "      <td>5215.502567</td>\n",
       "      <td>0.221200</td>\n",
       "    </tr>\n",
       "    <tr>\n",
       "      <th>std</th>\n",
       "      <td>8660.398374</td>\n",
       "      <td>129747.661567</td>\n",
       "      <td>0.489129</td>\n",
       "      <td>0.790349</td>\n",
       "      <td>0.521970</td>\n",
       "      <td>9.217904</td>\n",
       "      <td>1.123802</td>\n",
       "      <td>1.197186</td>\n",
       "      <td>1.196868</td>\n",
       "      <td>1.169139</td>\n",
       "      <td>...</td>\n",
       "      <td>64332.856134</td>\n",
       "      <td>60797.155770</td>\n",
       "      <td>59554.107537</td>\n",
       "      <td>16563.280354</td>\n",
       "      <td>2.304087e+04</td>\n",
       "      <td>17606.96147</td>\n",
       "      <td>15666.159744</td>\n",
       "      <td>15278.305679</td>\n",
       "      <td>17777.465775</td>\n",
       "      <td>0.415062</td>\n",
       "    </tr>\n",
       "    <tr>\n",
       "      <th>min</th>\n",
       "      <td>1.000000</td>\n",
       "      <td>10000.000000</td>\n",
       "      <td>1.000000</td>\n",
       "      <td>0.000000</td>\n",
       "      <td>0.000000</td>\n",
       "      <td>21.000000</td>\n",
       "      <td>-2.000000</td>\n",
       "      <td>-2.000000</td>\n",
       "      <td>-2.000000</td>\n",
       "      <td>-2.000000</td>\n",
       "      <td>...</td>\n",
       "      <td>-170000.000000</td>\n",
       "      <td>-81334.000000</td>\n",
       "      <td>-339603.000000</td>\n",
       "      <td>0.000000</td>\n",
       "      <td>0.000000e+00</td>\n",
       "      <td>0.00000</td>\n",
       "      <td>0.000000</td>\n",
       "      <td>0.000000</td>\n",
       "      <td>0.000000</td>\n",
       "      <td>0.000000</td>\n",
       "    </tr>\n",
       "    <tr>\n",
       "      <th>25%</th>\n",
       "      <td>7500.750000</td>\n",
       "      <td>50000.000000</td>\n",
       "      <td>1.000000</td>\n",
       "      <td>1.000000</td>\n",
       "      <td>1.000000</td>\n",
       "      <td>28.000000</td>\n",
       "      <td>-1.000000</td>\n",
       "      <td>-1.000000</td>\n",
       "      <td>-1.000000</td>\n",
       "      <td>-1.000000</td>\n",
       "      <td>...</td>\n",
       "      <td>2326.750000</td>\n",
       "      <td>1763.000000</td>\n",
       "      <td>1256.000000</td>\n",
       "      <td>1000.000000</td>\n",
       "      <td>8.330000e+02</td>\n",
       "      <td>390.00000</td>\n",
       "      <td>296.000000</td>\n",
       "      <td>252.500000</td>\n",
       "      <td>117.750000</td>\n",
       "      <td>0.000000</td>\n",
       "    </tr>\n",
       "    <tr>\n",
       "      <th>50%</th>\n",
       "      <td>15000.500000</td>\n",
       "      <td>140000.000000</td>\n",
       "      <td>2.000000</td>\n",
       "      <td>2.000000</td>\n",
       "      <td>2.000000</td>\n",
       "      <td>34.000000</td>\n",
       "      <td>0.000000</td>\n",
       "      <td>0.000000</td>\n",
       "      <td>0.000000</td>\n",
       "      <td>0.000000</td>\n",
       "      <td>...</td>\n",
       "      <td>19052.000000</td>\n",
       "      <td>18104.500000</td>\n",
       "      <td>17071.000000</td>\n",
       "      <td>2100.000000</td>\n",
       "      <td>2.009000e+03</td>\n",
       "      <td>1800.00000</td>\n",
       "      <td>1500.000000</td>\n",
       "      <td>1500.000000</td>\n",
       "      <td>1500.000000</td>\n",
       "      <td>0.000000</td>\n",
       "    </tr>\n",
       "    <tr>\n",
       "      <th>75%</th>\n",
       "      <td>22500.250000</td>\n",
       "      <td>240000.000000</td>\n",
       "      <td>2.000000</td>\n",
       "      <td>2.000000</td>\n",
       "      <td>2.000000</td>\n",
       "      <td>41.000000</td>\n",
       "      <td>0.000000</td>\n",
       "      <td>0.000000</td>\n",
       "      <td>0.000000</td>\n",
       "      <td>0.000000</td>\n",
       "      <td>...</td>\n",
       "      <td>54506.000000</td>\n",
       "      <td>50190.500000</td>\n",
       "      <td>49198.250000</td>\n",
       "      <td>5006.000000</td>\n",
       "      <td>5.000000e+03</td>\n",
       "      <td>4505.00000</td>\n",
       "      <td>4013.250000</td>\n",
       "      <td>4031.500000</td>\n",
       "      <td>4000.000000</td>\n",
       "      <td>0.000000</td>\n",
       "    </tr>\n",
       "    <tr>\n",
       "      <th>max</th>\n",
       "      <td>30000.000000</td>\n",
       "      <td>1000000.000000</td>\n",
       "      <td>2.000000</td>\n",
       "      <td>6.000000</td>\n",
       "      <td>3.000000</td>\n",
       "      <td>79.000000</td>\n",
       "      <td>8.000000</td>\n",
       "      <td>8.000000</td>\n",
       "      <td>8.000000</td>\n",
       "      <td>8.000000</td>\n",
       "      <td>...</td>\n",
       "      <td>891586.000000</td>\n",
       "      <td>927171.000000</td>\n",
       "      <td>961664.000000</td>\n",
       "      <td>873552.000000</td>\n",
       "      <td>1.684259e+06</td>\n",
       "      <td>896040.00000</td>\n",
       "      <td>621000.000000</td>\n",
       "      <td>426529.000000</td>\n",
       "      <td>528666.000000</td>\n",
       "      <td>1.000000</td>\n",
       "    </tr>\n",
       "  </tbody>\n",
       "</table>\n",
       "<p>8 rows × 25 columns</p>\n",
       "</div>"
      ],
      "text/plain": [
       "                 ID       LIMIT_BAL           SEX     EDUCATION      MARRIAGE  \\\n",
       "count  30000.000000    30000.000000  30000.000000  30000.000000  30000.000000   \n",
       "mean   15000.500000   167484.322667      1.603733      1.853133      1.551867   \n",
       "std     8660.398374   129747.661567      0.489129      0.790349      0.521970   \n",
       "min        1.000000    10000.000000      1.000000      0.000000      0.000000   \n",
       "25%     7500.750000    50000.000000      1.000000      1.000000      1.000000   \n",
       "50%    15000.500000   140000.000000      2.000000      2.000000      2.000000   \n",
       "75%    22500.250000   240000.000000      2.000000      2.000000      2.000000   \n",
       "max    30000.000000  1000000.000000      2.000000      6.000000      3.000000   \n",
       "\n",
       "                AGE         PAY_0         PAY_2         PAY_3         PAY_4  \\\n",
       "count  30000.000000  30000.000000  30000.000000  30000.000000  30000.000000   \n",
       "mean      35.485500     -0.016700     -0.133767     -0.166200     -0.220667   \n",
       "std        9.217904      1.123802      1.197186      1.196868      1.169139   \n",
       "min       21.000000     -2.000000     -2.000000     -2.000000     -2.000000   \n",
       "25%       28.000000     -1.000000     -1.000000     -1.000000     -1.000000   \n",
       "50%       34.000000      0.000000      0.000000      0.000000      0.000000   \n",
       "75%       41.000000      0.000000      0.000000      0.000000      0.000000   \n",
       "max       79.000000      8.000000      8.000000      8.000000      8.000000   \n",
       "\n",
       "       ...      BILL_AMT4      BILL_AMT5      BILL_AMT6       PAY_AMT1  \\\n",
       "count  ...   30000.000000   30000.000000   30000.000000   30000.000000   \n",
       "mean   ...   43262.948967   40311.400967   38871.760400    5663.580500   \n",
       "std    ...   64332.856134   60797.155770   59554.107537   16563.280354   \n",
       "min    ... -170000.000000  -81334.000000 -339603.000000       0.000000   \n",
       "25%    ...    2326.750000    1763.000000    1256.000000    1000.000000   \n",
       "50%    ...   19052.000000   18104.500000   17071.000000    2100.000000   \n",
       "75%    ...   54506.000000   50190.500000   49198.250000    5006.000000   \n",
       "max    ...  891586.000000  927171.000000  961664.000000  873552.000000   \n",
       "\n",
       "           PAY_AMT2      PAY_AMT3       PAY_AMT4       PAY_AMT5  \\\n",
       "count  3.000000e+04   30000.00000   30000.000000   30000.000000   \n",
       "mean   5.921163e+03    5225.68150    4826.076867    4799.387633   \n",
       "std    2.304087e+04   17606.96147   15666.159744   15278.305679   \n",
       "min    0.000000e+00       0.00000       0.000000       0.000000   \n",
       "25%    8.330000e+02     390.00000     296.000000     252.500000   \n",
       "50%    2.009000e+03    1800.00000    1500.000000    1500.000000   \n",
       "75%    5.000000e+03    4505.00000    4013.250000    4031.500000   \n",
       "max    1.684259e+06  896040.00000  621000.000000  426529.000000   \n",
       "\n",
       "            PAY_AMT6  default payment next month  \n",
       "count   30000.000000                30000.000000  \n",
       "mean     5215.502567                    0.221200  \n",
       "std     17777.465775                    0.415062  \n",
       "min         0.000000                    0.000000  \n",
       "25%       117.750000                    0.000000  \n",
       "50%      1500.000000                    0.000000  \n",
       "75%      4000.000000                    0.000000  \n",
       "max    528666.000000                    1.000000  \n",
       "\n",
       "[8 rows x 25 columns]"
      ]
     },
     "execution_count": 463,
     "metadata": {},
     "output_type": "execute_result"
    }
   ],
   "source": [
    "## Statistics of data\n",
    "## Here we can check if there are values that are potentially out of range in the variable.\n",
    "## such as education - supposed to only have values from 1 to 4, but in this case there were occurrences \n",
    "## out of the range.\n",
    "df.describe()"
   ]
  },
  {
   "cell_type": "markdown",
   "id": "b95fb21d",
   "metadata": {},
   "source": [
    "From the statistics above, there is no missing data/null data in our dataset but there are several anomalies that we have to deal with later on.\n",
    "- EDUCATION has categories 0, 5 and 6 that are not part of the labels.\n",
    "- MARRIAGE has a category 0 that is not part of the labels."
   ]
  },
  {
   "cell_type": "code",
   "execution_count": 464,
   "id": "0cfd41f0",
   "metadata": {},
   "outputs": [
    {
     "data": {
      "text/html": [
       "<div>\n",
       "<style scoped>\n",
       "    .dataframe tbody tr th:only-of-type {\n",
       "        vertical-align: middle;\n",
       "    }\n",
       "\n",
       "    .dataframe tbody tr th {\n",
       "        vertical-align: top;\n",
       "    }\n",
       "\n",
       "    .dataframe thead th {\n",
       "        text-align: right;\n",
       "    }\n",
       "</style>\n",
       "<table border=\"1\" class=\"dataframe\">\n",
       "  <thead>\n",
       "    <tr style=\"text-align: right;\">\n",
       "      <th></th>\n",
       "      <th>ID</th>\n",
       "      <th>LIMIT_BAL</th>\n",
       "      <th>SEX</th>\n",
       "      <th>EDUCATION</th>\n",
       "      <th>MARRIAGE</th>\n",
       "      <th>AGE</th>\n",
       "      <th>PAY_0</th>\n",
       "      <th>PAY_2</th>\n",
       "      <th>PAY_3</th>\n",
       "      <th>PAY_4</th>\n",
       "      <th>...</th>\n",
       "      <th>BILL_AMT4</th>\n",
       "      <th>BILL_AMT5</th>\n",
       "      <th>BILL_AMT6</th>\n",
       "      <th>PAY_AMT1</th>\n",
       "      <th>PAY_AMT2</th>\n",
       "      <th>PAY_AMT3</th>\n",
       "      <th>PAY_AMT4</th>\n",
       "      <th>PAY_AMT5</th>\n",
       "      <th>PAY_AMT6</th>\n",
       "      <th>Defaulter</th>\n",
       "    </tr>\n",
       "  </thead>\n",
       "  <tbody>\n",
       "    <tr>\n",
       "      <th>0</th>\n",
       "      <td>1</td>\n",
       "      <td>20000</td>\n",
       "      <td>2</td>\n",
       "      <td>2</td>\n",
       "      <td>1</td>\n",
       "      <td>24</td>\n",
       "      <td>2</td>\n",
       "      <td>2</td>\n",
       "      <td>-1</td>\n",
       "      <td>-1</td>\n",
       "      <td>...</td>\n",
       "      <td>0</td>\n",
       "      <td>0</td>\n",
       "      <td>0</td>\n",
       "      <td>0</td>\n",
       "      <td>689</td>\n",
       "      <td>0</td>\n",
       "      <td>0</td>\n",
       "      <td>0</td>\n",
       "      <td>0</td>\n",
       "      <td>1</td>\n",
       "    </tr>\n",
       "    <tr>\n",
       "      <th>1</th>\n",
       "      <td>2</td>\n",
       "      <td>120000</td>\n",
       "      <td>2</td>\n",
       "      <td>2</td>\n",
       "      <td>2</td>\n",
       "      <td>26</td>\n",
       "      <td>-1</td>\n",
       "      <td>2</td>\n",
       "      <td>0</td>\n",
       "      <td>0</td>\n",
       "      <td>...</td>\n",
       "      <td>3272</td>\n",
       "      <td>3455</td>\n",
       "      <td>3261</td>\n",
       "      <td>0</td>\n",
       "      <td>1000</td>\n",
       "      <td>1000</td>\n",
       "      <td>1000</td>\n",
       "      <td>0</td>\n",
       "      <td>2000</td>\n",
       "      <td>1</td>\n",
       "    </tr>\n",
       "    <tr>\n",
       "      <th>2</th>\n",
       "      <td>3</td>\n",
       "      <td>90000</td>\n",
       "      <td>2</td>\n",
       "      <td>2</td>\n",
       "      <td>2</td>\n",
       "      <td>34</td>\n",
       "      <td>0</td>\n",
       "      <td>0</td>\n",
       "      <td>0</td>\n",
       "      <td>0</td>\n",
       "      <td>...</td>\n",
       "      <td>14331</td>\n",
       "      <td>14948</td>\n",
       "      <td>15549</td>\n",
       "      <td>1518</td>\n",
       "      <td>1500</td>\n",
       "      <td>1000</td>\n",
       "      <td>1000</td>\n",
       "      <td>1000</td>\n",
       "      <td>5000</td>\n",
       "      <td>0</td>\n",
       "    </tr>\n",
       "    <tr>\n",
       "      <th>3</th>\n",
       "      <td>4</td>\n",
       "      <td>50000</td>\n",
       "      <td>2</td>\n",
       "      <td>2</td>\n",
       "      <td>1</td>\n",
       "      <td>37</td>\n",
       "      <td>0</td>\n",
       "      <td>0</td>\n",
       "      <td>0</td>\n",
       "      <td>0</td>\n",
       "      <td>...</td>\n",
       "      <td>28314</td>\n",
       "      <td>28959</td>\n",
       "      <td>29547</td>\n",
       "      <td>2000</td>\n",
       "      <td>2019</td>\n",
       "      <td>1200</td>\n",
       "      <td>1100</td>\n",
       "      <td>1069</td>\n",
       "      <td>1000</td>\n",
       "      <td>0</td>\n",
       "    </tr>\n",
       "    <tr>\n",
       "      <th>4</th>\n",
       "      <td>5</td>\n",
       "      <td>50000</td>\n",
       "      <td>1</td>\n",
       "      <td>2</td>\n",
       "      <td>1</td>\n",
       "      <td>57</td>\n",
       "      <td>-1</td>\n",
       "      <td>0</td>\n",
       "      <td>-1</td>\n",
       "      <td>0</td>\n",
       "      <td>...</td>\n",
       "      <td>20940</td>\n",
       "      <td>19146</td>\n",
       "      <td>19131</td>\n",
       "      <td>2000</td>\n",
       "      <td>36681</td>\n",
       "      <td>10000</td>\n",
       "      <td>9000</td>\n",
       "      <td>689</td>\n",
       "      <td>679</td>\n",
       "      <td>0</td>\n",
       "    </tr>\n",
       "  </tbody>\n",
       "</table>\n",
       "<p>5 rows × 25 columns</p>\n",
       "</div>"
      ],
      "text/plain": [
       "   ID  LIMIT_BAL  SEX  EDUCATION  MARRIAGE  AGE  PAY_0  PAY_2  PAY_3  PAY_4  \\\n",
       "0   1      20000    2          2         1   24      2      2     -1     -1   \n",
       "1   2     120000    2          2         2   26     -1      2      0      0   \n",
       "2   3      90000    2          2         2   34      0      0      0      0   \n",
       "3   4      50000    2          2         1   37      0      0      0      0   \n",
       "4   5      50000    1          2         1   57     -1      0     -1      0   \n",
       "\n",
       "   ...  BILL_AMT4  BILL_AMT5  BILL_AMT6  PAY_AMT1  PAY_AMT2  PAY_AMT3  \\\n",
       "0  ...          0          0          0         0       689         0   \n",
       "1  ...       3272       3455       3261         0      1000      1000   \n",
       "2  ...      14331      14948      15549      1518      1500      1000   \n",
       "3  ...      28314      28959      29547      2000      2019      1200   \n",
       "4  ...      20940      19146      19131      2000     36681     10000   \n",
       "\n",
       "   PAY_AMT4  PAY_AMT5  PAY_AMT6  Defaulter  \n",
       "0         0         0         0          1  \n",
       "1      1000         0      2000          1  \n",
       "2      1000      1000      5000          0  \n",
       "3      1100      1069      1000          0  \n",
       "4      9000       689       679          0  \n",
       "\n",
       "[5 rows x 25 columns]"
      ]
     },
     "execution_count": 464,
     "metadata": {},
     "output_type": "execute_result"
    }
   ],
   "source": [
    "# Create another column with a clearer header for defaulters\n",
    "df['Defaulter'] = df['default payment next month']\n",
    "df.drop('default payment next month', axis = 1, inplace = True)\n",
    "df.head()"
   ]
  },
  {
   "cell_type": "code",
   "execution_count": 465,
   "id": "1d927c92",
   "metadata": {},
   "outputs": [
    {
     "data": {
      "text/html": [
       "<div>\n",
       "<style scoped>\n",
       "    .dataframe tbody tr th:only-of-type {\n",
       "        vertical-align: middle;\n",
       "    }\n",
       "\n",
       "    .dataframe tbody tr th {\n",
       "        vertical-align: top;\n",
       "    }\n",
       "\n",
       "    .dataframe thead th {\n",
       "        text-align: right;\n",
       "    }\n",
       "</style>\n",
       "<table border=\"1\" class=\"dataframe\">\n",
       "  <thead>\n",
       "    <tr style=\"text-align: right;\">\n",
       "      <th></th>\n",
       "      <th>LIMIT_BAL</th>\n",
       "      <th>SEX</th>\n",
       "      <th>EDUCATION</th>\n",
       "      <th>MARRIAGE</th>\n",
       "      <th>AGE</th>\n",
       "      <th>PAY_0</th>\n",
       "      <th>PAY_2</th>\n",
       "      <th>PAY_3</th>\n",
       "      <th>PAY_4</th>\n",
       "      <th>PAY_5</th>\n",
       "      <th>...</th>\n",
       "      <th>BILL_AMT4</th>\n",
       "      <th>BILL_AMT5</th>\n",
       "      <th>BILL_AMT6</th>\n",
       "      <th>PAY_AMT1</th>\n",
       "      <th>PAY_AMT2</th>\n",
       "      <th>PAY_AMT3</th>\n",
       "      <th>PAY_AMT4</th>\n",
       "      <th>PAY_AMT5</th>\n",
       "      <th>PAY_AMT6</th>\n",
       "      <th>Defaulter</th>\n",
       "    </tr>\n",
       "  </thead>\n",
       "  <tbody>\n",
       "    <tr>\n",
       "      <th>0</th>\n",
       "      <td>20000</td>\n",
       "      <td>2</td>\n",
       "      <td>2</td>\n",
       "      <td>1</td>\n",
       "      <td>24</td>\n",
       "      <td>2</td>\n",
       "      <td>2</td>\n",
       "      <td>-1</td>\n",
       "      <td>-1</td>\n",
       "      <td>-2</td>\n",
       "      <td>...</td>\n",
       "      <td>0</td>\n",
       "      <td>0</td>\n",
       "      <td>0</td>\n",
       "      <td>0</td>\n",
       "      <td>689</td>\n",
       "      <td>0</td>\n",
       "      <td>0</td>\n",
       "      <td>0</td>\n",
       "      <td>0</td>\n",
       "      <td>1</td>\n",
       "    </tr>\n",
       "    <tr>\n",
       "      <th>1</th>\n",
       "      <td>120000</td>\n",
       "      <td>2</td>\n",
       "      <td>2</td>\n",
       "      <td>2</td>\n",
       "      <td>26</td>\n",
       "      <td>-1</td>\n",
       "      <td>2</td>\n",
       "      <td>0</td>\n",
       "      <td>0</td>\n",
       "      <td>0</td>\n",
       "      <td>...</td>\n",
       "      <td>3272</td>\n",
       "      <td>3455</td>\n",
       "      <td>3261</td>\n",
       "      <td>0</td>\n",
       "      <td>1000</td>\n",
       "      <td>1000</td>\n",
       "      <td>1000</td>\n",
       "      <td>0</td>\n",
       "      <td>2000</td>\n",
       "      <td>1</td>\n",
       "    </tr>\n",
       "    <tr>\n",
       "      <th>2</th>\n",
       "      <td>90000</td>\n",
       "      <td>2</td>\n",
       "      <td>2</td>\n",
       "      <td>2</td>\n",
       "      <td>34</td>\n",
       "      <td>0</td>\n",
       "      <td>0</td>\n",
       "      <td>0</td>\n",
       "      <td>0</td>\n",
       "      <td>0</td>\n",
       "      <td>...</td>\n",
       "      <td>14331</td>\n",
       "      <td>14948</td>\n",
       "      <td>15549</td>\n",
       "      <td>1518</td>\n",
       "      <td>1500</td>\n",
       "      <td>1000</td>\n",
       "      <td>1000</td>\n",
       "      <td>1000</td>\n",
       "      <td>5000</td>\n",
       "      <td>0</td>\n",
       "    </tr>\n",
       "    <tr>\n",
       "      <th>3</th>\n",
       "      <td>50000</td>\n",
       "      <td>2</td>\n",
       "      <td>2</td>\n",
       "      <td>1</td>\n",
       "      <td>37</td>\n",
       "      <td>0</td>\n",
       "      <td>0</td>\n",
       "      <td>0</td>\n",
       "      <td>0</td>\n",
       "      <td>0</td>\n",
       "      <td>...</td>\n",
       "      <td>28314</td>\n",
       "      <td>28959</td>\n",
       "      <td>29547</td>\n",
       "      <td>2000</td>\n",
       "      <td>2019</td>\n",
       "      <td>1200</td>\n",
       "      <td>1100</td>\n",
       "      <td>1069</td>\n",
       "      <td>1000</td>\n",
       "      <td>0</td>\n",
       "    </tr>\n",
       "    <tr>\n",
       "      <th>4</th>\n",
       "      <td>50000</td>\n",
       "      <td>1</td>\n",
       "      <td>2</td>\n",
       "      <td>1</td>\n",
       "      <td>57</td>\n",
       "      <td>-1</td>\n",
       "      <td>0</td>\n",
       "      <td>-1</td>\n",
       "      <td>0</td>\n",
       "      <td>0</td>\n",
       "      <td>...</td>\n",
       "      <td>20940</td>\n",
       "      <td>19146</td>\n",
       "      <td>19131</td>\n",
       "      <td>2000</td>\n",
       "      <td>36681</td>\n",
       "      <td>10000</td>\n",
       "      <td>9000</td>\n",
       "      <td>689</td>\n",
       "      <td>679</td>\n",
       "      <td>0</td>\n",
       "    </tr>\n",
       "  </tbody>\n",
       "</table>\n",
       "<p>5 rows × 24 columns</p>\n",
       "</div>"
      ],
      "text/plain": [
       "   LIMIT_BAL  SEX  EDUCATION  MARRIAGE  AGE  PAY_0  PAY_2  PAY_3  PAY_4  \\\n",
       "0      20000    2          2         1   24      2      2     -1     -1   \n",
       "1     120000    2          2         2   26     -1      2      0      0   \n",
       "2      90000    2          2         2   34      0      0      0      0   \n",
       "3      50000    2          2         1   37      0      0      0      0   \n",
       "4      50000    1          2         1   57     -1      0     -1      0   \n",
       "\n",
       "   PAY_5  ...  BILL_AMT4  BILL_AMT5  BILL_AMT6  PAY_AMT1  PAY_AMT2  PAY_AMT3  \\\n",
       "0     -2  ...          0          0          0         0       689         0   \n",
       "1      0  ...       3272       3455       3261         0      1000      1000   \n",
       "2      0  ...      14331      14948      15549      1518      1500      1000   \n",
       "3      0  ...      28314      28959      29547      2000      2019      1200   \n",
       "4      0  ...      20940      19146      19131      2000     36681     10000   \n",
       "\n",
       "   PAY_AMT4  PAY_AMT5  PAY_AMT6  Defaulter  \n",
       "0         0         0         0          1  \n",
       "1      1000         0      2000          1  \n",
       "2      1000      1000      5000          0  \n",
       "3      1100      1069      1000          0  \n",
       "4      9000       689       679          0  \n",
       "\n",
       "[5 rows x 24 columns]"
      ]
     },
     "execution_count": 465,
     "metadata": {},
     "output_type": "execute_result"
    }
   ],
   "source": [
    "## DROP ID COLUMN as there are independent and identically distributed variables that are not correlated to `default payment next month` variable\n",
    "\n",
    "df = df.drop(\"ID\", axis = 1)\n",
    "df.head()"
   ]
  },
  {
   "cell_type": "code",
   "execution_count": 466,
   "id": "249a2139",
   "metadata": {},
   "outputs": [],
   "source": [
    "X_naive = df.drop(\"Defaulter\" , axis =1 )\n",
    "y_naive = df['Defaulter']\n",
    "\n",
    "X_train_naive, X_test_naive, y_train_naive, y_test_naive = train_test_split(X_naive, y_naive, test_size=0.25, random_state=1234)"
   ]
  },
  {
   "cell_type": "markdown",
   "id": "6dd61d19",
   "metadata": {},
   "source": [
    "### Analysis on Age of Credit Card Holders"
   ]
  },
  {
   "cell_type": "code",
   "execution_count": 467,
   "id": "0e7926d1",
   "metadata": {},
   "outputs": [
    {
     "data": {
      "text/plain": [
       "count    30000.000000\n",
       "mean        35.485500\n",
       "std          9.217904\n",
       "min         21.000000\n",
       "25%         28.000000\n",
       "50%         34.000000\n",
       "75%         41.000000\n",
       "max         79.000000\n",
       "Name: AGE, dtype: float64"
      ]
     },
     "execution_count": 467,
     "metadata": {},
     "output_type": "execute_result"
    }
   ],
   "source": [
    "df['AGE'].describe() ## all credit card holders are above the age of 21, and below the age of 79"
   ]
  },
  {
   "cell_type": "code",
   "execution_count": 468,
   "id": "b1f530e5",
   "metadata": {},
   "outputs": [
    {
     "data": {
      "text/plain": [
       "Text(0.5, 1.0, 'Age distribution')"
      ]
     },
     "execution_count": 468,
     "metadata": {},
     "output_type": "execute_result"
    },
    {
     "data": {
      "image/png": "[encoded data removed]",
      "text/plain": [
       "<Figure size 720x360 with 1 Axes>"
      ]
     },
     "metadata": {
      "needs_background": "light"
     },
     "output_type": "display_data"
    }
   ],
   "source": [
    "## Distribution plot of AGE\n",
    "sns.displot(x='AGE', data = df, kde=True, aspect=2)\n",
    "plt.xticks(rotation=0)\n",
    "plt.ylabel('Count')\n",
    "plt.title(\"Age distribution\")"
   ]
  },
  {
   "cell_type": "markdown",
   "id": "ecbbb9c8",
   "metadata": {},
   "source": [
    "### Analysis on Marital Status of Credit Card Holders"
   ]
  },
  {
   "cell_type": "code",
   "execution_count": 469,
   "id": "f39da3bb",
   "metadata": {},
   "outputs": [
    {
     "data": {
      "text/plain": [
       "count    30000.000000\n",
       "mean         1.551867\n",
       "std          0.521970\n",
       "min          0.000000\n",
       "25%          1.000000\n",
       "50%          2.000000\n",
       "75%          2.000000\n",
       "max          3.000000\n",
       "Name: MARRIAGE, dtype: float64"
      ]
     },
     "execution_count": 469,
     "metadata": {},
     "output_type": "execute_result"
    }
   ],
   "source": [
    "df['MARRIAGE'].describe()"
   ]
  },
  {
   "cell_type": "code",
   "execution_count": 470,
   "id": "291e91bf",
   "metadata": {},
   "outputs": [
    {
     "data": {
      "text/plain": [
       "<AxesSubplot: >"
      ]
     },
     "execution_count": 470,
     "metadata": {},
     "output_type": "execute_result"
    },
    {
     "data": {
      "image/png": "[encoded data removed]",
      "text/plain": [
       "<Figure size 432x288 with 1 Axes>"
      ]
     },
     "metadata": {
      "needs_background": "light"
     },
     "output_type": "display_data"
    }
   ],
   "source": [
    "df.MARRIAGE.value_counts().plot(kind = 'bar') ## have 0 values"
   ]
  },
  {
   "cell_type": "code",
   "execution_count": 471,
   "id": "84df2283",
   "metadata": {
    "scrolled": true
   },
   "outputs": [
    {
     "data": {
      "text/plain": [
       "2    15964\n",
       "1    13659\n",
       "3      377\n",
       "Name: MARRIAGE, dtype: int64"
      ]
     },
     "execution_count": 471,
     "metadata": {},
     "output_type": "execute_result"
    }
   ],
   "source": [
    "# The value 0 does not represent any category of marriage. \n",
    "# Hence, I am going to map 0 to 3, to categorise it under others.\n",
    "df['MARRIAGE'].replace({0:3,1:1,2:2,3:3}, inplace=True)\n",
    "df['MARRIAGE'].value_counts()\n"
   ]
  },
  {
   "cell_type": "code",
   "execution_count": 472,
   "id": "fc84e110",
   "metadata": {},
   "outputs": [
    {
     "data": {
      "text/plain": [
       "<AxesSubplot: xlabel='MARRIAGE', ylabel='count'>"
      ]
     },
     "execution_count": 472,
     "metadata": {},
     "output_type": "execute_result"
    },
    {
     "data": {
      "text/plain": [
       "<Figure size 720x360 with 0 Axes>"
      ]
     },
     "metadata": {},
     "output_type": "display_data"
    },
    {
     "data": {
      "image/png": "[encoded data removed]",
      "text/plain": [
       "<Figure size 936x576 with 2 Axes>"
      ]
     },
     "metadata": {
      "needs_background": "light"
     },
     "output_type": "display_data"
    }
   ],
   "source": [
    "# Plotting pie chart and bar chart to see how the marital status of an individual is correlated to whether the individual defaults\n",
    "plt.figure(figsize=(10,5))\n",
    "fig, axes = plt.subplots(ncols=2,figsize=(13,8))\n",
    "df['MARRIAGE'].value_counts().plot(kind=\"pie\",ax = axes[0],subplots=True)\n",
    "sns.countplot(x = 'MARRIAGE', hue = 'Defaulter', data = df)"
   ]
  },
  {
   "cell_type": "markdown",
   "id": "74f4727d",
   "metadata": {},
   "source": [
    "From the pie chart and bar graph above, we can see that the highest proportion of defaulters are Single, followed by Married then Others."
   ]
  },
  {
   "cell_type": "markdown",
   "id": "8bc6c8b5",
   "metadata": {},
   "source": [
    "### Analysis on Education of Credit Card Holders"
   ]
  },
  {
   "cell_type": "code",
   "execution_count": 473,
   "id": "73c51686",
   "metadata": {},
   "outputs": [
    {
     "data": {
      "text/plain": [
       "<AxesSubplot: >"
      ]
     },
     "execution_count": 473,
     "metadata": {},
     "output_type": "execute_result"
    },
    {
     "data": {
      "image/png": "[encoded data removed]",
      "text/plain": [
       "<Figure size 432x288 with 1 Axes>"
      ]
     },
     "metadata": {
      "needs_background": "light"
     },
     "output_type": "display_data"
    }
   ],
   "source": [
    "df.EDUCATION.value_counts().plot(kind = \"barh\")"
   ]
  },
  {
   "cell_type": "code",
   "execution_count": 474,
   "id": "4f87e658",
   "metadata": {},
   "outputs": [
    {
     "data": {
      "text/plain": [
       "2    14030\n",
       "1    10585\n",
       "3     4917\n",
       "4      468\n",
       "Name: EDUCATION, dtype: int64"
      ]
     },
     "execution_count": 474,
     "metadata": {},
     "output_type": "execute_result"
    }
   ],
   "source": [
    "# From the Data Description given, we know that in df.EDUCATION, 5 and 6 represents \"unknown\" \n",
    "# Changing 0,5 and 6 to keep it under 1 category.\n",
    "\n",
    "## why don't we change it to others?\n",
    "\n",
    "df['EDUCATION'].replace({0:4,1:1,2:2,3:3,4:4,5:4,6:4}, inplace=True)\n",
    "df.EDUCATION.value_counts()"
   ]
  },
  {
   "cell_type": "code",
   "execution_count": 475,
   "id": "fe21cbd0",
   "metadata": {},
   "outputs": [
    {
     "data": {
      "text/plain": [
       "<AxesSubplot: xlabel='EDUCATION', ylabel='count'>"
      ]
     },
     "execution_count": 475,
     "metadata": {},
     "output_type": "execute_result"
    },
    {
     "data": {
      "text/plain": [
       "<Figure size 720x360 with 0 Axes>"
      ]
     },
     "metadata": {},
     "output_type": "display_data"
    },
    {
     "data": {
      "image/png": "[encoded data removed]",
      "text/plain": [
       "<Figure size 936x576 with 2 Axes>"
      ]
     },
     "metadata": {
      "needs_background": "light"
     },
     "output_type": "display_data"
    }
   ],
   "source": [
    "# Plotting pie chart and bar chart to see how the the education of an individual is correlated to whether the individual defaults\n",
    "plt.figure(figsize=(10,5))\n",
    "fig, axes = plt.subplots(ncols=2,figsize=(13,8))\n",
    "df['EDUCATION'].value_counts().plot(kind=\"pie\",ax = axes[0],subplots=True)\n",
    "sns.countplot(x = 'EDUCATION', hue = 'Defaulter', data = df)"
   ]
  },
  {
   "cell_type": "markdown",
   "id": "b11ef04d",
   "metadata": {},
   "source": [
    "From the pie chart and bar graph above, we can see that the largest proportion of Defaulters had university education."
   ]
  },
  {
   "cell_type": "markdown",
   "id": "cf06f450",
   "metadata": {},
   "source": [
    "### Analysis on Gender of Credit Card Holders"
   ]
  },
  {
   "cell_type": "code",
   "execution_count": 476,
   "id": "307dc028",
   "metadata": {},
   "outputs": [
    {
     "data": {
      "text/plain": [
       "<AxesSubplot: >"
      ]
     },
     "execution_count": 476,
     "metadata": {},
     "output_type": "execute_result"
    },
    {
     "data": {
      "image/png": "[encoded data removed]",
      "text/plain": [
       "<Figure size 432x288 with 1 Axes>"
      ]
     },
     "metadata": {
      "needs_background": "light"
     },
     "output_type": "display_data"
    }
   ],
   "source": [
    "df.SEX.value_counts().plot(kind = \"barh\")"
   ]
  },
  {
   "cell_type": "code",
   "execution_count": 477,
   "id": "a5142b11",
   "metadata": {},
   "outputs": [
    {
     "data": {
      "text/plain": [
       "<AxesSubplot: xlabel='SEX', ylabel='count'>"
      ]
     },
     "execution_count": 477,
     "metadata": {},
     "output_type": "execute_result"
    },
    {
     "data": {
      "text/plain": [
       "<Figure size 720x360 with 0 Axes>"
      ]
     },
     "metadata": {},
     "output_type": "display_data"
    },
    {
     "data": {
      "image/png": "[encoded data removed]",
      "text/plain": [
       "<Figure size 936x576 with 2 Axes>"
      ]
     },
     "metadata": {
      "needs_background": "light"
     },
     "output_type": "display_data"
    }
   ],
   "source": [
    "# Plotting pie chart and bar chart to see how the the education of an individual is correlated to whether the individual defaults\n",
    "plt.figure(figsize=(10,5))\n",
    "fig, axes = plt.subplots(ncols=2,figsize=(13,8))\n",
    "df['SEX'].value_counts().plot(kind=\"pie\",ax = axes[0],subplots=True)\n",
    "sns.countplot(x = 'SEX', hue = 'Defaulter', data = df)"
   ]
  },
  {
   "cell_type": "markdown",
   "id": "7917811d",
   "metadata": {},
   "source": [
    "From the pie chart and bar graph above, we can see that the number of defaulters has a higher proportion of females."
   ]
  },
  {
   "cell_type": "markdown",
   "id": "015d207f",
   "metadata": {},
   "source": [
    "### Analysis on Amount of Given Credit of Credit Card Holders\n"
   ]
  },
  {
   "cell_type": "code",
   "execution_count": 478,
   "id": "f4a15cc4",
   "metadata": {},
   "outputs": [
    {
     "data": {
      "text/plain": [
       "count      30000.000000\n",
       "mean      167484.322667\n",
       "std       129747.661567\n",
       "min        10000.000000\n",
       "25%        50000.000000\n",
       "50%       140000.000000\n",
       "75%       240000.000000\n",
       "max      1000000.000000\n",
       "Name: LIMIT_BAL, dtype: float64"
      ]
     },
     "execution_count": 478,
     "metadata": {},
     "output_type": "execute_result"
    }
   ],
   "source": [
    "df['LIMIT_BAL'].describe()"
   ]
  },
  {
   "cell_type": "code",
   "execution_count": 479,
   "id": "937ae062",
   "metadata": {},
   "outputs": [
    {
     "data": {
      "text/plain": [
       "Text(0.5, 1.0, 'Credit Distribution')"
      ]
     },
     "execution_count": 479,
     "metadata": {},
     "output_type": "execute_result"
    },
    {
     "data": {
      "image/png": "[encoded data removed]",
      "text/plain": [
       "<Figure size 720x360 with 1 Axes>"
      ]
     },
     "metadata": {
      "needs_background": "light"
     },
     "output_type": "display_data"
    }
   ],
   "source": [
    "## Distribution plot of LIMIT_BAL\n",
    "sns.displot(x='LIMIT_BAL', data = df, kde=True, aspect=2)\n",
    "plt.xticks(rotation=0)\n",
    "plt.ylabel('Count')\n",
    "plt.title(\"Credit Distribution\")"
   ]
  },
  {
   "cell_type": "code",
   "execution_count": 480,
   "id": "d14296d4",
   "metadata": {},
   "outputs": [
    {
     "data": {
      "text/plain": [
       "<AxesSubplot: xlabel='Defaulter', ylabel='count'>"
      ]
     },
     "execution_count": 480,
     "metadata": {},
     "output_type": "execute_result"
    },
    {
     "data": {
      "image/png": "[encoded data removed]",
      "text/plain": [
       "<Figure size 720x720 with 1 Axes>"
      ]
     },
     "metadata": {
      "needs_background": "light"
     },
     "output_type": "display_data"
    }
   ],
   "source": [
    "## Count plot \n",
    "plt.figure(figsize=(10,10))\n",
    "\n",
    "sns.countplot(x=\"Defaulter\", data = df)"
   ]
  },
  {
   "cell_type": "markdown",
   "id": "d9effe10",
   "metadata": {},
   "source": [
    "From our box plot above, we can see that generally, defaulters have lower mean credit balances than non-defaulters. (which makes sense because the higher the \"chance\" of you defaulting, the lower your credit balance -> is a cycle)"
   ]
  },
  {
   "cell_type": "markdown",
   "id": "c4fd67be",
   "metadata": {},
   "source": [
    "### Analysis for PAY_0 to PAY_6 (no PAY_1)\n"
   ]
  },
  {
   "cell_type": "code",
   "execution_count": 481,
   "id": "de74177c",
   "metadata": {},
   "outputs": [
    {
     "name": "stderr",
     "output_type": "stream",
     "text": [
      "C:\\Users\\user\\AppData\\Local\\Temp\\ipykernel_20672\\816616122.py:2: MatplotlibDeprecationWarning: Auto-removal of overlapping axes is deprecated since 3.6 and will be removed two minor releases later; explicitly call ax.remove() as needed.\n",
      "  plt.subplot(231)\n"
     ]
    },
    {
     "data": {
      "image/png": "[encoded data removed]",
      "text/plain": [
       "<Figure size 1440x720 with 6 Axes>"
      ]
     },
     "metadata": {
      "needs_background": "light"
     },
     "output_type": "display_data"
    }
   ],
   "source": [
    "plt.subplots(figsize=(20,10))\n",
    "plt.subplot(231)\n",
    "plt.hist(df.PAY_0, bins = 100, color = \"lightblue\")\n",
    "plt.xlabel('PAY_Sept')\n",
    "plt.ylabel('Count')\n",
    "\n",
    "plt.subplot(232)\n",
    "plt.hist(df.PAY_2, bins = 100, color = \"lightpink\")\n",
    "plt.xlabel('PAY_Aug')\n",
    "plt.ylabel('Count')\n",
    "plt.title('Distributions of PAY_AMT1 to PAY_AMT6', fontsize=15)\n",
    "\n",
    "plt.subplot(233)\n",
    "plt.hist(df.PAY_3, bins = 100, color = \"lightgreen\")\n",
    "plt.xlabel('PAY_Jun')\n",
    "plt.ylabel('Count')\n",
    "\n",
    "plt.subplot(234)\n",
    "plt.hist(df.PAY_4, bins = 100, color = \"magenta\")\n",
    "plt.xlabel('PAY_July')\n",
    "plt.ylabel('Count')\n",
    "\n",
    "plt.subplot(235)\n",
    "plt.hist(df.PAY_5, bins = 100, color = \"red\")\n",
    "plt.xlabel('PAY_Apr')\n",
    "plt.ylabel('Count')\n",
    "\n",
    "plt.subplot(236)\n",
    "plt.hist(df.PAY_6, bins = 100, color = \"blue\")\n",
    "plt.xlabel('PAY_Mar')\n",
    "plt.ylabel('Count')\n",
    "plt.show()"
   ]
  },
  {
   "cell_type": "code",
   "execution_count": 482,
   "id": "8b4f1d06",
   "metadata": {},
   "outputs": [],
   "source": [
    "# change -1 and -2 to 0, and positive numbers to 1. \n",
    "# 0 meaning that the customer paid on time, 1 meaning that the customer paid late.\n",
    "df[\"PAY_0\"].loc[df['PAY_0'] < 0] = 0\n",
    "df[\"PAY_2\"].loc[df['PAY_2'] < 0] = 0\n",
    "df[\"PAY_3\"].loc[df['PAY_3'] < 0] = 0\n",
    "df[\"PAY_4\"].loc[df['PAY_4'] < 0] = 0\n",
    "df[\"PAY_5\"].loc[df['PAY_5'] < 0] = 0\n",
    "df[\"PAY_6\"].loc[df['PAY_6'] < 0] = 0\n",
    "\n",
    "df[\"PAY_0\"].loc[df['PAY_0'] > 1] = 1\n",
    "df[\"PAY_2\"].loc[df['PAY_2'] > 1] = 1\n",
    "df[\"PAY_3\"].loc[df['PAY_3'] > 1] = 1\n",
    "df[\"PAY_4\"].loc[df['PAY_4'] > 1] = 1\n",
    "df[\"PAY_5\"].loc[df['PAY_5'] > 1] = 1\n",
    "df[\"PAY_6\"].loc[df['PAY_6'] > 1] = 1\n"
   ]
  },
  {
   "cell_type": "markdown",
   "id": "2843b526",
   "metadata": {},
   "source": [
    "### Analysis for BILL_AMT1 to BILL_AMT6"
   ]
  },
  {
   "cell_type": "code",
   "execution_count": 484,
   "id": "48fc7d6e",
   "metadata": {},
   "outputs": [
    {
     "data": {
      "text/plain": [
       "count     30000.000000\n",
       "mean      51223.330900\n",
       "std       73635.860576\n",
       "min     -165580.000000\n",
       "25%        3558.750000\n",
       "50%       22381.500000\n",
       "75%       67091.000000\n",
       "max      964511.000000\n",
       "Name: BILL_AMT1, dtype: float64"
      ]
     },
     "execution_count": 484,
     "metadata": {},
     "output_type": "execute_result"
    }
   ],
   "source": [
    "df['BILL_AMT1'].describe()"
   ]
  },
  {
   "cell_type": "code",
   "execution_count": 485,
   "id": "9d511a20",
   "metadata": {},
   "outputs": [
    {
     "name": "stderr",
     "output_type": "stream",
     "text": [
      "C:\\Users\\user\\AppData\\Local\\Temp\\ipykernel_20672\\953784070.py:2: MatplotlibDeprecationWarning: Auto-removal of overlapping axes is deprecated since 3.6 and will be removed two minor releases later; explicitly call ax.remove() as needed.\n",
      "  plt.subplot(231)\n"
     ]
    },
    {
     "data": {
      "text/plain": [
       "Text(0, 0.5, 'Count')"
      ]
     },
     "execution_count": 485,
     "metadata": {},
     "output_type": "execute_result"
    },
    {
     "data": {
      "image/png": "[encoded data removed]",
      "text/plain": [
       "<Figure size 1440x720 with 6 Axes>"
      ]
     },
     "metadata": {
      "needs_background": "light"
     },
     "output_type": "display_data"
    }
   ],
   "source": [
    "plt.subplots(figsize=(20,10))\n",
    "plt.subplot(231)\n",
    "plt.hist(df.BILL_AMT1, bins = 100, color = \"lightblue\")\n",
    "plt.xlabel('BILL_AMT1')\n",
    "plt.ylabel('Count')\n",
    "\n",
    "plt.subplot(232)\n",
    "plt.hist(df.BILL_AMT2, bins = 100, color = \"lightpink\")\n",
    "plt.xlabel('BILL_AMT2')\n",
    "plt.ylabel('Count')\n",
    "plt.title('Distributions of BILL_AMT1 to BILL_AMT6', fontsize=15)\n",
    "\n",
    "plt.subplot(233)\n",
    "plt.hist(df.BILL_AMT3, bins = 100, color = \"lightgreen\")\n",
    "plt.xlabel('BILL_AMT3')\n",
    "plt.ylabel('Count')\n",
    "\n",
    "plt.subplot(234)\n",
    "plt.hist(df.BILL_AMT4, bins = 100, color = \"magenta\")\n",
    "plt.xlabel('BILL_AMT4')\n",
    "plt.ylabel('Count')\n",
    "\n",
    "plt.subplot(235)\n",
    "plt.hist(df.BILL_AMT5, bins = 100, color = \"red\")\n",
    "plt.xlabel('BILL_AMT5')\n",
    "plt.ylabel('Count')\n",
    "\n",
    "plt.subplot(236)\n",
    "plt.hist(df.BILL_AMT6, bins = 100, color = \"blue\")\n",
    "plt.xlabel('BILL_AMT6')\n",
    "plt.ylabel('Count')"
   ]
  },
  {
   "cell_type": "markdown",
   "id": "b695f9d4",
   "metadata": {},
   "source": [
    "### Analysis for PAY_AMT1 to PAY_AMT6"
   ]
  },
  {
   "cell_type": "code",
   "execution_count": 486,
   "id": "a381cc6a",
   "metadata": {},
   "outputs": [
    {
     "name": "stderr",
     "output_type": "stream",
     "text": [
      "C:\\Users\\user\\AppData\\Local\\Temp\\ipykernel_20672\\3073398379.py:2: MatplotlibDeprecationWarning: Auto-removal of overlapping axes is deprecated since 3.6 and will be removed two minor releases later; explicitly call ax.remove() as needed.\n",
      "  plt.subplot(231)\n"
     ]
    },
    {
     "data": {
      "image/png": "[encoded data removed]",
      "text/plain": [
       "<Figure size 1440x720 with 6 Axes>"
      ]
     },
     "metadata": {
      "needs_background": "light"
     },
     "output_type": "display_data"
    }
   ],
   "source": [
    "plt.subplots(figsize=(20,10))\n",
    "plt.subplot(231)\n",
    "plt.hist(df.PAY_AMT1, bins = 100, color = \"lightblue\")\n",
    "plt.xlabel('PAY_AMT1')\n",
    "plt.ylabel('Count')\n",
    "\n",
    "plt.subplot(232)\n",
    "plt.hist(df.PAY_AMT2, bins = 100, color = \"lightpink\")\n",
    "plt.xlabel('PAY_AMT2')\n",
    "plt.ylabel('Count')\n",
    "plt.title('Distributions of PAY_AMT1 to PAY_AMT6', fontsize=15)\n",
    "\n",
    "plt.subplot(233)\n",
    "plt.hist(df.PAY_AMT3, bins = 100, color = \"lightgreen\")\n",
    "plt.xlabel('PAY_AMT3')\n",
    "plt.ylabel('Count')\n",
    "\n",
    "plt.subplot(234)\n",
    "plt.hist(df.PAY_AMT4, bins = 100, color = \"magenta\")\n",
    "plt.xlabel('PAY_AMT4')\n",
    "plt.ylabel('Count')\n",
    "\n",
    "plt.subplot(235)\n",
    "plt.hist(df.PAY_AMT5, bins = 100, color = \"red\")\n",
    "plt.xlabel('PAY_AMT5')\n",
    "plt.ylabel('Count')\n",
    "\n",
    "plt.subplot(236)\n",
    "plt.hist(df.PAY_AMT6, bins = 100, color = \"blue\")\n",
    "plt.xlabel('PAY_AMT6')\n",
    "plt.ylabel('Count')\n",
    "plt.show()"
   ]
  },
  {
   "cell_type": "markdown",
   "id": "f4f906b0",
   "metadata": {},
   "source": [
    "### Hypothesis Testing for all Attributes"
   ]
  },
  {
   "cell_type": "markdown",
   "id": "52e26f8b",
   "metadata": {},
   "source": [
    "We are carrying out a two-tailed test on each attribute to determine if that attribute is statistically significant in determining the outcome of default payment next month.\n",
    "\n",
    "H0: The attribute is not statistically significant in predicting the outcome of default payment next month\n",
    "\n",
    "H1: The attribute is statistically significant in predicitng the outcome of deault payment next month"
   ]
  },
  {
   "cell_type": "code",
   "execution_count": 487,
   "id": "138631d6",
   "metadata": {},
   "outputs": [
    {
     "name": "stderr",
     "output_type": "stream",
     "text": [
      "C:\\Users\\user\\AppData\\Local\\Temp\\ipykernel_20672\\606660175.py:4: RuntimeWarning: Precision loss occurred in moment calculation due to catastrophic cancellation. This occurs when the data are nearly identical. Results may be unreliable.\n",
      "  statsvalue = stats.ttest_ind(df.loc[df['Defaulter'] == 1, var], df.loc[df['Defaulter'] == 0, var])\n"
     ]
    },
    {
     "data": {
      "text/html": [
       "<div>\n",
       "<style scoped>\n",
       "    .dataframe tbody tr th:only-of-type {\n",
       "        vertical-align: middle;\n",
       "    }\n",
       "\n",
       "    .dataframe tbody tr th {\n",
       "        vertical-align: top;\n",
       "    }\n",
       "\n",
       "    .dataframe thead th {\n",
       "        text-align: right;\n",
       "    }\n",
       "</style>\n",
       "<table border=\"1\" class=\"dataframe\">\n",
       "  <thead>\n",
       "    <tr style=\"text-align: right;\">\n",
       "      <th></th>\n",
       "      <th>Attribute</th>\n",
       "      <th>T-Value</th>\n",
       "      <th>P-Value</th>\n",
       "    </tr>\n",
       "  </thead>\n",
       "  <tbody>\n",
       "    <tr>\n",
       "      <th>0</th>\n",
       "      <td>Defaulter</td>\n",
       "      <td>inf</td>\n",
       "      <td>0.0</td>\n",
       "    </tr>\n",
       "    <tr>\n",
       "      <th>1</th>\n",
       "      <td>PAY_6</td>\n",
       "      <td>43.974774</td>\n",
       "      <td>0.0</td>\n",
       "    </tr>\n",
       "    <tr>\n",
       "      <th>2</th>\n",
       "      <td>PAY_5</td>\n",
       "      <td>47.978341</td>\n",
       "      <td>0.0</td>\n",
       "    </tr>\n",
       "    <tr>\n",
       "      <th>3</th>\n",
       "      <td>PAY_4</td>\n",
       "      <td>49.63628</td>\n",
       "      <td>0.0</td>\n",
       "    </tr>\n",
       "    <tr>\n",
       "      <th>4</th>\n",
       "      <td>PAY_3</td>\n",
       "      <td>53.19237</td>\n",
       "      <td>0.0</td>\n",
       "    </tr>\n",
       "    <tr>\n",
       "      <th>5</th>\n",
       "      <td>PAY_0</td>\n",
       "      <td>68.572828</td>\n",
       "      <td>0.0</td>\n",
       "    </tr>\n",
       "    <tr>\n",
       "      <th>6</th>\n",
       "      <td>PAY_2</td>\n",
       "      <td>62.206846</td>\n",
       "      <td>0.0</td>\n",
       "    </tr>\n",
       "    <tr>\n",
       "      <th>7</th>\n",
       "      <td>LIMIT_BAL</td>\n",
       "      <td>-26.908522</td>\n",
       "      <td>0.0</td>\n",
       "    </tr>\n",
       "    <tr>\n",
       "      <th>8</th>\n",
       "      <td>PAY_AMT1</td>\n",
       "      <td>-12.665063</td>\n",
       "      <td>0.0</td>\n",
       "    </tr>\n",
       "    <tr>\n",
       "      <th>9</th>\n",
       "      <td>PAY_AMT2</td>\n",
       "      <td>-10.163244</td>\n",
       "      <td>0.0</td>\n",
       "    </tr>\n",
       "    <tr>\n",
       "      <th>10</th>\n",
       "      <td>PAY_AMT4</td>\n",
       "      <td>-9.858397</td>\n",
       "      <td>0.0</td>\n",
       "    </tr>\n",
       "    <tr>\n",
       "      <th>11</th>\n",
       "      <td>PAY_AMT3</td>\n",
       "      <td>-9.757972</td>\n",
       "      <td>0.0</td>\n",
       "    </tr>\n",
       "    <tr>\n",
       "      <th>12</th>\n",
       "      <td>PAY_AMT5</td>\n",
       "      <td>-9.561893</td>\n",
       "      <td>0.0</td>\n",
       "    </tr>\n",
       "    <tr>\n",
       "      <th>13</th>\n",
       "      <td>PAY_AMT6</td>\n",
       "      <td>-9.224372</td>\n",
       "      <td>0.0</td>\n",
       "    </tr>\n",
       "    <tr>\n",
       "      <th>14</th>\n",
       "      <td>SEX</td>\n",
       "      <td>-6.926677</td>\n",
       "      <td>0.0</td>\n",
       "    </tr>\n",
       "    <tr>\n",
       "      <th>15</th>\n",
       "      <td>EDUCATION</td>\n",
       "      <td>5.86481</td>\n",
       "      <td>0.0</td>\n",
       "    </tr>\n",
       "    <tr>\n",
       "      <th>16</th>\n",
       "      <td>MARRIAGE</td>\n",
       "      <td>-4.777737</td>\n",
       "      <td>0.000002</td>\n",
       "    </tr>\n",
       "    <tr>\n",
       "      <th>17</th>\n",
       "      <td>BILL_AMT1</td>\n",
       "      <td>-3.403018</td>\n",
       "      <td>0.000667</td>\n",
       "    </tr>\n",
       "    <tr>\n",
       "      <th>18</th>\n",
       "      <td>BILL_AMT2</td>\n",
       "      <td>-2.458503</td>\n",
       "      <td>0.013957</td>\n",
       "    </tr>\n",
       "    <tr>\n",
       "      <th>19</th>\n",
       "      <td>BILL_AMT3</td>\n",
       "      <td>-2.438112</td>\n",
       "      <td>0.01477</td>\n",
       "    </tr>\n",
       "    <tr>\n",
       "      <th>20</th>\n",
       "      <td>AGE</td>\n",
       "      <td>2.405942</td>\n",
       "      <td>0.016137</td>\n",
       "    </tr>\n",
       "    <tr>\n",
       "      <th>21</th>\n",
       "      <td>BILL_AMT4</td>\n",
       "      <td>-1.759189</td>\n",
       "      <td>0.078556</td>\n",
       "    </tr>\n",
       "    <tr>\n",
       "      <th>22</th>\n",
       "      <td>BILL_AMT5</td>\n",
       "      <td>-1.170934</td>\n",
       "      <td>0.241634</td>\n",
       "    </tr>\n",
       "    <tr>\n",
       "      <th>23</th>\n",
       "      <td>BILL_AMT6</td>\n",
       "      <td>-0.930495</td>\n",
       "      <td>0.352123</td>\n",
       "    </tr>\n",
       "  </tbody>\n",
       "</table>\n",
       "</div>"
      ],
      "text/plain": [
       "    Attribute    T-Value   P-Value\n",
       "0   Defaulter        inf       0.0\n",
       "1       PAY_6  43.974774       0.0\n",
       "2       PAY_5  47.978341       0.0\n",
       "3       PAY_4   49.63628       0.0\n",
       "4       PAY_3   53.19237       0.0\n",
       "5       PAY_0  68.572828       0.0\n",
       "6       PAY_2  62.206846       0.0\n",
       "7   LIMIT_BAL -26.908522       0.0\n",
       "8    PAY_AMT1 -12.665063       0.0\n",
       "9    PAY_AMT2 -10.163244       0.0\n",
       "10   PAY_AMT4  -9.858397       0.0\n",
       "11   PAY_AMT3  -9.757972       0.0\n",
       "12   PAY_AMT5  -9.561893       0.0\n",
       "13   PAY_AMT6  -9.224372       0.0\n",
       "14        SEX  -6.926677       0.0\n",
       "15  EDUCATION    5.86481       0.0\n",
       "16   MARRIAGE  -4.777737  0.000002\n",
       "17  BILL_AMT1  -3.403018  0.000667\n",
       "18  BILL_AMT2  -2.458503  0.013957\n",
       "19  BILL_AMT3  -2.438112   0.01477\n",
       "20        AGE   2.405942  0.016137\n",
       "21  BILL_AMT4  -1.759189  0.078556\n",
       "22  BILL_AMT5  -1.170934  0.241634\n",
       "23  BILL_AMT6  -0.930495  0.352123"
      ]
     },
     "execution_count": 487,
     "metadata": {},
     "output_type": "execute_result"
    }
   ],
   "source": [
    "numeric = df.select_dtypes(include=np.number).columns.tolist()\n",
    "statsdf = pd.DataFrame()\n",
    "for var in numeric:\n",
    "    statsvalue = stats.ttest_ind(df.loc[df['Defaulter'] == 1, var], df.loc[df['Defaulter'] == 0, var])\n",
    "    temp = pd.DataFrame([var, statsvalue[0], statsvalue[1]]).T\n",
    "    temp.columns = ['Attribute', 'T-Value', 'P-Value']\n",
    "    statsdf = pd.concat([statsdf, temp], axis = 0, ignore_index = True)\n",
    "\n",
    "statsdf = statsdf.sort_values(by = 'P-Value').reset_index(drop = True)\n",
    "statsdf"
   ]
  },
  {
   "cell_type": "markdown",
   "id": "65919246",
   "metadata": {},
   "source": [
    "At a 5% level of significance, we reject the null hypothesis for attributes with P-Value less than 0.05 and conclude that the attribute is statistically significant in predicting the outcome of default payment next month."
   ]
  },
  {
   "cell_type": "markdown",
   "id": "95866be5",
   "metadata": {},
   "source": [
    "## Data Pre-Processing"
   ]
  },
  {
   "cell_type": "markdown",
   "id": "1591eab7",
   "metadata": {},
   "source": [
    "### One Hot Encoding"
   ]
  },
  {
   "cell_type": "code",
   "execution_count": 488,
   "id": "e0b7da75",
   "metadata": {},
   "outputs": [
    {
     "data": {
      "text/plain": [
       "2    14030\n",
       "1    10585\n",
       "3     4917\n",
       "4      468\n",
       "Name: EDUCATION, dtype: int64"
      ]
     },
     "execution_count": 488,
     "metadata": {},
     "output_type": "execute_result"
    }
   ],
   "source": [
    "df['EDUCATION'].value_counts()"
   ]
  },
  {
   "cell_type": "code",
   "execution_count": 489,
   "id": "178a4a04",
   "metadata": {},
   "outputs": [
    {
     "data": {
      "text/html": [
       "<div>\n",
       "<style scoped>\n",
       "    .dataframe tbody tr th:only-of-type {\n",
       "        vertical-align: middle;\n",
       "    }\n",
       "\n",
       "    .dataframe tbody tr th {\n",
       "        vertical-align: top;\n",
       "    }\n",
       "\n",
       "    .dataframe thead th {\n",
       "        text-align: right;\n",
       "    }\n",
       "</style>\n",
       "<table border=\"1\" class=\"dataframe\">\n",
       "  <thead>\n",
       "    <tr style=\"text-align: right;\">\n",
       "      <th></th>\n",
       "      <th>LIMIT_BAL</th>\n",
       "      <th>SEX</th>\n",
       "      <th>AGE</th>\n",
       "      <th>PAY_0</th>\n",
       "      <th>PAY_2</th>\n",
       "      <th>PAY_3</th>\n",
       "      <th>PAY_4</th>\n",
       "      <th>PAY_5</th>\n",
       "      <th>PAY_6</th>\n",
       "      <th>BILL_AMT1</th>\n",
       "      <th>...</th>\n",
       "      <th>PAY_AMT5</th>\n",
       "      <th>PAY_AMT6</th>\n",
       "      <th>Defaulter</th>\n",
       "      <th>EDUCATION_1</th>\n",
       "      <th>EDUCATION_2</th>\n",
       "      <th>EDUCATION_3</th>\n",
       "      <th>EDUCATION_4</th>\n",
       "      <th>MARRIAGE_1</th>\n",
       "      <th>MARRIAGE_2</th>\n",
       "      <th>MARRIAGE_3</th>\n",
       "    </tr>\n",
       "  </thead>\n",
       "  <tbody>\n",
       "    <tr>\n",
       "      <th>0</th>\n",
       "      <td>20000</td>\n",
       "      <td>2</td>\n",
       "      <td>24</td>\n",
       "      <td>1</td>\n",
       "      <td>1</td>\n",
       "      <td>0</td>\n",
       "      <td>0</td>\n",
       "      <td>0</td>\n",
       "      <td>0</td>\n",
       "      <td>3913</td>\n",
       "      <td>...</td>\n",
       "      <td>0</td>\n",
       "      <td>0</td>\n",
       "      <td>1</td>\n",
       "      <td>0</td>\n",
       "      <td>1</td>\n",
       "      <td>0</td>\n",
       "      <td>0</td>\n",
       "      <td>1</td>\n",
       "      <td>0</td>\n",
       "      <td>0</td>\n",
       "    </tr>\n",
       "    <tr>\n",
       "      <th>1</th>\n",
       "      <td>120000</td>\n",
       "      <td>2</td>\n",
       "      <td>26</td>\n",
       "      <td>0</td>\n",
       "      <td>1</td>\n",
       "      <td>0</td>\n",
       "      <td>0</td>\n",
       "      <td>0</td>\n",
       "      <td>1</td>\n",
       "      <td>2682</td>\n",
       "      <td>...</td>\n",
       "      <td>0</td>\n",
       "      <td>2000</td>\n",
       "      <td>1</td>\n",
       "      <td>0</td>\n",
       "      <td>1</td>\n",
       "      <td>0</td>\n",
       "      <td>0</td>\n",
       "      <td>0</td>\n",
       "      <td>1</td>\n",
       "      <td>0</td>\n",
       "    </tr>\n",
       "    <tr>\n",
       "      <th>2</th>\n",
       "      <td>90000</td>\n",
       "      <td>2</td>\n",
       "      <td>34</td>\n",
       "      <td>0</td>\n",
       "      <td>0</td>\n",
       "      <td>0</td>\n",
       "      <td>0</td>\n",
       "      <td>0</td>\n",
       "      <td>0</td>\n",
       "      <td>29239</td>\n",
       "      <td>...</td>\n",
       "      <td>1000</td>\n",
       "      <td>5000</td>\n",
       "      <td>0</td>\n",
       "      <td>0</td>\n",
       "      <td>1</td>\n",
       "      <td>0</td>\n",
       "      <td>0</td>\n",
       "      <td>0</td>\n",
       "      <td>1</td>\n",
       "      <td>0</td>\n",
       "    </tr>\n",
       "    <tr>\n",
       "      <th>3</th>\n",
       "      <td>50000</td>\n",
       "      <td>2</td>\n",
       "      <td>37</td>\n",
       "      <td>0</td>\n",
       "      <td>0</td>\n",
       "      <td>0</td>\n",
       "      <td>0</td>\n",
       "      <td>0</td>\n",
       "      <td>0</td>\n",
       "      <td>46990</td>\n",
       "      <td>...</td>\n",
       "      <td>1069</td>\n",
       "      <td>1000</td>\n",
       "      <td>0</td>\n",
       "      <td>0</td>\n",
       "      <td>1</td>\n",
       "      <td>0</td>\n",
       "      <td>0</td>\n",
       "      <td>1</td>\n",
       "      <td>0</td>\n",
       "      <td>0</td>\n",
       "    </tr>\n",
       "    <tr>\n",
       "      <th>4</th>\n",
       "      <td>50000</td>\n",
       "      <td>1</td>\n",
       "      <td>57</td>\n",
       "      <td>0</td>\n",
       "      <td>0</td>\n",
       "      <td>0</td>\n",
       "      <td>0</td>\n",
       "      <td>0</td>\n",
       "      <td>0</td>\n",
       "      <td>8617</td>\n",
       "      <td>...</td>\n",
       "      <td>689</td>\n",
       "      <td>679</td>\n",
       "      <td>0</td>\n",
       "      <td>0</td>\n",
       "      <td>1</td>\n",
       "      <td>0</td>\n",
       "      <td>0</td>\n",
       "      <td>1</td>\n",
       "      <td>0</td>\n",
       "      <td>0</td>\n",
       "    </tr>\n",
       "  </tbody>\n",
       "</table>\n",
       "<p>5 rows × 29 columns</p>\n",
       "</div>"
      ],
      "text/plain": [
       "   LIMIT_BAL  SEX  AGE  PAY_0  PAY_2  PAY_3  PAY_4  PAY_5  PAY_6  BILL_AMT1  \\\n",
       "0      20000    2   24      1      1      0      0      0      0       3913   \n",
       "1     120000    2   26      0      1      0      0      0      1       2682   \n",
       "2      90000    2   34      0      0      0      0      0      0      29239   \n",
       "3      50000    2   37      0      0      0      0      0      0      46990   \n",
       "4      50000    1   57      0      0      0      0      0      0       8617   \n",
       "\n",
       "   ...  PAY_AMT5  PAY_AMT6  Defaulter  EDUCATION_1  EDUCATION_2  EDUCATION_3  \\\n",
       "0  ...         0         0          1            0            1            0   \n",
       "1  ...         0      2000          1            0            1            0   \n",
       "2  ...      1000      5000          0            0            1            0   \n",
       "3  ...      1069      1000          0            0            1            0   \n",
       "4  ...       689       679          0            0            1            0   \n",
       "\n",
       "   EDUCATION_4  MARRIAGE_1  MARRIAGE_2  MARRIAGE_3  \n",
       "0            0           1           0           0  \n",
       "1            0           0           1           0  \n",
       "2            0           0           1           0  \n",
       "3            0           1           0           0  \n",
       "4            0           1           0           0  \n",
       "\n",
       "[5 rows x 29 columns]"
      ]
     },
     "execution_count": 489,
     "metadata": {},
     "output_type": "execute_result"
    }
   ],
   "source": [
    "## Get dummy variables for Education and Marriage (since they have more than 2 categories)\n",
    "df = pd.get_dummies(df, columns=[\"EDUCATION\", \"MARRIAGE\"])\n",
    "df.head()"
   ]
  },
  {
   "cell_type": "code",
   "execution_count": 490,
   "id": "4adb3791",
   "metadata": {},
   "outputs": [],
   "source": [
    "## Rename the columns to show the categories they represent\n",
    "df = df.rename(columns = {\n",
    "    'EDUCATION_1' : 'EDUCATION_GradSch',\n",
    "    'EDUCATION_2' : 'EDUCATION_University',\n",
    "    'EDUCATION_3' : 'EDUCATION_HighSch',\n",
    "    'EDUCATION_4' : 'EDUCATION_Others',\n",
    "    'MARRIAGE_1' : 'MARRIAGE_Married',\n",
    "    'MARRIAGE_2' : 'MARRIAGE_Single',\n",
    "    'MARRIAGE_3' : 'MARRIAGE_Others', \n",
    "    'PAY_0' : 'PAY_Sept', \n",
    "    'PAY_2' : 'PAY_Aug', \n",
    "    'PAY_3' : 'PAY_Jul', \n",
    "    'PAY_4' : 'PAY_June', \n",
    "    'PAY_5' : 'PAY_May', \n",
    "    'PAY_6' : 'PAY_Apr'\n",
    "})"
   ]
  },
  {
   "cell_type": "code",
   "execution_count": 491,
   "id": "3a089152",
   "metadata": {},
   "outputs": [],
   "source": [
    "## Drop one of the variables for Education and Marriage\n",
    "df.drop(['EDUCATION_Others', 'MARRIAGE_Others'], axis = 1, inplace = True)"
   ]
  },
  {
   "cell_type": "code",
   "execution_count": 492,
   "id": "f2bf5727",
   "metadata": {},
   "outputs": [
    {
     "data": {
      "text/html": [
       "<div>\n",
       "<style scoped>\n",
       "    .dataframe tbody tr th:only-of-type {\n",
       "        vertical-align: middle;\n",
       "    }\n",
       "\n",
       "    .dataframe tbody tr th {\n",
       "        vertical-align: top;\n",
       "    }\n",
       "\n",
       "    .dataframe thead th {\n",
       "        text-align: right;\n",
       "    }\n",
       "</style>\n",
       "<table border=\"1\" class=\"dataframe\">\n",
       "  <thead>\n",
       "    <tr style=\"text-align: right;\">\n",
       "      <th></th>\n",
       "      <th>LIMIT_BAL</th>\n",
       "      <th>SEX</th>\n",
       "      <th>AGE</th>\n",
       "      <th>PAY_Sept</th>\n",
       "      <th>PAY_Aug</th>\n",
       "      <th>PAY_Jul</th>\n",
       "      <th>PAY_June</th>\n",
       "      <th>PAY_May</th>\n",
       "      <th>PAY_Apr</th>\n",
       "      <th>BILL_AMT1</th>\n",
       "      <th>...</th>\n",
       "      <th>PAY_AMT3</th>\n",
       "      <th>PAY_AMT4</th>\n",
       "      <th>PAY_AMT5</th>\n",
       "      <th>PAY_AMT6</th>\n",
       "      <th>Defaulter</th>\n",
       "      <th>EDUCATION_GradSch</th>\n",
       "      <th>EDUCATION_University</th>\n",
       "      <th>EDUCATION_HighSch</th>\n",
       "      <th>MARRIAGE_Married</th>\n",
       "      <th>MARRIAGE_Single</th>\n",
       "    </tr>\n",
       "  </thead>\n",
       "  <tbody>\n",
       "    <tr>\n",
       "      <th>0</th>\n",
       "      <td>20000</td>\n",
       "      <td>1</td>\n",
       "      <td>24</td>\n",
       "      <td>1</td>\n",
       "      <td>1</td>\n",
       "      <td>0</td>\n",
       "      <td>0</td>\n",
       "      <td>0</td>\n",
       "      <td>0</td>\n",
       "      <td>3913</td>\n",
       "      <td>...</td>\n",
       "      <td>0</td>\n",
       "      <td>0</td>\n",
       "      <td>0</td>\n",
       "      <td>0</td>\n",
       "      <td>1</td>\n",
       "      <td>0</td>\n",
       "      <td>1</td>\n",
       "      <td>0</td>\n",
       "      <td>1</td>\n",
       "      <td>0</td>\n",
       "    </tr>\n",
       "    <tr>\n",
       "      <th>1</th>\n",
       "      <td>120000</td>\n",
       "      <td>1</td>\n",
       "      <td>26</td>\n",
       "      <td>0</td>\n",
       "      <td>1</td>\n",
       "      <td>0</td>\n",
       "      <td>0</td>\n",
       "      <td>0</td>\n",
       "      <td>1</td>\n",
       "      <td>2682</td>\n",
       "      <td>...</td>\n",
       "      <td>1000</td>\n",
       "      <td>1000</td>\n",
       "      <td>0</td>\n",
       "      <td>2000</td>\n",
       "      <td>1</td>\n",
       "      <td>0</td>\n",
       "      <td>1</td>\n",
       "      <td>0</td>\n",
       "      <td>0</td>\n",
       "      <td>1</td>\n",
       "    </tr>\n",
       "    <tr>\n",
       "      <th>2</th>\n",
       "      <td>90000</td>\n",
       "      <td>1</td>\n",
       "      <td>34</td>\n",
       "      <td>0</td>\n",
       "      <td>0</td>\n",
       "      <td>0</td>\n",
       "      <td>0</td>\n",
       "      <td>0</td>\n",
       "      <td>0</td>\n",
       "      <td>29239</td>\n",
       "      <td>...</td>\n",
       "      <td>1000</td>\n",
       "      <td>1000</td>\n",
       "      <td>1000</td>\n",
       "      <td>5000</td>\n",
       "      <td>0</td>\n",
       "      <td>0</td>\n",
       "      <td>1</td>\n",
       "      <td>0</td>\n",
       "      <td>0</td>\n",
       "      <td>1</td>\n",
       "    </tr>\n",
       "    <tr>\n",
       "      <th>3</th>\n",
       "      <td>50000</td>\n",
       "      <td>1</td>\n",
       "      <td>37</td>\n",
       "      <td>0</td>\n",
       "      <td>0</td>\n",
       "      <td>0</td>\n",
       "      <td>0</td>\n",
       "      <td>0</td>\n",
       "      <td>0</td>\n",
       "      <td>46990</td>\n",
       "      <td>...</td>\n",
       "      <td>1200</td>\n",
       "      <td>1100</td>\n",
       "      <td>1069</td>\n",
       "      <td>1000</td>\n",
       "      <td>0</td>\n",
       "      <td>0</td>\n",
       "      <td>1</td>\n",
       "      <td>0</td>\n",
       "      <td>1</td>\n",
       "      <td>0</td>\n",
       "    </tr>\n",
       "    <tr>\n",
       "      <th>4</th>\n",
       "      <td>50000</td>\n",
       "      <td>0</td>\n",
       "      <td>57</td>\n",
       "      <td>0</td>\n",
       "      <td>0</td>\n",
       "      <td>0</td>\n",
       "      <td>0</td>\n",
       "      <td>0</td>\n",
       "      <td>0</td>\n",
       "      <td>8617</td>\n",
       "      <td>...</td>\n",
       "      <td>10000</td>\n",
       "      <td>9000</td>\n",
       "      <td>689</td>\n",
       "      <td>679</td>\n",
       "      <td>0</td>\n",
       "      <td>0</td>\n",
       "      <td>1</td>\n",
       "      <td>0</td>\n",
       "      <td>1</td>\n",
       "      <td>0</td>\n",
       "    </tr>\n",
       "  </tbody>\n",
       "</table>\n",
       "<p>5 rows × 27 columns</p>\n",
       "</div>"
      ],
      "text/plain": [
       "   LIMIT_BAL  SEX  AGE  PAY_Sept  PAY_Aug  PAY_Jul  PAY_June  PAY_May  \\\n",
       "0      20000    1   24         1        1        0         0        0   \n",
       "1     120000    1   26         0        1        0         0        0   \n",
       "2      90000    1   34         0        0        0         0        0   \n",
       "3      50000    1   37         0        0        0         0        0   \n",
       "4      50000    0   57         0        0        0         0        0   \n",
       "\n",
       "   PAY_Apr  BILL_AMT1  ...  PAY_AMT3  PAY_AMT4  PAY_AMT5  PAY_AMT6  Defaulter  \\\n",
       "0        0       3913  ...         0         0         0         0          1   \n",
       "1        1       2682  ...      1000      1000         0      2000          1   \n",
       "2        0      29239  ...      1000      1000      1000      5000          0   \n",
       "3        0      46990  ...      1200      1100      1069      1000          0   \n",
       "4        0       8617  ...     10000      9000       689       679          0   \n",
       "\n",
       "   EDUCATION_GradSch  EDUCATION_University  EDUCATION_HighSch  \\\n",
       "0                  0                     1                  0   \n",
       "1                  0                     1                  0   \n",
       "2                  0                     1                  0   \n",
       "3                  0                     1                  0   \n",
       "4                  0                     1                  0   \n",
       "\n",
       "   MARRIAGE_Married  MARRIAGE_Single  \n",
       "0                 1                0  \n",
       "1                 0                1  \n",
       "2                 0                1  \n",
       "3                 1                0  \n",
       "4                 1                0  \n",
       "\n",
       "[5 rows x 27 columns]"
      ]
     },
     "execution_count": 492,
     "metadata": {},
     "output_type": "execute_result"
    }
   ],
   "source": [
    "## Change the encoding for sex to 0 and 1\n",
    "## Male = 0 Female = 1\n",
    "df = df.replace({\n",
    "    \"SEX\": {2 : 1, 1 : 0}\n",
    "})\n",
    "df.head()"
   ]
  },
  {
   "cell_type": "markdown",
   "id": "3b7432a8",
   "metadata": {},
   "source": [
    "### Scaling"
   ]
  },
  {
   "cell_type": "code",
   "execution_count": 493,
   "id": "a0a0eb62",
   "metadata": {},
   "outputs": [],
   "source": [
    "## Here we scale the data using the MinMaxScaler from the sklearn package\n",
    "scaler = MinMaxScaler(feature_range = (0,1))"
   ]
  },
  {
   "cell_type": "code",
   "execution_count": 494,
   "id": "82036f89",
   "metadata": {},
   "outputs": [
    {
     "data": {
      "text/html": [
       "<div>\n",
       "<style scoped>\n",
       "    .dataframe tbody tr th:only-of-type {\n",
       "        vertical-align: middle;\n",
       "    }\n",
       "\n",
       "    .dataframe tbody tr th {\n",
       "        vertical-align: top;\n",
       "    }\n",
       "\n",
       "    .dataframe thead th {\n",
       "        text-align: right;\n",
       "    }\n",
       "</style>\n",
       "<table border=\"1\" class=\"dataframe\">\n",
       "  <thead>\n",
       "    <tr style=\"text-align: right;\">\n",
       "      <th></th>\n",
       "      <th>LIMIT_BAL</th>\n",
       "      <th>SEX</th>\n",
       "      <th>AGE</th>\n",
       "      <th>PAY_Sept</th>\n",
       "      <th>PAY_Aug</th>\n",
       "      <th>PAY_Jul</th>\n",
       "      <th>PAY_June</th>\n",
       "      <th>PAY_May</th>\n",
       "      <th>PAY_Apr</th>\n",
       "      <th>BILL_AMT1</th>\n",
       "      <th>...</th>\n",
       "      <th>PAY_AMT3</th>\n",
       "      <th>PAY_AMT4</th>\n",
       "      <th>PAY_AMT5</th>\n",
       "      <th>PAY_AMT6</th>\n",
       "      <th>Defaulter</th>\n",
       "      <th>EDUCATION_GradSch</th>\n",
       "      <th>EDUCATION_University</th>\n",
       "      <th>EDUCATION_HighSch</th>\n",
       "      <th>MARRIAGE_Married</th>\n",
       "      <th>MARRIAGE_Single</th>\n",
       "    </tr>\n",
       "  </thead>\n",
       "  <tbody>\n",
       "    <tr>\n",
       "      <th>0</th>\n",
       "      <td>0.010101</td>\n",
       "      <td>1.0</td>\n",
       "      <td>0.051724</td>\n",
       "      <td>1.0</td>\n",
       "      <td>1.0</td>\n",
       "      <td>0.0</td>\n",
       "      <td>0.0</td>\n",
       "      <td>0.0</td>\n",
       "      <td>0.0</td>\n",
       "      <td>0.149982</td>\n",
       "      <td>...</td>\n",
       "      <td>0.000000</td>\n",
       "      <td>0.000000</td>\n",
       "      <td>0.000000</td>\n",
       "      <td>0.000000</td>\n",
       "      <td>1.0</td>\n",
       "      <td>0.0</td>\n",
       "      <td>1.0</td>\n",
       "      <td>0.0</td>\n",
       "      <td>1.0</td>\n",
       "      <td>0.0</td>\n",
       "    </tr>\n",
       "    <tr>\n",
       "      <th>1</th>\n",
       "      <td>0.111111</td>\n",
       "      <td>1.0</td>\n",
       "      <td>0.086207</td>\n",
       "      <td>0.0</td>\n",
       "      <td>1.0</td>\n",
       "      <td>0.0</td>\n",
       "      <td>0.0</td>\n",
       "      <td>0.0</td>\n",
       "      <td>1.0</td>\n",
       "      <td>0.148892</td>\n",
       "      <td>...</td>\n",
       "      <td>0.001116</td>\n",
       "      <td>0.001610</td>\n",
       "      <td>0.000000</td>\n",
       "      <td>0.003783</td>\n",
       "      <td>1.0</td>\n",
       "      <td>0.0</td>\n",
       "      <td>1.0</td>\n",
       "      <td>0.0</td>\n",
       "      <td>0.0</td>\n",
       "      <td>1.0</td>\n",
       "    </tr>\n",
       "    <tr>\n",
       "      <th>2</th>\n",
       "      <td>0.080808</td>\n",
       "      <td>1.0</td>\n",
       "      <td>0.224138</td>\n",
       "      <td>0.0</td>\n",
       "      <td>0.0</td>\n",
       "      <td>0.0</td>\n",
       "      <td>0.0</td>\n",
       "      <td>0.0</td>\n",
       "      <td>0.0</td>\n",
       "      <td>0.172392</td>\n",
       "      <td>...</td>\n",
       "      <td>0.001116</td>\n",
       "      <td>0.001610</td>\n",
       "      <td>0.002345</td>\n",
       "      <td>0.009458</td>\n",
       "      <td>0.0</td>\n",
       "      <td>0.0</td>\n",
       "      <td>1.0</td>\n",
       "      <td>0.0</td>\n",
       "      <td>0.0</td>\n",
       "      <td>1.0</td>\n",
       "    </tr>\n",
       "    <tr>\n",
       "      <th>3</th>\n",
       "      <td>0.040404</td>\n",
       "      <td>1.0</td>\n",
       "      <td>0.275862</td>\n",
       "      <td>0.0</td>\n",
       "      <td>0.0</td>\n",
       "      <td>0.0</td>\n",
       "      <td>0.0</td>\n",
       "      <td>0.0</td>\n",
       "      <td>0.0</td>\n",
       "      <td>0.188100</td>\n",
       "      <td>...</td>\n",
       "      <td>0.001339</td>\n",
       "      <td>0.001771</td>\n",
       "      <td>0.002506</td>\n",
       "      <td>0.001892</td>\n",
       "      <td>0.0</td>\n",
       "      <td>0.0</td>\n",
       "      <td>1.0</td>\n",
       "      <td>0.0</td>\n",
       "      <td>1.0</td>\n",
       "      <td>0.0</td>\n",
       "    </tr>\n",
       "    <tr>\n",
       "      <th>4</th>\n",
       "      <td>0.040404</td>\n",
       "      <td>0.0</td>\n",
       "      <td>0.620690</td>\n",
       "      <td>0.0</td>\n",
       "      <td>0.0</td>\n",
       "      <td>0.0</td>\n",
       "      <td>0.0</td>\n",
       "      <td>0.0</td>\n",
       "      <td>0.0</td>\n",
       "      <td>0.154144</td>\n",
       "      <td>...</td>\n",
       "      <td>0.011160</td>\n",
       "      <td>0.014493</td>\n",
       "      <td>0.001615</td>\n",
       "      <td>0.001284</td>\n",
       "      <td>0.0</td>\n",
       "      <td>0.0</td>\n",
       "      <td>1.0</td>\n",
       "      <td>0.0</td>\n",
       "      <td>1.0</td>\n",
       "      <td>0.0</td>\n",
       "    </tr>\n",
       "    <tr>\n",
       "      <th>...</th>\n",
       "      <td>...</td>\n",
       "      <td>...</td>\n",
       "      <td>...</td>\n",
       "      <td>...</td>\n",
       "      <td>...</td>\n",
       "      <td>...</td>\n",
       "      <td>...</td>\n",
       "      <td>...</td>\n",
       "      <td>...</td>\n",
       "      <td>...</td>\n",
       "      <td>...</td>\n",
       "      <td>...</td>\n",
       "      <td>...</td>\n",
       "      <td>...</td>\n",
       "      <td>...</td>\n",
       "      <td>...</td>\n",
       "      <td>...</td>\n",
       "      <td>...</td>\n",
       "      <td>...</td>\n",
       "      <td>...</td>\n",
       "      <td>...</td>\n",
       "    </tr>\n",
       "    <tr>\n",
       "      <th>29995</th>\n",
       "      <td>0.212121</td>\n",
       "      <td>0.0</td>\n",
       "      <td>0.310345</td>\n",
       "      <td>0.0</td>\n",
       "      <td>0.0</td>\n",
       "      <td>0.0</td>\n",
       "      <td>0.0</td>\n",
       "      <td>0.0</td>\n",
       "      <td>0.0</td>\n",
       "      <td>0.313716</td>\n",
       "      <td>...</td>\n",
       "      <td>0.005583</td>\n",
       "      <td>0.004907</td>\n",
       "      <td>0.011723</td>\n",
       "      <td>0.001892</td>\n",
       "      <td>0.0</td>\n",
       "      <td>0.0</td>\n",
       "      <td>0.0</td>\n",
       "      <td>1.0</td>\n",
       "      <td>1.0</td>\n",
       "      <td>0.0</td>\n",
       "    </tr>\n",
       "    <tr>\n",
       "      <th>29996</th>\n",
       "      <td>0.141414</td>\n",
       "      <td>0.0</td>\n",
       "      <td>0.379310</td>\n",
       "      <td>0.0</td>\n",
       "      <td>0.0</td>\n",
       "      <td>0.0</td>\n",
       "      <td>0.0</td>\n",
       "      <td>0.0</td>\n",
       "      <td>0.0</td>\n",
       "      <td>0.148008</td>\n",
       "      <td>...</td>\n",
       "      <td>0.010042</td>\n",
       "      <td>0.000208</td>\n",
       "      <td>0.000000</td>\n",
       "      <td>0.000000</td>\n",
       "      <td>0.0</td>\n",
       "      <td>0.0</td>\n",
       "      <td>0.0</td>\n",
       "      <td>1.0</td>\n",
       "      <td>0.0</td>\n",
       "      <td>1.0</td>\n",
       "    </tr>\n",
       "    <tr>\n",
       "      <th>29997</th>\n",
       "      <td>0.020202</td>\n",
       "      <td>0.0</td>\n",
       "      <td>0.275862</td>\n",
       "      <td>1.0</td>\n",
       "      <td>1.0</td>\n",
       "      <td>1.0</td>\n",
       "      <td>0.0</td>\n",
       "      <td>0.0</td>\n",
       "      <td>0.0</td>\n",
       "      <td>0.149674</td>\n",
       "      <td>...</td>\n",
       "      <td>0.024552</td>\n",
       "      <td>0.006763</td>\n",
       "      <td>0.004689</td>\n",
       "      <td>0.005864</td>\n",
       "      <td>1.0</td>\n",
       "      <td>0.0</td>\n",
       "      <td>1.0</td>\n",
       "      <td>0.0</td>\n",
       "      <td>0.0</td>\n",
       "      <td>1.0</td>\n",
       "    </tr>\n",
       "    <tr>\n",
       "      <th>29998</th>\n",
       "      <td>0.070707</td>\n",
       "      <td>0.0</td>\n",
       "      <td>0.344828</td>\n",
       "      <td>1.0</td>\n",
       "      <td>0.0</td>\n",
       "      <td>0.0</td>\n",
       "      <td>0.0</td>\n",
       "      <td>0.0</td>\n",
       "      <td>0.0</td>\n",
       "      <td>0.145064</td>\n",
       "      <td>...</td>\n",
       "      <td>0.001315</td>\n",
       "      <td>0.003101</td>\n",
       "      <td>0.124174</td>\n",
       "      <td>0.003412</td>\n",
       "      <td>1.0</td>\n",
       "      <td>0.0</td>\n",
       "      <td>0.0</td>\n",
       "      <td>1.0</td>\n",
       "      <td>1.0</td>\n",
       "      <td>0.0</td>\n",
       "    </tr>\n",
       "    <tr>\n",
       "      <th>29999</th>\n",
       "      <td>0.040404</td>\n",
       "      <td>0.0</td>\n",
       "      <td>0.431034</td>\n",
       "      <td>0.0</td>\n",
       "      <td>0.0</td>\n",
       "      <td>0.0</td>\n",
       "      <td>0.0</td>\n",
       "      <td>0.0</td>\n",
       "      <td>0.0</td>\n",
       "      <td>0.188931</td>\n",
       "      <td>...</td>\n",
       "      <td>0.001596</td>\n",
       "      <td>0.001610</td>\n",
       "      <td>0.002345</td>\n",
       "      <td>0.001892</td>\n",
       "      <td>1.0</td>\n",
       "      <td>0.0</td>\n",
       "      <td>1.0</td>\n",
       "      <td>0.0</td>\n",
       "      <td>1.0</td>\n",
       "      <td>0.0</td>\n",
       "    </tr>\n",
       "  </tbody>\n",
       "</table>\n",
       "<p>30000 rows × 27 columns</p>\n",
       "</div>"
      ],
      "text/plain": [
       "       LIMIT_BAL  SEX       AGE  PAY_Sept  PAY_Aug  PAY_Jul  PAY_June  \\\n",
       "0       0.010101  1.0  0.051724       1.0      1.0      0.0       0.0   \n",
       "1       0.111111  1.0  0.086207       0.0      1.0      0.0       0.0   \n",
       "2       0.080808  1.0  0.224138       0.0      0.0      0.0       0.0   \n",
       "3       0.040404  1.0  0.275862       0.0      0.0      0.0       0.0   \n",
       "4       0.040404  0.0  0.620690       0.0      0.0      0.0       0.0   \n",
       "...          ...  ...       ...       ...      ...      ...       ...   \n",
       "29995   0.212121  0.0  0.310345       0.0      0.0      0.0       0.0   \n",
       "29996   0.141414  0.0  0.379310       0.0      0.0      0.0       0.0   \n",
       "29997   0.020202  0.0  0.275862       1.0      1.0      1.0       0.0   \n",
       "29998   0.070707  0.0  0.344828       1.0      0.0      0.0       0.0   \n",
       "29999   0.040404  0.0  0.431034       0.0      0.0      0.0       0.0   \n",
       "\n",
       "       PAY_May  PAY_Apr  BILL_AMT1  ...  PAY_AMT3  PAY_AMT4  PAY_AMT5  \\\n",
       "0          0.0      0.0   0.149982  ...  0.000000  0.000000  0.000000   \n",
       "1          0.0      1.0   0.148892  ...  0.001116  0.001610  0.000000   \n",
       "2          0.0      0.0   0.172392  ...  0.001116  0.001610  0.002345   \n",
       "3          0.0      0.0   0.188100  ...  0.001339  0.001771  0.002506   \n",
       "4          0.0      0.0   0.154144  ...  0.011160  0.014493  0.001615   \n",
       "...        ...      ...        ...  ...       ...       ...       ...   \n",
       "29995      0.0      0.0   0.313716  ...  0.005583  0.004907  0.011723   \n",
       "29996      0.0      0.0   0.148008  ...  0.010042  0.000208  0.000000   \n",
       "29997      0.0      0.0   0.149674  ...  0.024552  0.006763  0.004689   \n",
       "29998      0.0      0.0   0.145064  ...  0.001315  0.003101  0.124174   \n",
       "29999      0.0      0.0   0.188931  ...  0.001596  0.001610  0.002345   \n",
       "\n",
       "       PAY_AMT6  Defaulter  EDUCATION_GradSch  EDUCATION_University  \\\n",
       "0      0.000000        1.0                0.0                   1.0   \n",
       "1      0.003783        1.0                0.0                   1.0   \n",
       "2      0.009458        0.0                0.0                   1.0   \n",
       "3      0.001892        0.0                0.0                   1.0   \n",
       "4      0.001284        0.0                0.0                   1.0   \n",
       "...         ...        ...                ...                   ...   \n",
       "29995  0.001892        0.0                0.0                   0.0   \n",
       "29996  0.000000        0.0                0.0                   0.0   \n",
       "29997  0.005864        1.0                0.0                   1.0   \n",
       "29998  0.003412        1.0                0.0                   0.0   \n",
       "29999  0.001892        1.0                0.0                   1.0   \n",
       "\n",
       "       EDUCATION_HighSch  MARRIAGE_Married  MARRIAGE_Single  \n",
       "0                    0.0               1.0              0.0  \n",
       "1                    0.0               0.0              1.0  \n",
       "2                    0.0               0.0              1.0  \n",
       "3                    0.0               1.0              0.0  \n",
       "4                    0.0               1.0              0.0  \n",
       "...                  ...               ...              ...  \n",
       "29995                1.0               1.0              0.0  \n",
       "29996                1.0               0.0              1.0  \n",
       "29997                0.0               0.0              1.0  \n",
       "29998                1.0               1.0              0.0  \n",
       "29999                0.0               1.0              0.0  \n",
       "\n",
       "[30000 rows x 27 columns]"
      ]
     },
     "execution_count": 494,
     "metadata": {},
     "output_type": "execute_result"
    }
   ],
   "source": [
    "\n",
    "## Scaling the X_train data\n",
    "scaled_data = scaler.fit_transform(df)\n",
    "scaled_data= pd.DataFrame(scaled_data,columns=df.columns)\n",
    "scaled_data.head()\n",
    "\n",
    "X = scaled_data.drop(\"Defaulter\",axis=1 )\n",
    "y = scaled_data['Defaulter']\n",
    "\n",
    "# standardising df\n",
    "df_standardised = (df - df.min())/(df.max() - df.min())\n",
    "df_standardised"
   ]
  },
  {
   "cell_type": "markdown",
   "id": "692e1cc1",
   "metadata": {},
   "source": [
    "## Feature Selection"
   ]
  },
  {
   "cell_type": "code",
   "execution_count": 495,
   "id": "26e4137e",
   "metadata": {},
   "outputs": [
    {
     "data": {
      "image/png": "[encoded data removed]",
      "text/plain": [
       "<Figure size 864x648 with 2 Axes>"
      ]
     },
     "metadata": {
      "needs_background": "light"
     },
     "output_type": "display_data"
    }
   ],
   "source": [
    "## Correlation of the variables - one way to do feature selection\n",
    "correlation_matrix = df.corr()\n",
    "fig = plt.figure(figsize=(12,9))\n",
    "sns.heatmap(correlation_matrix,vmax=0.8,square = True, cmap = \"coolwarm\")\n",
    "plt.show()"
   ]
  },
  {
   "cell_type": "code",
   "execution_count": 496,
   "id": "29b330d8",
   "metadata": {},
   "outputs": [
    {
     "data": {
      "text/html": [
       "<div>\n",
       "<style scoped>\n",
       "    .dataframe tbody tr th:only-of-type {\n",
       "        vertical-align: middle;\n",
       "    }\n",
       "\n",
       "    .dataframe tbody tr th {\n",
       "        vertical-align: top;\n",
       "    }\n",
       "\n",
       "    .dataframe thead th {\n",
       "        text-align: right;\n",
       "    }\n",
       "</style>\n",
       "<table border=\"1\" class=\"dataframe\">\n",
       "  <thead>\n",
       "    <tr style=\"text-align: right;\">\n",
       "      <th></th>\n",
       "      <th>Feature</th>\n",
       "      <th>Important_chi</th>\n",
       "    </tr>\n",
       "  </thead>\n",
       "  <tbody>\n",
       "    <tr>\n",
       "      <th>0</th>\n",
       "      <td>LIMIT_BAL</td>\n",
       "      <td>True</td>\n",
       "    </tr>\n",
       "    <tr>\n",
       "      <th>1</th>\n",
       "      <td>SEX</td>\n",
       "      <td>True</td>\n",
       "    </tr>\n",
       "    <tr>\n",
       "      <th>2</th>\n",
       "      <td>AGE</td>\n",
       "      <td>False</td>\n",
       "    </tr>\n",
       "    <tr>\n",
       "      <th>3</th>\n",
       "      <td>PAY_Sept</td>\n",
       "      <td>True</td>\n",
       "    </tr>\n",
       "    <tr>\n",
       "      <th>4</th>\n",
       "      <td>PAY_Aug</td>\n",
       "      <td>True</td>\n",
       "    </tr>\n",
       "    <tr>\n",
       "      <th>5</th>\n",
       "      <td>PAY_Jul</td>\n",
       "      <td>True</td>\n",
       "    </tr>\n",
       "    <tr>\n",
       "      <th>6</th>\n",
       "      <td>PAY_June</td>\n",
       "      <td>True</td>\n",
       "    </tr>\n",
       "    <tr>\n",
       "      <th>7</th>\n",
       "      <td>PAY_May</td>\n",
       "      <td>True</td>\n",
       "    </tr>\n",
       "    <tr>\n",
       "      <th>8</th>\n",
       "      <td>PAY_Apr</td>\n",
       "      <td>True</td>\n",
       "    </tr>\n",
       "    <tr>\n",
       "      <th>9</th>\n",
       "      <td>BILL_AMT1</td>\n",
       "      <td>False</td>\n",
       "    </tr>\n",
       "    <tr>\n",
       "      <th>10</th>\n",
       "      <td>BILL_AMT2</td>\n",
       "      <td>False</td>\n",
       "    </tr>\n",
       "    <tr>\n",
       "      <th>11</th>\n",
       "      <td>BILL_AMT3</td>\n",
       "      <td>False</td>\n",
       "    </tr>\n",
       "    <tr>\n",
       "      <th>12</th>\n",
       "      <td>BILL_AMT4</td>\n",
       "      <td>False</td>\n",
       "    </tr>\n",
       "    <tr>\n",
       "      <th>13</th>\n",
       "      <td>BILL_AMT5</td>\n",
       "      <td>False</td>\n",
       "    </tr>\n",
       "    <tr>\n",
       "      <th>14</th>\n",
       "      <td>BILL_AMT6</td>\n",
       "      <td>False</td>\n",
       "    </tr>\n",
       "    <tr>\n",
       "      <th>15</th>\n",
       "      <td>PAY_AMT1</td>\n",
       "      <td>False</td>\n",
       "    </tr>\n",
       "    <tr>\n",
       "      <th>16</th>\n",
       "      <td>PAY_AMT2</td>\n",
       "      <td>False</td>\n",
       "    </tr>\n",
       "    <tr>\n",
       "      <th>17</th>\n",
       "      <td>PAY_AMT3</td>\n",
       "      <td>False</td>\n",
       "    </tr>\n",
       "    <tr>\n",
       "      <th>18</th>\n",
       "      <td>PAY_AMT4</td>\n",
       "      <td>False</td>\n",
       "    </tr>\n",
       "    <tr>\n",
       "      <th>19</th>\n",
       "      <td>PAY_AMT5</td>\n",
       "      <td>False</td>\n",
       "    </tr>\n",
       "    <tr>\n",
       "      <th>20</th>\n",
       "      <td>PAY_AMT6</td>\n",
       "      <td>False</td>\n",
       "    </tr>\n",
       "    <tr>\n",
       "      <th>21</th>\n",
       "      <td>EDUCATION_GradSch</td>\n",
       "      <td>True</td>\n",
       "    </tr>\n",
       "    <tr>\n",
       "      <th>22</th>\n",
       "      <td>EDUCATION_University</td>\n",
       "      <td>True</td>\n",
       "    </tr>\n",
       "    <tr>\n",
       "      <th>23</th>\n",
       "      <td>EDUCATION_HighSch</td>\n",
       "      <td>True</td>\n",
       "    </tr>\n",
       "    <tr>\n",
       "      <th>24</th>\n",
       "      <td>MARRIAGE_Married</td>\n",
       "      <td>True</td>\n",
       "    </tr>\n",
       "    <tr>\n",
       "      <th>25</th>\n",
       "      <td>MARRIAGE_Single</td>\n",
       "      <td>False</td>\n",
       "    </tr>\n",
       "  </tbody>\n",
       "</table>\n",
       "</div>"
      ],
      "text/plain": [
       "                 Feature  Important_chi\n",
       "0              LIMIT_BAL           True\n",
       "1                    SEX           True\n",
       "2                    AGE          False\n",
       "3               PAY_Sept           True\n",
       "4                PAY_Aug           True\n",
       "5                PAY_Jul           True\n",
       "6               PAY_June           True\n",
       "7                PAY_May           True\n",
       "8                PAY_Apr           True\n",
       "9              BILL_AMT1          False\n",
       "10             BILL_AMT2          False\n",
       "11             BILL_AMT3          False\n",
       "12             BILL_AMT4          False\n",
       "13             BILL_AMT5          False\n",
       "14             BILL_AMT6          False\n",
       "15              PAY_AMT1          False\n",
       "16              PAY_AMT2          False\n",
       "17              PAY_AMT3          False\n",
       "18              PAY_AMT4          False\n",
       "19              PAY_AMT5          False\n",
       "20              PAY_AMT6          False\n",
       "21     EDUCATION_GradSch           True\n",
       "22  EDUCATION_University           True\n",
       "23     EDUCATION_HighSch           True\n",
       "24      MARRIAGE_Married           True\n",
       "25       MARRIAGE_Single          False"
      ]
     },
     "execution_count": 496,
     "metadata": {},
     "output_type": "execute_result"
    }
   ],
   "source": [
    "## Chi2 Test for Feature Selection\n",
    "selector = SelectKBest(chi2, k=12) ## what value of k should we use? \n",
    "X_train_chi2 = selector.fit_transform(X, y)\n",
    "chi2_selected = selector.get_support()\n",
    "importance_df_chi = pd.DataFrame()\n",
    "importance_df_chi['Feature'] = X.columns \n",
    "importance_df_chi['Important_chi'] = chi2_selected\n",
    "importance_df_chi"
   ]
  },
  {
   "cell_type": "code",
   "execution_count": 497,
   "id": "3785dce9",
   "metadata": {},
   "outputs": [],
   "source": [
    "## Wrapper Method Feature Selection - Forward Selection\n",
    "knn = KNeighborsClassifier(n_neighbors=3)\n",
    "sfs = SequentialFeatureSelector(knn, n_features_to_select=12)\n",
    "sfs.fit(X, y)\n",
    "forward_selected = sfs.get_support()"
   ]
  },
  {
   "cell_type": "code",
   "execution_count": 498,
   "id": "b3d0d3a5",
   "metadata": {},
   "outputs": [],
   "source": [
    "## Embedded Method using Random Forest Importance\n",
    "rfc = RandomForestClassifier()\n",
    "rfc.fit(X,y)\n",
    "importance  = rfc.feature_importances_\n",
    "importance_df = pd.DataFrame()\n",
    "importance_df['Feature'] = X.columns\n",
    "importance_df['RF Importance'] = importance"
   ]
  },
  {
   "cell_type": "code",
   "execution_count": 499,
   "id": "45c89f25",
   "metadata": {},
   "outputs": [
    {
     "data": {
      "text/html": [
       "<div>\n",
       "<style scoped>\n",
       "    .dataframe tbody tr th:only-of-type {\n",
       "        vertical-align: middle;\n",
       "    }\n",
       "\n",
       "    .dataframe tbody tr th {\n",
       "        vertical-align: top;\n",
       "    }\n",
       "\n",
       "    .dataframe thead th {\n",
       "        text-align: right;\n",
       "    }\n",
       "</style>\n",
       "<table border=\"1\" class=\"dataframe\">\n",
       "  <thead>\n",
       "    <tr style=\"text-align: right;\">\n",
       "      <th></th>\n",
       "      <th>Feature</th>\n",
       "      <th>RF Importance</th>\n",
       "      <th>Forward</th>\n",
       "      <th>Important_chi</th>\n",
       "    </tr>\n",
       "  </thead>\n",
       "  <tbody>\n",
       "    <tr>\n",
       "      <th>2</th>\n",
       "      <td>AGE</td>\n",
       "      <td>0.069176</td>\n",
       "      <td>False</td>\n",
       "      <td>False</td>\n",
       "    </tr>\n",
       "    <tr>\n",
       "      <th>9</th>\n",
       "      <td>BILL_AMT1</td>\n",
       "      <td>0.068413</td>\n",
       "      <td>False</td>\n",
       "      <td>False</td>\n",
       "    </tr>\n",
       "    <tr>\n",
       "      <th>3</th>\n",
       "      <td>PAY_Sept</td>\n",
       "      <td>0.067447</td>\n",
       "      <td>True</td>\n",
       "      <td>True</td>\n",
       "    </tr>\n",
       "    <tr>\n",
       "      <th>0</th>\n",
       "      <td>LIMIT_BAL</td>\n",
       "      <td>0.061703</td>\n",
       "      <td>True</td>\n",
       "      <td>True</td>\n",
       "    </tr>\n",
       "    <tr>\n",
       "      <th>10</th>\n",
       "      <td>BILL_AMT2</td>\n",
       "      <td>0.060827</td>\n",
       "      <td>True</td>\n",
       "      <td>False</td>\n",
       "    </tr>\n",
       "    <tr>\n",
       "      <th>11</th>\n",
       "      <td>BILL_AMT3</td>\n",
       "      <td>0.056353</td>\n",
       "      <td>False</td>\n",
       "      <td>False</td>\n",
       "    </tr>\n",
       "    <tr>\n",
       "      <th>12</th>\n",
       "      <td>BILL_AMT4</td>\n",
       "      <td>0.055008</td>\n",
       "      <td>False</td>\n",
       "      <td>False</td>\n",
       "    </tr>\n",
       "    <tr>\n",
       "      <th>15</th>\n",
       "      <td>PAY_AMT1</td>\n",
       "      <td>0.054859</td>\n",
       "      <td>False</td>\n",
       "      <td>False</td>\n",
       "    </tr>\n",
       "    <tr>\n",
       "      <th>13</th>\n",
       "      <td>BILL_AMT5</td>\n",
       "      <td>0.053140</td>\n",
       "      <td>False</td>\n",
       "      <td>False</td>\n",
       "    </tr>\n",
       "    <tr>\n",
       "      <th>14</th>\n",
       "      <td>BILL_AMT6</td>\n",
       "      <td>0.052789</td>\n",
       "      <td>False</td>\n",
       "      <td>False</td>\n",
       "    </tr>\n",
       "    <tr>\n",
       "      <th>16</th>\n",
       "      <td>PAY_AMT2</td>\n",
       "      <td>0.049956</td>\n",
       "      <td>False</td>\n",
       "      <td>False</td>\n",
       "    </tr>\n",
       "    <tr>\n",
       "      <th>17</th>\n",
       "      <td>PAY_AMT3</td>\n",
       "      <td>0.048581</td>\n",
       "      <td>False</td>\n",
       "      <td>False</td>\n",
       "    </tr>\n",
       "    <tr>\n",
       "      <th>20</th>\n",
       "      <td>PAY_AMT6</td>\n",
       "      <td>0.047783</td>\n",
       "      <td>False</td>\n",
       "      <td>False</td>\n",
       "    </tr>\n",
       "    <tr>\n",
       "      <th>19</th>\n",
       "      <td>PAY_AMT5</td>\n",
       "      <td>0.046135</td>\n",
       "      <td>False</td>\n",
       "      <td>False</td>\n",
       "    </tr>\n",
       "    <tr>\n",
       "      <th>18</th>\n",
       "      <td>PAY_AMT4</td>\n",
       "      <td>0.045752</td>\n",
       "      <td>False</td>\n",
       "      <td>False</td>\n",
       "    </tr>\n",
       "    <tr>\n",
       "      <th>4</th>\n",
       "      <td>PAY_Aug</td>\n",
       "      <td>0.034885</td>\n",
       "      <td>True</td>\n",
       "      <td>True</td>\n",
       "    </tr>\n",
       "    <tr>\n",
       "      <th>5</th>\n",
       "      <td>PAY_Jul</td>\n",
       "      <td>0.023818</td>\n",
       "      <td>True</td>\n",
       "      <td>True</td>\n",
       "    </tr>\n",
       "    <tr>\n",
       "      <th>6</th>\n",
       "      <td>PAY_June</td>\n",
       "      <td>0.017809</td>\n",
       "      <td>True</td>\n",
       "      <td>True</td>\n",
       "    </tr>\n",
       "    <tr>\n",
       "      <th>7</th>\n",
       "      <td>PAY_May</td>\n",
       "      <td>0.015120</td>\n",
       "      <td>True</td>\n",
       "      <td>True</td>\n",
       "    </tr>\n",
       "    <tr>\n",
       "      <th>1</th>\n",
       "      <td>SEX</td>\n",
       "      <td>0.012745</td>\n",
       "      <td>True</td>\n",
       "      <td>True</td>\n",
       "    </tr>\n",
       "    <tr>\n",
       "      <th>8</th>\n",
       "      <td>PAY_Apr</td>\n",
       "      <td>0.012519</td>\n",
       "      <td>True</td>\n",
       "      <td>True</td>\n",
       "    </tr>\n",
       "    <tr>\n",
       "      <th>22</th>\n",
       "      <td>EDUCATION_University</td>\n",
       "      <td>0.009880</td>\n",
       "      <td>False</td>\n",
       "      <td>True</td>\n",
       "    </tr>\n",
       "    <tr>\n",
       "      <th>24</th>\n",
       "      <td>MARRIAGE_Married</td>\n",
       "      <td>0.009188</td>\n",
       "      <td>True</td>\n",
       "      <td>True</td>\n",
       "    </tr>\n",
       "    <tr>\n",
       "      <th>25</th>\n",
       "      <td>MARRIAGE_Single</td>\n",
       "      <td>0.009065</td>\n",
       "      <td>True</td>\n",
       "      <td>False</td>\n",
       "    </tr>\n",
       "    <tr>\n",
       "      <th>21</th>\n",
       "      <td>EDUCATION_GradSch</td>\n",
       "      <td>0.009036</td>\n",
       "      <td>True</td>\n",
       "      <td>True</td>\n",
       "    </tr>\n",
       "    <tr>\n",
       "      <th>23</th>\n",
       "      <td>EDUCATION_HighSch</td>\n",
       "      <td>0.008012</td>\n",
       "      <td>False</td>\n",
       "      <td>True</td>\n",
       "    </tr>\n",
       "  </tbody>\n",
       "</table>\n",
       "</div>"
      ],
      "text/plain": [
       "                 Feature  RF Importance  Forward  Important_chi\n",
       "2                    AGE       0.069176    False          False\n",
       "9              BILL_AMT1       0.068413    False          False\n",
       "3               PAY_Sept       0.067447     True           True\n",
       "0              LIMIT_BAL       0.061703     True           True\n",
       "10             BILL_AMT2       0.060827     True          False\n",
       "11             BILL_AMT3       0.056353    False          False\n",
       "12             BILL_AMT4       0.055008    False          False\n",
       "15              PAY_AMT1       0.054859    False          False\n",
       "13             BILL_AMT5       0.053140    False          False\n",
       "14             BILL_AMT6       0.052789    False          False\n",
       "16              PAY_AMT2       0.049956    False          False\n",
       "17              PAY_AMT3       0.048581    False          False\n",
       "20              PAY_AMT6       0.047783    False          False\n",
       "19              PAY_AMT5       0.046135    False          False\n",
       "18              PAY_AMT4       0.045752    False          False\n",
       "4                PAY_Aug       0.034885     True           True\n",
       "5                PAY_Jul       0.023818     True           True\n",
       "6               PAY_June       0.017809     True           True\n",
       "7                PAY_May       0.015120     True           True\n",
       "1                    SEX       0.012745     True           True\n",
       "8                PAY_Apr       0.012519     True           True\n",
       "22  EDUCATION_University       0.009880    False           True\n",
       "24      MARRIAGE_Married       0.009188     True           True\n",
       "25       MARRIAGE_Single       0.009065     True          False\n",
       "21     EDUCATION_GradSch       0.009036     True           True\n",
       "23     EDUCATION_HighSch       0.008012    False           True"
      ]
     },
     "execution_count": 499,
     "metadata": {},
     "output_type": "execute_result"
    }
   ],
   "source": [
    "## Combine to 1 df with all the importance\n",
    "importance_df['Forward'] = forward_selected\n",
    "importance_df['Important_chi'] = selector.get_support()\n",
    "importance_df.sort_values('RF Importance', ascending = False, inplace=True)\n",
    "importance_df"
   ]
  },
  {
   "cell_type": "code",
   "execution_count": 502,
   "id": "c05c19c1",
   "metadata": {},
   "outputs": [],
   "source": [
    "## Storing the features we have selected \n",
    "\n",
    "features_selected = [\n",
    "'PAY_Sept',\n",
    "'AGE',\n",
    "'LIMIT_BAL',\n",
    "'PAY_Aug',\n",
    "'PAY_Jul',\n",
    "'PAY_June',\n",
    "'PAY_May',\n",
    "'MARRIAGE_Married',\n",
    "'PAY_Apr',\n",
    "'EDUCATION_University',\n",
    "'EDUCATION_GradSch',\n",
    "'EDUCATION_HighSch'\n",
    "]\n",
    "## Bill AMT 2 add\n",
    "## Education_highsch, university remove, age remove\n",
    "\n",
    "X_features_selected = X[features_selected]"
   ]
  },
  {
   "cell_type": "markdown",
   "id": "f8e68d6c",
   "metadata": {},
   "source": [
    "Based on the dataframe above, we will select the following features: \n",
    "\n",
    "- PAY_Sept\n",
    "- PAY_Aug\n",
    "- PAY_Jul\n",
    "- PAY_June\n",
    "- PAY_Apr\n",
    "- PAY_Mar\n",
    "- MARRIAGE_Married\n",
    "- SEX\n",
    "- LIMIT_BAL\n",
    "- EDUCATION_University\n",
    "- EDUCATION_GradSch\n",
    "- EDUCATION_HighSch\n",
    "\n",
    "We first look at the boolean values of Chi-Squared and the forward wrrapper feature selection, then we make use of RF Importance as a tie-breaker. As the RF Importance is sorted in descending order, the attributes at the top half of the dataframe (importance_df) will be comparatively more important that those at the bottom half. If the boolean values of the Chi-Squared and dorward wrapper feature selection are both true, then we will select the feature. If one of the boolean values are false, we then look at the RF Importance value. If the attribute is at the top half of the dataframe, then we select that attribute, if not we will not select it."
   ]
  },
  {
   "cell_type": "markdown",
   "id": "fe4fb5e5",
   "metadata": {},
   "source": [
    "## Model Selection"
   ]
  },
  {
   "cell_type": "code",
   "execution_count": 503,
   "id": "cff3c273",
   "metadata": {},
   "outputs": [],
   "source": [
    "## Do our train-test split\n",
    "X_train, X_test, y_train, y_test = train_test_split(X_features_selected, y, test_size=0.25, random_state=1234)"
   ]
  },
  {
   "cell_type": "code",
   "execution_count": 504,
   "id": "011e4fdc",
   "metadata": {},
   "outputs": [],
   "source": [
    "# create the training df by remerging X_train and y_train\n",
    "df_train = X_train.join(y_train)\n",
    "df_train.sample(10)\n",
    "\n",
    "# Separate majority and minority classes\n",
    "df_majority = df_train[df_train.Defaulter==0]\n",
    "df_minority = df_train[df_train.Defaulter==1]"
   ]
  },
  {
   "cell_type": "code",
   "execution_count": 516,
   "id": "0c314bec",
   "metadata": {},
   "outputs": [
    {
     "name": "stdout",
     "output_type": "stream",
     "text": [
      "22500\n",
      "35128\n",
      "17564.0\n"
     ]
    }
   ],
   "source": [
    "\n",
    "sm = SMOTE(random_state=1234, sampling_strategy= 1.0)\n",
    "X_SMOTE, y_SMOTE = sm.fit_resample(X_train, y_train)\n",
    "print(len(y_train))\n",
    "print(len(y_SMOTE))\n",
    "print(y_SMOTE.sum())"
   ]
  },
  {
   "cell_type": "markdown",
   "id": "99f20328",
   "metadata": {},
   "source": [
    "### Logistic Regression"
   ]
  },
  {
   "cell_type": "markdown",
   "id": "7637030e",
   "metadata": {},
   "source": [
    "Naive Model"
   ]
  },
  {
   "cell_type": "code",
   "execution_count": 506,
   "id": "923d0df6",
   "metadata": {},
   "outputs": [
    {
     "name": "stdout",
     "output_type": "stream",
     "text": [
      "Accuracy: 0.7732\n"
     ]
    },
    {
     "name": "stderr",
     "output_type": "stream",
     "text": [
      "C:\\Users\\user\\AppData\\Local\\Packages\\PythonSoftwareFoundation.Python.3.10_qbz5n2kfra8p0\\LocalCache\\local-packages\\Python310\\site-packages\\sklearn\\linear_model\\_logistic.py:444: ConvergenceWarning: lbfgs failed to converge (status=1):\n",
      "STOP: TOTAL NO. of ITERATIONS REACHED LIMIT.\n",
      "\n",
      "Increase the number of iterations (max_iter) or scale the data as shown in:\n",
      "    https://scikit-learn.org/stable/modules/preprocessing.html\n",
      "Please also refer to the documentation for alternative solver options:\n",
      "    https://scikit-learn.org/stable/modules/linear_model.html#logistic-regression\n",
      "  n_iter_i = _check_optimize_result(\n"
     ]
    }
   ],
   "source": [
    "LR_imp = LogisticRegression(C=3.73, random_state=1234)\n",
    "LR_imp.fit(X_train_naive, y_train_naive)\n",
    "y_pred = LR_imp.predict(X_test_naive)\n",
    "print('Accuracy:', accuracy_score(y_pred, y_test_naive))"
   ]
  },
  {
   "cell_type": "code",
   "execution_count": 507,
   "id": "bad51298",
   "metadata": {},
   "outputs": [
    {
     "name": "stdout",
     "output_type": "stream",
     "text": [
      "              precision    recall  f1-score   support\n",
      "\n",
      "         0.0       0.77      1.00      0.87      5800\n",
      "         1.0       0.00      0.00      0.00      1700\n",
      "\n",
      "    accuracy                           0.77      7500\n",
      "   macro avg       0.39      0.50      0.44      7500\n",
      "weighted avg       0.60      0.77      0.67      7500\n",
      "\n"
     ]
    }
   ],
   "source": [
    "print(classification_report(y_test, y_pred))"
   ]
  },
  {
   "cell_type": "code",
   "execution_count": 511,
   "id": "61e53936",
   "metadata": {},
   "outputs": [
    {
     "data": {
      "text/plain": [
       "Text(0.5, 1.0, 'Confusion Matrix - Naive Logistic Regression Model')"
      ]
     },
     "execution_count": 511,
     "metadata": {},
     "output_type": "execute_result"
    },
    {
     "data": {
      "image/png": "[encoded data removed]",
      "text/plain": [
       "<Figure size 288x216 with 2 Axes>"
      ]
     },
     "metadata": {
      "needs_background": "light"
     },
     "output_type": "display_data"
    }
   ],
   "source": [
    "plt.figure(figsize=(4,3))\n",
    "ConfMatrix = confusion_matrix(y_test_naive, y_pred)\n",
    "sns.heatmap(ConfMatrix,annot=True, cmap=\"Blues\", fmt=\"d\", \n",
    "            xticklabels = ['Non-default', 'Default'], \n",
    "            yticklabels = ['Non-default', 'Default'])\n",
    "plt.ylabel('True label')\n",
    "plt.xlabel('Predicted label')\n",
    "plt.title(\"Confusion Matrix - Naive Logistic Regression Model\")"
   ]
  },
  {
   "cell_type": "code",
   "execution_count": 521,
   "id": "ed83272d",
   "metadata": {},
   "outputs": [
    {
     "name": "stdout",
     "output_type": "stream",
     "text": [
      "Accuracy: 0.7742666666666667\n",
      "              precision    recall  f1-score   support\n",
      "\n",
      "         0.0       0.87      0.83      0.85      5800\n",
      "         1.0       0.50      0.59      0.54      1700\n",
      "\n",
      "    accuracy                           0.77      7500\n",
      "   macro avg       0.69      0.71      0.70      7500\n",
      "weighted avg       0.79      0.77      0.78      7500\n",
      "\n"
     ]
    },
    {
     "data": {
      "text/plain": [
       "array([[4811,  989],\n",
       "       [ 704,  996]], dtype=int64)"
      ]
     },
     "execution_count": 521,
     "metadata": {},
     "output_type": "execute_result"
    }
   ],
   "source": [
    "## testing with SMOTE works \n",
    "\n",
    "LR_imp = LogisticRegression(C=3.73, random_state=1234)\n",
    "LR_imp.fit(X_SMOTE, y_SMOTE)\n",
    "y_pred = LR_imp.predict(X_test)\n",
    "print('Accuracy:', accuracy_score(y_pred, y_test))\n",
    "f1_score(y_pred, y_test)\n",
    "print(classification_report(y_test, y_pred))\n",
    "confusion_matrix(y_test,y_pred)"
   ]
  },
  {
   "cell_type": "markdown",
   "id": "a64b7cb1",
   "metadata": {},
   "source": [
    "Tuned Model"
   ]
  },
  {
   "cell_type": "code",
   "execution_count": 509,
   "id": "8af00bfb",
   "metadata": {},
   "outputs": [
    {
     "ename": "KeyboardInterrupt",
     "evalue": "",
     "output_type": "error",
     "traceback": [
      "\u001b[1;31m---------------------------------------------------------------------------\u001b[0m",
      "\u001b[1;31mKeyboardInterrupt\u001b[0m                         Traceback (most recent call last)",
      "\u001b[1;32mc:\\Users\\user\\OneDrive\\Y2S1\\BT2103\\Group Project\\cardBT2103\\BT2103 Project.ipynb Cell 78\u001b[0m in \u001b[0;36m<cell line: 8>\u001b[1;34m()\u001b[0m\n\u001b[0;32m      <a href='vscode-notebook-cell:/c%3A/Users/user/OneDrive/Y2S1/BT2103/Group%20Project/cardBT2103/BT2103%20Project.ipynb#Y465sZmlsZQ%3D%3D?line=5'>6</a>\u001b[0m cv \u001b[39m=\u001b[39m RepeatedStratifiedKFold(n_splits\u001b[39m=\u001b[39m\u001b[39m10\u001b[39m, n_repeats\u001b[39m=\u001b[39m\u001b[39m3\u001b[39m, random_state\u001b[39m=\u001b[39m\u001b[39m1\u001b[39m)\n\u001b[0;32m      <a href='vscode-notebook-cell:/c%3A/Users/user/OneDrive/Y2S1/BT2103/Group%20Project/cardBT2103/BT2103%20Project.ipynb#Y465sZmlsZQ%3D%3D?line=6'>7</a>\u001b[0m grid_search \u001b[39m=\u001b[39m GridSearchCV(estimator \u001b[39m=\u001b[39m LogisticRegression(), param_grid \u001b[39m=\u001b[39m params, n_jobs \u001b[39m=\u001b[39m \u001b[39m-\u001b[39m\u001b[39m1\u001b[39m, cv \u001b[39m=\u001b[39m cv, scoring \u001b[39m=\u001b[39m \u001b[39m'\u001b[39m\u001b[39mf1\u001b[39m\u001b[39m'\u001b[39m, error_score \u001b[39m=\u001b[39m \u001b[39m0\u001b[39m)\n\u001b[1;32m----> <a href='vscode-notebook-cell:/c%3A/Users/user/OneDrive/Y2S1/BT2103/Group%20Project/cardBT2103/BT2103%20Project.ipynb#Y465sZmlsZQ%3D%3D?line=7'>8</a>\u001b[0m grid_result \u001b[39m=\u001b[39m grid_search\u001b[39m.\u001b[39;49mfit(X_train, y_train)\n\u001b[0;32m      <a href='vscode-notebook-cell:/c%3A/Users/user/OneDrive/Y2S1/BT2103/Group%20Project/cardBT2103/BT2103%20Project.ipynb#Y465sZmlsZQ%3D%3D?line=8'>9</a>\u001b[0m \u001b[39mprint\u001b[39m(grid_result\u001b[39m.\u001b[39mbest_params_)\n",
      "File \u001b[1;32m~\\AppData\\Local\\Packages\\PythonSoftwareFoundation.Python.3.10_qbz5n2kfra8p0\\LocalCache\\local-packages\\Python310\\site-packages\\sklearn\\model_selection\\_search.py:875\u001b[0m, in \u001b[0;36mBaseSearchCV.fit\u001b[1;34m(self, X, y, groups, **fit_params)\u001b[0m\n\u001b[0;32m    869\u001b[0m     results \u001b[39m=\u001b[39m \u001b[39mself\u001b[39m\u001b[39m.\u001b[39m_format_results(\n\u001b[0;32m    870\u001b[0m         all_candidate_params, n_splits, all_out, all_more_results\n\u001b[0;32m    871\u001b[0m     )\n\u001b[0;32m    873\u001b[0m     \u001b[39mreturn\u001b[39;00m results\n\u001b[1;32m--> 875\u001b[0m \u001b[39mself\u001b[39;49m\u001b[39m.\u001b[39;49m_run_search(evaluate_candidates)\n\u001b[0;32m    877\u001b[0m \u001b[39m# multimetric is determined here because in the case of a callable\u001b[39;00m\n\u001b[0;32m    878\u001b[0m \u001b[39m# self.scoring the return type is only known after calling\u001b[39;00m\n\u001b[0;32m    879\u001b[0m first_test_score \u001b[39m=\u001b[39m all_out[\u001b[39m0\u001b[39m][\u001b[39m\"\u001b[39m\u001b[39mtest_scores\u001b[39m\u001b[39m\"\u001b[39m]\n",
      "File \u001b[1;32m~\\AppData\\Local\\Packages\\PythonSoftwareFoundation.Python.3.10_qbz5n2kfra8p0\\LocalCache\\local-packages\\Python310\\site-packages\\sklearn\\model_selection\\_search.py:1379\u001b[0m, in \u001b[0;36mGridSearchCV._run_search\u001b[1;34m(self, evaluate_candidates)\u001b[0m\n\u001b[0;32m   1377\u001b[0m \u001b[39mdef\u001b[39;00m \u001b[39m_run_search\u001b[39m(\u001b[39mself\u001b[39m, evaluate_candidates):\n\u001b[0;32m   1378\u001b[0m     \u001b[39m\"\"\"Search all candidates in param_grid\"\"\"\u001b[39;00m\n\u001b[1;32m-> 1379\u001b[0m     evaluate_candidates(ParameterGrid(\u001b[39mself\u001b[39;49m\u001b[39m.\u001b[39;49mparam_grid))\n",
      "File \u001b[1;32m~\\AppData\\Local\\Packages\\PythonSoftwareFoundation.Python.3.10_qbz5n2kfra8p0\\LocalCache\\local-packages\\Python310\\site-packages\\sklearn\\model_selection\\_search.py:822\u001b[0m, in \u001b[0;36mBaseSearchCV.fit.<locals>.evaluate_candidates\u001b[1;34m(candidate_params, cv, more_results)\u001b[0m\n\u001b[0;32m    814\u001b[0m \u001b[39mif\u001b[39;00m \u001b[39mself\u001b[39m\u001b[39m.\u001b[39mverbose \u001b[39m>\u001b[39m \u001b[39m0\u001b[39m:\n\u001b[0;32m    815\u001b[0m     \u001b[39mprint\u001b[39m(\n\u001b[0;32m    816\u001b[0m         \u001b[39m\"\u001b[39m\u001b[39mFitting \u001b[39m\u001b[39m{0}\u001b[39;00m\u001b[39m folds for each of \u001b[39m\u001b[39m{1}\u001b[39;00m\u001b[39m candidates,\u001b[39m\u001b[39m\"\u001b[39m\n\u001b[0;32m    817\u001b[0m         \u001b[39m\"\u001b[39m\u001b[39m totalling \u001b[39m\u001b[39m{2}\u001b[39;00m\u001b[39m fits\u001b[39m\u001b[39m\"\u001b[39m\u001b[39m.\u001b[39mformat(\n\u001b[0;32m    818\u001b[0m             n_splits, n_candidates, n_candidates \u001b[39m*\u001b[39m n_splits\n\u001b[0;32m    819\u001b[0m         )\n\u001b[0;32m    820\u001b[0m     )\n\u001b[1;32m--> 822\u001b[0m out \u001b[39m=\u001b[39m parallel(\n\u001b[0;32m    823\u001b[0m     delayed(_fit_and_score)(\n\u001b[0;32m    824\u001b[0m         clone(base_estimator),\n\u001b[0;32m    825\u001b[0m         X,\n\u001b[0;32m    826\u001b[0m         y,\n\u001b[0;32m    827\u001b[0m         train\u001b[39m=\u001b[39;49mtrain,\n\u001b[0;32m    828\u001b[0m         test\u001b[39m=\u001b[39;49mtest,\n\u001b[0;32m    829\u001b[0m         parameters\u001b[39m=\u001b[39;49mparameters,\n\u001b[0;32m    830\u001b[0m         split_progress\u001b[39m=\u001b[39;49m(split_idx, n_splits),\n\u001b[0;32m    831\u001b[0m         candidate_progress\u001b[39m=\u001b[39;49m(cand_idx, n_candidates),\n\u001b[0;32m    832\u001b[0m         \u001b[39m*\u001b[39;49m\u001b[39m*\u001b[39;49mfit_and_score_kwargs,\n\u001b[0;32m    833\u001b[0m     )\n\u001b[0;32m    834\u001b[0m     \u001b[39mfor\u001b[39;49;00m (cand_idx, parameters), (split_idx, (train, test)) \u001b[39min\u001b[39;49;00m product(\n\u001b[0;32m    835\u001b[0m         \u001b[39menumerate\u001b[39;49m(candidate_params), \u001b[39menumerate\u001b[39;49m(cv\u001b[39m.\u001b[39;49msplit(X, y, groups))\n\u001b[0;32m    836\u001b[0m     )\n\u001b[0;32m    837\u001b[0m )\n\u001b[0;32m    839\u001b[0m \u001b[39mif\u001b[39;00m \u001b[39mlen\u001b[39m(out) \u001b[39m<\u001b[39m \u001b[39m1\u001b[39m:\n\u001b[0;32m    840\u001b[0m     \u001b[39mraise\u001b[39;00m \u001b[39mValueError\u001b[39;00m(\n\u001b[0;32m    841\u001b[0m         \u001b[39m\"\u001b[39m\u001b[39mNo fits were performed. \u001b[39m\u001b[39m\"\u001b[39m\n\u001b[0;32m    842\u001b[0m         \u001b[39m\"\u001b[39m\u001b[39mWas the CV iterator empty? \u001b[39m\u001b[39m\"\u001b[39m\n\u001b[0;32m    843\u001b[0m         \u001b[39m\"\u001b[39m\u001b[39mWere there no candidates?\u001b[39m\u001b[39m\"\u001b[39m\n\u001b[0;32m    844\u001b[0m     )\n",
      "File \u001b[1;32m~\\AppData\\Local\\Packages\\PythonSoftwareFoundation.Python.3.10_qbz5n2kfra8p0\\LocalCache\\local-packages\\Python310\\site-packages\\joblib\\parallel.py:1056\u001b[0m, in \u001b[0;36mParallel.__call__\u001b[1;34m(self, iterable)\u001b[0m\n\u001b[0;32m   1053\u001b[0m     \u001b[39mself\u001b[39m\u001b[39m.\u001b[39m_iterating \u001b[39m=\u001b[39m \u001b[39mFalse\u001b[39;00m\n\u001b[0;32m   1055\u001b[0m \u001b[39mwith\u001b[39;00m \u001b[39mself\u001b[39m\u001b[39m.\u001b[39m_backend\u001b[39m.\u001b[39mretrieval_context():\n\u001b[1;32m-> 1056\u001b[0m     \u001b[39mself\u001b[39;49m\u001b[39m.\u001b[39;49mretrieve()\n\u001b[0;32m   1057\u001b[0m \u001b[39m# Make sure that we get a last message telling us we are done\u001b[39;00m\n\u001b[0;32m   1058\u001b[0m elapsed_time \u001b[39m=\u001b[39m time\u001b[39m.\u001b[39mtime() \u001b[39m-\u001b[39m \u001b[39mself\u001b[39m\u001b[39m.\u001b[39m_start_time\n",
      "File \u001b[1;32m~\\AppData\\Local\\Packages\\PythonSoftwareFoundation.Python.3.10_qbz5n2kfra8p0\\LocalCache\\local-packages\\Python310\\site-packages\\joblib\\parallel.py:935\u001b[0m, in \u001b[0;36mParallel.retrieve\u001b[1;34m(self)\u001b[0m\n\u001b[0;32m    933\u001b[0m \u001b[39mtry\u001b[39;00m:\n\u001b[0;32m    934\u001b[0m     \u001b[39mif\u001b[39;00m \u001b[39mgetattr\u001b[39m(\u001b[39mself\u001b[39m\u001b[39m.\u001b[39m_backend, \u001b[39m'\u001b[39m\u001b[39msupports_timeout\u001b[39m\u001b[39m'\u001b[39m, \u001b[39mFalse\u001b[39;00m):\n\u001b[1;32m--> 935\u001b[0m         \u001b[39mself\u001b[39m\u001b[39m.\u001b[39m_output\u001b[39m.\u001b[39mextend(job\u001b[39m.\u001b[39;49mget(timeout\u001b[39m=\u001b[39;49m\u001b[39mself\u001b[39;49m\u001b[39m.\u001b[39;49mtimeout))\n\u001b[0;32m    936\u001b[0m     \u001b[39melse\u001b[39;00m:\n\u001b[0;32m    937\u001b[0m         \u001b[39mself\u001b[39m\u001b[39m.\u001b[39m_output\u001b[39m.\u001b[39mextend(job\u001b[39m.\u001b[39mget())\n",
      "File \u001b[1;32m~\\AppData\\Local\\Packages\\PythonSoftwareFoundation.Python.3.10_qbz5n2kfra8p0\\LocalCache\\local-packages\\Python310\\site-packages\\joblib\\_parallel_backends.py:542\u001b[0m, in \u001b[0;36mLokyBackend.wrap_future_result\u001b[1;34m(future, timeout)\u001b[0m\n\u001b[0;32m    539\u001b[0m \u001b[39m\"\"\"Wrapper for Future.result to implement the same behaviour as\u001b[39;00m\n\u001b[0;32m    540\u001b[0m \u001b[39mAsyncResults.get from multiprocessing.\"\"\"\u001b[39;00m\n\u001b[0;32m    541\u001b[0m \u001b[39mtry\u001b[39;00m:\n\u001b[1;32m--> 542\u001b[0m     \u001b[39mreturn\u001b[39;00m future\u001b[39m.\u001b[39;49mresult(timeout\u001b[39m=\u001b[39;49mtimeout)\n\u001b[0;32m    543\u001b[0m \u001b[39mexcept\u001b[39;00m CfTimeoutError \u001b[39mas\u001b[39;00m e:\n\u001b[0;32m    544\u001b[0m     \u001b[39mraise\u001b[39;00m \u001b[39mTimeoutError\u001b[39;00m \u001b[39mfrom\u001b[39;00m \u001b[39me\u001b[39;00m\n",
      "File \u001b[1;32mC:\\Program Files\\WindowsApps\\PythonSoftwareFoundation.Python.3.10_3.10.2288.0_x64__qbz5n2kfra8p0\\lib\\concurrent\\futures\\_base.py:453\u001b[0m, in \u001b[0;36mFuture.result\u001b[1;34m(self, timeout)\u001b[0m\n\u001b[0;32m    450\u001b[0m \u001b[39melif\u001b[39;00m \u001b[39mself\u001b[39m\u001b[39m.\u001b[39m_state \u001b[39m==\u001b[39m FINISHED:\n\u001b[0;32m    451\u001b[0m     \u001b[39mreturn\u001b[39;00m \u001b[39mself\u001b[39m\u001b[39m.\u001b[39m__get_result()\n\u001b[1;32m--> 453\u001b[0m \u001b[39mself\u001b[39;49m\u001b[39m.\u001b[39;49m_condition\u001b[39m.\u001b[39;49mwait(timeout)\n\u001b[0;32m    455\u001b[0m \u001b[39mif\u001b[39;00m \u001b[39mself\u001b[39m\u001b[39m.\u001b[39m_state \u001b[39min\u001b[39;00m [CANCELLED, CANCELLED_AND_NOTIFIED]:\n\u001b[0;32m    456\u001b[0m     \u001b[39mraise\u001b[39;00m CancelledError()\n",
      "File \u001b[1;32mC:\\Program Files\\WindowsApps\\PythonSoftwareFoundation.Python.3.10_3.10.2288.0_x64__qbz5n2kfra8p0\\lib\\threading.py:320\u001b[0m, in \u001b[0;36mCondition.wait\u001b[1;34m(self, timeout)\u001b[0m\n\u001b[0;32m    318\u001b[0m \u001b[39mtry\u001b[39;00m:    \u001b[39m# restore state no matter what (e.g., KeyboardInterrupt)\u001b[39;00m\n\u001b[0;32m    319\u001b[0m     \u001b[39mif\u001b[39;00m timeout \u001b[39mis\u001b[39;00m \u001b[39mNone\u001b[39;00m:\n\u001b[1;32m--> 320\u001b[0m         waiter\u001b[39m.\u001b[39;49macquire()\n\u001b[0;32m    321\u001b[0m         gotit \u001b[39m=\u001b[39m \u001b[39mTrue\u001b[39;00m\n\u001b[0;32m    322\u001b[0m     \u001b[39melse\u001b[39;00m:\n",
      "\u001b[1;31mKeyboardInterrupt\u001b[0m: "
     ]
    }
   ],
   "source": [
    "# hyperparameter tuning for Logistic Regression\n",
    "params = {\n",
    "    \"solver\" : ['newton-cg', 'lbfgs', 'liblinear'],\n",
    "    \"penalty\" : ['l1','elasticnet','l2'],\n",
    "    \"C\" : [100, 10, 1.0, 0.1, 0.01]}\n",
    "cv = RepeatedStratifiedKFold(n_splits=10, n_repeats=3, random_state=1)\n",
    "grid_search = GridSearchCV(estimator = LogisticRegression(), param_grid = params, n_jobs = -1, cv = cv, scoring = 'f1', error_score = 0)\n",
    "grid_result = grid_search.fit(X_train, y_train)\n",
    "print(grid_result.best_params_)"
   ]
  },
  {
   "cell_type": "code",
   "execution_count": null,
   "id": "db298a82",
   "metadata": {},
   "outputs": [
    {
     "data": {
      "text/html": [
       "<style>#sk-container-id-4 {color: black;background-color: white;}#sk-container-id-4 pre{padding: 0;}#sk-container-id-4 div.sk-toggleable {background-color: white;}#sk-container-id-4 label.sk-toggleable__label {cursor: pointer;display: block;width: 100%;margin-bottom: 0;padding: 0.3em;box-sizing: border-box;text-align: center;}#sk-container-id-4 label.sk-toggleable__label-arrow:before {content: \"▸\";float: left;margin-right: 0.25em;color: #696969;}#sk-container-id-4 label.sk-toggleable__label-arrow:hover:before {color: black;}#sk-container-id-4 div.sk-estimator:hover label.sk-toggleable__label-arrow:before {color: black;}#sk-container-id-4 div.sk-toggleable__content {max-height: 0;max-width: 0;overflow: hidden;text-align: left;background-color: #f0f8ff;}#sk-container-id-4 div.sk-toggleable__content pre {margin: 0.2em;color: black;border-radius: 0.25em;background-color: #f0f8ff;}#sk-container-id-4 input.sk-toggleable__control:checked~div.sk-toggleable__content {max-height: 200px;max-width: 100%;overflow: auto;}#sk-container-id-4 input.sk-toggleable__control:checked~label.sk-toggleable__label-arrow:before {content: \"▾\";}#sk-container-id-4 div.sk-estimator input.sk-toggleable__control:checked~label.sk-toggleable__label {background-color: #d4ebff;}#sk-container-id-4 div.sk-label input.sk-toggleable__control:checked~label.sk-toggleable__label {background-color: #d4ebff;}#sk-container-id-4 input.sk-hidden--visually {border: 0;clip: rect(1px 1px 1px 1px);clip: rect(1px, 1px, 1px, 1px);height: 1px;margin: -1px;overflow: hidden;padding: 0;position: absolute;width: 1px;}#sk-container-id-4 div.sk-estimator {font-family: monospace;background-color: #f0f8ff;border: 1px dotted black;border-radius: 0.25em;box-sizing: border-box;margin-bottom: 0.5em;}#sk-container-id-4 div.sk-estimator:hover {background-color: #d4ebff;}#sk-container-id-4 div.sk-parallel-item::after {content: \"\";width: 100%;border-bottom: 1px solid gray;flex-grow: 1;}#sk-container-id-4 div.sk-label:hover label.sk-toggleable__label {background-color: #d4ebff;}#sk-container-id-4 div.sk-serial::before {content: \"\";position: absolute;border-left: 1px solid gray;box-sizing: border-box;top: 0;bottom: 0;left: 50%;z-index: 0;}#sk-container-id-4 div.sk-serial {display: flex;flex-direction: column;align-items: center;background-color: white;padding-right: 0.2em;padding-left: 0.2em;position: relative;}#sk-container-id-4 div.sk-item {position: relative;z-index: 1;}#sk-container-id-4 div.sk-parallel {display: flex;align-items: stretch;justify-content: center;background-color: white;position: relative;}#sk-container-id-4 div.sk-item::before, #sk-container-id-4 div.sk-parallel-item::before {content: \"\";position: absolute;border-left: 1px solid gray;box-sizing: border-box;top: 0;bottom: 0;left: 50%;z-index: -1;}#sk-container-id-4 div.sk-parallel-item {display: flex;flex-direction: column;z-index: 1;position: relative;background-color: white;}#sk-container-id-4 div.sk-parallel-item:first-child::after {align-self: flex-end;width: 50%;}#sk-container-id-4 div.sk-parallel-item:last-child::after {align-self: flex-start;width: 50%;}#sk-container-id-4 div.sk-parallel-item:only-child::after {width: 0;}#sk-container-id-4 div.sk-dashed-wrapped {border: 1px dashed gray;margin: 0 0.4em 0.5em 0.4em;box-sizing: border-box;padding-bottom: 0.4em;background-color: white;}#sk-container-id-4 div.sk-label label {font-family: monospace;font-weight: bold;display: inline-block;line-height: 1.2em;}#sk-container-id-4 div.sk-label-container {text-align: center;}#sk-container-id-4 div.sk-container {/* jupyter's `normalize.less` sets `[hidden] { display: none; }` but bootstrap.min.css set `[hidden] { display: none !important; }` so we also need the `!important` here to be able to override the default hidden behavior on the sphinx rendered scikit-learn.org. See: https://github.com/scikit-learn/scikit-learn/issues/21755 */display: inline-block !important;position: relative;}#sk-container-id-4 div.sk-text-repr-fallback {display: none;}</style><div id=\"sk-container-id-4\" class=\"sk-top-container\"><div class=\"sk-text-repr-fallback\"><pre>LogisticRegression(C=100, solver=&#x27;newton-cg&#x27;)</pre><b>In a Jupyter environment, please rerun this cell to show the HTML representation or trust the notebook. <br />On GitHub, the HTML representation is unable to render, please try loading this page with nbviewer.org.</b></div><div class=\"sk-container\" hidden><div class=\"sk-item\"><div class=\"sk-estimator sk-toggleable\"><input class=\"sk-toggleable__control sk-hidden--visually\" id=\"sk-estimator-id-4\" type=\"checkbox\" checked><label for=\"sk-estimator-id-4\" class=\"sk-toggleable__label sk-toggleable__label-arrow\">LogisticRegression</label><div class=\"sk-toggleable__content\"><pre>LogisticRegression(C=100, solver=&#x27;newton-cg&#x27;)</pre></div></div></div></div></div>"
      ],
      "text/plain": [
       "LogisticRegression(C=100, solver='newton-cg')"
      ]
     },
     "execution_count": 49,
     "metadata": {},
     "output_type": "execute_result"
    }
   ],
   "source": [
    "optimised_lr = LogisticRegression(C = 100, penalty = \"l2\", solver = \"newton-cg\")\n",
    "optimised_lr.fit(X_train, y_train)"
   ]
  },
  {
   "cell_type": "code",
   "execution_count": null,
   "id": "d704eb6b",
   "metadata": {},
   "outputs": [
    {
     "name": "stdout",
     "output_type": "stream",
     "text": [
      "Accuracy: 0.8153333333333334\n"
     ]
    }
   ],
   "source": [
    "y_pred_op_lr = optimised_lr.predict(X_test)\n",
    "print('Accuracy:', accuracy_score(y_pred_op_lr, y_test))\n",
    "\n",
    "# small increase from naive model"
   ]
  },
  {
   "cell_type": "code",
   "execution_count": null,
   "id": "2419f25b",
   "metadata": {},
   "outputs": [
    {
     "name": "stdout",
     "output_type": "stream",
     "text": [
      "              precision    recall  f1-score   support\n",
      "\n",
      "         0.0       0.83      0.96      0.89      5800\n",
      "         1.0       0.69      0.33      0.45      1700\n",
      "\n",
      "    accuracy                           0.82      7500\n",
      "   macro avg       0.76      0.65      0.67      7500\n",
      "weighted avg       0.80      0.82      0.79      7500\n",
      "\n",
      "0.45105033690051527\n"
     ]
    }
   ],
   "source": [
    "print(classification_report(y_test, y_pred_op_lr))"
   ]
  },
  {
   "cell_type": "code",
   "execution_count": null,
   "id": "bca294ee",
   "metadata": {},
   "outputs": [
    {
     "data": {
      "text/plain": [
       "Text(0.5, 1.0, 'Confusion Matrix - Optimised Logistic Regression')"
      ]
     },
     "execution_count": 40,
     "metadata": {},
     "output_type": "execute_result"
    },
    {
     "data": {
      "image/png": "[encoded data removed]",
      "text/plain": [
       "<Figure size 288x216 with 2 Axes>"
      ]
     },
     "metadata": {
      "needs_background": "light"
     },
     "output_type": "display_data"
    }
   ],
   "source": [
    "plt.figure(figsize=(4,3))\n",
    "ConfMatrix = confusion_matrix(y_test, y_pred_op_lr)\n",
    "sns.heatmap(ConfMatrix,annot=True, cmap=\"Blues\", fmt=\"d\", \n",
    "            xticklabels = ['Non-default', 'Default'], \n",
    "            yticklabels = ['Non-default', 'Default'])\n",
    "plt.ylabel('True label')\n",
    "plt.xlabel('Predicted label')\n",
    "plt.title(\"Confusion Matrix - Tuned Logistic Regression Model\")"
   ]
  },
  {
   "cell_type": "markdown",
   "id": "b3754741",
   "metadata": {},
   "source": [
    "### XGBoost"
   ]
  },
  {
   "cell_type": "markdown",
   "id": "f8516771",
   "metadata": {},
   "source": [
    "Naive Model"
   ]
  },
  {
   "cell_type": "code",
   "execution_count": null,
   "id": "40868397",
   "metadata": {},
   "outputs": [
    {
     "name": "stdout",
     "output_type": "stream",
     "text": [
      "Accuracy:  0.8108\n"
     ]
    }
   ],
   "source": [
    "model_xgb = XGBClassifier()\n",
    "model_xgb.fit(X_train, y_train)\n",
    "y_pred_xgb = model_xgb.predict(X_test)\n",
    "predictions = [round(value) for value in y_pred_xgb]\n",
    "accuracy = accuracy_score(y_test, predictions)\n",
    "print(\"Accuracy: \", accuracy)"
   ]
  },
  {
   "cell_type": "code",
   "execution_count": null,
   "id": "1e5ff53b",
   "metadata": {},
   "outputs": [
    {
     "name": "stdout",
     "output_type": "stream",
     "text": [
      "              precision    recall  f1-score   support\n",
      "\n",
      "         0.0       0.83      0.94      0.89      5800\n",
      "         1.0       0.65      0.35      0.46      1700\n",
      "\n",
      "    accuracy                           0.81      7500\n",
      "   macro avg       0.74      0.65      0.67      7500\n",
      "weighted avg       0.79      0.81      0.79      7500\n",
      "\n"
     ]
    }
   ],
   "source": [
    "print(classification_report(y_test, y_pred_xgb))"
   ]
  },
  {
   "cell_type": "code",
   "execution_count": null,
   "id": "3d2a0c07",
   "metadata": {},
   "outputs": [
    {
     "data": {
      "text/plain": [
       "Text(0.5, 1.0, 'Confusion Matrix - XGBoost Classifier')"
      ]
     },
     "execution_count": 54,
     "metadata": {},
     "output_type": "execute_result"
    },
    {
     "data": {
      "image/png": "[encoded data removed]",
      "text/plain": [
       "<Figure size 288x216 with 2 Axes>"
      ]
     },
     "metadata": {
      "needs_background": "light"
     },
     "output_type": "display_data"
    }
   ],
   "source": [
    "plt.figure(figsize=(4,3))\n",
    "ConfMatrix = confusion_matrix(y_test, y_pred_xgb)\n",
    "sns.heatmap(ConfMatrix,annot=True, cmap=\"Blues\", fmt=\"d\", \n",
    "            xticklabels = ['Non-default', 'Default'], \n",
    "            yticklabels = ['Non-default', 'Default'])\n",
    "plt.ylabel('True label')\n",
    "plt.xlabel('Predicted label')\n",
    "plt.title(\"Confusion Matrix - Naive XGBoost Classifier\")"
   ]
  },
  {
   "cell_type": "markdown",
   "id": "dcdb1125",
   "metadata": {},
   "source": [
    "Tuned Model"
   ]
  },
  {
   "cell_type": "code",
   "execution_count": null,
   "id": "89d29393",
   "metadata": {},
   "outputs": [
    {
     "name": "stderr",
     "output_type": "stream",
     "text": [
      "c:\\Users\\kaitl\\anaconda3\\envs\\cardenv\\lib\\site-packages\\xgboost\\sklearn.py:1224: UserWarning: The use of label encoder in XGBClassifier is deprecated and will be removed in a future release. To remove this warning, do the following: 1) Pass option use_label_encoder=False when constructing XGBClassifier object; and 2) Encode your labels (y) as integers starting with 0, i.e. 0, 1, 2, ..., [num_class - 1].\n",
      "  warnings.warn(label_encoder_deprecation_msg, UserWarning)\n",
      "c:\\Users\\kaitl\\anaconda3\\envs\\cardenv\\lib\\site-packages\\xgboost\\data.py:250: FutureWarning: pandas.Int64Index is deprecated and will be removed from pandas in a future version. Use pandas.Index with the appropriate dtype instead.\n",
      "  elif isinstance(data.columns, (pd.Int64Index, pd.RangeIndex)):\n"
     ]
    },
    {
     "name": "stdout",
     "output_type": "stream",
     "text": [
      "[01:16:03] WARNING: C:\\Windows\\Temp\\abs_557yfx631l\\croots\\recipe\\xgboost-split_1659548953302\\work\\src\\learner.cc:1115: Starting in XGBoost 1.3.0, the default evaluation metric used with the objective 'binary:logistic' was changed from 'error' to 'logloss'. Explicitly set eval_metric if you'd like to restore the old behavior.\n",
      "{'colsample_bytree': 0.4, 'gamma': 0.3, 'learning_rate': 0.1, 'max_depth': 3, 'min_child_weight': 1}\n"
     ]
    }
   ],
   "source": [
    "# hyperparameter tuning\n",
    "param_test = {\n",
    "    \"learning_rate\"    : [0.05, 0.10, 0.15, 0.20, 0.25, 0.30 ] ,\n",
    "    \"max_depth\"        : [ 3, 4, 5, 6, 8, 10, 12, 15],  \n",
    "    \"min_child_weight\" : [ 1, 3, 5, 7 ],\n",
    "    \"gamma\"            : [ 0.0, 0.1, 0.2 , 0.3, 0.4 ],\n",
    "    \"colsample_bytree\" : [ 0.3, 0.4, 0.5 , 0.7 ]}\n",
    "gsearch7 = GridSearchCV(estimator = XGBClassifier(), param_grid = param_test, scoring= 'recall', n_jobs=2, cv=5)\n",
    "gsearch7.fit(X_train, y_train)\n",
    "print(gsearch7.best_params_)"
   ]
  },
  {
   "cell_type": "code",
   "execution_count": null,
   "id": "7a63cc9b",
   "metadata": {},
   "outputs": [
    {
     "data": {
      "text/html": [
       "<style>#sk-container-id-5 {color: black;background-color: white;}#sk-container-id-5 pre{padding: 0;}#sk-container-id-5 div.sk-toggleable {background-color: white;}#sk-container-id-5 label.sk-toggleable__label {cursor: pointer;display: block;width: 100%;margin-bottom: 0;padding: 0.3em;box-sizing: border-box;text-align: center;}#sk-container-id-5 label.sk-toggleable__label-arrow:before {content: \"▸\";float: left;margin-right: 0.25em;color: #696969;}#sk-container-id-5 label.sk-toggleable__label-arrow:hover:before {color: black;}#sk-container-id-5 div.sk-estimator:hover label.sk-toggleable__label-arrow:before {color: black;}#sk-container-id-5 div.sk-toggleable__content {max-height: 0;max-width: 0;overflow: hidden;text-align: left;background-color: #f0f8ff;}#sk-container-id-5 div.sk-toggleable__content pre {margin: 0.2em;color: black;border-radius: 0.25em;background-color: #f0f8ff;}#sk-container-id-5 input.sk-toggleable__control:checked~div.sk-toggleable__content {max-height: 200px;max-width: 100%;overflow: auto;}#sk-container-id-5 input.sk-toggleable__control:checked~label.sk-toggleable__label-arrow:before {content: \"▾\";}#sk-container-id-5 div.sk-estimator input.sk-toggleable__control:checked~label.sk-toggleable__label {background-color: #d4ebff;}#sk-container-id-5 div.sk-label input.sk-toggleable__control:checked~label.sk-toggleable__label {background-color: #d4ebff;}#sk-container-id-5 input.sk-hidden--visually {border: 0;clip: rect(1px 1px 1px 1px);clip: rect(1px, 1px, 1px, 1px);height: 1px;margin: -1px;overflow: hidden;padding: 0;position: absolute;width: 1px;}#sk-container-id-5 div.sk-estimator {font-family: monospace;background-color: #f0f8ff;border: 1px dotted black;border-radius: 0.25em;box-sizing: border-box;margin-bottom: 0.5em;}#sk-container-id-5 div.sk-estimator:hover {background-color: #d4ebff;}#sk-container-id-5 div.sk-parallel-item::after {content: \"\";width: 100%;border-bottom: 1px solid gray;flex-grow: 1;}#sk-container-id-5 div.sk-label:hover label.sk-toggleable__label {background-color: #d4ebff;}#sk-container-id-5 div.sk-serial::before {content: \"\";position: absolute;border-left: 1px solid gray;box-sizing: border-box;top: 0;bottom: 0;left: 50%;z-index: 0;}#sk-container-id-5 div.sk-serial {display: flex;flex-direction: column;align-items: center;background-color: white;padding-right: 0.2em;padding-left: 0.2em;position: relative;}#sk-container-id-5 div.sk-item {position: relative;z-index: 1;}#sk-container-id-5 div.sk-parallel {display: flex;align-items: stretch;justify-content: center;background-color: white;position: relative;}#sk-container-id-5 div.sk-item::before, #sk-container-id-5 div.sk-parallel-item::before {content: \"\";position: absolute;border-left: 1px solid gray;box-sizing: border-box;top: 0;bottom: 0;left: 50%;z-index: -1;}#sk-container-id-5 div.sk-parallel-item {display: flex;flex-direction: column;z-index: 1;position: relative;background-color: white;}#sk-container-id-5 div.sk-parallel-item:first-child::after {align-self: flex-end;width: 50%;}#sk-container-id-5 div.sk-parallel-item:last-child::after {align-self: flex-start;width: 50%;}#sk-container-id-5 div.sk-parallel-item:only-child::after {width: 0;}#sk-container-id-5 div.sk-dashed-wrapped {border: 1px dashed gray;margin: 0 0.4em 0.5em 0.4em;box-sizing: border-box;padding-bottom: 0.4em;background-color: white;}#sk-container-id-5 div.sk-label label {font-family: monospace;font-weight: bold;display: inline-block;line-height: 1.2em;}#sk-container-id-5 div.sk-label-container {text-align: center;}#sk-container-id-5 div.sk-container {/* jupyter's `normalize.less` sets `[hidden] { display: none; }` but bootstrap.min.css set `[hidden] { display: none !important; }` so we also need the `!important` here to be able to override the default hidden behavior on the sphinx rendered scikit-learn.org. See: https://github.com/scikit-learn/scikit-learn/issues/21755 */display: inline-block !important;position: relative;}#sk-container-id-5 div.sk-text-repr-fallback {display: none;}</style><div id=\"sk-container-id-5\" class=\"sk-top-container\"><div class=\"sk-text-repr-fallback\"><pre>XGBClassifier(base_score=0.5, booster=&#x27;gbtree&#x27;, callbacks=None,\n",
       "              colsample_bylevel=1, colsample_bynode=1, colsample_bytree=0.4,\n",
       "              early_stopping_rounds=None, enable_categorical=False,\n",
       "              eval_metric=None, gamma=0.3, gpu_id=-1, grow_policy=&#x27;depthwise&#x27;,\n",
       "              importance_type=None, interaction_constraints=&#x27;&#x27;,\n",
       "              learning_rate=0.1, max_bin=256, max_cat_to_onehot=4,\n",
       "              max_delta_step=0, max_depth=3, max_leaves=0, min_child_weight=1,\n",
       "              missing=nan, monotone_constraints=&#x27;()&#x27;, n_estimators=100,\n",
       "              n_jobs=0, num_parallel_tree=1, predictor=&#x27;auto&#x27;, random_state=0,\n",
       "              reg_alpha=0, reg_lambda=1, ...)</pre><b>In a Jupyter environment, please rerun this cell to show the HTML representation or trust the notebook. <br />On GitHub, the HTML representation is unable to render, please try loading this page with nbviewer.org.</b></div><div class=\"sk-container\" hidden><div class=\"sk-item\"><div class=\"sk-estimator sk-toggleable\"><input class=\"sk-toggleable__control sk-hidden--visually\" id=\"sk-estimator-id-5\" type=\"checkbox\" checked><label for=\"sk-estimator-id-5\" class=\"sk-toggleable__label sk-toggleable__label-arrow\">XGBClassifier</label><div class=\"sk-toggleable__content\"><pre>XGBClassifier(base_score=0.5, booster=&#x27;gbtree&#x27;, callbacks=None,\n",
       "              colsample_bylevel=1, colsample_bynode=1, colsample_bytree=0.4,\n",
       "              early_stopping_rounds=None, enable_categorical=False,\n",
       "              eval_metric=None, gamma=0.3, gpu_id=-1, grow_policy=&#x27;depthwise&#x27;,\n",
       "              importance_type=None, interaction_constraints=&#x27;&#x27;,\n",
       "              learning_rate=0.1, max_bin=256, max_cat_to_onehot=4,\n",
       "              max_delta_step=0, max_depth=3, max_leaves=0, min_child_weight=1,\n",
       "              missing=nan, monotone_constraints=&#x27;()&#x27;, n_estimators=100,\n",
       "              n_jobs=0, num_parallel_tree=1, predictor=&#x27;auto&#x27;, random_state=0,\n",
       "              reg_alpha=0, reg_lambda=1, ...)</pre></div></div></div></div></div>"
      ],
      "text/plain": [
       "XGBClassifier(base_score=0.5, booster='gbtree', callbacks=None,\n",
       "              colsample_bylevel=1, colsample_bynode=1, colsample_bytree=0.4,\n",
       "              early_stopping_rounds=None, enable_categorical=False,\n",
       "              eval_metric=None, gamma=0.3, gpu_id=-1, grow_policy='depthwise',\n",
       "              importance_type=None, interaction_constraints='',\n",
       "              learning_rate=0.1, max_bin=256, max_cat_to_onehot=4,\n",
       "              max_delta_step=0, max_depth=3, max_leaves=0, min_child_weight=1,\n",
       "              missing=nan, monotone_constraints='()', n_estimators=100,\n",
       "              n_jobs=0, num_parallel_tree=1, predictor='auto', random_state=0,\n",
       "              reg_alpha=0, reg_lambda=1, ...)"
      ]
     },
     "execution_count": 55,
     "metadata": {},
     "output_type": "execute_result"
    }
   ],
   "source": [
    "optimised_xgb = XGBClassifier(colsample_bytree = 0.4, gamma = 0.3, learning_rate = 0.1, max_depth = 3, min_child_weight = 1)\n",
    "optimised_xgb.fit(X_train, y_train)"
   ]
  },
  {
   "cell_type": "code",
   "execution_count": null,
   "id": "13888e71",
   "metadata": {},
   "outputs": [
    {
     "name": "stdout",
     "output_type": "stream",
     "text": [
      "Accuracy: 0.8170666666666667\n"
     ]
    }
   ],
   "source": [
    "# printing accuracy of optimised xgb\n",
    "y_pred_op_xgb = optimised_xgb.predict(X_test)\n",
    "print('Accuracy:', accuracy_score(y_pred_op_xgb, y_test))\n",
    "\n",
    "# overall slight increase in accuracy as compared to naive model"
   ]
  },
  {
   "cell_type": "code",
   "execution_count": null,
   "id": "a357ec17",
   "metadata": {},
   "outputs": [
    {
     "name": "stdout",
     "output_type": "stream",
     "text": [
      "              precision    recall  f1-score   support\n",
      "\n",
      "         0.0       0.84      0.95      0.89      5800\n",
      "         1.0       0.67      0.37      0.48      1700\n",
      "\n",
      "    accuracy                           0.82      7500\n",
      "   macro avg       0.76      0.66      0.69      7500\n",
      "weighted avg       0.80      0.82      0.80      7500\n",
      "\n",
      "0.48148148148148145\n"
     ]
    }
   ],
   "source": [
    "print(classification_report(y_test, y_pred_op_xgb))"
   ]
  },
  {
   "cell_type": "code",
   "execution_count": null,
   "id": "ac7a2019",
   "metadata": {},
   "outputs": [
    {
     "data": {
      "text/plain": [
       "Text(0.5, 1.0, 'Confusion Matrix - Optimised XGBoost Classifier')"
      ]
     },
     "execution_count": 58,
     "metadata": {},
     "output_type": "execute_result"
    },
    {
     "data": {
      "image/png": "[encoded data removed]",
      "text/plain": [
       "<Figure size 288x216 with 2 Axes>"
      ]
     },
     "metadata": {
      "needs_background": "light"
     },
     "output_type": "display_data"
    }
   ],
   "source": [
    "plt.figure(figsize=(4,3))\n",
    "ConfMatrix = confusion_matrix(y_test, y_pred_op_xgb)\n",
    "sns.heatmap(ConfMatrix,annot=True, cmap=\"Blues\", fmt=\"d\", \n",
    "            xticklabels = ['Non-default', 'Default'], \n",
    "            yticklabels = ['Non-default', 'Default'])\n",
    "plt.ylabel('True label')\n",
    "plt.xlabel('Predicted label')\n",
    "plt.title(\"Confusion Matrix - Tuned XGBoost Classifier\")"
   ]
  },
  {
   "cell_type": "markdown",
   "id": "e6111eb2",
   "metadata": {},
   "source": [
    "### Neural Network"
   ]
  },
  {
   "cell_type": "markdown",
   "id": "7e9cf590",
   "metadata": {},
   "source": [
    "Naive Model"
   ]
  },
  {
   "cell_type": "code",
   "execution_count": null,
   "id": "046f1213",
   "metadata": {},
   "outputs": [
    {
     "name": "stdout",
     "output_type": "stream",
     "text": [
      "Model: \"sequential_4\"\n",
      "_________________________________________________________________\n",
      " Layer (type)                Output Shape              Param #   \n",
      "=================================================================\n",
      " dense_12 (Dense)            (None, 23)                552       \n",
      "                                                                 \n",
      " dropout_8 (Dropout)         (None, 23)                0         \n",
      "                                                                 \n",
      " dense_13 (Dense)            (None, 11)                264       \n",
      "                                                                 \n",
      " dropout_9 (Dropout)         (None, 11)                0         \n",
      "                                                                 \n",
      " dense_14 (Dense)            (None, 1)                 12        \n",
      "                                                                 \n",
      "=================================================================\n",
      "Total params: 828\n",
      "Trainable params: 828\n",
      "Non-trainable params: 0\n",
      "_________________________________________________________________\n"
     ]
    }
   ],
   "source": [
    "from tensorflow import keras\n",
    "\n",
    "model = keras.Sequential(\n",
    "    [\n",
    "        keras.layers.Dense(\n",
    "            len(X_train_naive.columns), activation=\"relu\", input_shape=(X_train_naive.shape[-1],)\n",
    "        ),\n",
    "        keras.layers.Dropout(0.3),\n",
    "        keras.layers.Dense(len(X_train_naive.columns) / 2, activation=\"relu\"),\n",
    "        keras.layers.Dropout(0.3),\n",
    "        keras.layers.Dense(1, activation=\"sigmoid\"),\n",
    "    ]\n",
    ")\n",
    "model.summary()"
   ]
  },
  {
   "cell_type": "code",
   "execution_count": null,
   "id": "358ae493",
   "metadata": {},
   "outputs": [
    {
     "name": "stdout",
     "output_type": "stream",
     "text": [
      "Epoch 1/100\n",
      "113/113 [==============================] - 2s 9ms/step - loss: 992.8538 - fn: 4538.0000 - fp: 1436.0000 - tn: 16128.0000 - tp: 398.0000 - precision: 0.2170 - recall: 0.0806 - Accuracy: 0.2033 - val_loss: 0.5461 - val_fn: 1700.0000 - val_fp: 0.0000e+00 - val_tn: 5800.0000 - val_tp: 0.0000e+00 - val_precision: 0.0000e+00 - val_recall: 0.0000e+00 - val_Accuracy: 1.3333e-04\n",
      "Epoch 2/100\n",
      "113/113 [==============================] - 0s 3ms/step - loss: 6.2859 - fn: 4850.0000 - fp: 256.0000 - tn: 17308.0000 - tp: 86.0000 - precision: 0.2515 - recall: 0.0174 - Accuracy: 0.0062 - val_loss: 0.5352 - val_fn: 1700.0000 - val_fp: 0.0000e+00 - val_tn: 5800.0000 - val_tp: 0.0000e+00 - val_precision: 0.0000e+00 - val_recall: 0.0000e+00 - val_Accuracy: 0.0000e+00\n",
      "Epoch 3/100\n",
      "113/113 [==============================] - 0s 3ms/step - loss: 2.5661 - fn: 4912.0000 - fp: 172.0000 - tn: 17392.0000 - tp: 24.0000 - precision: 0.1224 - recall: 0.0049 - Accuracy: 0.0032 - val_loss: 0.5351 - val_fn: 1700.0000 - val_fp: 0.0000e+00 - val_tn: 5800.0000 - val_tp: 0.0000e+00 - val_precision: 0.0000e+00 - val_recall: 0.0000e+00 - val_Accuracy: 1.3333e-04\n",
      "Epoch 4/100\n",
      "113/113 [==============================] - 0s 3ms/step - loss: 3.8045 - fn: 4913.0000 - fp: 106.0000 - tn: 17458.0000 - tp: 23.0000 - precision: 0.1783 - recall: 0.0047 - Accuracy: 0.0027 - val_loss: 0.5352 - val_fn: 1700.0000 - val_fp: 0.0000e+00 - val_tn: 5800.0000 - val_tp: 0.0000e+00 - val_precision: 0.0000e+00 - val_recall: 0.0000e+00 - val_Accuracy: 0.0000e+00\n",
      "Epoch 5/100\n",
      "113/113 [==============================] - 0s 4ms/step - loss: 1.9728 - fn: 4912.0000 - fp: 103.0000 - tn: 17461.0000 - tp: 24.0000 - precision: 0.1890 - recall: 0.0049 - Accuracy: 0.0014 - val_loss: 0.5352 - val_fn: 1700.0000 - val_fp: 0.0000e+00 - val_tn: 5800.0000 - val_tp: 0.0000e+00 - val_precision: 0.0000e+00 - val_recall: 0.0000e+00 - val_Accuracy: 0.0000e+00\n",
      "Epoch 6/100\n",
      "113/113 [==============================] - 0s 4ms/step - loss: 2.3230 - fn: 4915.0000 - fp: 122.0000 - tn: 17442.0000 - tp: 21.0000 - precision: 0.1469 - recall: 0.0043 - Accuracy: 0.0020 - val_loss: 0.5352 - val_fn: 1700.0000 - val_fp: 0.0000e+00 - val_tn: 5800.0000 - val_tp: 0.0000e+00 - val_precision: 0.0000e+00 - val_recall: 0.0000e+00 - val_Accuracy: 0.0000e+00\n",
      "Epoch 7/100\n",
      "113/113 [==============================] - 0s 4ms/step - loss: 1.8825 - fn: 4918.0000 - fp: 99.0000 - tn: 17465.0000 - tp: 18.0000 - precision: 0.1538 - recall: 0.0036 - Accuracy: 0.0012 - val_loss: 0.5355 - val_fn: 1700.0000 - val_fp: 0.0000e+00 - val_tn: 5800.0000 - val_tp: 0.0000e+00 - val_precision: 0.0000e+00 - val_recall: 0.0000e+00 - val_Accuracy: 0.0000e+00\n",
      "Epoch 8/100\n",
      "113/113 [==============================] - 0s 4ms/step - loss: 0.7064 - fn: 4925.0000 - fp: 46.0000 - tn: 17518.0000 - tp: 11.0000 - precision: 0.1930 - recall: 0.0022 - Accuracy: 0.0013 - val_loss: 0.5354 - val_fn: 1700.0000 - val_fp: 0.0000e+00 - val_tn: 5800.0000 - val_tp: 0.0000e+00 - val_precision: 0.0000e+00 - val_recall: 0.0000e+00 - val_Accuracy: 0.0000e+00\n",
      "Epoch 9/100\n",
      "113/113 [==============================] - 1s 5ms/step - loss: 1.2481 - fn: 4921.0000 - fp: 43.0000 - tn: 17521.0000 - tp: 15.0000 - precision: 0.2586 - recall: 0.0030 - Accuracy: 4.8889e-04 - val_loss: 0.5353 - val_fn: 1700.0000 - val_fp: 0.0000e+00 - val_tn: 5800.0000 - val_tp: 0.0000e+00 - val_precision: 0.0000e+00 - val_recall: 0.0000e+00 - val_Accuracy: 0.0000e+00\n",
      "Epoch 10/100\n",
      "113/113 [==============================] - 0s 4ms/step - loss: 0.8117 - fn: 4930.0000 - fp: 24.0000 - tn: 17540.0000 - tp: 6.0000 - precision: 0.2000 - recall: 0.0012 - Accuracy: 6.6667e-04 - val_loss: 0.5354 - val_fn: 1700.0000 - val_fp: 0.0000e+00 - val_tn: 5800.0000 - val_tp: 0.0000e+00 - val_precision: 0.0000e+00 - val_recall: 0.0000e+00 - val_Accuracy: 0.0000e+00\n",
      "Epoch 11/100\n",
      "113/113 [==============================] - 0s 4ms/step - loss: 0.6326 - fn: 4925.0000 - fp: 31.0000 - tn: 17533.0000 - tp: 11.0000 - precision: 0.2619 - recall: 0.0022 - Accuracy: 4.0000e-04 - val_loss: 0.5354 - val_fn: 1700.0000 - val_fp: 0.0000e+00 - val_tn: 5800.0000 - val_tp: 0.0000e+00 - val_precision: 0.0000e+00 - val_recall: 0.0000e+00 - val_Accuracy: 0.0000e+00\n",
      "Epoch 12/100\n",
      "113/113 [==============================] - 1s 5ms/step - loss: 0.6401 - fn: 4933.0000 - fp: 13.0000 - tn: 17551.0000 - tp: 3.0000 - precision: 0.1875 - recall: 6.0778e-04 - Accuracy: 4.8889e-04 - val_loss: 0.5357 - val_fn: 1700.0000 - val_fp: 0.0000e+00 - val_tn: 5800.0000 - val_tp: 0.0000e+00 - val_precision: 0.0000e+00 - val_recall: 0.0000e+00 - val_Accuracy: 0.0000e+00\n",
      "Epoch 13/100\n",
      "113/113 [==============================] - 1s 5ms/step - loss: 0.7205 - fn: 4935.0000 - fp: 18.0000 - tn: 17546.0000 - tp: 1.0000 - precision: 0.0526 - recall: 2.0259e-04 - Accuracy: 7.5556e-04 - val_loss: 0.5353 - val_fn: 1700.0000 - val_fp: 0.0000e+00 - val_tn: 5800.0000 - val_tp: 0.0000e+00 - val_precision: 0.0000e+00 - val_recall: 0.0000e+00 - val_Accuracy: 0.0000e+00\n",
      "Epoch 14/100\n",
      "113/113 [==============================] - 1s 5ms/step - loss: 0.9103 - fn: 4927.0000 - fp: 35.0000 - tn: 17529.0000 - tp: 9.0000 - precision: 0.2045 - recall: 0.0018 - Accuracy: 5.7778e-04 - val_loss: 0.5352 - val_fn: 1700.0000 - val_fp: 0.0000e+00 - val_tn: 5800.0000 - val_tp: 0.0000e+00 - val_precision: 0.0000e+00 - val_recall: 0.0000e+00 - val_Accuracy: 0.0000e+00\n",
      "Epoch 15/100\n",
      "113/113 [==============================] - 0s 4ms/step - loss: 0.6876 - fn: 4925.0000 - fp: 48.0000 - tn: 17516.0000 - tp: 11.0000 - precision: 0.1864 - recall: 0.0022 - Accuracy: 5.7778e-04 - val_loss: 0.5354 - val_fn: 1700.0000 - val_fp: 0.0000e+00 - val_tn: 5800.0000 - val_tp: 0.0000e+00 - val_precision: 0.0000e+00 - val_recall: 0.0000e+00 - val_Accuracy: 0.0000e+00\n",
      "Epoch 16/100\n",
      "113/113 [==============================] - 0s 4ms/step - loss: 0.5737 - fn: 4926.0000 - fp: 28.0000 - tn: 17536.0000 - tp: 10.0000 - precision: 0.2632 - recall: 0.0020 - Accuracy: 4.8889e-04 - val_loss: 0.5352 - val_fn: 1700.0000 - val_fp: 0.0000e+00 - val_tn: 5800.0000 - val_tp: 0.0000e+00 - val_precision: 0.0000e+00 - val_recall: 0.0000e+00 - val_Accuracy: 0.0000e+00\n",
      "Epoch 17/100\n",
      "113/113 [==============================] - 0s 4ms/step - loss: 0.5975 - fn: 4930.0000 - fp: 12.0000 - tn: 17552.0000 - tp: 6.0000 - precision: 0.3333 - recall: 0.0012 - Accuracy: 4.0000e-04 - val_loss: 0.5355 - val_fn: 1700.0000 - val_fp: 0.0000e+00 - val_tn: 5800.0000 - val_tp: 0.0000e+00 - val_precision: 0.0000e+00 - val_recall: 0.0000e+00 - val_Accuracy: 0.0000e+00\n",
      "Epoch 18/100\n",
      "113/113 [==============================] - 0s 4ms/step - loss: 0.5815 - fn: 4936.0000 - fp: 17.0000 - tn: 17547.0000 - tp: 0.0000e+00 - precision: 0.0000e+00 - recall: 0.0000e+00 - Accuracy: 2.2222e-04 - val_loss: 0.5356 - val_fn: 1700.0000 - val_fp: 0.0000e+00 - val_tn: 5800.0000 - val_tp: 0.0000e+00 - val_precision: 0.0000e+00 - val_recall: 0.0000e+00 - val_Accuracy: 0.0000e+00\n",
      "Epoch 19/100\n",
      "113/113 [==============================] - 0s 4ms/step - loss: 1.6316 - fn: 4930.0000 - fp: 24.0000 - tn: 17540.0000 - tp: 6.0000 - precision: 0.2000 - recall: 0.0012 - Accuracy: 3.5556e-04 - val_loss: 0.5354 - val_fn: 1700.0000 - val_fp: 0.0000e+00 - val_tn: 5800.0000 - val_tp: 0.0000e+00 - val_precision: 0.0000e+00 - val_recall: 0.0000e+00 - val_Accuracy: 0.0000e+00\n",
      "Epoch 20/100\n",
      "113/113 [==============================] - 0s 4ms/step - loss: 0.5734 - fn: 4933.0000 - fp: 11.0000 - tn: 17553.0000 - tp: 3.0000 - precision: 0.2143 - recall: 6.0778e-04 - Accuracy: 3.1111e-04 - val_loss: 0.5352 - val_fn: 1700.0000 - val_fp: 0.0000e+00 - val_tn: 5800.0000 - val_tp: 0.0000e+00 - val_precision: 0.0000e+00 - val_recall: 0.0000e+00 - val_Accuracy: 0.0000e+00\n",
      "Epoch 21/100\n",
      "113/113 [==============================] - 0s 4ms/step - loss: 0.7264 - fn: 4931.0000 - fp: 19.0000 - tn: 17545.0000 - tp: 5.0000 - precision: 0.2083 - recall: 0.0010 - Accuracy: 4.4444e-04 - val_loss: 0.5353 - val_fn: 1700.0000 - val_fp: 0.0000e+00 - val_tn: 5800.0000 - val_tp: 0.0000e+00 - val_precision: 0.0000e+00 - val_recall: 0.0000e+00 - val_Accuracy: 0.0000e+00\n",
      "Epoch 22/100\n",
      "113/113 [==============================] - 0s 3ms/step - loss: 0.7312 - fn: 4932.0000 - fp: 15.0000 - tn: 17549.0000 - tp: 4.0000 - precision: 0.2105 - recall: 8.1037e-04 - Accuracy: 5.3333e-04 - val_loss: 0.5355 - val_fn: 1700.0000 - val_fp: 0.0000e+00 - val_tn: 5800.0000 - val_tp: 0.0000e+00 - val_precision: 0.0000e+00 - val_recall: 0.0000e+00 - val_Accuracy: 0.0000e+00\n",
      "Epoch 23/100\n",
      "113/113 [==============================] - 0s 4ms/step - loss: 0.6481 - fn: 4934.0000 - fp: 12.0000 - tn: 17552.0000 - tp: 2.0000 - precision: 0.1429 - recall: 4.0519e-04 - Accuracy: 0.0000e+00 - val_loss: 0.5358 - val_fn: 1700.0000 - val_fp: 0.0000e+00 - val_tn: 5800.0000 - val_tp: 0.0000e+00 - val_precision: 0.0000e+00 - val_recall: 0.0000e+00 - val_Accuracy: 0.0000e+00\n",
      "Epoch 24/100\n",
      "113/113 [==============================] - 0s 4ms/step - loss: 0.5340 - fn: 4932.0000 - fp: 13.0000 - tn: 17551.0000 - tp: 4.0000 - precision: 0.2353 - recall: 8.1037e-04 - Accuracy: 4.4444e-05 - val_loss: 0.5355 - val_fn: 1700.0000 - val_fp: 0.0000e+00 - val_tn: 5800.0000 - val_tp: 0.0000e+00 - val_precision: 0.0000e+00 - val_recall: 0.0000e+00 - val_Accuracy: 0.0000e+00\n",
      "Epoch 25/100\n",
      "113/113 [==============================] - 0s 4ms/step - loss: 0.5438 - fn: 4930.0000 - fp: 14.0000 - tn: 17550.0000 - tp: 6.0000 - precision: 0.3000 - recall: 0.0012 - Accuracy: 4.8889e-04 - val_loss: 0.5352 - val_fn: 1700.0000 - val_fp: 0.0000e+00 - val_tn: 5800.0000 - val_tp: 0.0000e+00 - val_precision: 0.0000e+00 - val_recall: 0.0000e+00 - val_Accuracy: 0.0000e+00\n",
      "Epoch 26/100\n",
      "113/113 [==============================] - 0s 3ms/step - loss: 0.5350 - fn: 4935.0000 - fp: 9.0000 - tn: 17555.0000 - tp: 1.0000 - precision: 0.1000 - recall: 2.0259e-04 - Accuracy: 1.7778e-04 - val_loss: 0.5355 - val_fn: 1700.0000 - val_fp: 0.0000e+00 - val_tn: 5800.0000 - val_tp: 0.0000e+00 - val_precision: 0.0000e+00 - val_recall: 0.0000e+00 - val_Accuracy: 0.0000e+00\n",
      "Epoch 27/100\n",
      "113/113 [==============================] - 0s 4ms/step - loss: 0.5436 - fn: 4934.0000 - fp: 18.0000 - tn: 17546.0000 - tp: 2.0000 - precision: 0.1000 - recall: 4.0519e-04 - Accuracy: 1.7778e-04 - val_loss: 0.5354 - val_fn: 1700.0000 - val_fp: 0.0000e+00 - val_tn: 5800.0000 - val_tp: 0.0000e+00 - val_precision: 0.0000e+00 - val_recall: 0.0000e+00 - val_Accuracy: 0.0000e+00\n",
      "Epoch 28/100\n",
      "113/113 [==============================] - 0s 4ms/step - loss: 0.5935 - fn: 4928.0000 - fp: 14.0000 - tn: 17550.0000 - tp: 8.0000 - precision: 0.3636 - recall: 0.0016 - Accuracy: 2.2222e-04 - val_loss: 0.5353 - val_fn: 1700.0000 - val_fp: 0.0000e+00 - val_tn: 5800.0000 - val_tp: 0.0000e+00 - val_precision: 0.0000e+00 - val_recall: 0.0000e+00 - val_Accuracy: 0.0000e+00\n",
      "Epoch 29/100\n",
      "113/113 [==============================] - 0s 4ms/step - loss: 0.5846 - fn: 4934.0000 - fp: 7.0000 - tn: 17557.0000 - tp: 2.0000 - precision: 0.2222 - recall: 4.0519e-04 - Accuracy: 4.4444e-05 - val_loss: 0.5356 - val_fn: 1700.0000 - val_fp: 0.0000e+00 - val_tn: 5800.0000 - val_tp: 0.0000e+00 - val_precision: 0.0000e+00 - val_recall: 0.0000e+00 - val_Accuracy: 0.0000e+00\n",
      "Epoch 30/100\n",
      "113/113 [==============================] - 0s 4ms/step - loss: 0.5938 - fn: 4936.0000 - fp: 3.0000 - tn: 17561.0000 - tp: 0.0000e+00 - precision: 0.0000e+00 - recall: 0.0000e+00 - Accuracy: 1.3333e-04 - val_loss: 0.5354 - val_fn: 1700.0000 - val_fp: 0.0000e+00 - val_tn: 5800.0000 - val_tp: 0.0000e+00 - val_precision: 0.0000e+00 - val_recall: 0.0000e+00 - val_Accuracy: 0.0000e+00\n",
      "Epoch 31/100\n",
      "113/113 [==============================] - 0s 4ms/step - loss: 0.5719 - fn: 4935.0000 - fp: 5.0000 - tn: 17559.0000 - tp: 1.0000 - precision: 0.1667 - recall: 2.0259e-04 - Accuracy: 2.6667e-04 - val_loss: 0.5356 - val_fn: 1700.0000 - val_fp: 0.0000e+00 - val_tn: 5800.0000 - val_tp: 0.0000e+00 - val_precision: 0.0000e+00 - val_recall: 0.0000e+00 - val_Accuracy: 0.0000e+00\n",
      "Epoch 32/100\n",
      "113/113 [==============================] - 0s 4ms/step - loss: 0.5440 - fn: 4936.0000 - fp: 4.0000 - tn: 17560.0000 - tp: 0.0000e+00 - precision: 0.0000e+00 - recall: 0.0000e+00 - Accuracy: 2.6667e-04 - val_loss: 0.5353 - val_fn: 1700.0000 - val_fp: 0.0000e+00 - val_tn: 5800.0000 - val_tp: 0.0000e+00 - val_precision: 0.0000e+00 - val_recall: 0.0000e+00 - val_Accuracy: 0.0000e+00\n",
      "Epoch 33/100\n",
      "113/113 [==============================] - 0s 4ms/step - loss: 0.5401 - fn: 4936.0000 - fp: 11.0000 - tn: 17553.0000 - tp: 0.0000e+00 - precision: 0.0000e+00 - recall: 0.0000e+00 - Accuracy: 0.0000e+00 - val_loss: 0.5355 - val_fn: 1700.0000 - val_fp: 0.0000e+00 - val_tn: 5800.0000 - val_tp: 0.0000e+00 - val_precision: 0.0000e+00 - val_recall: 0.0000e+00 - val_Accuracy: 0.0000e+00\n",
      "Epoch 34/100\n",
      "113/113 [==============================] - 0s 4ms/step - loss: 0.5484 - fn: 4936.0000 - fp: 2.0000 - tn: 17562.0000 - tp: 0.0000e+00 - precision: 0.0000e+00 - recall: 0.0000e+00 - Accuracy: 4.4444e-05 - val_loss: 0.5354 - val_fn: 1700.0000 - val_fp: 0.0000e+00 - val_tn: 5800.0000 - val_tp: 0.0000e+00 - val_precision: 0.0000e+00 - val_recall: 0.0000e+00 - val_Accuracy: 0.0000e+00\n",
      "Epoch 35/100\n",
      "113/113 [==============================] - 0s 4ms/step - loss: 0.5434 - fn: 4934.0000 - fp: 8.0000 - tn: 17556.0000 - tp: 2.0000 - precision: 0.2000 - recall: 4.0519e-04 - Accuracy: 4.4444e-05 - val_loss: 0.5353 - val_fn: 1700.0000 - val_fp: 0.0000e+00 - val_tn: 5800.0000 - val_tp: 0.0000e+00 - val_precision: 0.0000e+00 - val_recall: 0.0000e+00 - val_Accuracy: 0.0000e+00\n",
      "Epoch 36/100\n",
      "113/113 [==============================] - 0s 4ms/step - loss: 0.5314 - fn: 4936.0000 - fp: 9.0000 - tn: 17555.0000 - tp: 0.0000e+00 - precision: 0.0000e+00 - recall: 0.0000e+00 - Accuracy: 4.4444e-05 - val_loss: 0.5354 - val_fn: 1700.0000 - val_fp: 0.0000e+00 - val_tn: 5800.0000 - val_tp: 0.0000e+00 - val_precision: 0.0000e+00 - val_recall: 0.0000e+00 - val_Accuracy: 0.0000e+00\n",
      "Epoch 37/100\n",
      "113/113 [==============================] - 0s 4ms/step - loss: 0.5351 - fn: 4933.0000 - fp: 4.0000 - tn: 17560.0000 - tp: 3.0000 - precision: 0.4286 - recall: 6.0778e-04 - Accuracy: 1.3333e-04 - val_loss: 0.5352 - val_fn: 1700.0000 - val_fp: 0.0000e+00 - val_tn: 5800.0000 - val_tp: 0.0000e+00 - val_precision: 0.0000e+00 - val_recall: 0.0000e+00 - val_Accuracy: 0.0000e+00\n",
      "Epoch 38/100\n",
      "113/113 [==============================] - 0s 4ms/step - loss: 0.5597 - fn: 4935.0000 - fp: 13.0000 - tn: 17551.0000 - tp: 1.0000 - precision: 0.0714 - recall: 2.0259e-04 - Accuracy: 8.8889e-05 - val_loss: 0.5354 - val_fn: 1700.0000 - val_fp: 0.0000e+00 - val_tn: 5800.0000 - val_tp: 0.0000e+00 - val_precision: 0.0000e+00 - val_recall: 0.0000e+00 - val_Accuracy: 0.0000e+00\n",
      "Epoch 39/100\n",
      "113/113 [==============================] - 0s 4ms/step - loss: 0.5329 - fn: 4933.0000 - fp: 4.0000 - tn: 17560.0000 - tp: 3.0000 - precision: 0.4286 - recall: 6.0778e-04 - Accuracy: 0.0000e+00 - val_loss: 0.5358 - val_fn: 1700.0000 - val_fp: 0.0000e+00 - val_tn: 5800.0000 - val_tp: 0.0000e+00 - val_precision: 0.0000e+00 - val_recall: 0.0000e+00 - val_Accuracy: 0.0000e+00\n",
      "Epoch 40/100\n",
      "113/113 [==============================] - 1s 4ms/step - loss: 0.5473 - fn: 4935.0000 - fp: 7.0000 - tn: 17557.0000 - tp: 1.0000 - precision: 0.1250 - recall: 2.0259e-04 - Accuracy: 0.0000e+00 - val_loss: 0.5352 - val_fn: 1700.0000 - val_fp: 0.0000e+00 - val_tn: 5800.0000 - val_tp: 0.0000e+00 - val_precision: 0.0000e+00 - val_recall: 0.0000e+00 - val_Accuracy: 0.0000e+00\n",
      "Epoch 41/100\n",
      "113/113 [==============================] - 1s 5ms/step - loss: 0.5628 - fn: 4931.0000 - fp: 7.0000 - tn: 17557.0000 - tp: 5.0000 - precision: 0.4167 - recall: 0.0010 - Accuracy: 0.0000e+00 - val_loss: 0.5352 - val_fn: 1700.0000 - val_fp: 0.0000e+00 - val_tn: 5800.0000 - val_tp: 0.0000e+00 - val_precision: 0.0000e+00 - val_recall: 0.0000e+00 - val_Accuracy: 0.0000e+00\n",
      "Epoch 42/100\n",
      "113/113 [==============================] - 1s 6ms/step - loss: 0.6922 - fn: 4934.0000 - fp: 8.0000 - tn: 17556.0000 - tp: 2.0000 - precision: 0.2000 - recall: 4.0519e-04 - Accuracy: 0.0000e+00 - val_loss: 0.5354 - val_fn: 1700.0000 - val_fp: 0.0000e+00 - val_tn: 5800.0000 - val_tp: 0.0000e+00 - val_precision: 0.0000e+00 - val_recall: 0.0000e+00 - val_Accuracy: 0.0000e+00\n",
      "Epoch 43/100\n",
      "113/113 [==============================] - 1s 6ms/step - loss: 0.5285 - fn: 4934.0000 - fp: 2.0000 - tn: 17562.0000 - tp: 2.0000 - precision: 0.5000 - recall: 4.0519e-04 - Accuracy: 0.0000e+00 - val_loss: 0.5352 - val_fn: 1700.0000 - val_fp: 0.0000e+00 - val_tn: 5800.0000 - val_tp: 0.0000e+00 - val_precision: 0.0000e+00 - val_recall: 0.0000e+00 - val_Accuracy: 0.0000e+00\n",
      "Epoch 44/100\n",
      "113/113 [==============================] - 1s 4ms/step - loss: 0.5800 - fn: 4935.0000 - fp: 2.0000 - tn: 17562.0000 - tp: 1.0000 - precision: 0.3333 - recall: 2.0259e-04 - Accuracy: 8.8889e-05 - val_loss: 0.5355 - val_fn: 1700.0000 - val_fp: 0.0000e+00 - val_tn: 5800.0000 - val_tp: 0.0000e+00 - val_precision: 0.0000e+00 - val_recall: 0.0000e+00 - val_Accuracy: 0.0000e+00\n",
      "Epoch 45/100\n",
      "113/113 [==============================] - 1s 5ms/step - loss: 0.5335 - fn: 4936.0000 - fp: 3.0000 - tn: 17561.0000 - tp: 0.0000e+00 - precision: 0.0000e+00 - recall: 0.0000e+00 - Accuracy: 1.7778e-04 - val_loss: 0.5353 - val_fn: 1700.0000 - val_fp: 0.0000e+00 - val_tn: 5800.0000 - val_tp: 0.0000e+00 - val_precision: 0.0000e+00 - val_recall: 0.0000e+00 - val_Accuracy: 0.0000e+00\n",
      "Epoch 46/100\n",
      "113/113 [==============================] - 1s 5ms/step - loss: 0.5304 - fn: 4936.0000 - fp: 0.0000e+00 - tn: 17564.0000 - tp: 0.0000e+00 - precision: 0.0000e+00 - recall: 0.0000e+00 - Accuracy: 1.3333e-04 - val_loss: 0.5352 - val_fn: 1700.0000 - val_fp: 0.0000e+00 - val_tn: 5800.0000 - val_tp: 0.0000e+00 - val_precision: 0.0000e+00 - val_recall: 0.0000e+00 - val_Accuracy: 0.0000e+00\n",
      "Epoch 47/100\n",
      "113/113 [==============================] - 0s 4ms/step - loss: 0.5264 - fn: 4936.0000 - fp: 0.0000e+00 - tn: 17564.0000 - tp: 0.0000e+00 - precision: 0.0000e+00 - recall: 0.0000e+00 - Accuracy: 0.0000e+00 - val_loss: 0.5357 - val_fn: 1700.0000 - val_fp: 0.0000e+00 - val_tn: 5800.0000 - val_tp: 0.0000e+00 - val_precision: 0.0000e+00 - val_recall: 0.0000e+00 - val_Accuracy: 0.0000e+00\n",
      "Epoch 48/100\n",
      "113/113 [==============================] - 1s 4ms/step - loss: 0.5350 - fn: 4936.0000 - fp: 0.0000e+00 - tn: 17564.0000 - tp: 0.0000e+00 - precision: 0.0000e+00 - recall: 0.0000e+00 - Accuracy: 4.4444e-05 - val_loss: 0.5353 - val_fn: 1700.0000 - val_fp: 0.0000e+00 - val_tn: 5800.0000 - val_tp: 0.0000e+00 - val_precision: 0.0000e+00 - val_recall: 0.0000e+00 - val_Accuracy: 0.0000e+00\n",
      "Epoch 49/100\n",
      "113/113 [==============================] - 0s 4ms/step - loss: 0.5348 - fn: 4936.0000 - fp: 1.0000 - tn: 17563.0000 - tp: 0.0000e+00 - precision: 0.0000e+00 - recall: 0.0000e+00 - Accuracy: 4.4444e-05 - val_loss: 0.5353 - val_fn: 1700.0000 - val_fp: 0.0000e+00 - val_tn: 5800.0000 - val_tp: 0.0000e+00 - val_precision: 0.0000e+00 - val_recall: 0.0000e+00 - val_Accuracy: 0.0000e+00\n",
      "Epoch 50/100\n",
      "113/113 [==============================] - 0s 4ms/step - loss: 0.5264 - fn: 4936.0000 - fp: 0.0000e+00 - tn: 17564.0000 - tp: 0.0000e+00 - precision: 0.0000e+00 - recall: 0.0000e+00 - Accuracy: 0.0000e+00 - val_loss: 0.5353 - val_fn: 1700.0000 - val_fp: 0.0000e+00 - val_tn: 5800.0000 - val_tp: 0.0000e+00 - val_precision: 0.0000e+00 - val_recall: 0.0000e+00 - val_Accuracy: 0.0000e+00\n",
      "Epoch 51/100\n",
      "113/113 [==============================] - 1s 5ms/step - loss: 0.5263 - fn: 4936.0000 - fp: 0.0000e+00 - tn: 17564.0000 - tp: 0.0000e+00 - precision: 0.0000e+00 - recall: 0.0000e+00 - Accuracy: 0.0000e+00 - val_loss: 0.5358 - val_fn: 1700.0000 - val_fp: 0.0000e+00 - val_tn: 5800.0000 - val_tp: 0.0000e+00 - val_precision: 0.0000e+00 - val_recall: 0.0000e+00 - val_Accuracy: 0.0000e+00\n",
      "Epoch 52/100\n",
      "113/113 [==============================] - 1s 5ms/step - loss: 0.5262 - fn: 4936.0000 - fp: 0.0000e+00 - tn: 17564.0000 - tp: 0.0000e+00 - precision: 0.0000e+00 - recall: 0.0000e+00 - Accuracy: 4.4444e-05 - val_loss: 0.5353 - val_fn: 1700.0000 - val_fp: 0.0000e+00 - val_tn: 5800.0000 - val_tp: 0.0000e+00 - val_precision: 0.0000e+00 - val_recall: 0.0000e+00 - val_Accuracy: 0.0000e+00\n",
      "Epoch 53/100\n",
      "113/113 [==============================] - 1s 7ms/step - loss: 0.5262 - fn: 4936.0000 - fp: 0.0000e+00 - tn: 17564.0000 - tp: 0.0000e+00 - precision: 0.0000e+00 - recall: 0.0000e+00 - Accuracy: 0.0000e+00 - val_loss: 0.5354 - val_fn: 1700.0000 - val_fp: 0.0000e+00 - val_tn: 5800.0000 - val_tp: 0.0000e+00 - val_precision: 0.0000e+00 - val_recall: 0.0000e+00 - val_Accuracy: 0.0000e+00\n",
      "Epoch 54/100\n",
      "113/113 [==============================] - 1s 6ms/step - loss: 0.5262 - fn: 4936.0000 - fp: 0.0000e+00 - tn: 17564.0000 - tp: 0.0000e+00 - precision: 0.0000e+00 - recall: 0.0000e+00 - Accuracy: 0.0000e+00 - val_loss: 0.5352 - val_fn: 1700.0000 - val_fp: 0.0000e+00 - val_tn: 5800.0000 - val_tp: 0.0000e+00 - val_precision: 0.0000e+00 - val_recall: 0.0000e+00 - val_Accuracy: 0.0000e+00\n",
      "Epoch 55/100\n",
      "113/113 [==============================] - 1s 6ms/step - loss: 0.5263 - fn: 4936.0000 - fp: 1.0000 - tn: 17563.0000 - tp: 0.0000e+00 - precision: 0.0000e+00 - recall: 0.0000e+00 - Accuracy: 0.0000e+00 - val_loss: 0.5352 - val_fn: 1700.0000 - val_fp: 0.0000e+00 - val_tn: 5800.0000 - val_tp: 0.0000e+00 - val_precision: 0.0000e+00 - val_recall: 0.0000e+00 - val_Accuracy: 0.0000e+00\n",
      "Epoch 56/100\n",
      "113/113 [==============================] - 1s 5ms/step - loss: 0.5262 - fn: 4935.0000 - fp: 0.0000e+00 - tn: 17564.0000 - tp: 1.0000 - precision: 1.0000 - recall: 2.0259e-04 - Accuracy: 8.8889e-05 - val_loss: 0.5354 - val_fn: 1700.0000 - val_fp: 0.0000e+00 - val_tn: 5800.0000 - val_tp: 0.0000e+00 - val_precision: 0.0000e+00 - val_recall: 0.0000e+00 - val_Accuracy: 0.0000e+00\n",
      "Epoch 57/100\n",
      "113/113 [==============================] - 1s 5ms/step - loss: 0.5512 - fn: 4934.0000 - fp: 2.0000 - tn: 17562.0000 - tp: 2.0000 - precision: 0.5000 - recall: 4.0519e-04 - Accuracy: 8.8889e-05 - val_loss: 0.5354 - val_fn: 1700.0000 - val_fp: 0.0000e+00 - val_tn: 5800.0000 - val_tp: 0.0000e+00 - val_precision: 0.0000e+00 - val_recall: 0.0000e+00 - val_Accuracy: 0.0000e+00\n",
      "Epoch 58/100\n",
      "113/113 [==============================] - 1s 5ms/step - loss: 0.5281 - fn: 4936.0000 - fp: 0.0000e+00 - tn: 17564.0000 - tp: 0.0000e+00 - precision: 0.0000e+00 - recall: 0.0000e+00 - Accuracy: 4.4444e-05 - val_loss: 0.5357 - val_fn: 1700.0000 - val_fp: 0.0000e+00 - val_tn: 5800.0000 - val_tp: 0.0000e+00 - val_precision: 0.0000e+00 - val_recall: 0.0000e+00 - val_Accuracy: 0.0000e+00\n",
      "Epoch 59/100\n",
      "113/113 [==============================] - 0s 4ms/step - loss: 0.5262 - fn: 4935.0000 - fp: 0.0000e+00 - tn: 17564.0000 - tp: 1.0000 - precision: 1.0000 - recall: 2.0259e-04 - Accuracy: 4.4444e-05 - val_loss: 0.5357 - val_fn: 1700.0000 - val_fp: 0.0000e+00 - val_tn: 5800.0000 - val_tp: 0.0000e+00 - val_precision: 0.0000e+00 - val_recall: 0.0000e+00 - val_Accuracy: 0.0000e+00\n",
      "Epoch 60/100\n",
      "113/113 [==============================] - 0s 4ms/step - loss: 0.5496 - fn: 4936.0000 - fp: 0.0000e+00 - tn: 17564.0000 - tp: 0.0000e+00 - precision: 0.0000e+00 - recall: 0.0000e+00 - Accuracy: 0.0000e+00 - val_loss: 0.5357 - val_fn: 1700.0000 - val_fp: 0.0000e+00 - val_tn: 5800.0000 - val_tp: 0.0000e+00 - val_precision: 0.0000e+00 - val_recall: 0.0000e+00 - val_Accuracy: 0.0000e+00\n",
      "Epoch 61/100\n",
      "113/113 [==============================] - 0s 4ms/step - loss: 0.5263 - fn: 4936.0000 - fp: 0.0000e+00 - tn: 17564.0000 - tp: 0.0000e+00 - precision: 0.0000e+00 - recall: 0.0000e+00 - Accuracy: 0.0000e+00 - val_loss: 0.5358 - val_fn: 1700.0000 - val_fp: 0.0000e+00 - val_tn: 5800.0000 - val_tp: 0.0000e+00 - val_precision: 0.0000e+00 - val_recall: 0.0000e+00 - val_Accuracy: 0.0000e+00\n",
      "Epoch 62/100\n",
      "113/113 [==============================] - 0s 4ms/step - loss: 0.5262 - fn: 4936.0000 - fp: 1.0000 - tn: 17563.0000 - tp: 0.0000e+00 - precision: 0.0000e+00 - recall: 0.0000e+00 - Accuracy: 0.0000e+00 - val_loss: 0.5355 - val_fn: 1700.0000 - val_fp: 0.0000e+00 - val_tn: 5800.0000 - val_tp: 0.0000e+00 - val_precision: 0.0000e+00 - val_recall: 0.0000e+00 - val_Accuracy: 0.0000e+00\n",
      "Epoch 63/100\n",
      "113/113 [==============================] - 1s 5ms/step - loss: 0.5262 - fn: 4936.0000 - fp: 0.0000e+00 - tn: 17564.0000 - tp: 0.0000e+00 - precision: 0.0000e+00 - recall: 0.0000e+00 - Accuracy: 0.0000e+00 - val_loss: 0.5354 - val_fn: 1700.0000 - val_fp: 0.0000e+00 - val_tn: 5800.0000 - val_tp: 0.0000e+00 - val_precision: 0.0000e+00 - val_recall: 0.0000e+00 - val_Accuracy: 0.0000e+00\n",
      "Epoch 64/100\n",
      "113/113 [==============================] - 0s 4ms/step - loss: 0.5262 - fn: 4936.0000 - fp: 0.0000e+00 - tn: 17564.0000 - tp: 0.0000e+00 - precision: 0.0000e+00 - recall: 0.0000e+00 - Accuracy: 0.0000e+00 - val_loss: 0.5354 - val_fn: 1700.0000 - val_fp: 0.0000e+00 - val_tn: 5800.0000 - val_tp: 0.0000e+00 - val_precision: 0.0000e+00 - val_recall: 0.0000e+00 - val_Accuracy: 0.0000e+00\n",
      "Epoch 65/100\n",
      "113/113 [==============================] - 1s 5ms/step - loss: 0.5262 - fn: 4936.0000 - fp: 0.0000e+00 - tn: 17564.0000 - tp: 0.0000e+00 - precision: 0.0000e+00 - recall: 0.0000e+00 - Accuracy: 0.0000e+00 - val_loss: 0.5355 - val_fn: 1700.0000 - val_fp: 0.0000e+00 - val_tn: 5800.0000 - val_tp: 0.0000e+00 - val_precision: 0.0000e+00 - val_recall: 0.0000e+00 - val_Accuracy: 0.0000e+00\n",
      "Epoch 66/100\n",
      "113/113 [==============================] - 1s 5ms/step - loss: 0.5261 - fn: 4936.0000 - fp: 0.0000e+00 - tn: 17564.0000 - tp: 0.0000e+00 - precision: 0.0000e+00 - recall: 0.0000e+00 - Accuracy: 8.8889e-05 - val_loss: 0.5354 - val_fn: 1700.0000 - val_fp: 0.0000e+00 - val_tn: 5800.0000 - val_tp: 0.0000e+00 - val_precision: 0.0000e+00 - val_recall: 0.0000e+00 - val_Accuracy: 0.0000e+00\n",
      "Epoch 67/100\n",
      "113/113 [==============================] - 0s 4ms/step - loss: 0.5262 - fn: 4936.0000 - fp: 0.0000e+00 - tn: 17564.0000 - tp: 0.0000e+00 - precision: 0.0000e+00 - recall: 0.0000e+00 - Accuracy: 4.4444e-05 - val_loss: 0.5354 - val_fn: 1700.0000 - val_fp: 0.0000e+00 - val_tn: 5800.0000 - val_tp: 0.0000e+00 - val_precision: 0.0000e+00 - val_recall: 0.0000e+00 - val_Accuracy: 0.0000e+00\n",
      "Epoch 68/100\n",
      "113/113 [==============================] - 1s 5ms/step - loss: 0.5262 - fn: 4936.0000 - fp: 1.0000 - tn: 17563.0000 - tp: 0.0000e+00 - precision: 0.0000e+00 - recall: 0.0000e+00 - Accuracy: 0.0000e+00 - val_loss: 0.5352 - val_fn: 1700.0000 - val_fp: 0.0000e+00 - val_tn: 5800.0000 - val_tp: 0.0000e+00 - val_precision: 0.0000e+00 - val_recall: 0.0000e+00 - val_Accuracy: 0.0000e+00\n",
      "Epoch 69/100\n",
      "113/113 [==============================] - 0s 4ms/step - loss: 0.5263 - fn: 4936.0000 - fp: 0.0000e+00 - tn: 17564.0000 - tp: 0.0000e+00 - precision: 0.0000e+00 - recall: 0.0000e+00 - Accuracy: 0.0000e+00 - val_loss: 0.5353 - val_fn: 1700.0000 - val_fp: 0.0000e+00 - val_tn: 5800.0000 - val_tp: 0.0000e+00 - val_precision: 0.0000e+00 - val_recall: 0.0000e+00 - val_Accuracy: 0.0000e+00\n",
      "Epoch 70/100\n",
      "113/113 [==============================] - 0s 3ms/step - loss: 0.5263 - fn: 4936.0000 - fp: 0.0000e+00 - tn: 17564.0000 - tp: 0.0000e+00 - precision: 0.0000e+00 - recall: 0.0000e+00 - Accuracy: 0.0000e+00 - val_loss: 0.5353 - val_fn: 1700.0000 - val_fp: 0.0000e+00 - val_tn: 5800.0000 - val_tp: 0.0000e+00 - val_precision: 0.0000e+00 - val_recall: 0.0000e+00 - val_Accuracy: 0.0000e+00\n",
      "Epoch 71/100\n",
      "113/113 [==============================] - 0s 4ms/step - loss: 0.5262 - fn: 4936.0000 - fp: 0.0000e+00 - tn: 17564.0000 - tp: 0.0000e+00 - precision: 0.0000e+00 - recall: 0.0000e+00 - Accuracy: 0.0000e+00 - val_loss: 0.5353 - val_fn: 1700.0000 - val_fp: 0.0000e+00 - val_tn: 5800.0000 - val_tp: 0.0000e+00 - val_precision: 0.0000e+00 - val_recall: 0.0000e+00 - val_Accuracy: 0.0000e+00\n",
      "Epoch 72/100\n",
      "113/113 [==============================] - 0s 4ms/step - loss: 0.5262 - fn: 4936.0000 - fp: 0.0000e+00 - tn: 17564.0000 - tp: 0.0000e+00 - precision: 0.0000e+00 - recall: 0.0000e+00 - Accuracy: 4.4444e-05 - val_loss: 0.5353 - val_fn: 1700.0000 - val_fp: 0.0000e+00 - val_tn: 5800.0000 - val_tp: 0.0000e+00 - val_precision: 0.0000e+00 - val_recall: 0.0000e+00 - val_Accuracy: 0.0000e+00\n",
      "Epoch 73/100\n",
      "113/113 [==============================] - 0s 4ms/step - loss: 0.5262 - fn: 4936.0000 - fp: 0.0000e+00 - tn: 17564.0000 - tp: 0.0000e+00 - precision: 0.0000e+00 - recall: 0.0000e+00 - Accuracy: 0.0000e+00 - val_loss: 0.5352 - val_fn: 1700.0000 - val_fp: 0.0000e+00 - val_tn: 5800.0000 - val_tp: 0.0000e+00 - val_precision: 0.0000e+00 - val_recall: 0.0000e+00 - val_Accuracy: 0.0000e+00\n",
      "Epoch 74/100\n",
      "113/113 [==============================] - 1s 5ms/step - loss: 0.5262 - fn: 4936.0000 - fp: 0.0000e+00 - tn: 17564.0000 - tp: 0.0000e+00 - precision: 0.0000e+00 - recall: 0.0000e+00 - Accuracy: 0.0000e+00 - val_loss: 0.5355 - val_fn: 1700.0000 - val_fp: 0.0000e+00 - val_tn: 5800.0000 - val_tp: 0.0000e+00 - val_precision: 0.0000e+00 - val_recall: 0.0000e+00 - val_Accuracy: 0.0000e+00\n",
      "Epoch 75/100\n",
      "113/113 [==============================] - 1s 5ms/step - loss: 0.5347 - fn: 4936.0000 - fp: 0.0000e+00 - tn: 17564.0000 - tp: 0.0000e+00 - precision: 0.0000e+00 - recall: 0.0000e+00 - Accuracy: 0.0000e+00 - val_loss: 0.5354 - val_fn: 1700.0000 - val_fp: 0.0000e+00 - val_tn: 5800.0000 - val_tp: 0.0000e+00 - val_precision: 0.0000e+00 - val_recall: 0.0000e+00 - val_Accuracy: 0.0000e+00\n",
      "Epoch 76/100\n",
      "113/113 [==============================] - 1s 4ms/step - loss: 0.5262 - fn: 4935.0000 - fp: 0.0000e+00 - tn: 17564.0000 - tp: 1.0000 - precision: 1.0000 - recall: 2.0259e-04 - Accuracy: 4.4444e-05 - val_loss: 0.5353 - val_fn: 1700.0000 - val_fp: 0.0000e+00 - val_tn: 5800.0000 - val_tp: 0.0000e+00 - val_precision: 0.0000e+00 - val_recall: 0.0000e+00 - val_Accuracy: 0.0000e+00\n",
      "Epoch 77/100\n",
      "113/113 [==============================] - 0s 4ms/step - loss: 0.5262 - fn: 4936.0000 - fp: 0.0000e+00 - tn: 17564.0000 - tp: 0.0000e+00 - precision: 0.0000e+00 - recall: 0.0000e+00 - Accuracy: 0.0000e+00 - val_loss: 0.5354 - val_fn: 1700.0000 - val_fp: 0.0000e+00 - val_tn: 5800.0000 - val_tp: 0.0000e+00 - val_precision: 0.0000e+00 - val_recall: 0.0000e+00 - val_Accuracy: 0.0000e+00\n",
      "Epoch 78/100\n",
      "113/113 [==============================] - 1s 4ms/step - loss: 0.5262 - fn: 4936.0000 - fp: 0.0000e+00 - tn: 17564.0000 - tp: 0.0000e+00 - precision: 0.0000e+00 - recall: 0.0000e+00 - Accuracy: 4.4444e-05 - val_loss: 0.5356 - val_fn: 1700.0000 - val_fp: 0.0000e+00 - val_tn: 5800.0000 - val_tp: 0.0000e+00 - val_precision: 0.0000e+00 - val_recall: 0.0000e+00 - val_Accuracy: 0.0000e+00\n",
      "Epoch 79/100\n",
      "113/113 [==============================] - 0s 4ms/step - loss: 0.5262 - fn: 4936.0000 - fp: 0.0000e+00 - tn: 17564.0000 - tp: 0.0000e+00 - precision: 0.0000e+00 - recall: 0.0000e+00 - Accuracy: 4.4444e-05 - val_loss: 0.5357 - val_fn: 1700.0000 - val_fp: 0.0000e+00 - val_tn: 5800.0000 - val_tp: 0.0000e+00 - val_precision: 0.0000e+00 - val_recall: 0.0000e+00 - val_Accuracy: 0.0000e+00\n",
      "Epoch 80/100\n",
      "113/113 [==============================] - 1s 5ms/step - loss: 0.5268 - fn: 4936.0000 - fp: 0.0000e+00 - tn: 17564.0000 - tp: 0.0000e+00 - precision: 0.0000e+00 - recall: 0.0000e+00 - Accuracy: 0.0000e+00 - val_loss: 0.5353 - val_fn: 1700.0000 - val_fp: 0.0000e+00 - val_tn: 5800.0000 - val_tp: 0.0000e+00 - val_precision: 0.0000e+00 - val_recall: 0.0000e+00 - val_Accuracy: 0.0000e+00\n",
      "Epoch 81/100\n",
      "113/113 [==============================] - 1s 4ms/step - loss: 0.5262 - fn: 4936.0000 - fp: 0.0000e+00 - tn: 17564.0000 - tp: 0.0000e+00 - precision: 0.0000e+00 - recall: 0.0000e+00 - Accuracy: 0.0000e+00 - val_loss: 0.5352 - val_fn: 1700.0000 - val_fp: 0.0000e+00 - val_tn: 5800.0000 - val_tp: 0.0000e+00 - val_precision: 0.0000e+00 - val_recall: 0.0000e+00 - val_Accuracy: 0.0000e+00\n",
      "Epoch 82/100\n",
      "113/113 [==============================] - 1s 5ms/step - loss: 0.5262 - fn: 4936.0000 - fp: 0.0000e+00 - tn: 17564.0000 - tp: 0.0000e+00 - precision: 0.0000e+00 - recall: 0.0000e+00 - Accuracy: 0.0000e+00 - val_loss: 0.5353 - val_fn: 1700.0000 - val_fp: 0.0000e+00 - val_tn: 5800.0000 - val_tp: 0.0000e+00 - val_precision: 0.0000e+00 - val_recall: 0.0000e+00 - val_Accuracy: 0.0000e+00\n",
      "Epoch 83/100\n",
      "113/113 [==============================] - 1s 5ms/step - loss: 0.5262 - fn: 4936.0000 - fp: 0.0000e+00 - tn: 17564.0000 - tp: 0.0000e+00 - precision: 0.0000e+00 - recall: 0.0000e+00 - Accuracy: 0.0000e+00 - val_loss: 0.5355 - val_fn: 1700.0000 - val_fp: 0.0000e+00 - val_tn: 5800.0000 - val_tp: 0.0000e+00 - val_precision: 0.0000e+00 - val_recall: 0.0000e+00 - val_Accuracy: 0.0000e+00\n",
      "Epoch 84/100\n",
      "113/113 [==============================] - 1s 5ms/step - loss: 0.5263 - fn: 4936.0000 - fp: 1.0000 - tn: 17563.0000 - tp: 0.0000e+00 - precision: 0.0000e+00 - recall: 0.0000e+00 - Accuracy: 0.0000e+00 - val_loss: 0.5353 - val_fn: 1700.0000 - val_fp: 0.0000e+00 - val_tn: 5800.0000 - val_tp: 0.0000e+00 - val_precision: 0.0000e+00 - val_recall: 0.0000e+00 - val_Accuracy: 0.0000e+00\n",
      "Epoch 85/100\n",
      "113/113 [==============================] - 1s 5ms/step - loss: 0.5262 - fn: 4936.0000 - fp: 0.0000e+00 - tn: 17564.0000 - tp: 0.0000e+00 - precision: 0.0000e+00 - recall: 0.0000e+00 - Accuracy: 0.0000e+00 - val_loss: 0.5353 - val_fn: 1700.0000 - val_fp: 0.0000e+00 - val_tn: 5800.0000 - val_tp: 0.0000e+00 - val_precision: 0.0000e+00 - val_recall: 0.0000e+00 - val_Accuracy: 0.0000e+00\n",
      "Epoch 86/100\n",
      "113/113 [==============================] - 0s 4ms/step - loss: 0.5262 - fn: 4936.0000 - fp: 0.0000e+00 - tn: 17564.0000 - tp: 0.0000e+00 - precision: 0.0000e+00 - recall: 0.0000e+00 - Accuracy: 0.0000e+00 - val_loss: 0.5353 - val_fn: 1700.0000 - val_fp: 0.0000e+00 - val_tn: 5800.0000 - val_tp: 0.0000e+00 - val_precision: 0.0000e+00 - val_recall: 0.0000e+00 - val_Accuracy: 0.0000e+00\n",
      "Epoch 87/100\n",
      "113/113 [==============================] - 0s 4ms/step - loss: 0.5262 - fn: 4936.0000 - fp: 0.0000e+00 - tn: 17564.0000 - tp: 0.0000e+00 - precision: 0.0000e+00 - recall: 0.0000e+00 - Accuracy: 0.0000e+00 - val_loss: 0.5353 - val_fn: 1700.0000 - val_fp: 0.0000e+00 - val_tn: 5800.0000 - val_tp: 0.0000e+00 - val_precision: 0.0000e+00 - val_recall: 0.0000e+00 - val_Accuracy: 0.0000e+00\n",
      "Epoch 88/100\n",
      "113/113 [==============================] - 0s 4ms/step - loss: 0.5261 - fn: 4936.0000 - fp: 0.0000e+00 - tn: 17564.0000 - tp: 0.0000e+00 - precision: 0.0000e+00 - recall: 0.0000e+00 - Accuracy: 0.0000e+00 - val_loss: 0.5352 - val_fn: 1700.0000 - val_fp: 0.0000e+00 - val_tn: 5800.0000 - val_tp: 0.0000e+00 - val_precision: 0.0000e+00 - val_recall: 0.0000e+00 - val_Accuracy: 0.0000e+00\n",
      "Epoch 89/100\n",
      "113/113 [==============================] - 0s 4ms/step - loss: 0.5262 - fn: 4936.0000 - fp: 0.0000e+00 - tn: 17564.0000 - tp: 0.0000e+00 - precision: 0.0000e+00 - recall: 0.0000e+00 - Accuracy: 0.0000e+00 - val_loss: 0.5356 - val_fn: 1700.0000 - val_fp: 0.0000e+00 - val_tn: 5800.0000 - val_tp: 0.0000e+00 - val_precision: 0.0000e+00 - val_recall: 0.0000e+00 - val_Accuracy: 0.0000e+00\n",
      "Epoch 90/100\n",
      "113/113 [==============================] - 0s 4ms/step - loss: 0.5262 - fn: 4936.0000 - fp: 0.0000e+00 - tn: 17564.0000 - tp: 0.0000e+00 - precision: 0.0000e+00 - recall: 0.0000e+00 - Accuracy: 4.4444e-05 - val_loss: 0.5353 - val_fn: 1700.0000 - val_fp: 0.0000e+00 - val_tn: 5800.0000 - val_tp: 0.0000e+00 - val_precision: 0.0000e+00 - val_recall: 0.0000e+00 - val_Accuracy: 0.0000e+00\n",
      "Epoch 91/100\n",
      "113/113 [==============================] - 0s 4ms/step - loss: 0.5263 - fn: 4936.0000 - fp: 0.0000e+00 - tn: 17564.0000 - tp: 0.0000e+00 - precision: 0.0000e+00 - recall: 0.0000e+00 - Accuracy: 0.0000e+00 - val_loss: 0.5355 - val_fn: 1700.0000 - val_fp: 0.0000e+00 - val_tn: 5800.0000 - val_tp: 0.0000e+00 - val_precision: 0.0000e+00 - val_recall: 0.0000e+00 - val_Accuracy: 0.0000e+00\n",
      "Epoch 92/100\n",
      "113/113 [==============================] - 0s 3ms/step - loss: 0.5612 - fn: 4936.0000 - fp: 1.0000 - tn: 17563.0000 - tp: 0.0000e+00 - precision: 0.0000e+00 - recall: 0.0000e+00 - Accuracy: 0.0000e+00 - val_loss: 0.5352 - val_fn: 1700.0000 - val_fp: 0.0000e+00 - val_tn: 5800.0000 - val_tp: 0.0000e+00 - val_precision: 0.0000e+00 - val_recall: 0.0000e+00 - val_Accuracy: 0.0000e+00\n",
      "Epoch 93/100\n",
      "113/113 [==============================] - 0s 3ms/step - loss: 0.5290 - fn: 4936.0000 - fp: 0.0000e+00 - tn: 17564.0000 - tp: 0.0000e+00 - precision: 0.0000e+00 - recall: 0.0000e+00 - Accuracy: 4.4444e-05 - val_loss: 0.5354 - val_fn: 1700.0000 - val_fp: 0.0000e+00 - val_tn: 5800.0000 - val_tp: 0.0000e+00 - val_precision: 0.0000e+00 - val_recall: 0.0000e+00 - val_Accuracy: 0.0000e+00\n",
      "Epoch 94/100\n",
      "113/113 [==============================] - 0s 3ms/step - loss: 0.5262 - fn: 4936.0000 - fp: 0.0000e+00 - tn: 17564.0000 - tp: 0.0000e+00 - precision: 0.0000e+00 - recall: 0.0000e+00 - Accuracy: 0.0000e+00 - val_loss: 0.5352 - val_fn: 1700.0000 - val_fp: 0.0000e+00 - val_tn: 5800.0000 - val_tp: 0.0000e+00 - val_precision: 0.0000e+00 - val_recall: 0.0000e+00 - val_Accuracy: 0.0000e+00\n",
      "Epoch 95/100\n",
      "113/113 [==============================] - 0s 3ms/step - loss: 0.5261 - fn: 4936.0000 - fp: 0.0000e+00 - tn: 17564.0000 - tp: 0.0000e+00 - precision: 0.0000e+00 - recall: 0.0000e+00 - Accuracy: 4.4444e-05 - val_loss: 0.5355 - val_fn: 1700.0000 - val_fp: 0.0000e+00 - val_tn: 5800.0000 - val_tp: 0.0000e+00 - val_precision: 0.0000e+00 - val_recall: 0.0000e+00 - val_Accuracy: 0.0000e+00\n",
      "Epoch 96/100\n",
      "113/113 [==============================] - 0s 3ms/step - loss: 0.5717 - fn: 4936.0000 - fp: 1.0000 - tn: 17563.0000 - tp: 0.0000e+00 - precision: 0.0000e+00 - recall: 0.0000e+00 - Accuracy: 1.3333e-04 - val_loss: 0.5354 - val_fn: 1700.0000 - val_fp: 0.0000e+00 - val_tn: 5800.0000 - val_tp: 0.0000e+00 - val_precision: 0.0000e+00 - val_recall: 0.0000e+00 - val_Accuracy: 0.0000e+00\n",
      "Epoch 97/100\n",
      "113/113 [==============================] - 0s 4ms/step - loss: 0.5470 - fn: 4936.0000 - fp: 1.0000 - tn: 17563.0000 - tp: 0.0000e+00 - precision: 0.0000e+00 - recall: 0.0000e+00 - Accuracy: 2.6667e-04 - val_loss: 0.5355 - val_fn: 1700.0000 - val_fp: 0.0000e+00 - val_tn: 5800.0000 - val_tp: 0.0000e+00 - val_precision: 0.0000e+00 - val_recall: 0.0000e+00 - val_Accuracy: 0.0000e+00\n",
      "Epoch 98/100\n",
      "113/113 [==============================] - 0s 3ms/step - loss: 0.5262 - fn: 4936.0000 - fp: 0.0000e+00 - tn: 17564.0000 - tp: 0.0000e+00 - precision: 0.0000e+00 - recall: 0.0000e+00 - Accuracy: 0.0000e+00 - val_loss: 0.5353 - val_fn: 1700.0000 - val_fp: 0.0000e+00 - val_tn: 5800.0000 - val_tp: 0.0000e+00 - val_precision: 0.0000e+00 - val_recall: 0.0000e+00 - val_Accuracy: 0.0000e+00\n",
      "Epoch 99/100\n",
      "113/113 [==============================] - 0s 3ms/step - loss: 0.5262 - fn: 4936.0000 - fp: 0.0000e+00 - tn: 17564.0000 - tp: 0.0000e+00 - precision: 0.0000e+00 - recall: 0.0000e+00 - Accuracy: 0.0000e+00 - val_loss: 0.5352 - val_fn: 1700.0000 - val_fp: 0.0000e+00 - val_tn: 5800.0000 - val_tp: 0.0000e+00 - val_precision: 0.0000e+00 - val_recall: 0.0000e+00 - val_Accuracy: 0.0000e+00\n",
      "Epoch 100/100\n",
      "113/113 [==============================] - 0s 4ms/step - loss: 0.6458 - fn: 4936.0000 - fp: 2.0000 - tn: 17562.0000 - tp: 0.0000e+00 - precision: 0.0000e+00 - recall: 0.0000e+00 - Accuracy: 0.0000e+00 - val_loss: 0.5358 - val_fn: 1700.0000 - val_fp: 0.0000e+00 - val_tn: 5800.0000 - val_tp: 0.0000e+00 - val_precision: 0.0000e+00 - val_recall: 0.0000e+00 - val_Accuracy: 0.0000e+00\n"
     ]
    },
    {
     "data": {
      "text/plain": [
       "<keras.callbacks.History at 0x2cf83786740>"
      ]
     },
     "execution_count": 86,
     "metadata": {},
     "output_type": "execute_result"
    }
   ],
   "source": [
    "metrics = [\n",
    "    keras.metrics.FalseNegatives(name=\"fn\"),\n",
    "    keras.metrics.FalsePositives(name=\"fp\"),\n",
    "    keras.metrics.TrueNegatives(name=\"tn\"),\n",
    "    keras.metrics.TruePositives(name=\"tp\"),\n",
    "    keras.metrics.Precision(name=\"precision\"),\n",
    "    keras.metrics.Recall(name=\"recall\"),\n",
    "    keras.metrics.Accuracy(name=\"Accuracy\")\n",
    "]\n",
    "\n",
    "model.compile(\n",
    "    optimizer=keras.optimizers.Adam(1e-2), loss=\"binary_crossentropy\", metrics=metrics\n",
    ")\n",
    "\n",
    "model.fit(\n",
    "    X_train_naive,\n",
    "    y_train_naive,\n",
    "    batch_size=200,\n",
    "    epochs=100,\n",
    "    #verbose=2,\n",
    "    #callbacks=callbacks,\n",
    "    validation_data=(X_test_naive, y_test_naive)\n",
    ")"
   ]
  },
  {
   "cell_type": "code",
   "execution_count": null,
   "id": "04e29a64",
   "metadata": {},
   "outputs": [],
   "source": []
  },
  {
   "cell_type": "code",
   "execution_count": null,
   "id": "bc5a2d9f",
   "metadata": {},
   "outputs": [
    {
     "data": {
      "text/plain": [
       "<AxesSubplot: >"
      ]
     },
     "execution_count": 87,
     "metadata": {},
     "output_type": "execute_result"
    },
    {
     "data": {
      "image/png": "[encoded data removed]",
      "text/plain": [
       "<Figure size 432x288 with 1 Axes>"
      ]
     },
     "metadata": {
      "needs_background": "light"
     },
     "output_type": "display_data"
    }
   ],
   "source": [
    "losses = pd.DataFrame(model.history.history)\n",
    "losses[['loss','val_loss']].plot()"
   ]
  },
  {
   "cell_type": "code",
   "execution_count": null,
   "id": "5e655362",
   "metadata": {},
   "outputs": [
    {
     "name": "stdout",
     "output_type": "stream",
     "text": [
      "235/235 [==============================] - 0s 2ms/step\n",
      "              precision    recall  f1-score   support\n",
      "\n",
      "           0       0.77      1.00      0.87      5800\n",
      "           1       0.00      0.00      0.00      1700\n",
      "\n",
      "    accuracy                           0.77      7500\n",
      "   macro avg       0.39      0.50      0.44      7500\n",
      "weighted avg       0.60      0.77      0.67      7500\n",
      "\n"
     ]
    },
    {
     "name": "stderr",
     "output_type": "stream",
     "text": [
      "C:\\Users\\user\\AppData\\Local\\Packages\\PythonSoftwareFoundation.Python.3.10_qbz5n2kfra8p0\\LocalCache\\local-packages\\Python310\\site-packages\\sklearn\\metrics\\_classification.py:1334: UndefinedMetricWarning: Precision and F-score are ill-defined and being set to 0.0 in labels with no predicted samples. Use `zero_division` parameter to control this behavior.\n",
      "  _warn_prf(average, modifier, msg_start, len(result))\n",
      "C:\\Users\\user\\AppData\\Local\\Packages\\PythonSoftwareFoundation.Python.3.10_qbz5n2kfra8p0\\LocalCache\\local-packages\\Python310\\site-packages\\sklearn\\metrics\\_classification.py:1334: UndefinedMetricWarning: Precision and F-score are ill-defined and being set to 0.0 in labels with no predicted samples. Use `zero_division` parameter to control this behavior.\n",
      "  _warn_prf(average, modifier, msg_start, len(result))\n",
      "C:\\Users\\user\\AppData\\Local\\Packages\\PythonSoftwareFoundation.Python.3.10_qbz5n2kfra8p0\\LocalCache\\local-packages\\Python310\\site-packages\\sklearn\\metrics\\_classification.py:1334: UndefinedMetricWarning: Precision and F-score are ill-defined and being set to 0.0 in labels with no predicted samples. Use `zero_division` parameter to control this behavior.\n",
      "  _warn_prf(average, modifier, msg_start, len(result))\n"
     ]
    },
    {
     "data": {
      "text/plain": [
       "array([[5800,    0],\n",
       "       [1700,    0]], dtype=int64)"
      ]
     },
     "execution_count": 91,
     "metadata": {},
     "output_type": "execute_result"
    }
   ],
   "source": [
    "predictions = model.predict(X_test_naive)\n",
    "predictions = np.argmax(predictions,axis=1)\n",
    "print(classification_report(y_test_naive,predictions))"
   ]
  },
  {
   "cell_type": "code",
   "execution_count": null,
   "id": "d5912380",
   "metadata": {},
   "outputs": [],
   "source": [
    "## Confusion matrix for naive Neural Network model\n",
    "plt.figure(figsize=(4,3))\n",
    "ConfMatrix = confusion_matrix(y_test_naive, predictions)\n",
    "sns.heatmap(ConfMatrix,annot=True, cmap=\"Blues\", fmt=\"d\", \n",
    "            xticklabels = ['Non-default', 'Default'], \n",
    "            yticklabels = ['Non-default', 'Default'])\n",
    "plt.ylabel('True label')\n",
    "plt.xlabel('Predicted label')\n",
    "plt.title(\"Confusion Matrix - Naive Neural Network Model\")"
   ]
  },
  {
   "cell_type": "markdown",
   "id": "af9e8452",
   "metadata": {},
   "source": [
    "#### Tuned Model"
   ]
  },
  {
   "cell_type": "code",
   "execution_count": null,
   "id": "fde59ea2",
   "metadata": {},
   "outputs": [
    {
     "name": "stdout",
     "output_type": "stream",
     "text": [
      "Number of positive samples in training data: 4936 (21.94% of total)\n"
     ]
    }
   ],
   "source": [
    "defaults = len(y_train[y_train == 1])\n",
    "nonDefaults = len(y_train) - defaults\n",
    "total = len(y_train)\n",
    "\n",
    "weight_for_0 = defaults / total\n",
    "weight_for_1 = nonDefaults/ total\n",
    "\n",
    "print(\n",
    "    \"Number of positive samples in training data: {} ({:.2f}% of total)\".format(\n",
    "        defaults, 100 * float(defaults) / len(y_train)\n",
    "    )\n",
    ")"
   ]
  },
  {
   "cell_type": "code",
   "execution_count": null,
   "id": "c27be8c0",
   "metadata": {},
   "outputs": [
    {
     "name": "stdout",
     "output_type": "stream",
     "text": [
      "Model: \"sequential_1\"\n",
      "_________________________________________________________________\n",
      " Layer (type)                Output Shape              Param #   \n",
      "=================================================================\n",
      " dense_4 (Dense)             (None, 256)               3328      \n",
      "                                                                 \n",
      " dense_5 (Dense)             (None, 256)               65792     \n",
      "                                                                 \n",
      " dropout_2 (Dropout)         (None, 256)               0         \n",
      "                                                                 \n",
      " dense_6 (Dense)             (None, 256)               65792     \n",
      "                                                                 \n",
      " dropout_3 (Dropout)         (None, 256)               0         \n",
      "                                                                 \n",
      " dense_7 (Dense)             (None, 1)                 257       \n",
      "                                                                 \n",
      "=================================================================\n",
      "Total params: 135,169\n",
      "Trainable params: 135,169\n",
      "Non-trainable params: 0\n",
      "_________________________________________________________________\n"
     ]
    }
   ],
   "source": [
    "from tensorflow import keras\n",
    "\n",
    "scaler = MinMaxScaler() \n",
    "X_train = scaler.fit_transform(X_train)\n",
    "X_test = scaler.fit_transform(X_test)\n",
    "\n",
    "model = keras.Sequential(\n",
    "    [\n",
    "        keras.layers.Dense(\n",
    "            12, activation=\"relu\", input_shape=(X_train.shape[-1],)\n",
    "        ),\n",
    "        keras.layers.Dropout(0.3),\n",
    "        keras.layers.Dense(6, activation=\"relu\"),\n",
    "        keras.layers.Dropout(0.3),\n",
    "        keras.layers.Dense(1, activation=\"sigmoid\"),\n",
    "    ]\n",
    ")\n",
    "model.summary()\n"
   ]
  },
  {
   "cell_type": "code",
   "execution_count": null,
   "id": "8f3a1d01",
   "metadata": {},
   "outputs": [
    {
     "name": "stdout",
     "output_type": "stream",
     "text": [
      "Epoch 1/100\n",
      "11/11 - 1s - loss: 0.2042 - fn: 1870.0000 - fp: 3915.0000 - tn: 13649.0000 - tp: 3066.0000 - precision: 0.4392 - recall: 0.6212 - Accuracy: 0.0000e+00 - val_loss: 0.5751 - val_fn: 631.0000 - val_fp: 1198.0000 - val_tn: 4602.0000 - val_tp: 1069.0000 - val_precision: 0.4715 - val_recall: 0.6288 - val_Accuracy: 0.0000e+00 - 1s/epoch - 117ms/step\n",
      "Epoch 2/100\n",
      "11/11 - 0s - loss: 0.2038 - fn: 1906.0000 - fp: 3856.0000 - tn: 13708.0000 - tp: 3030.0000 - precision: 0.4400 - recall: 0.6139 - Accuracy: 0.0000e+00 - val_loss: 0.6049 - val_fn: 597.0000 - val_fp: 1395.0000 - val_tn: 4405.0000 - val_tp: 1103.0000 - val_precision: 0.4416 - val_recall: 0.6488 - val_Accuracy: 0.0000e+00 - 59ms/epoch - 5ms/step\n",
      "Epoch 3/100\n",
      "11/11 - 0s - loss: 0.2037 - fn: 1874.0000 - fp: 3936.0000 - tn: 13628.0000 - tp: 3062.0000 - precision: 0.4376 - recall: 0.6203 - Accuracy: 0.0000e+00 - val_loss: 0.5783 - val_fn: 622.0000 - val_fp: 1248.0000 - val_tn: 4552.0000 - val_tp: 1078.0000 - val_precision: 0.4635 - val_recall: 0.6341 - val_Accuracy: 0.0000e+00 - 55ms/epoch - 5ms/step\n",
      "Epoch 4/100\n",
      "11/11 - 0s - loss: 0.2036 - fn: 1879.0000 - fp: 3973.0000 - tn: 13591.0000 - tp: 3057.0000 - precision: 0.4349 - recall: 0.6193 - Accuracy: 0.0000e+00 - val_loss: 0.5828 - val_fn: 635.0000 - val_fp: 1203.0000 - val_tn: 4597.0000 - val_tp: 1065.0000 - val_precision: 0.4696 - val_recall: 0.6265 - val_Accuracy: 0.0000e+00 - 58ms/epoch - 5ms/step\n",
      "Epoch 5/100\n",
      "11/11 - 0s - loss: 0.2045 - fn: 1943.0000 - fp: 3713.0000 - tn: 13851.0000 - tp: 2993.0000 - precision: 0.4463 - recall: 0.6064 - Accuracy: 0.0000e+00 - val_loss: 0.5881 - val_fn: 637.0000 - val_fp: 1186.0000 - val_tn: 4614.0000 - val_tp: 1063.0000 - val_precision: 0.4727 - val_recall: 0.6253 - val_Accuracy: 0.0000e+00 - 61ms/epoch - 6ms/step\n",
      "Epoch 6/100\n",
      "11/11 - 0s - loss: 0.2038 - fn: 1969.0000 - fp: 3595.0000 - tn: 13969.0000 - tp: 2967.0000 - precision: 0.4521 - recall: 0.6011 - Accuracy: 0.0000e+00 - val_loss: 0.5840 - val_fn: 642.0000 - val_fp: 1184.0000 - val_tn: 4616.0000 - val_tp: 1058.0000 - val_precision: 0.4719 - val_recall: 0.6224 - val_Accuracy: 0.0000e+00 - 61ms/epoch - 6ms/step\n",
      "Epoch 7/100\n",
      "11/11 - 0s - loss: 0.2032 - fn: 1821.0000 - fp: 4011.0000 - tn: 13553.0000 - tp: 3115.0000 - precision: 0.4371 - recall: 0.6311 - Accuracy: 0.0000e+00 - val_loss: 0.5756 - val_fn: 629.0000 - val_fp: 1208.0000 - val_tn: 4592.0000 - val_tp: 1071.0000 - val_precision: 0.4699 - val_recall: 0.6300 - val_Accuracy: 0.0000e+00 - 56ms/epoch - 5ms/step\n",
      "Epoch 8/100\n",
      "11/11 - 0s - loss: 0.2038 - fn: 1911.0000 - fp: 3803.0000 - tn: 13761.0000 - tp: 3025.0000 - precision: 0.4430 - recall: 0.6128 - Accuracy: 0.0000e+00 - val_loss: 0.6000 - val_fn: 612.0000 - val_fp: 1318.0000 - val_tn: 4482.0000 - val_tp: 1088.0000 - val_precision: 0.4522 - val_recall: 0.6400 - val_Accuracy: 0.0000e+00 - 59ms/epoch - 5ms/step\n",
      "Epoch 9/100\n",
      "11/11 - 0s - loss: 0.2036 - fn: 1869.0000 - fp: 3961.0000 - tn: 13603.0000 - tp: 3067.0000 - precision: 0.4364 - recall: 0.6214 - Accuracy: 0.0000e+00 - val_loss: 0.5746 - val_fn: 638.0000 - val_fp: 1201.0000 - val_tn: 4599.0000 - val_tp: 1062.0000 - val_precision: 0.4693 - val_recall: 0.6247 - val_Accuracy: 0.0000e+00 - 72ms/epoch - 7ms/step\n",
      "Epoch 10/100\n",
      "11/11 - 0s - loss: 0.2048 - fn: 1930.0000 - fp: 3752.0000 - tn: 13812.0000 - tp: 3006.0000 - precision: 0.4448 - recall: 0.6090 - Accuracy: 0.0000e+00 - val_loss: 0.5946 - val_fn: 629.0000 - val_fp: 1222.0000 - val_tn: 4578.0000 - val_tp: 1071.0000 - val_precision: 0.4671 - val_recall: 0.6300 - val_Accuracy: 0.0000e+00 - 58ms/epoch - 5ms/step\n",
      "Epoch 11/100\n",
      "11/11 - 0s - loss: 0.2047 - fn: 1944.0000 - fp: 3670.0000 - tn: 13894.0000 - tp: 2992.0000 - precision: 0.4491 - recall: 0.6062 - Accuracy: 0.0000e+00 - val_loss: 0.5929 - val_fn: 627.0000 - val_fp: 1271.0000 - val_tn: 4529.0000 - val_tp: 1073.0000 - val_precision: 0.4578 - val_recall: 0.6312 - val_Accuracy: 0.0000e+00 - 74ms/epoch - 7ms/step\n",
      "Epoch 12/100\n",
      "11/11 - 0s - loss: 0.2040 - fn: 1808.0000 - fp: 4160.0000 - tn: 13404.0000 - tp: 3128.0000 - precision: 0.4292 - recall: 0.6337 - Accuracy: 0.0000e+00 - val_loss: 0.5753 - val_fn: 633.0000 - val_fp: 1211.0000 - val_tn: 4589.0000 - val_tp: 1067.0000 - val_precision: 0.4684 - val_recall: 0.6276 - val_Accuracy: 0.0000e+00 - 64ms/epoch - 6ms/step\n",
      "Epoch 13/100\n",
      "11/11 - 0s - loss: 0.2040 - fn: 1929.0000 - fp: 3712.0000 - tn: 13852.0000 - tp: 3007.0000 - precision: 0.4475 - recall: 0.6092 - Accuracy: 0.0000e+00 - val_loss: 0.5892 - val_fn: 626.0000 - val_fp: 1257.0000 - val_tn: 4543.0000 - val_tp: 1074.0000 - val_precision: 0.4607 - val_recall: 0.6318 - val_Accuracy: 0.0000e+00 - 83ms/epoch - 8ms/step\n",
      "Epoch 14/100\n",
      "11/11 - 0s - loss: 0.2023 - fn: 1933.0000 - fp: 3668.0000 - tn: 13896.0000 - tp: 3003.0000 - precision: 0.4502 - recall: 0.6084 - Accuracy: 0.0000e+00 - val_loss: 0.5858 - val_fn: 622.0000 - val_fp: 1262.0000 - val_tn: 4538.0000 - val_tp: 1078.0000 - val_precision: 0.4607 - val_recall: 0.6341 - val_Accuracy: 0.0000e+00 - 80ms/epoch - 7ms/step\n",
      "Epoch 15/100\n",
      "11/11 - 0s - loss: 0.2038 - fn: 1836.0000 - fp: 4105.0000 - tn: 13459.0000 - tp: 3100.0000 - precision: 0.4303 - recall: 0.6280 - Accuracy: 0.0000e+00 - val_loss: 0.5762 - val_fn: 636.0000 - val_fp: 1200.0000 - val_tn: 4600.0000 - val_tp: 1064.0000 - val_precision: 0.4700 - val_recall: 0.6259 - val_Accuracy: 0.0000e+00 - 68ms/epoch - 6ms/step\n",
      "Epoch 16/100\n",
      "11/11 - 0s - loss: 0.2050 - fn: 1874.0000 - fp: 4014.0000 - tn: 13550.0000 - tp: 3062.0000 - precision: 0.4327 - recall: 0.6203 - Accuracy: 0.0000e+00 - val_loss: 0.5805 - val_fn: 632.0000 - val_fp: 1202.0000 - val_tn: 4598.0000 - val_tp: 1068.0000 - val_precision: 0.4705 - val_recall: 0.6282 - val_Accuracy: 0.0000e+00 - 50ms/epoch - 5ms/step\n",
      "Epoch 17/100\n",
      "11/11 - 0s - loss: 0.2046 - fn: 1913.0000 - fp: 3750.0000 - tn: 13814.0000 - tp: 3023.0000 - precision: 0.4463 - recall: 0.6124 - Accuracy: 0.0000e+00 - val_loss: 0.5969 - val_fn: 607.0000 - val_fp: 1318.0000 - val_tn: 4482.0000 - val_tp: 1093.0000 - val_precision: 0.4533 - val_recall: 0.6429 - val_Accuracy: 0.0000e+00 - 51ms/epoch - 5ms/step\n",
      "Epoch 18/100\n",
      "11/11 - 0s - loss: 0.2033 - fn: 1866.0000 - fp: 3963.0000 - tn: 13601.0000 - tp: 3070.0000 - precision: 0.4365 - recall: 0.6220 - Accuracy: 0.0000e+00 - val_loss: 0.5795 - val_fn: 629.0000 - val_fp: 1216.0000 - val_tn: 4584.0000 - val_tp: 1071.0000 - val_precision: 0.4683 - val_recall: 0.6300 - val_Accuracy: 0.0000e+00 - 51ms/epoch - 5ms/step\n",
      "Epoch 19/100\n",
      "11/11 - 0s - loss: 0.2034 - fn: 1880.0000 - fp: 3837.0000 - tn: 13727.0000 - tp: 3056.0000 - precision: 0.4433 - recall: 0.6191 - Accuracy: 0.0000e+00 - val_loss: 0.5896 - val_fn: 630.0000 - val_fp: 1243.0000 - val_tn: 4557.0000 - val_tp: 1070.0000 - val_precision: 0.4626 - val_recall: 0.6294 - val_Accuracy: 0.0000e+00 - 57ms/epoch - 5ms/step\n",
      "Epoch 20/100\n",
      "11/11 - 0s - loss: 0.2045 - fn: 1923.0000 - fp: 3783.0000 - tn: 13781.0000 - tp: 3013.0000 - precision: 0.4433 - recall: 0.6104 - Accuracy: 0.0000e+00 - val_loss: 0.5897 - val_fn: 617.0000 - val_fp: 1292.0000 - val_tn: 4508.0000 - val_tp: 1083.0000 - val_precision: 0.4560 - val_recall: 0.6371 - val_Accuracy: 0.0000e+00 - 56ms/epoch - 5ms/step\n",
      "Epoch 21/100\n",
      "11/11 - 0s - loss: 0.2046 - fn: 1862.0000 - fp: 4044.0000 - tn: 13520.0000 - tp: 3074.0000 - precision: 0.4319 - recall: 0.6228 - Accuracy: 0.0000e+00 - val_loss: 0.5863 - val_fn: 624.0000 - val_fp: 1228.0000 - val_tn: 4572.0000 - val_tp: 1076.0000 - val_precision: 0.4670 - val_recall: 0.6329 - val_Accuracy: 0.0000e+00 - 54ms/epoch - 5ms/step\n",
      "Epoch 22/100\n",
      "11/11 - 0s - loss: 0.2038 - fn: 1848.0000 - fp: 3982.0000 - tn: 13582.0000 - tp: 3088.0000 - precision: 0.4368 - recall: 0.6256 - Accuracy: 0.0000e+00 - val_loss: 0.5907 - val_fn: 618.0000 - val_fp: 1280.0000 - val_tn: 4520.0000 - val_tp: 1082.0000 - val_precision: 0.4581 - val_recall: 0.6365 - val_Accuracy: 0.0000e+00 - 49ms/epoch - 4ms/step\n",
      "Epoch 23/100\n",
      "11/11 - 0s - loss: 0.2043 - fn: 1929.0000 - fp: 3712.0000 - tn: 13852.0000 - tp: 3007.0000 - precision: 0.4475 - recall: 0.6092 - Accuracy: 0.0000e+00 - val_loss: 0.5937 - val_fn: 622.0000 - val_fp: 1269.0000 - val_tn: 4531.0000 - val_tp: 1078.0000 - val_precision: 0.4593 - val_recall: 0.6341 - val_Accuracy: 0.0000e+00 - 50ms/epoch - 5ms/step\n",
      "Epoch 24/100\n",
      "11/11 - 0s - loss: 0.2038 - fn: 1943.0000 - fp: 3736.0000 - tn: 13828.0000 - tp: 2993.0000 - precision: 0.4448 - recall: 0.6064 - Accuracy: 0.0000e+00 - val_loss: 0.5755 - val_fn: 642.0000 - val_fp: 1175.0000 - val_tn: 4625.0000 - val_tp: 1058.0000 - val_precision: 0.4738 - val_recall: 0.6224 - val_Accuracy: 0.0000e+00 - 55ms/epoch - 5ms/step\n",
      "Epoch 25/100\n",
      "11/11 - 0s - loss: 0.2037 - fn: 1887.0000 - fp: 3841.0000 - tn: 13723.0000 - tp: 3049.0000 - precision: 0.4425 - recall: 0.6177 - Accuracy: 0.0000e+00 - val_loss: 0.5886 - val_fn: 627.0000 - val_fp: 1226.0000 - val_tn: 4574.0000 - val_tp: 1073.0000 - val_precision: 0.4667 - val_recall: 0.6312 - val_Accuracy: 0.0000e+00 - 55ms/epoch - 5ms/step\n",
      "Epoch 26/100\n",
      "11/11 - 0s - loss: 0.2043 - fn: 1894.0000 - fp: 3870.0000 - tn: 13694.0000 - tp: 3042.0000 - precision: 0.4401 - recall: 0.6163 - Accuracy: 0.0000e+00 - val_loss: 0.5854 - val_fn: 627.0000 - val_fp: 1240.0000 - val_tn: 4560.0000 - val_tp: 1073.0000 - val_precision: 0.4639 - val_recall: 0.6312 - val_Accuracy: 0.0000e+00 - 58ms/epoch - 5ms/step\n",
      "Epoch 27/100\n",
      "11/11 - 0s - loss: 0.2040 - fn: 1888.0000 - fp: 3767.0000 - tn: 13797.0000 - tp: 3048.0000 - precision: 0.4472 - recall: 0.6175 - Accuracy: 0.0000e+00 - val_loss: 0.5841 - val_fn: 621.0000 - val_fp: 1257.0000 - val_tn: 4543.0000 - val_tp: 1079.0000 - val_precision: 0.4619 - val_recall: 0.6347 - val_Accuracy: 0.0000e+00 - 57ms/epoch - 5ms/step\n",
      "Epoch 28/100\n",
      "11/11 - 0s - loss: 0.2040 - fn: 1901.0000 - fp: 3875.0000 - tn: 13689.0000 - tp: 3035.0000 - precision: 0.4392 - recall: 0.6149 - Accuracy: 0.0000e+00 - val_loss: 0.5843 - val_fn: 627.0000 - val_fp: 1256.0000 - val_tn: 4544.0000 - val_tp: 1073.0000 - val_precision: 0.4607 - val_recall: 0.6312 - val_Accuracy: 0.0000e+00 - 55ms/epoch - 5ms/step\n",
      "Epoch 29/100\n",
      "11/11 - 0s - loss: 0.2039 - fn: 1892.0000 - fp: 3854.0000 - tn: 13710.0000 - tp: 3044.0000 - precision: 0.4413 - recall: 0.6167 - Accuracy: 0.0000e+00 - val_loss: 0.5859 - val_fn: 621.0000 - val_fp: 1251.0000 - val_tn: 4549.0000 - val_tp: 1079.0000 - val_precision: 0.4631 - val_recall: 0.6347 - val_Accuracy: 0.0000e+00 - 53ms/epoch - 5ms/step\n",
      "Epoch 30/100\n",
      "11/11 - 0s - loss: 0.2038 - fn: 1946.0000 - fp: 3728.0000 - tn: 13836.0000 - tp: 2990.0000 - precision: 0.4451 - recall: 0.6058 - Accuracy: 0.0000e+00 - val_loss: 0.6015 - val_fn: 603.0000 - val_fp: 1350.0000 - val_tn: 4450.0000 - val_tp: 1097.0000 - val_precision: 0.4483 - val_recall: 0.6453 - val_Accuracy: 0.0000e+00 - 51ms/epoch - 5ms/step\n",
      "Epoch 31/100\n",
      "11/11 - 0s - loss: 0.2040 - fn: 1827.0000 - fp: 4094.0000 - tn: 13470.0000 - tp: 3109.0000 - precision: 0.4316 - recall: 0.6299 - Accuracy: 0.0000e+00 - val_loss: 0.5826 - val_fn: 628.0000 - val_fp: 1250.0000 - val_tn: 4550.0000 - val_tp: 1072.0000 - val_precision: 0.4617 - val_recall: 0.6306 - val_Accuracy: 0.0000e+00 - 59ms/epoch - 5ms/step\n",
      "Epoch 32/100\n",
      "11/11 - 0s - loss: 0.2039 - fn: 1887.0000 - fp: 3873.0000 - tn: 13691.0000 - tp: 3049.0000 - precision: 0.4405 - recall: 0.6177 - Accuracy: 0.0000e+00 - val_loss: 0.5705 - val_fn: 646.0000 - val_fp: 1192.0000 - val_tn: 4608.0000 - val_tp: 1054.0000 - val_precision: 0.4693 - val_recall: 0.6200 - val_Accuracy: 0.0000e+00 - 53ms/epoch - 5ms/step\n",
      "Epoch 33/100\n",
      "11/11 - 0s - loss: 0.2034 - fn: 1940.0000 - fp: 3699.0000 - tn: 13865.0000 - tp: 2996.0000 - precision: 0.4475 - recall: 0.6070 - Accuracy: 0.0000e+00 - val_loss: 0.5891 - val_fn: 613.0000 - val_fp: 1300.0000 - val_tn: 4500.0000 - val_tp: 1087.0000 - val_precision: 0.4554 - val_recall: 0.6394 - val_Accuracy: 0.0000e+00 - 55ms/epoch - 5ms/step\n",
      "Epoch 34/100\n",
      "11/11 - 0s - loss: 0.2036 - fn: 1867.0000 - fp: 3911.0000 - tn: 13653.0000 - tp: 3069.0000 - precision: 0.4397 - recall: 0.6218 - Accuracy: 0.0000e+00 - val_loss: 0.5788 - val_fn: 642.0000 - val_fp: 1200.0000 - val_tn: 4600.0000 - val_tp: 1058.0000 - val_precision: 0.4686 - val_recall: 0.6224 - val_Accuracy: 0.0000e+00 - 52ms/epoch - 5ms/step\n",
      "Epoch 35/100\n",
      "11/11 - 0s - loss: 0.2047 - fn: 1966.0000 - fp: 3612.0000 - tn: 13952.0000 - tp: 2970.0000 - precision: 0.4512 - recall: 0.6017 - Accuracy: 0.0000e+00 - val_loss: 0.5958 - val_fn: 633.0000 - val_fp: 1219.0000 - val_tn: 4581.0000 - val_tp: 1067.0000 - val_precision: 0.4668 - val_recall: 0.6276 - val_Accuracy: 0.0000e+00 - 50ms/epoch - 5ms/step\n",
      "Epoch 36/100\n",
      "11/11 - 0s - loss: 0.2041 - fn: 1893.0000 - fp: 3814.0000 - tn: 13750.0000 - tp: 3043.0000 - precision: 0.4438 - recall: 0.6165 - Accuracy: 0.0000e+00 - val_loss: 0.5816 - val_fn: 629.0000 - val_fp: 1217.0000 - val_tn: 4583.0000 - val_tp: 1071.0000 - val_precision: 0.4681 - val_recall: 0.6300 - val_Accuracy: 0.0000e+00 - 54ms/epoch - 5ms/step\n",
      "Epoch 37/100\n",
      "11/11 - 0s - loss: 0.2034 - fn: 1861.0000 - fp: 3898.0000 - tn: 13666.0000 - tp: 3075.0000 - precision: 0.4410 - recall: 0.6230 - Accuracy: 0.0000e+00 - val_loss: 0.5783 - val_fn: 628.0000 - val_fp: 1216.0000 - val_tn: 4584.0000 - val_tp: 1072.0000 - val_precision: 0.4685 - val_recall: 0.6306 - val_Accuracy: 0.0000e+00 - 51ms/epoch - 5ms/step\n",
      "Epoch 38/100\n",
      "11/11 - 0s - loss: 0.2036 - fn: 1914.0000 - fp: 3786.0000 - tn: 13778.0000 - tp: 3022.0000 - precision: 0.4439 - recall: 0.6122 - Accuracy: 0.0000e+00 - val_loss: 0.5837 - val_fn: 629.0000 - val_fp: 1257.0000 - val_tn: 4543.0000 - val_tp: 1071.0000 - val_precision: 0.4601 - val_recall: 0.6300 - val_Accuracy: 0.0000e+00 - 80ms/epoch - 7ms/step\n",
      "Epoch 39/100\n",
      "11/11 - 0s - loss: 0.2036 - fn: 1868.0000 - fp: 3982.0000 - tn: 13582.0000 - tp: 3068.0000 - precision: 0.4352 - recall: 0.6216 - Accuracy: 0.0000e+00 - val_loss: 0.5772 - val_fn: 629.0000 - val_fp: 1226.0000 - val_tn: 4574.0000 - val_tp: 1071.0000 - val_precision: 0.4663 - val_recall: 0.6300 - val_Accuracy: 0.0000e+00 - 77ms/epoch - 7ms/step\n",
      "Epoch 40/100\n",
      "11/11 - 0s - loss: 0.2029 - fn: 1915.0000 - fp: 3763.0000 - tn: 13801.0000 - tp: 3021.0000 - precision: 0.4453 - recall: 0.6120 - Accuracy: 0.0000e+00 - val_loss: 0.5870 - val_fn: 628.0000 - val_fp: 1246.0000 - val_tn: 4554.0000 - val_tp: 1072.0000 - val_precision: 0.4625 - val_recall: 0.6306 - val_Accuracy: 0.0000e+00 - 73ms/epoch - 7ms/step\n",
      "Epoch 41/100\n",
      "11/11 - 0s - loss: 0.2033 - fn: 1882.0000 - fp: 3878.0000 - tn: 13686.0000 - tp: 3054.0000 - precision: 0.4406 - recall: 0.6187 - Accuracy: 0.0000e+00 - val_loss: 0.5908 - val_fn: 620.0000 - val_fp: 1240.0000 - val_tn: 4560.0000 - val_tp: 1080.0000 - val_precision: 0.4655 - val_recall: 0.6353 - val_Accuracy: 0.0000e+00 - 57ms/epoch - 5ms/step\n",
      "Epoch 42/100\n",
      "11/11 - 0s - loss: 0.2039 - fn: 1890.0000 - fp: 3863.0000 - tn: 13701.0000 - tp: 3046.0000 - precision: 0.4409 - recall: 0.6171 - Accuracy: 0.0000e+00 - val_loss: 0.5890 - val_fn: 621.0000 - val_fp: 1264.0000 - val_tn: 4536.0000 - val_tp: 1079.0000 - val_precision: 0.4605 - val_recall: 0.6347 - val_Accuracy: 0.0000e+00 - 53ms/epoch - 5ms/step\n",
      "Epoch 43/100\n",
      "11/11 - 0s - loss: 0.2033 - fn: 1825.0000 - fp: 4076.0000 - tn: 13488.0000 - tp: 3111.0000 - precision: 0.4329 - recall: 0.6303 - Accuracy: 0.0000e+00 - val_loss: 0.5816 - val_fn: 624.0000 - val_fp: 1239.0000 - val_tn: 4561.0000 - val_tp: 1076.0000 - val_precision: 0.4648 - val_recall: 0.6329 - val_Accuracy: 0.0000e+00 - 51ms/epoch - 5ms/step\n",
      "Epoch 44/100\n",
      "11/11 - 0s - loss: 0.2035 - fn: 1840.0000 - fp: 3941.0000 - tn: 13623.0000 - tp: 3096.0000 - precision: 0.4400 - recall: 0.6272 - Accuracy: 0.0000e+00 - val_loss: 0.5767 - val_fn: 636.0000 - val_fp: 1198.0000 - val_tn: 4602.0000 - val_tp: 1064.0000 - val_precision: 0.4704 - val_recall: 0.6259 - val_Accuracy: 0.0000e+00 - 53ms/epoch - 5ms/step\n",
      "Epoch 45/100\n",
      "11/11 - 0s - loss: 0.2029 - fn: 1898.0000 - fp: 3694.0000 - tn: 13870.0000 - tp: 3038.0000 - precision: 0.4513 - recall: 0.6155 - Accuracy: 0.0000e+00 - val_loss: 0.5860 - val_fn: 629.0000 - val_fp: 1226.0000 - val_tn: 4574.0000 - val_tp: 1071.0000 - val_precision: 0.4663 - val_recall: 0.6300 - val_Accuracy: 0.0000e+00 - 47ms/epoch - 4ms/step\n",
      "Epoch 46/100\n",
      "11/11 - 0s - loss: 0.2031 - fn: 1858.0000 - fp: 4024.0000 - tn: 13540.0000 - tp: 3078.0000 - precision: 0.4334 - recall: 0.6236 - Accuracy: 0.0000e+00 - val_loss: 0.5803 - val_fn: 627.0000 - val_fp: 1227.0000 - val_tn: 4573.0000 - val_tp: 1073.0000 - val_precision: 0.4665 - val_recall: 0.6312 - val_Accuracy: 0.0000e+00 - 49ms/epoch - 4ms/step\n",
      "Epoch 47/100\n",
      "11/11 - 0s - loss: 0.2034 - fn: 1868.0000 - fp: 3872.0000 - tn: 13692.0000 - tp: 3068.0000 - precision: 0.4421 - recall: 0.6216 - Accuracy: 0.0000e+00 - val_loss: 0.5925 - val_fn: 627.0000 - val_fp: 1257.0000 - val_tn: 4543.0000 - val_tp: 1073.0000 - val_precision: 0.4605 - val_recall: 0.6312 - val_Accuracy: 0.0000e+00 - 63ms/epoch - 6ms/step\n",
      "Epoch 48/100\n",
      "11/11 - 0s - loss: 0.2046 - fn: 1836.0000 - fp: 4014.0000 - tn: 13550.0000 - tp: 3100.0000 - precision: 0.4358 - recall: 0.6280 - Accuracy: 0.0000e+00 - val_loss: 0.5912 - val_fn: 625.0000 - val_fp: 1268.0000 - val_tn: 4532.0000 - val_tp: 1075.0000 - val_precision: 0.4588 - val_recall: 0.6324 - val_Accuracy: 0.0000e+00 - 58ms/epoch - 5ms/step\n",
      "Epoch 49/100\n",
      "11/11 - 0s - loss: 0.2048 - fn: 1916.0000 - fp: 3812.0000 - tn: 13752.0000 - tp: 3020.0000 - precision: 0.4420 - recall: 0.6118 - Accuracy: 0.0000e+00 - val_loss: 0.6002 - val_fn: 628.0000 - val_fp: 1246.0000 - val_tn: 4554.0000 - val_tp: 1072.0000 - val_precision: 0.4625 - val_recall: 0.6306 - val_Accuracy: 0.0000e+00 - 50ms/epoch - 5ms/step\n",
      "Epoch 50/100\n",
      "11/11 - 0s - loss: 0.2037 - fn: 1985.0000 - fp: 3534.0000 - tn: 14030.0000 - tp: 2951.0000 - precision: 0.4551 - recall: 0.5979 - Accuracy: 0.0000e+00 - val_loss: 0.5881 - val_fn: 630.0000 - val_fp: 1214.0000 - val_tn: 4586.0000 - val_tp: 1070.0000 - val_precision: 0.4685 - val_recall: 0.6294 - val_Accuracy: 0.0000e+00 - 48ms/epoch - 4ms/step\n",
      "Epoch 51/100\n",
      "11/11 - 0s - loss: 0.2036 - fn: 1847.0000 - fp: 4018.0000 - tn: 13546.0000 - tp: 3089.0000 - precision: 0.4346 - recall: 0.6258 - Accuracy: 0.0000e+00 - val_loss: 0.5702 - val_fn: 641.0000 - val_fp: 1177.0000 - val_tn: 4623.0000 - val_tp: 1059.0000 - val_precision: 0.4736 - val_recall: 0.6229 - val_Accuracy: 0.0000e+00 - 53ms/epoch - 5ms/step\n",
      "Epoch 52/100\n",
      "11/11 - 0s - loss: 0.2036 - fn: 1886.0000 - fp: 4006.0000 - tn: 13558.0000 - tp: 3050.0000 - precision: 0.4323 - recall: 0.6179 - Accuracy: 0.0000e+00 - val_loss: 0.5866 - val_fn: 619.0000 - val_fp: 1272.0000 - val_tn: 4528.0000 - val_tp: 1081.0000 - val_precision: 0.4594 - val_recall: 0.6359 - val_Accuracy: 0.0000e+00 - 54ms/epoch - 5ms/step\n",
      "Epoch 53/100\n",
      "11/11 - 0s - loss: 0.2037 - fn: 1907.0000 - fp: 3796.0000 - tn: 13768.0000 - tp: 3029.0000 - precision: 0.4438 - recall: 0.6137 - Accuracy: 0.0000e+00 - val_loss: 0.5853 - val_fn: 637.0000 - val_fp: 1231.0000 - val_tn: 4569.0000 - val_tp: 1063.0000 - val_precision: 0.4634 - val_recall: 0.6253 - val_Accuracy: 0.0000e+00 - 54ms/epoch - 5ms/step\n",
      "Epoch 54/100\n",
      "11/11 - 0s - loss: 0.2040 - fn: 1931.0000 - fp: 3732.0000 - tn: 13832.0000 - tp: 3005.0000 - precision: 0.4460 - recall: 0.6088 - Accuracy: 0.0000e+00 - val_loss: 0.5782 - val_fn: 646.0000 - val_fp: 1202.0000 - val_tn: 4598.0000 - val_tp: 1054.0000 - val_precision: 0.4672 - val_recall: 0.6200 - val_Accuracy: 0.0000e+00 - 51ms/epoch - 5ms/step\n",
      "Epoch 55/100\n",
      "11/11 - 0s - loss: 0.2037 - fn: 1880.0000 - fp: 3858.0000 - tn: 13706.0000 - tp: 3056.0000 - precision: 0.4420 - recall: 0.6191 - Accuracy: 0.0000e+00 - val_loss: 0.5871 - val_fn: 634.0000 - val_fp: 1229.0000 - val_tn: 4571.0000 - val_tp: 1066.0000 - val_precision: 0.4645 - val_recall: 0.6271 - val_Accuracy: 0.0000e+00 - 54ms/epoch - 5ms/step\n",
      "Epoch 56/100\n",
      "11/11 - 0s - loss: 0.2029 - fn: 1846.0000 - fp: 3900.0000 - tn: 13664.0000 - tp: 3090.0000 - precision: 0.4421 - recall: 0.6260 - Accuracy: 0.0000e+00 - val_loss: 0.5727 - val_fn: 640.0000 - val_fp: 1198.0000 - val_tn: 4602.0000 - val_tp: 1060.0000 - val_precision: 0.4694 - val_recall: 0.6235 - val_Accuracy: 0.0000e+00 - 51ms/epoch - 5ms/step\n",
      "Epoch 57/100\n",
      "11/11 - 0s - loss: 0.2032 - fn: 1908.0000 - fp: 3835.0000 - tn: 13729.0000 - tp: 3028.0000 - precision: 0.4412 - recall: 0.6135 - Accuracy: 0.0000e+00 - val_loss: 0.5919 - val_fn: 627.0000 - val_fp: 1249.0000 - val_tn: 4551.0000 - val_tp: 1073.0000 - val_precision: 0.4621 - val_recall: 0.6312 - val_Accuracy: 0.0000e+00 - 51ms/epoch - 5ms/step\n",
      "Epoch 58/100\n",
      "11/11 - 0s - loss: 0.2032 - fn: 1918.0000 - fp: 3768.0000 - tn: 13796.0000 - tp: 3018.0000 - precision: 0.4447 - recall: 0.6114 - Accuracy: 0.0000e+00 - val_loss: 0.5802 - val_fn: 652.0000 - val_fp: 1139.0000 - val_tn: 4661.0000 - val_tp: 1048.0000 - val_precision: 0.4792 - val_recall: 0.6165 - val_Accuracy: 0.0000e+00 - 52ms/epoch - 5ms/step\n",
      "Epoch 59/100\n",
      "11/11 - 0s - loss: 0.2046 - fn: 1902.0000 - fp: 3870.0000 - tn: 13694.0000 - tp: 3034.0000 - precision: 0.4395 - recall: 0.6147 - Accuracy: 0.0000e+00 - val_loss: 0.5762 - val_fn: 636.0000 - val_fp: 1235.0000 - val_tn: 4565.0000 - val_tp: 1064.0000 - val_precision: 0.4628 - val_recall: 0.6259 - val_Accuracy: 0.0000e+00 - 52ms/epoch - 5ms/step\n",
      "Epoch 60/100\n",
      "11/11 - 0s - loss: 0.2045 - fn: 1886.0000 - fp: 3826.0000 - tn: 13738.0000 - tp: 3050.0000 - precision: 0.4436 - recall: 0.6179 - Accuracy: 0.0000e+00 - val_loss: 0.5932 - val_fn: 622.0000 - val_fp: 1261.0000 - val_tn: 4539.0000 - val_tp: 1078.0000 - val_precision: 0.4609 - val_recall: 0.6341 - val_Accuracy: 0.0000e+00 - 51ms/epoch - 5ms/step\n",
      "Epoch 61/100\n",
      "11/11 - 0s - loss: 0.2041 - fn: 1870.0000 - fp: 3960.0000 - tn: 13604.0000 - tp: 3066.0000 - precision: 0.4364 - recall: 0.6212 - Accuracy: 0.0000e+00 - val_loss: 0.5885 - val_fn: 607.0000 - val_fp: 1338.0000 - val_tn: 4462.0000 - val_tp: 1093.0000 - val_precision: 0.4496 - val_recall: 0.6429 - val_Accuracy: 0.0000e+00 - 52ms/epoch - 5ms/step\n",
      "Epoch 62/100\n",
      "11/11 - 0s - loss: 0.2042 - fn: 1879.0000 - fp: 3925.0000 - tn: 13639.0000 - tp: 3057.0000 - precision: 0.4378 - recall: 0.6193 - Accuracy: 0.0000e+00 - val_loss: 0.5867 - val_fn: 621.0000 - val_fp: 1253.0000 - val_tn: 4547.0000 - val_tp: 1079.0000 - val_precision: 0.4627 - val_recall: 0.6347 - val_Accuracy: 0.0000e+00 - 51ms/epoch - 5ms/step\n",
      "Epoch 63/100\n",
      "11/11 - 0s - loss: 0.2041 - fn: 1819.0000 - fp: 4105.0000 - tn: 13459.0000 - tp: 3117.0000 - precision: 0.4316 - recall: 0.6315 - Accuracy: 0.0000e+00 - val_loss: 0.5772 - val_fn: 628.0000 - val_fp: 1224.0000 - val_tn: 4576.0000 - val_tp: 1072.0000 - val_precision: 0.4669 - val_recall: 0.6306 - val_Accuracy: 0.0000e+00 - 49ms/epoch - 4ms/step\n",
      "Epoch 64/100\n",
      "11/11 - 0s - loss: 0.2032 - fn: 1870.0000 - fp: 3936.0000 - tn: 13628.0000 - tp: 3066.0000 - precision: 0.4379 - recall: 0.6212 - Accuracy: 0.0000e+00 - val_loss: 0.5910 - val_fn: 621.0000 - val_fp: 1254.0000 - val_tn: 4546.0000 - val_tp: 1079.0000 - val_precision: 0.4625 - val_recall: 0.6347 - val_Accuracy: 0.0000e+00 - 56ms/epoch - 5ms/step\n",
      "Epoch 65/100\n",
      "11/11 - 0s - loss: 0.2033 - fn: 1884.0000 - fp: 3876.0000 - tn: 13688.0000 - tp: 3052.0000 - precision: 0.4405 - recall: 0.6183 - Accuracy: 0.0000e+00 - val_loss: 0.5836 - val_fn: 637.0000 - val_fp: 1197.0000 - val_tn: 4603.0000 - val_tp: 1063.0000 - val_precision: 0.4704 - val_recall: 0.6253 - val_Accuracy: 0.0000e+00 - 49ms/epoch - 4ms/step\n",
      "Epoch 66/100\n",
      "11/11 - 0s - loss: 0.2036 - fn: 1874.0000 - fp: 3838.0000 - tn: 13726.0000 - tp: 3062.0000 - precision: 0.4438 - recall: 0.6203 - Accuracy: 0.0000e+00 - val_loss: 0.5835 - val_fn: 638.0000 - val_fp: 1190.0000 - val_tn: 4610.0000 - val_tp: 1062.0000 - val_precision: 0.4716 - val_recall: 0.6247 - val_Accuracy: 0.0000e+00 - 45ms/epoch - 4ms/step\n",
      "Epoch 67/100\n",
      "11/11 - 0s - loss: 0.2036 - fn: 1916.0000 - fp: 3744.0000 - tn: 13820.0000 - tp: 3020.0000 - precision: 0.4465 - recall: 0.6118 - Accuracy: 0.0000e+00 - val_loss: 0.5906 - val_fn: 629.0000 - val_fp: 1234.0000 - val_tn: 4566.0000 - val_tp: 1071.0000 - val_precision: 0.4646 - val_recall: 0.6300 - val_Accuracy: 0.0000e+00 - 46ms/epoch - 4ms/step\n",
      "Epoch 68/100\n",
      "11/11 - 0s - loss: 0.2042 - fn: 1876.0000 - fp: 3949.0000 - tn: 13615.0000 - tp: 3060.0000 - precision: 0.4366 - recall: 0.6199 - Accuracy: 0.0000e+00 - val_loss: 0.5850 - val_fn: 630.0000 - val_fp: 1236.0000 - val_tn: 4564.0000 - val_tp: 1070.0000 - val_precision: 0.4640 - val_recall: 0.6294 - val_Accuracy: 0.0000e+00 - 60ms/epoch - 5ms/step\n",
      "Epoch 69/100\n",
      "11/11 - 0s - loss: 0.2032 - fn: 1879.0000 - fp: 3894.0000 - tn: 13670.0000 - tp: 3057.0000 - precision: 0.4398 - recall: 0.6193 - Accuracy: 0.0000e+00 - val_loss: 0.5841 - val_fn: 637.0000 - val_fp: 1184.0000 - val_tn: 4616.0000 - val_tp: 1063.0000 - val_precision: 0.4731 - val_recall: 0.6253 - val_Accuracy: 0.0000e+00 - 49ms/epoch - 4ms/step\n",
      "Epoch 70/100\n",
      "11/11 - 0s - loss: 0.2034 - fn: 1896.0000 - fp: 3778.0000 - tn: 13786.0000 - tp: 3040.0000 - precision: 0.4459 - recall: 0.6159 - Accuracy: 0.0000e+00 - val_loss: 0.5792 - val_fn: 639.0000 - val_fp: 1196.0000 - val_tn: 4604.0000 - val_tp: 1061.0000 - val_precision: 0.4701 - val_recall: 0.6241 - val_Accuracy: 0.0000e+00 - 47ms/epoch - 4ms/step\n",
      "Epoch 71/100\n",
      "11/11 - 0s - loss: 0.2034 - fn: 1896.0000 - fp: 3773.0000 - tn: 13791.0000 - tp: 3040.0000 - precision: 0.4462 - recall: 0.6159 - Accuracy: 0.0000e+00 - val_loss: 0.5828 - val_fn: 638.0000 - val_fp: 1198.0000 - val_tn: 4602.0000 - val_tp: 1062.0000 - val_precision: 0.4699 - val_recall: 0.6247 - val_Accuracy: 0.0000e+00 - 47ms/epoch - 4ms/step\n",
      "Epoch 72/100\n",
      "11/11 - 0s - loss: 0.2042 - fn: 1899.0000 - fp: 3787.0000 - tn: 13777.0000 - tp: 3037.0000 - precision: 0.4450 - recall: 0.6153 - Accuracy: 0.0000e+00 - val_loss: 0.5875 - val_fn: 629.0000 - val_fp: 1222.0000 - val_tn: 4578.0000 - val_tp: 1071.0000 - val_precision: 0.4671 - val_recall: 0.6300 - val_Accuracy: 0.0000e+00 - 47ms/epoch - 4ms/step\n",
      "Epoch 73/100\n",
      "11/11 - 0s - loss: 0.2036 - fn: 1906.0000 - fp: 3916.0000 - tn: 13648.0000 - tp: 3030.0000 - precision: 0.4362 - recall: 0.6139 - Accuracy: 0.0000e+00 - val_loss: 0.6011 - val_fn: 603.0000 - val_fp: 1359.0000 - val_tn: 4441.0000 - val_tp: 1097.0000 - val_precision: 0.4467 - val_recall: 0.6453 - val_Accuracy: 0.0000e+00 - 64ms/epoch - 6ms/step\n",
      "Epoch 74/100\n",
      "11/11 - 0s - loss: 0.2040 - fn: 1841.0000 - fp: 3970.0000 - tn: 13594.0000 - tp: 3095.0000 - precision: 0.4381 - recall: 0.6270 - Accuracy: 0.0000e+00 - val_loss: 0.5704 - val_fn: 639.0000 - val_fp: 1203.0000 - val_tn: 4597.0000 - val_tp: 1061.0000 - val_precision: 0.4686 - val_recall: 0.6241 - val_Accuracy: 0.0000e+00 - 68ms/epoch - 6ms/step\n",
      "Epoch 75/100\n",
      "11/11 - 0s - loss: 0.2034 - fn: 1967.0000 - fp: 3658.0000 - tn: 13906.0000 - tp: 2969.0000 - precision: 0.4480 - recall: 0.6015 - Accuracy: 0.0000e+00 - val_loss: 0.5812 - val_fn: 643.0000 - val_fp: 1208.0000 - val_tn: 4592.0000 - val_tp: 1057.0000 - val_precision: 0.4667 - val_recall: 0.6218 - val_Accuracy: 0.0000e+00 - 67ms/epoch - 6ms/step\n",
      "Epoch 76/100\n",
      "11/11 - 0s - loss: 0.2043 - fn: 1887.0000 - fp: 3879.0000 - tn: 13685.0000 - tp: 3049.0000 - precision: 0.4401 - recall: 0.6177 - Accuracy: 0.0000e+00 - val_loss: 0.5872 - val_fn: 636.0000 - val_fp: 1218.0000 - val_tn: 4582.0000 - val_tp: 1064.0000 - val_precision: 0.4663 - val_recall: 0.6259 - val_Accuracy: 0.0000e+00 - 64ms/epoch - 6ms/step\n",
      "Epoch 77/100\n",
      "11/11 - 0s - loss: 0.2040 - fn: 1902.0000 - fp: 3872.0000 - tn: 13692.0000 - tp: 3034.0000 - precision: 0.4393 - recall: 0.6147 - Accuracy: 0.0000e+00 - val_loss: 0.5791 - val_fn: 645.0000 - val_fp: 1185.0000 - val_tn: 4615.0000 - val_tp: 1055.0000 - val_precision: 0.4710 - val_recall: 0.6206 - val_Accuracy: 0.0000e+00 - 57ms/epoch - 5ms/step\n",
      "Epoch 78/100\n",
      "11/11 - 0s - loss: 0.2038 - fn: 1836.0000 - fp: 4006.0000 - tn: 13558.0000 - tp: 3100.0000 - precision: 0.4363 - recall: 0.6280 - Accuracy: 0.0000e+00 - val_loss: 0.5962 - val_fn: 610.0000 - val_fp: 1290.0000 - val_tn: 4510.0000 - val_tp: 1090.0000 - val_precision: 0.4580 - val_recall: 0.6412 - val_Accuracy: 0.0000e+00 - 59ms/epoch - 5ms/step\n",
      "Epoch 79/100\n",
      "11/11 - 0s - loss: 0.2036 - fn: 1900.0000 - fp: 3898.0000 - tn: 13666.0000 - tp: 3036.0000 - precision: 0.4378 - recall: 0.6151 - Accuracy: 0.0000e+00 - val_loss: 0.5821 - val_fn: 636.0000 - val_fp: 1224.0000 - val_tn: 4576.0000 - val_tp: 1064.0000 - val_precision: 0.4650 - val_recall: 0.6259 - val_Accuracy: 0.0000e+00 - 63ms/epoch - 6ms/step\n",
      "Epoch 80/100\n",
      "11/11 - 0s - loss: 0.2035 - fn: 1859.0000 - fp: 3971.0000 - tn: 13593.0000 - tp: 3077.0000 - precision: 0.4366 - recall: 0.6234 - Accuracy: 0.0000e+00 - val_loss: 0.5737 - val_fn: 641.0000 - val_fp: 1193.0000 - val_tn: 4607.0000 - val_tp: 1059.0000 - val_precision: 0.4702 - val_recall: 0.6229 - val_Accuracy: 0.0000e+00 - 65ms/epoch - 6ms/step\n",
      "Epoch 81/100\n",
      "11/11 - 0s - loss: 0.2042 - fn: 1927.0000 - fp: 3765.0000 - tn: 13799.0000 - tp: 3009.0000 - precision: 0.4442 - recall: 0.6096 - Accuracy: 0.0000e+00 - val_loss: 0.6062 - val_fn: 624.0000 - val_fp: 1264.0000 - val_tn: 4536.0000 - val_tp: 1076.0000 - val_precision: 0.4598 - val_recall: 0.6329 - val_Accuracy: 0.0000e+00 - 66ms/epoch - 6ms/step\n",
      "Epoch 82/100\n",
      "11/11 - 0s - loss: 0.2044 - fn: 1874.0000 - fp: 3890.0000 - tn: 13674.0000 - tp: 3062.0000 - precision: 0.4404 - recall: 0.6203 - Accuracy: 0.0000e+00 - val_loss: 0.5720 - val_fn: 641.0000 - val_fp: 1187.0000 - val_tn: 4613.0000 - val_tp: 1059.0000 - val_precision: 0.4715 - val_recall: 0.6229 - val_Accuracy: 0.0000e+00 - 62ms/epoch - 6ms/step\n",
      "Epoch 83/100\n",
      "11/11 - 0s - loss: 0.2039 - fn: 1863.0000 - fp: 3911.0000 - tn: 13653.0000 - tp: 3073.0000 - precision: 0.4400 - recall: 0.6226 - Accuracy: 0.0000e+00 - val_loss: 0.5981 - val_fn: 612.0000 - val_fp: 1285.0000 - val_tn: 4515.0000 - val_tp: 1088.0000 - val_precision: 0.4585 - val_recall: 0.6400 - val_Accuracy: 0.0000e+00 - 63ms/epoch - 6ms/step\n",
      "Epoch 84/100\n",
      "11/11 - 0s - loss: 0.2037 - fn: 1900.0000 - fp: 3866.0000 - tn: 13698.0000 - tp: 3036.0000 - precision: 0.4399 - recall: 0.6151 - Accuracy: 0.0000e+00 - val_loss: 0.5765 - val_fn: 641.0000 - val_fp: 1213.0000 - val_tn: 4587.0000 - val_tp: 1059.0000 - val_precision: 0.4661 - val_recall: 0.6229 - val_Accuracy: 0.0000e+00 - 69ms/epoch - 6ms/step\n",
      "Epoch 85/100\n",
      "11/11 - 0s - loss: 0.2036 - fn: 1850.0000 - fp: 3953.0000 - tn: 13611.0000 - tp: 3086.0000 - precision: 0.4384 - recall: 0.6252 - Accuracy: 0.0000e+00 - val_loss: 0.5883 - val_fn: 620.0000 - val_fp: 1274.0000 - val_tn: 4526.0000 - val_tp: 1080.0000 - val_precision: 0.4588 - val_recall: 0.6353 - val_Accuracy: 0.0000e+00 - 60ms/epoch - 5ms/step\n",
      "Epoch 86/100\n",
      "11/11 - 0s - loss: 0.2041 - fn: 1906.0000 - fp: 3757.0000 - tn: 13807.0000 - tp: 3030.0000 - precision: 0.4464 - recall: 0.6139 - Accuracy: 0.0000e+00 - val_loss: 0.5916 - val_fn: 634.0000 - val_fp: 1236.0000 - val_tn: 4564.0000 - val_tp: 1066.0000 - val_precision: 0.4631 - val_recall: 0.6271 - val_Accuracy: 0.0000e+00 - 62ms/epoch - 6ms/step\n",
      "Epoch 87/100\n",
      "11/11 - 0s - loss: 0.2032 - fn: 1862.0000 - fp: 3909.0000 - tn: 13655.0000 - tp: 3074.0000 - precision: 0.4402 - recall: 0.6228 - Accuracy: 0.0000e+00 - val_loss: 0.5788 - val_fn: 640.0000 - val_fp: 1224.0000 - val_tn: 4576.0000 - val_tp: 1060.0000 - val_precision: 0.4641 - val_recall: 0.6235 - val_Accuracy: 0.0000e+00 - 60ms/epoch - 5ms/step\n",
      "Epoch 88/100\n",
      "11/11 - 0s - loss: 0.2041 - fn: 1906.0000 - fp: 3757.0000 - tn: 13807.0000 - tp: 3030.0000 - precision: 0.4464 - recall: 0.6139 - Accuracy: 0.0000e+00 - val_loss: 0.5892 - val_fn: 643.0000 - val_fp: 1217.0000 - val_tn: 4583.0000 - val_tp: 1057.0000 - val_precision: 0.4648 - val_recall: 0.6218 - val_Accuracy: 0.0000e+00 - 59ms/epoch - 5ms/step\n",
      "Epoch 89/100\n",
      "11/11 - 0s - loss: 0.2033 - fn: 1945.0000 - fp: 3712.0000 - tn: 13852.0000 - tp: 2991.0000 - precision: 0.4462 - recall: 0.6060 - Accuracy: 0.0000e+00 - val_loss: 0.5827 - val_fn: 647.0000 - val_fp: 1199.0000 - val_tn: 4601.0000 - val_tp: 1053.0000 - val_precision: 0.4676 - val_recall: 0.6194 - val_Accuracy: 0.0000e+00 - 60ms/epoch - 5ms/step\n",
      "Epoch 90/100\n",
      "11/11 - 0s - loss: 0.2031 - fn: 1901.0000 - fp: 3708.0000 - tn: 13856.0000 - tp: 3035.0000 - precision: 0.4501 - recall: 0.6149 - Accuracy: 0.0000e+00 - val_loss: 0.5830 - val_fn: 628.0000 - val_fp: 1235.0000 - val_tn: 4565.0000 - val_tp: 1072.0000 - val_precision: 0.4647 - val_recall: 0.6306 - val_Accuracy: 0.0000e+00 - 72ms/epoch - 7ms/step\n",
      "Epoch 91/100\n",
      "11/11 - 0s - loss: 0.2031 - fn: 1786.0000 - fp: 4239.0000 - tn: 13325.0000 - tp: 3150.0000 - precision: 0.4263 - recall: 0.6382 - Accuracy: 0.0000e+00 - val_loss: 0.5771 - val_fn: 633.0000 - val_fp: 1223.0000 - val_tn: 4577.0000 - val_tp: 1067.0000 - val_precision: 0.4659 - val_recall: 0.6276 - val_Accuracy: 0.0000e+00 - 65ms/epoch - 6ms/step\n",
      "Epoch 92/100\n",
      "11/11 - 0s - loss: 0.2039 - fn: 1932.0000 - fp: 3697.0000 - tn: 13867.0000 - tp: 3004.0000 - precision: 0.4483 - recall: 0.6086 - Accuracy: 0.0000e+00 - val_loss: 0.5792 - val_fn: 644.0000 - val_fp: 1199.0000 - val_tn: 4601.0000 - val_tp: 1056.0000 - val_precision: 0.4683 - val_recall: 0.6212 - val_Accuracy: 0.0000e+00 - 66ms/epoch - 6ms/step\n",
      "Epoch 93/100\n",
      "11/11 - 0s - loss: 0.2036 - fn: 1909.0000 - fp: 3718.0000 - tn: 13846.0000 - tp: 3027.0000 - precision: 0.4488 - recall: 0.6132 - Accuracy: 0.0000e+00 - val_loss: 0.5919 - val_fn: 635.0000 - val_fp: 1222.0000 - val_tn: 4578.0000 - val_tp: 1065.0000 - val_precision: 0.4657 - val_recall: 0.6265 - val_Accuracy: 0.0000e+00 - 77ms/epoch - 7ms/step\n",
      "Epoch 94/100\n",
      "11/11 - 0s - loss: 0.2041 - fn: 1859.0000 - fp: 3913.0000 - tn: 13651.0000 - tp: 3077.0000 - precision: 0.4402 - recall: 0.6234 - Accuracy: 0.0000e+00 - val_loss: 0.5709 - val_fn: 651.0000 - val_fp: 1170.0000 - val_tn: 4630.0000 - val_tp: 1049.0000 - val_precision: 0.4727 - val_recall: 0.6171 - val_Accuracy: 0.0000e+00 - 104ms/epoch - 9ms/step\n",
      "Epoch 95/100\n",
      "11/11 - 0s - loss: 0.2033 - fn: 1961.0000 - fp: 3739.0000 - tn: 13825.0000 - tp: 2975.0000 - precision: 0.4431 - recall: 0.6027 - Accuracy: 0.0000e+00 - val_loss: 0.5945 - val_fn: 620.0000 - val_fp: 1293.0000 - val_tn: 4507.0000 - val_tp: 1080.0000 - val_precision: 0.4551 - val_recall: 0.6353 - val_Accuracy: 0.0000e+00 - 90ms/epoch - 8ms/step\n",
      "Epoch 96/100\n",
      "11/11 - 0s - loss: 0.2036 - fn: 1858.0000 - fp: 3950.0000 - tn: 13614.0000 - tp: 3078.0000 - precision: 0.4380 - recall: 0.6236 - Accuracy: 0.0000e+00 - val_loss: 0.5873 - val_fn: 620.0000 - val_fp: 1275.0000 - val_tn: 4525.0000 - val_tp: 1080.0000 - val_precision: 0.4586 - val_recall: 0.6353 - val_Accuracy: 0.0000e+00 - 91ms/epoch - 8ms/step\n",
      "Epoch 97/100\n",
      "11/11 - 0s - loss: 0.2031 - fn: 1829.0000 - fp: 4057.0000 - tn: 13507.0000 - tp: 3107.0000 - precision: 0.4337 - recall: 0.6295 - Accuracy: 0.0000e+00 - val_loss: 0.5808 - val_fn: 634.0000 - val_fp: 1227.0000 - val_tn: 4573.0000 - val_tp: 1066.0000 - val_precision: 0.4649 - val_recall: 0.6271 - val_Accuracy: 0.0000e+00 - 122ms/epoch - 11ms/step\n",
      "Epoch 98/100\n",
      "11/11 - 0s - loss: 0.2036 - fn: 1953.0000 - fp: 3603.0000 - tn: 13961.0000 - tp: 2983.0000 - precision: 0.4529 - recall: 0.6043 - Accuracy: 0.0000e+00 - val_loss: 0.5872 - val_fn: 644.0000 - val_fp: 1206.0000 - val_tn: 4594.0000 - val_tp: 1056.0000 - val_precision: 0.4668 - val_recall: 0.6212 - val_Accuracy: 0.0000e+00 - 76ms/epoch - 7ms/step\n",
      "Epoch 99/100\n",
      "11/11 - 0s - loss: 0.2037 - fn: 1887.0000 - fp: 3859.0000 - tn: 13705.0000 - tp: 3049.0000 - precision: 0.4414 - recall: 0.6177 - Accuracy: 0.0000e+00 - val_loss: 0.5856 - val_fn: 634.0000 - val_fp: 1228.0000 - val_tn: 4572.0000 - val_tp: 1066.0000 - val_precision: 0.4647 - val_recall: 0.6271 - val_Accuracy: 0.0000e+00 - 80ms/epoch - 7ms/step\n",
      "Epoch 100/100\n",
      "11/11 - 0s - loss: 0.2034 - fn: 1870.0000 - fp: 3859.0000 - tn: 13705.0000 - tp: 3066.0000 - precision: 0.4427 - recall: 0.6212 - Accuracy: 0.0000e+00 - val_loss: 0.5822 - val_fn: 639.0000 - val_fp: 1199.0000 - val_tn: 4601.0000 - val_tp: 1061.0000 - val_precision: 0.4695 - val_recall: 0.6241 - val_Accuracy: 0.0000e+00 - 76ms/epoch - 7ms/step\n"
     ]
    },
    {
     "data": {
      "text/plain": [
       "<keras.callbacks.History at 0x2cf7fae58a0>"
      ]
     },
     "execution_count": 65,
     "metadata": {},
     "output_type": "execute_result"
    }
   ],
   "source": [
    "metrics = [\n",
    "    keras.metrics.FalseNegatives(name=\"fn\"),\n",
    "    keras.metrics.FalsePositives(name=\"fp\"),\n",
    "    keras.metrics.TrueNegatives(name=\"tn\"),\n",
    "    keras.metrics.TruePositives(name=\"tp\"),\n",
    "    keras.metrics.Precision(name=\"precision\"),\n",
    "    keras.metrics.Recall(name=\"recall\"),\n",
    "    keras.metrics.Accuracy(name=\"Accuracy\")\n",
    "]\n",
    "\n",
    "model.compile(\n",
    "    optimizer=keras.optimizers.Adam(1e-2), loss=\"binary_crossentropy\", metrics=metrics\n",
    ")\n",
    "\n",
    "#callbacks = [keras.callbacks.ModelCheckpoint(\"fraud_model_at_epoch_{epoch}.h5\")]\n",
    "class_weight = {0: weight_for_0, 1: weight_for_1}\n",
    "\n",
    "model.fit(\n",
    "    X_train,\n",
    "    y_train,\n",
    "    batch_size=2048,\n",
    "    epochs=100,\n",
    "    verbose=2,\n",
    "    #callbacks=callbacks,\n",
    "    validation_data=(X_test, y_test),\n",
    "    class_weight=class_weight,\n",
    ")"
   ]
  },
  {
   "cell_type": "code",
   "execution_count": null,
   "id": "ee3e5e46",
   "metadata": {},
   "outputs": [
    {
     "data": {
      "text/plain": [
       "<AxesSubplot: >"
      ]
     },
     "execution_count": 66,
     "metadata": {},
     "output_type": "execute_result"
    },
    {
     "data": {
      "image/png": "[encoded data removed]",
      "text/plain": [
       "<Figure size 432x288 with 1 Axes>"
      ]
     },
     "metadata": {
      "needs_background": "light"
     },
     "output_type": "display_data"
    }
   ],
   "source": [
    "\n",
    "losses = pd.DataFrame(model.history.history)\n",
    "losses[['loss','val_loss']].plot()\n"
   ]
  },
  {
   "cell_type": "code",
   "execution_count": null,
   "id": "ada4db49",
   "metadata": {},
   "outputs": [
    {
     "name": "stdout",
     "output_type": "stream",
     "text": [
      "235/235 [==============================] - 0s 1ms/step\n",
      "              precision    recall  f1-score   support\n",
      "\n",
      "         0.0       0.77      1.00      0.87      5800\n",
      "         1.0       0.00      0.00      0.00      1700\n",
      "\n",
      "    accuracy                           0.77      7500\n",
      "   macro avg       0.39      0.50      0.44      7500\n",
      "weighted avg       0.60      0.77      0.67      7500\n",
      "\n"
     ]
    },
    {
     "name": "stderr",
     "output_type": "stream",
     "text": [
      "C:\\Users\\user\\AppData\\Local\\Packages\\PythonSoftwareFoundation.Python.3.10_qbz5n2kfra8p0\\LocalCache\\local-packages\\Python310\\site-packages\\sklearn\\metrics\\_classification.py:1334: UndefinedMetricWarning: Precision and F-score are ill-defined and being set to 0.0 in labels with no predicted samples. Use `zero_division` parameter to control this behavior.\n",
      "  _warn_prf(average, modifier, msg_start, len(result))\n",
      "C:\\Users\\user\\AppData\\Local\\Packages\\PythonSoftwareFoundation.Python.3.10_qbz5n2kfra8p0\\LocalCache\\local-packages\\Python310\\site-packages\\sklearn\\metrics\\_classification.py:1334: UndefinedMetricWarning: Precision and F-score are ill-defined and being set to 0.0 in labels with no predicted samples. Use `zero_division` parameter to control this behavior.\n",
      "  _warn_prf(average, modifier, msg_start, len(result))\n",
      "C:\\Users\\user\\AppData\\Local\\Packages\\PythonSoftwareFoundation.Python.3.10_qbz5n2kfra8p0\\LocalCache\\local-packages\\Python310\\site-packages\\sklearn\\metrics\\_classification.py:1334: UndefinedMetricWarning: Precision and F-score are ill-defined and being set to 0.0 in labels with no predicted samples. Use `zero_division` parameter to control this behavior.\n",
      "  _warn_prf(average, modifier, msg_start, len(result))\n"
     ]
    },
    {
     "data": {
      "text/plain": [
       "array([[5800,    0],\n",
       "       [1700,    0]], dtype=int64)"
      ]
     },
     "execution_count": 68,
     "metadata": {},
     "output_type": "execute_result"
    }
   ],
   "source": [
    "predictions = model.predict(X_test)\n",
    "predictions = np.argmax(predictions,axis=1)\n",
    "print(classification_report(y_test,predictions))"
   ]
  },
  {
   "cell_type": "code",
   "execution_count": null,
   "id": "511c71a0",
   "metadata": {},
   "outputs": [],
   "source": [
    "## Confusion matrix for tuned Neural Network model\n",
    "plt.figure(figsize=(4,3))\n",
    "ConfMatrix = confusion_matrix(y_test, predictions)\n",
    "sns.heatmap(ConfMatrix,annot=True, cmap=\"Blues\", fmt=\"d\", \n",
    "            xticklabels = ['Non-default', 'Default'], \n",
    "            yticklabels = ['Non-default', 'Default'])\n",
    "plt.ylabel('True label')\n",
    "plt.xlabel('Predicted label')\n",
    "plt.title(\"Confusion Matrix - Tuned Neural Network Model\")"
   ]
  },
  {
   "cell_type": "markdown",
   "id": "dc1dc0c0",
   "metadata": {},
   "source": [
    "### Support Vector Machine"
   ]
  },
  {
   "cell_type": "markdown",
   "id": "16faf976",
   "metadata": {},
   "source": [
    "Naive Model"
   ]
  },
  {
   "cell_type": "code",
   "execution_count": null,
   "id": "b8fea822",
   "metadata": {},
   "outputs": [
    {
     "data": {
      "text/html": [
       "<style>#sk-container-id-3 {color: black;background-color: white;}#sk-container-id-3 pre{padding: 0;}#sk-container-id-3 div.sk-toggleable {background-color: white;}#sk-container-id-3 label.sk-toggleable__label {cursor: pointer;display: block;width: 100%;margin-bottom: 0;padding: 0.3em;box-sizing: border-box;text-align: center;}#sk-container-id-3 label.sk-toggleable__label-arrow:before {content: \"▸\";float: left;margin-right: 0.25em;color: #696969;}#sk-container-id-3 label.sk-toggleable__label-arrow:hover:before {color: black;}#sk-container-id-3 div.sk-estimator:hover label.sk-toggleable__label-arrow:before {color: black;}#sk-container-id-3 div.sk-toggleable__content {max-height: 0;max-width: 0;overflow: hidden;text-align: left;background-color: #f0f8ff;}#sk-container-id-3 div.sk-toggleable__content pre {margin: 0.2em;color: black;border-radius: 0.25em;background-color: #f0f8ff;}#sk-container-id-3 input.sk-toggleable__control:checked~div.sk-toggleable__content {max-height: 200px;max-width: 100%;overflow: auto;}#sk-container-id-3 input.sk-toggleable__control:checked~label.sk-toggleable__label-arrow:before {content: \"▾\";}#sk-container-id-3 div.sk-estimator input.sk-toggleable__control:checked~label.sk-toggleable__label {background-color: #d4ebff;}#sk-container-id-3 div.sk-label input.sk-toggleable__control:checked~label.sk-toggleable__label {background-color: #d4ebff;}#sk-container-id-3 input.sk-hidden--visually {border: 0;clip: rect(1px 1px 1px 1px);clip: rect(1px, 1px, 1px, 1px);height: 1px;margin: -1px;overflow: hidden;padding: 0;position: absolute;width: 1px;}#sk-container-id-3 div.sk-estimator {font-family: monospace;background-color: #f0f8ff;border: 1px dotted black;border-radius: 0.25em;box-sizing: border-box;margin-bottom: 0.5em;}#sk-container-id-3 div.sk-estimator:hover {background-color: #d4ebff;}#sk-container-id-3 div.sk-parallel-item::after {content: \"\";width: 100%;border-bottom: 1px solid gray;flex-grow: 1;}#sk-container-id-3 div.sk-label:hover label.sk-toggleable__label {background-color: #d4ebff;}#sk-container-id-3 div.sk-serial::before {content: \"\";position: absolute;border-left: 1px solid gray;box-sizing: border-box;top: 0;bottom: 0;left: 50%;z-index: 0;}#sk-container-id-3 div.sk-serial {display: flex;flex-direction: column;align-items: center;background-color: white;padding-right: 0.2em;padding-left: 0.2em;position: relative;}#sk-container-id-3 div.sk-item {position: relative;z-index: 1;}#sk-container-id-3 div.sk-parallel {display: flex;align-items: stretch;justify-content: center;background-color: white;position: relative;}#sk-container-id-3 div.sk-item::before, #sk-container-id-3 div.sk-parallel-item::before {content: \"\";position: absolute;border-left: 1px solid gray;box-sizing: border-box;top: 0;bottom: 0;left: 50%;z-index: -1;}#sk-container-id-3 div.sk-parallel-item {display: flex;flex-direction: column;z-index: 1;position: relative;background-color: white;}#sk-container-id-3 div.sk-parallel-item:first-child::after {align-self: flex-end;width: 50%;}#sk-container-id-3 div.sk-parallel-item:last-child::after {align-self: flex-start;width: 50%;}#sk-container-id-3 div.sk-parallel-item:only-child::after {width: 0;}#sk-container-id-3 div.sk-dashed-wrapped {border: 1px dashed gray;margin: 0 0.4em 0.5em 0.4em;box-sizing: border-box;padding-bottom: 0.4em;background-color: white;}#sk-container-id-3 div.sk-label label {font-family: monospace;font-weight: bold;display: inline-block;line-height: 1.2em;}#sk-container-id-3 div.sk-label-container {text-align: center;}#sk-container-id-3 div.sk-container {/* jupyter's `normalize.less` sets `[hidden] { display: none; }` but bootstrap.min.css set `[hidden] { display: none !important; }` so we also need the `!important` here to be able to override the default hidden behavior on the sphinx rendered scikit-learn.org. See: https://github.com/scikit-learn/scikit-learn/issues/21755 */display: inline-block !important;position: relative;}#sk-container-id-3 div.sk-text-repr-fallback {display: none;}</style><div id=\"sk-container-id-3\" class=\"sk-top-container\"><div class=\"sk-text-repr-fallback\"><pre>SVC(random_state=1234)</pre><b>In a Jupyter environment, please rerun this cell to show the HTML representation or trust the notebook. <br />On GitHub, the HTML representation is unable to render, please try loading this page with nbviewer.org.</b></div><div class=\"sk-container\" hidden><div class=\"sk-item\"><div class=\"sk-estimator sk-toggleable\"><input class=\"sk-toggleable__control sk-hidden--visually\" id=\"sk-estimator-id-3\" type=\"checkbox\" checked><label for=\"sk-estimator-id-3\" class=\"sk-toggleable__label sk-toggleable__label-arrow\">SVC</label><div class=\"sk-toggleable__content\"><pre>SVC(random_state=1234)</pre></div></div></div></div></div>"
      ],
      "text/plain": [
       "SVC(random_state=1234)"
      ]
     },
     "execution_count": 120,
     "metadata": {},
     "output_type": "execute_result"
    }
   ],
   "source": [
    "## Building the naive SVM model\n",
    "svm = SVC(random_state=1234)\n",
    "svm.fit(X_train_naive, y_train_naive)"
   ]
  },
  {
   "cell_type": "code",
   "execution_count": null,
   "id": "ab737355",
   "metadata": {},
   "outputs": [
    {
     "name": "stderr",
     "output_type": "stream",
     "text": [
      "/Users/bryanwonggy/opt/miniconda3/envs/tensorflow/lib/python3.9/site-packages/sklearn/utils/deprecation.py:87: FutureWarning: Function plot_confusion_matrix is deprecated; Function `plot_confusion_matrix` is deprecated in 1.0 and will be removed in 1.2. Use one of the class methods: ConfusionMatrixDisplay.from_predictions or ConfusionMatrixDisplay.from_estimator.\n",
      "  warnings.warn(msg, category=FutureWarning)\n"
     ]
    },
    {
     "data": {
      "text/plain": [
       "<sklearn.metrics._plot.confusion_matrix.ConfusionMatrixDisplay at 0x2b49c1970>"
      ]
     },
     "execution_count": 121,
     "metadata": {},
     "output_type": "execute_result"
    },
    {
     "data": {
      "image/png": "[encoded data removed]",
      "text/plain": [
       "<Figure size 640x480 with 2 Axes>"
      ]
     },
     "metadata": {},
     "output_type": "display_data"
    }
   ],
   "source": [
    "## Model evaluation for the naive SVM model\n",
    "y_pred_svm = svm.predict(X_test_naive)\n",
    "y_pred_svm = np.argmax(y_pred_svm,axis=1)\n",
    "print(classification_report(y_test_naive, y_pred_svm))\n",
    "confusion_matrix(y_test_naive, y_pred_svm)"
   ]
  },
  {
   "cell_type": "code",
   "execution_count": null,
   "id": "546dd4be",
   "metadata": {},
   "outputs": [],
   "source": [
    "## Confusion matrix for naive SVM model\n",
    "plt.figure(figsize=(4,3))\n",
    "ConfMatrix = confusion_matrix(y_test_naive, y_pred_svm)\n",
    "sns.heatmap(ConfMatrix,annot=True, cmap=\"Blues\", fmt=\"d\", \n",
    "            xticklabels = ['Non-default', 'Default'], \n",
    "            yticklabels = ['Non-default', 'Default'])\n",
    "plt.ylabel('True label')\n",
    "plt.xlabel('Predicted label')\n",
    "plt.title(\"Confusion Matrix - Naive SVM Model\")"
   ]
  },
  {
   "cell_type": "markdown",
   "id": "44cb872c",
   "metadata": {},
   "source": [
    "Tuned Model"
   ]
  },
  {
   "cell_type": "code",
   "execution_count": null,
   "id": "ab33ebc7",
   "metadata": {},
   "outputs": [
    {
     "ename": "",
     "evalue": "",
     "output_type": "error",
     "traceback": [
      "\u001b[1;31mnotebook controller is DISPOSED. \n",
      "\u001b[1;31mView Jupyter <a href='command:jupyter.viewOutput'>log</a> for further details."
     ]
    }
   ],
   "source": [
    "## Doing Hyperparameter Tuning here using GridSearchCV\n",
    "param_grid={\n",
    "    'C':[0.5 , 1 ,10,100], # Regularization Parameter\n",
    "    'gamma':['scale' ,0.1,0.001,0.0001,1],\n",
    "    'kernel':['rbf']\n",
    "}\n",
    "\n",
    "optimal_params = GridSearchCV(SVC(), param_grid, cv=5, scoring='accuracy', verbose=False)"
   ]
  },
  {
   "cell_type": "code",
   "execution_count": null,
   "id": "03566d6c",
   "metadata": {},
   "outputs": [
    {
     "ename": "",
     "evalue": "",
     "output_type": "error",
     "traceback": [
      "\u001b[1;31mnotebook controller is DISPOSED. \n",
      "\u001b[1;31mView Jupyter <a href='command:jupyter.viewOutput'>log</a> for further details."
     ]
    }
   ],
   "source": [
    "optimal_params.fit(X_train ,y_train)\n",
    "print(optimal_params.best_params_)\n"
   ]
  },
  {
   "cell_type": "code",
   "execution_count": null,
   "id": "b0fddb5c",
   "metadata": {},
   "outputs": [
    {
     "name": "stderr",
     "output_type": "stream",
     "text": [
      "c:\\Users\\kaitl\\anaconda3\\envs\\cardenv\\lib\\site-packages\\sklearn\\utils\\deprecation.py:87: FutureWarning: Function plot_confusion_matrix is deprecated; Function `plot_confusion_matrix` is deprecated in 1.0 and will be removed in 1.2. Use one of the class methods: ConfusionMatrixDisplay.from_predictions or ConfusionMatrixDisplay.from_estimator.\n",
      "  warnings.warn(msg, category=FutureWarning)\n"
     ]
    },
    {
     "data": {
      "text/plain": [
       "<sklearn.metrics._plot.confusion_matrix.ConfusionMatrixDisplay at 0x29d68c04a90>"
      ]
     },
     "execution_count": 56,
     "metadata": {},
     "output_type": "execute_result"
    }
   ],
   "source": [
    "optimised_svm = SVC(random_state = 1234, C = 100, gamma = 0.001, kernel = 'rbf', probability = True)\n",
    "optimised_svm.fit(X_train, y_train)"
   ]
  },
  {
   "cell_type": "code",
   "execution_count": null,
   "id": "b4417749",
   "metadata": {},
   "outputs": [
    {
     "name": "stdout",
     "output_type": "stream",
     "text": [
      "Accuracy: 0.8181333333333334\n"
     ]
    }
   ],
   "source": [
    "## Model evaluation for the tuned SVM model\n",
    "y_pred_optimised_svm = svm.predict(X_test)\n",
    "y_pred_optimised_svm = np.argmax(y_pred_optimised_svm,axis=1)\n",
    "print(classification_report(y_test, y_pred_optimised_svm))"
   ]
  },
  {
   "cell_type": "code",
   "execution_count": null,
   "id": "236aed79",
   "metadata": {},
   "outputs": [],
   "source": [
    "## Confusion matrix for tuned SVM model\n",
    "plt.figure(figsize=(4,3))\n",
    "ConfMatrix = confusion_matrix(y_test, y_pred_optimised_svm)\n",
    "sns.heatmap(ConfMatrix,annot=True, cmap=\"Blues\", fmt=\"d\", \n",
    "            xticklabels = ['Non-default', 'Default'], \n",
    "            yticklabels = ['Non-default', 'Default'])\n",
    "plt.ylabel('True label')\n",
    "plt.xlabel('Predicted label')\n",
    "plt.title(\"Confusion Matrix - Tuned SVM Model\")"
   ]
  }
 ],
 "metadata": {
  "kernelspec": {
   "display_name": "Python 3.10.8 64-bit (microsoft store)",
   "language": "python",
   "name": "python3"
  },
  "language_info": {
   "codemirror_mode": {
    "name": "ipython",
    "version": 3
   },
   "file_extension": ".py",
   "mimetype": "text/x-python",
   "name": "python",
   "nbconvert_exporter": "python",
   "pygments_lexer": "ipython3",
   "version": "3.10.8"
  },
  "vscode": {
   "interpreter": {
    "hash": "7b1f2b33e866b0bf2409397e5f58ba9cdf170d3b7f64c8f359c79998e2f88ad4"
   }
  }
 },
 "nbformat": 4,
 "nbformat_minor": 5
}
